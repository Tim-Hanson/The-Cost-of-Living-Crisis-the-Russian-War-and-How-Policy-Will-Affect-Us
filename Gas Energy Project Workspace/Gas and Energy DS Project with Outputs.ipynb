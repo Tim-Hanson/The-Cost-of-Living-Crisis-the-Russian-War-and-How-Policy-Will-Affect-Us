{
 "cells": [
  {
   "cell_type": "code",
   "execution_count": 1,
   "metadata": {},
   "outputs": [],
   "source": [
    "import os\n",
    "import pandas as pd\n",
    "import matplotlib.pyplot as plt\n",
    "import plotly.express as px\n",
    "import numpy as np\n",
    "import json\n",
    "import seaborn as sns\n",
    "import warnings\n",
    "from urllib.request import urlopen\n",
    "from plotly import graph_objects as go\n",
    "from sklearn import datasets\n",
    "from sklearn.linear_model import LinearRegression\n",
    "from dotenv import load_dotenv\n",
    "\n",
    "\n"
   ]
  },
  {
   "cell_type": "code",
   "execution_count": 2,
   "metadata": {},
   "outputs": [
    {
     "data": {
      "text/plain": [
       "True"
      ]
     },
     "execution_count": 2,
     "metadata": {},
     "output_type": "execute_result"
    }
   ],
   "source": [
    "load_dotenv()"
   ]
  },
  {
   "cell_type": "code",
   "execution_count": 3,
   "metadata": {},
   "outputs": [],
   "source": [
    "Sub_National_Energy_Consumption_1 = os.getenv('Sub_National_Energy_Consumption_1')\n",
    "Sub_National_Gas_Consumption_2 = os.getenv('Sub_National_Gas_Consumption_2')\n",
    "UK_Population_3 = os.getenv('UK_Population_3') \n",
    "Local_Authority_District_to_Region_4 = os.getenv('Local_Authority_District_to_Region_4') \n",
    "Domestic_Energy_Bills_5 = os.getenv('Domestic_Energy_Bills_5') \n",
    "Energy_Import_Costs_6 = os.getenv('Energy_Import_Costs_6') \n",
    "Average_Earning_7 = os.getenv('Average_Earning_7')"
   ]
  },
  {
   "cell_type": "code",
   "execution_count": 4,
   "metadata": {},
   "outputs": [],
   "source": [
    "warnings.filterwarnings(\"ignore\", category=FutureWarning)"
   ]
  },
  {
   "cell_type": "code",
   "execution_count": 5,
   "metadata": {},
   "outputs": [
    {
     "data": {
      "text/plain": [
       "array(['North East', 'North West', 'Yorkshire and The Humber',\n",
       "       'East Midlands', 'West Midlands', 'East', 'London', 'South East',\n",
       "       'South West'], dtype=object)"
      ]
     },
     "execution_count": 5,
     "metadata": {},
     "output_type": "execute_result"
    }
   ],
   "source": [
    "#Defining the sheet names to read from the excel\n",
    "Years = [str(n) for n in list(range(2005,2023))]\n",
    "\n",
    "#Defining the dataframe which will hold the Energy consumption data as the concatination of sheets in the excel with the Year appended\n",
    "Energy_Consumption = pd.concat(((pd.read_excel(io=Sub_National_Energy_Consumption_1, sheet_name=Year, header=5, nrows=11, skiprows=[6,7,8,9,10,18,19]).assign(Year = Year))for Year in Years), ignore_index=True)\n",
    "Energy_Consumption['Country or region'].unique()"
   ]
  },
  {
   "cell_type": "code",
   "execution_count": 6,
   "metadata": {},
   "outputs": [
    {
     "data": {
      "text/html": [
       "<div>\n",
       "<style scoped>\n",
       "    .dataframe tbody tr th:only-of-type {\n",
       "        vertical-align: middle;\n",
       "    }\n",
       "\n",
       "    .dataframe tbody tr th {\n",
       "        vertical-align: top;\n",
       "    }\n",
       "\n",
       "    .dataframe thead th {\n",
       "        text-align: right;\n",
       "    }\n",
       "</style>\n",
       "<table border=\"1\" class=\"dataframe\">\n",
       "  <thead>\n",
       "    <tr style=\"text-align: right;\">\n",
       "      <th></th>\n",
       "      <th>Total Energy Consumption (GWh)</th>\n",
       "      <th>Total Energy Consumption (ktoe)</th>\n",
       "    </tr>\n",
       "    <tr>\n",
       "      <th>Year</th>\n",
       "      <th></th>\n",
       "      <th></th>\n",
       "    </tr>\n",
       "  </thead>\n",
       "  <tbody>\n",
       "    <tr>\n",
       "      <th>2005</th>\n",
       "      <td>1.477577e+06</td>\n",
       "      <td>127048.781758</td>\n",
       "    </tr>\n",
       "    <tr>\n",
       "      <th>2006</th>\n",
       "      <td>1.440840e+06</td>\n",
       "      <td>123889.897740</td>\n",
       "    </tr>\n",
       "    <tr>\n",
       "      <th>2007</th>\n",
       "      <td>1.417789e+06</td>\n",
       "      <td>121907.900523</td>\n",
       "    </tr>\n",
       "    <tr>\n",
       "      <th>2008</th>\n",
       "      <td>1.364505e+06</td>\n",
       "      <td>117326.330106</td>\n",
       "    </tr>\n",
       "    <tr>\n",
       "      <th>2009</th>\n",
       "      <td>1.294634e+06</td>\n",
       "      <td>111318.450564</td>\n",
       "    </tr>\n",
       "    <tr>\n",
       "      <th>2010</th>\n",
       "      <td>1.306030e+06</td>\n",
       "      <td>112298.362641</td>\n",
       "    </tr>\n",
       "    <tr>\n",
       "      <th>2011</th>\n",
       "      <td>1.257540e+06</td>\n",
       "      <td>108128.997039</td>\n",
       "    </tr>\n",
       "    <tr>\n",
       "      <th>2012</th>\n",
       "      <td>1.252130e+06</td>\n",
       "      <td>107663.825360</td>\n",
       "    </tr>\n",
       "    <tr>\n",
       "      <th>2013</th>\n",
       "      <td>1.236627e+06</td>\n",
       "      <td>106330.742765</td>\n",
       "    </tr>\n",
       "    <tr>\n",
       "      <th>2014</th>\n",
       "      <td>1.246193e+06</td>\n",
       "      <td>107153.334706</td>\n",
       "    </tr>\n",
       "    <tr>\n",
       "      <th>2015</th>\n",
       "      <td>1.242000e+06</td>\n",
       "      <td>106792.796861</td>\n",
       "    </tr>\n",
       "    <tr>\n",
       "      <th>2016</th>\n",
       "      <td>1.234045e+06</td>\n",
       "      <td>106108.794015</td>\n",
       "    </tr>\n",
       "    <tr>\n",
       "      <th>2017</th>\n",
       "      <td>1.251013e+06</td>\n",
       "      <td>107567.781376</td>\n",
       "    </tr>\n",
       "    <tr>\n",
       "      <th>2018</th>\n",
       "      <td>1.253871e+06</td>\n",
       "      <td>107813.486291</td>\n",
       "    </tr>\n",
       "    <tr>\n",
       "      <th>2019</th>\n",
       "      <td>1.247716e+06</td>\n",
       "      <td>107284.307060</td>\n",
       "    </tr>\n",
       "    <tr>\n",
       "      <th>2020</th>\n",
       "      <td>1.157838e+06</td>\n",
       "      <td>99556.185044</td>\n",
       "    </tr>\n",
       "    <tr>\n",
       "      <th>2021</th>\n",
       "      <td>1.173627e+06</td>\n",
       "      <td>100913.755388</td>\n",
       "    </tr>\n",
       "    <tr>\n",
       "      <th>2022</th>\n",
       "      <td>1.143604e+06</td>\n",
       "      <td>98332.257045</td>\n",
       "    </tr>\n",
       "  </tbody>\n",
       "</table>\n",
       "</div>"
      ],
      "text/plain": [
       "      Total Energy Consumption (GWh)  Total Energy Consumption (ktoe)\n",
       "Year                                                                 \n",
       "2005                    1.477577e+06                    127048.781758\n",
       "2006                    1.440840e+06                    123889.897740\n",
       "2007                    1.417789e+06                    121907.900523\n",
       "2008                    1.364505e+06                    117326.330106\n",
       "2009                    1.294634e+06                    111318.450564\n",
       "2010                    1.306030e+06                    112298.362641\n",
       "2011                    1.257540e+06                    108128.997039\n",
       "2012                    1.252130e+06                    107663.825360\n",
       "2013                    1.236627e+06                    106330.742765\n",
       "2014                    1.246193e+06                    107153.334706\n",
       "2015                    1.242000e+06                    106792.796861\n",
       "2016                    1.234045e+06                    106108.794015\n",
       "2017                    1.251013e+06                    107567.781376\n",
       "2018                    1.253871e+06                    107813.486291\n",
       "2019                    1.247716e+06                    107284.307060\n",
       "2020                    1.157838e+06                     99556.185044\n",
       "2021                    1.173627e+06                    100913.755388\n",
       "2022                    1.143604e+06                     98332.257045"
      ]
     },
     "execution_count": 6,
     "metadata": {},
     "output_type": "execute_result"
    }
   ],
   "source": [
    "#Getting the sum of energy used in England for each year\n",
    "Total_Energy_Consumption = Energy_Consumption.groupby('Year').sum()\n",
    "\n",
    "#Rename the column for improved readability\n",
    "Total_Energy_Consumption.rename(columns= {'All fuels:\\nTotal': 'Total Energy Consumption (ktoe)'},inplace=True)\n",
    "Total_Energy_Consumption['Total Energy Consumption (GWh)'] = Total_Energy_Consumption['Total Energy Consumption (ktoe)'] * 11.63\n",
    "Total_Energy_Consumption[['Total Energy Consumption (GWh)','Total Energy Consumption (ktoe)']]"
   ]
  },
  {
   "cell_type": "code",
   "execution_count": 7,
   "metadata": {},
   "outputs": [],
   "source": [
    "#For this datasource not all the sheets have the same format, so the read_excel function must be adjusted for each.\n",
    "\n",
    "#Defining the sheet names to read from the excel\n",
    "Years1 = [str(n) for n in list(range(2005,2014))]\n",
    "Gas_Consumption1 = pd.concat(((pd.read_excel(io=Sub_National_Gas_Consumption_2, sheet_name=Year, header=5, nrows=9, skiprows=[6,7]).assign(Year = Year))for Year in Years1), ignore_index=True)\n",
    "\n",
    "#In this one Inner and outerlondon are differinciated\n",
    "Years2 = [str(n) for n in list(range(2014,2015))]\n",
    "Gas_Consumption2 = pd.concat(((pd.read_excel(io=Sub_National_Gas_Consumption_2, sheet_name=Year, header=5, nrows=10, skiprows=[6,7]).assign(Year = Year))for Year in Years2), ignore_index=True)\n",
    "\n",
    "#Removing the sub regions of Inner and outer London as as sum of these 'London is already included' this is to avoid double counting\n",
    "Years3 = [str(n) for n in list(range(2015,2023))]\n",
    "Gas_Consumption3 = pd.concat(((pd.read_excel(io=Sub_National_Gas_Consumption_2, sheet_name=Year, header=5, nrows=11, skiprows=[6,7,8,16,17]).assign(Year = Year))for Year in Years3), ignore_index=True)\n",
    "\n",
    "\n",
    "#Combined data from all sheets into one dataframe\n",
    "Gas_Consumption = pd.concat([Gas_Consumption1, Gas_Consumption2, Gas_Consumption3])\n"
   ]
  },
  {
   "cell_type": "code",
   "execution_count": 8,
   "metadata": {},
   "outputs": [
    {
     "data": {
      "text/plain": [
       "Year\n",
       "2005    571884.940304\n",
       "2006    537493.963018\n",
       "2007    523183.686839\n",
       "2008    499308.585633\n",
       "2009    458351.437002\n",
       "2010    460366.820221\n",
       "2011    436641.855643\n",
       "2012    433035.246141\n",
       "2013    424176.434549\n",
       "2014    426286.006022\n",
       "2015    414952.969360\n",
       "2016    412096.411620\n",
       "2017    424670.572211\n",
       "2018    427583.693925\n",
       "2019    426309.929563\n",
       "2020    436137.014968\n",
       "2021    422110.562024\n",
       "2022    380574.844003\n",
       "Name: Total Gas Consumption (GWh), dtype: float64"
      ]
     },
     "execution_count": 8,
     "metadata": {},
     "output_type": "execute_result"
    }
   ],
   "source": [
    "#Getting the sum of gas used in England for each year\n",
    "Total_Gas_Consumption = Gas_Consumption.groupby('Year').sum()\n",
    "\n",
    "#Rename the column for improved readability\n",
    "Total_Gas_Consumption.rename(columns= {'Total consumption\\n(GWh):\\nAll meters': 'Total Gas Consumption (GWh)'},inplace=True)\n",
    "Total_Gas_Consumption['Total Gas Consumption (GWh)'] "
   ]
  },
  {
   "cell_type": "code",
   "execution_count": 9,
   "metadata": {},
   "outputs": [
    {
     "data": {
      "text/html": [
       "<div>\n",
       "<style scoped>\n",
       "    .dataframe tbody tr th:only-of-type {\n",
       "        vertical-align: middle;\n",
       "    }\n",
       "\n",
       "    .dataframe tbody tr th {\n",
       "        vertical-align: top;\n",
       "    }\n",
       "\n",
       "    .dataframe thead th {\n",
       "        text-align: right;\n",
       "    }\n",
       "</style>\n",
       "<table border=\"1\" class=\"dataframe\">\n",
       "  <thead>\n",
       "    <tr style=\"text-align: right;\">\n",
       "      <th></th>\n",
       "      <th>Year</th>\n",
       "      <th>Total Energy Consumption (GWh)</th>\n",
       "      <th>Total Gas Consumption (GWh)</th>\n",
       "      <th>Gas_Consumption_as_Percent</th>\n",
       "      <th>Other_Consumption_as_Percent</th>\n",
       "    </tr>\n",
       "  </thead>\n",
       "  <tbody>\n",
       "    <tr>\n",
       "      <th>0</th>\n",
       "      <td>2005</td>\n",
       "      <td>1.477577e+06</td>\n",
       "      <td>571884.940304</td>\n",
       "      <td>38.704231</td>\n",
       "      <td>61.295769</td>\n",
       "    </tr>\n",
       "    <tr>\n",
       "      <th>1</th>\n",
       "      <td>2006</td>\n",
       "      <td>1.440840e+06</td>\n",
       "      <td>537493.963018</td>\n",
       "      <td>37.304222</td>\n",
       "      <td>62.695778</td>\n",
       "    </tr>\n",
       "    <tr>\n",
       "      <th>2</th>\n",
       "      <td>2007</td>\n",
       "      <td>1.417789e+06</td>\n",
       "      <td>523183.686839</td>\n",
       "      <td>36.901382</td>\n",
       "      <td>63.098618</td>\n",
       "    </tr>\n",
       "    <tr>\n",
       "      <th>3</th>\n",
       "      <td>2008</td>\n",
       "      <td>1.364505e+06</td>\n",
       "      <td>499308.585633</td>\n",
       "      <td>36.592648</td>\n",
       "      <td>63.407352</td>\n",
       "    </tr>\n",
       "    <tr>\n",
       "      <th>4</th>\n",
       "      <td>2009</td>\n",
       "      <td>1.294634e+06</td>\n",
       "      <td>458351.437002</td>\n",
       "      <td>35.403951</td>\n",
       "      <td>64.596049</td>\n",
       "    </tr>\n",
       "    <tr>\n",
       "      <th>5</th>\n",
       "      <td>2010</td>\n",
       "      <td>1.306030e+06</td>\n",
       "      <td>460366.820221</td>\n",
       "      <td>35.249331</td>\n",
       "      <td>64.750669</td>\n",
       "    </tr>\n",
       "    <tr>\n",
       "      <th>6</th>\n",
       "      <td>2011</td>\n",
       "      <td>1.257540e+06</td>\n",
       "      <td>436641.855643</td>\n",
       "      <td>34.721899</td>\n",
       "      <td>65.278101</td>\n",
       "    </tr>\n",
       "    <tr>\n",
       "      <th>7</th>\n",
       "      <td>2012</td>\n",
       "      <td>1.252130e+06</td>\n",
       "      <td>433035.246141</td>\n",
       "      <td>34.583881</td>\n",
       "      <td>65.416119</td>\n",
       "    </tr>\n",
       "    <tr>\n",
       "      <th>8</th>\n",
       "      <td>2013</td>\n",
       "      <td>1.236627e+06</td>\n",
       "      <td>424176.434549</td>\n",
       "      <td>34.301094</td>\n",
       "      <td>65.698906</td>\n",
       "    </tr>\n",
       "    <tr>\n",
       "      <th>9</th>\n",
       "      <td>2014</td>\n",
       "      <td>1.246193e+06</td>\n",
       "      <td>426286.006022</td>\n",
       "      <td>34.207054</td>\n",
       "      <td>65.792946</td>\n",
       "    </tr>\n",
       "    <tr>\n",
       "      <th>10</th>\n",
       "      <td>2015</td>\n",
       "      <td>1.242000e+06</td>\n",
       "      <td>414952.969360</td>\n",
       "      <td>33.410056</td>\n",
       "      <td>66.589944</td>\n",
       "    </tr>\n",
       "    <tr>\n",
       "      <th>11</th>\n",
       "      <td>2016</td>\n",
       "      <td>1.234045e+06</td>\n",
       "      <td>412096.411620</td>\n",
       "      <td>33.393946</td>\n",
       "      <td>66.606054</td>\n",
       "    </tr>\n",
       "    <tr>\n",
       "      <th>12</th>\n",
       "      <td>2017</td>\n",
       "      <td>1.251013e+06</td>\n",
       "      <td>424670.572211</td>\n",
       "      <td>33.946128</td>\n",
       "      <td>66.053872</td>\n",
       "    </tr>\n",
       "    <tr>\n",
       "      <th>13</th>\n",
       "      <td>2018</td>\n",
       "      <td>1.253871e+06</td>\n",
       "      <td>427583.693925</td>\n",
       "      <td>34.101095</td>\n",
       "      <td>65.898905</td>\n",
       "    </tr>\n",
       "    <tr>\n",
       "      <th>14</th>\n",
       "      <td>2019</td>\n",
       "      <td>1.247716e+06</td>\n",
       "      <td>426309.929563</td>\n",
       "      <td>34.167211</td>\n",
       "      <td>65.832789</td>\n",
       "    </tr>\n",
       "    <tr>\n",
       "      <th>15</th>\n",
       "      <td>2020</td>\n",
       "      <td>1.157838e+06</td>\n",
       "      <td>436137.014968</td>\n",
       "      <td>37.668210</td>\n",
       "      <td>62.331790</td>\n",
       "    </tr>\n",
       "    <tr>\n",
       "      <th>16</th>\n",
       "      <td>2021</td>\n",
       "      <td>1.173627e+06</td>\n",
       "      <td>422110.562024</td>\n",
       "      <td>35.966331</td>\n",
       "      <td>64.033669</td>\n",
       "    </tr>\n",
       "    <tr>\n",
       "      <th>17</th>\n",
       "      <td>2022</td>\n",
       "      <td>1.143604e+06</td>\n",
       "      <td>380574.844003</td>\n",
       "      <td>33.278547</td>\n",
       "      <td>66.721453</td>\n",
       "    </tr>\n",
       "  </tbody>\n",
       "</table>\n",
       "</div>"
      ],
      "text/plain": [
       "    Year  Total Energy Consumption (GWh)  Total Gas Consumption (GWh)  \\\n",
       "0   2005                    1.477577e+06                571884.940304   \n",
       "1   2006                    1.440840e+06                537493.963018   \n",
       "2   2007                    1.417789e+06                523183.686839   \n",
       "3   2008                    1.364505e+06                499308.585633   \n",
       "4   2009                    1.294634e+06                458351.437002   \n",
       "5   2010                    1.306030e+06                460366.820221   \n",
       "6   2011                    1.257540e+06                436641.855643   \n",
       "7   2012                    1.252130e+06                433035.246141   \n",
       "8   2013                    1.236627e+06                424176.434549   \n",
       "9   2014                    1.246193e+06                426286.006022   \n",
       "10  2015                    1.242000e+06                414952.969360   \n",
       "11  2016                    1.234045e+06                412096.411620   \n",
       "12  2017                    1.251013e+06                424670.572211   \n",
       "13  2018                    1.253871e+06                427583.693925   \n",
       "14  2019                    1.247716e+06                426309.929563   \n",
       "15  2020                    1.157838e+06                436137.014968   \n",
       "16  2021                    1.173627e+06                422110.562024   \n",
       "17  2022                    1.143604e+06                380574.844003   \n",
       "\n",
       "    Gas_Consumption_as_Percent  Other_Consumption_as_Percent  \n",
       "0                    38.704231                     61.295769  \n",
       "1                    37.304222                     62.695778  \n",
       "2                    36.901382                     63.098618  \n",
       "3                    36.592648                     63.407352  \n",
       "4                    35.403951                     64.596049  \n",
       "5                    35.249331                     64.750669  \n",
       "6                    34.721899                     65.278101  \n",
       "7                    34.583881                     65.416119  \n",
       "8                    34.301094                     65.698906  \n",
       "9                    34.207054                     65.792946  \n",
       "10                   33.410056                     66.589944  \n",
       "11                   33.393946                     66.606054  \n",
       "12                   33.946128                     66.053872  \n",
       "13                   34.101095                     65.898905  \n",
       "14                   34.167211                     65.832789  \n",
       "15                   37.668210                     62.331790  \n",
       "16                   35.966331                     64.033669  \n",
       "17                   33.278547                     66.721453  "
      ]
     },
     "execution_count": 9,
     "metadata": {},
     "output_type": "execute_result"
    }
   ],
   "source": [
    "#Joining the Energy and Gas consumption by Year dataframes together\n",
    "Energy_Gas_Consumption_Combined = pd.merge(Total_Energy_Consumption,Total_Gas_Consumption, how ='left', on=['Year','Year'])\n",
    "\n",
    "#Calculating the percentage of total energy consumption gas consumption makes up\n",
    "Energy_Gas_Consumption_Combined['Gas_Consumption_as_Percent'] = Energy_Gas_Consumption_Combined['Total Gas Consumption (GWh)']/Energy_Gas_Consumption_Combined['Total Energy Consumption (GWh)']*100\n",
    "Energy_Gas_Consumption_Combined['Other_Consumption_as_Percent'] = 100 - Energy_Gas_Consumption_Combined['Gas_Consumption_as_Percent']\n",
    "#fixing the year index\n",
    "Energy_Gas_Consumption_Combined = Energy_Gas_Consumption_Combined.reset_index(names=['Year_x','Year'])\n",
    "Energy_Gas_Consumption_Combined = Energy_Gas_Consumption_Combined.drop(columns='Year_x', axis=0)\n",
    "\n",
    "#Printing the dataframe columns which will be plotted\n",
    "Energy_Gas_Consumption_Combined[['Year', 'Total Energy Consumption (GWh)','Total Gas Consumption (GWh)','Gas_Consumption_as_Percent','Other_Consumption_as_Percent']]\n"
   ]
  },
  {
   "cell_type": "code",
   "execution_count": 10,
   "metadata": {},
   "outputs": [
    {
     "data": {
      "application/vnd.plotly.v1+json": {
       "config": {
        "plotlyServerURL": "https://plot.ly"
       },
       "data": [
        {
         "hovertemplate": "variable=Total Energy Consumption (GWh)<br>Year=%{x}<br>value=%{y}<extra></extra>",
         "legendgroup": "Total Energy Consumption (GWh)",
         "line": {
          "color": "#636efa",
          "dash": "solid"
         },
         "marker": {
          "symbol": "circle"
         },
         "mode": "lines",
         "name": "Total Energy Consumption (GWh)",
         "orientation": "v",
         "showlegend": true,
         "type": "scatter",
         "x": [
          "2005",
          "2006",
          "2007",
          "2008",
          "2009",
          "2010",
          "2011",
          "2012",
          "2013",
          "2014",
          "2015",
          "2016",
          "2017",
          "2018",
          "2019",
          "2020",
          "2021",
          "2022"
         ],
         "xaxis": "x",
         "y": [
          1477577.3318437433,
          1440839.5107201359,
          1417788.8830856397,
          1364505.2191368549,
          1294633.5800549376,
          1306029.9575151561,
          1257540.2355601466,
          1252130.2889382902,
          1236626.53836139,
          1246193.2826261807,
          1242000.2274911895,
          1234045.2743905892,
          1251013.297400778,
          1253870.8455640154,
          1247716.491103318,
          1157838.4320674245,
          1173626.975157012,
          1143604.1494305397
         ],
         "yaxis": "y"
        },
        {
         "hovertemplate": "variable=Total Gas Consumption (GWh)<br>Year=%{x}<br>value=%{y}<extra></extra>",
         "legendgroup": "Total Gas Consumption (GWh)",
         "line": {
          "color": "#EF553B",
          "dash": "solid"
         },
         "marker": {
          "symbol": "circle"
         },
         "mode": "lines",
         "name": "Total Gas Consumption (GWh)",
         "orientation": "v",
         "showlegend": true,
         "type": "scatter",
         "x": [
          "2005",
          "2006",
          "2007",
          "2008",
          "2009",
          "2010",
          "2011",
          "2012",
          "2013",
          "2014",
          "2015",
          "2016",
          "2017",
          "2018",
          "2019",
          "2020",
          "2021",
          "2022"
         ],
         "xaxis": "x",
         "y": [
          571884.940304,
          537493.963018,
          523183.68683900003,
          499308.585633,
          458351.43700200005,
          460366.82022100006,
          436641.855643,
          433035.246141,
          424176.434549,
          426286.006022,
          414952.9693602972,
          412096.411619603,
          424670.5722111634,
          427583.6939252278,
          426309.9295631775,
          436137.01496777,
          422110.5620240933,
          380574.8440032234
         ],
         "yaxis": "y"
        }
       ],
       "layout": {
        "font": {
         "size": 26
        },
        "height": 700,
        "legend": {
         "orientation": "h",
         "title": {},
         "tracegroupgap": 0,
         "x": 0.5,
         "xanchor": "center",
         "y": 0.88,
         "yanchor": "bottom"
        },
        "margin": {
         "t": 60
        },
        "template": {
         "data": {
          "bar": [
           {
            "error_x": {
             "color": "#2a3f5f"
            },
            "error_y": {
             "color": "#2a3f5f"
            },
            "marker": {
             "line": {
              "color": "#E5ECF6",
              "width": 0.5
             },
             "pattern": {
              "fillmode": "overlay",
              "size": 10,
              "solidity": 0.2
             }
            },
            "type": "bar"
           }
          ],
          "barpolar": [
           {
            "marker": {
             "line": {
              "color": "#E5ECF6",
              "width": 0.5
             },
             "pattern": {
              "fillmode": "overlay",
              "size": 10,
              "solidity": 0.2
             }
            },
            "type": "barpolar"
           }
          ],
          "carpet": [
           {
            "aaxis": {
             "endlinecolor": "#2a3f5f",
             "gridcolor": "white",
             "linecolor": "white",
             "minorgridcolor": "white",
             "startlinecolor": "#2a3f5f"
            },
            "baxis": {
             "endlinecolor": "#2a3f5f",
             "gridcolor": "white",
             "linecolor": "white",
             "minorgridcolor": "white",
             "startlinecolor": "#2a3f5f"
            },
            "type": "carpet"
           }
          ],
          "choropleth": [
           {
            "colorbar": {
             "outlinewidth": 0,
             "ticks": ""
            },
            "type": "choropleth"
           }
          ],
          "contour": [
           {
            "colorbar": {
             "outlinewidth": 0,
             "ticks": ""
            },
            "colorscale": [
             [
              0,
              "#0d0887"
             ],
             [
              0.1111111111111111,
              "#46039f"
             ],
             [
              0.2222222222222222,
              "#7201a8"
             ],
             [
              0.3333333333333333,
              "#9c179e"
             ],
             [
              0.4444444444444444,
              "#bd3786"
             ],
             [
              0.5555555555555556,
              "#d8576b"
             ],
             [
              0.6666666666666666,
              "#ed7953"
             ],
             [
              0.7777777777777778,
              "#fb9f3a"
             ],
             [
              0.8888888888888888,
              "#fdca26"
             ],
             [
              1,
              "#f0f921"
             ]
            ],
            "type": "contour"
           }
          ],
          "contourcarpet": [
           {
            "colorbar": {
             "outlinewidth": 0,
             "ticks": ""
            },
            "type": "contourcarpet"
           }
          ],
          "heatmap": [
           {
            "colorbar": {
             "outlinewidth": 0,
             "ticks": ""
            },
            "colorscale": [
             [
              0,
              "#0d0887"
             ],
             [
              0.1111111111111111,
              "#46039f"
             ],
             [
              0.2222222222222222,
              "#7201a8"
             ],
             [
              0.3333333333333333,
              "#9c179e"
             ],
             [
              0.4444444444444444,
              "#bd3786"
             ],
             [
              0.5555555555555556,
              "#d8576b"
             ],
             [
              0.6666666666666666,
              "#ed7953"
             ],
             [
              0.7777777777777778,
              "#fb9f3a"
             ],
             [
              0.8888888888888888,
              "#fdca26"
             ],
             [
              1,
              "#f0f921"
             ]
            ],
            "type": "heatmap"
           }
          ],
          "heatmapgl": [
           {
            "colorbar": {
             "outlinewidth": 0,
             "ticks": ""
            },
            "colorscale": [
             [
              0,
              "#0d0887"
             ],
             [
              0.1111111111111111,
              "#46039f"
             ],
             [
              0.2222222222222222,
              "#7201a8"
             ],
             [
              0.3333333333333333,
              "#9c179e"
             ],
             [
              0.4444444444444444,
              "#bd3786"
             ],
             [
              0.5555555555555556,
              "#d8576b"
             ],
             [
              0.6666666666666666,
              "#ed7953"
             ],
             [
              0.7777777777777778,
              "#fb9f3a"
             ],
             [
              0.8888888888888888,
              "#fdca26"
             ],
             [
              1,
              "#f0f921"
             ]
            ],
            "type": "heatmapgl"
           }
          ],
          "histogram": [
           {
            "marker": {
             "pattern": {
              "fillmode": "overlay",
              "size": 10,
              "solidity": 0.2
             }
            },
            "type": "histogram"
           }
          ],
          "histogram2d": [
           {
            "colorbar": {
             "outlinewidth": 0,
             "ticks": ""
            },
            "colorscale": [
             [
              0,
              "#0d0887"
             ],
             [
              0.1111111111111111,
              "#46039f"
             ],
             [
              0.2222222222222222,
              "#7201a8"
             ],
             [
              0.3333333333333333,
              "#9c179e"
             ],
             [
              0.4444444444444444,
              "#bd3786"
             ],
             [
              0.5555555555555556,
              "#d8576b"
             ],
             [
              0.6666666666666666,
              "#ed7953"
             ],
             [
              0.7777777777777778,
              "#fb9f3a"
             ],
             [
              0.8888888888888888,
              "#fdca26"
             ],
             [
              1,
              "#f0f921"
             ]
            ],
            "type": "histogram2d"
           }
          ],
          "histogram2dcontour": [
           {
            "colorbar": {
             "outlinewidth": 0,
             "ticks": ""
            },
            "colorscale": [
             [
              0,
              "#0d0887"
             ],
             [
              0.1111111111111111,
              "#46039f"
             ],
             [
              0.2222222222222222,
              "#7201a8"
             ],
             [
              0.3333333333333333,
              "#9c179e"
             ],
             [
              0.4444444444444444,
              "#bd3786"
             ],
             [
              0.5555555555555556,
              "#d8576b"
             ],
             [
              0.6666666666666666,
              "#ed7953"
             ],
             [
              0.7777777777777778,
              "#fb9f3a"
             ],
             [
              0.8888888888888888,
              "#fdca26"
             ],
             [
              1,
              "#f0f921"
             ]
            ],
            "type": "histogram2dcontour"
           }
          ],
          "mesh3d": [
           {
            "colorbar": {
             "outlinewidth": 0,
             "ticks": ""
            },
            "type": "mesh3d"
           }
          ],
          "parcoords": [
           {
            "line": {
             "colorbar": {
              "outlinewidth": 0,
              "ticks": ""
             }
            },
            "type": "parcoords"
           }
          ],
          "pie": [
           {
            "automargin": true,
            "type": "pie"
           }
          ],
          "scatter": [
           {
            "fillpattern": {
             "fillmode": "overlay",
             "size": 10,
             "solidity": 0.2
            },
            "type": "scatter"
           }
          ],
          "scatter3d": [
           {
            "line": {
             "colorbar": {
              "outlinewidth": 0,
              "ticks": ""
             }
            },
            "marker": {
             "colorbar": {
              "outlinewidth": 0,
              "ticks": ""
             }
            },
            "type": "scatter3d"
           }
          ],
          "scattercarpet": [
           {
            "marker": {
             "colorbar": {
              "outlinewidth": 0,
              "ticks": ""
             }
            },
            "type": "scattercarpet"
           }
          ],
          "scattergeo": [
           {
            "marker": {
             "colorbar": {
              "outlinewidth": 0,
              "ticks": ""
             }
            },
            "type": "scattergeo"
           }
          ],
          "scattergl": [
           {
            "marker": {
             "colorbar": {
              "outlinewidth": 0,
              "ticks": ""
             }
            },
            "type": "scattergl"
           }
          ],
          "scattermapbox": [
           {
            "marker": {
             "colorbar": {
              "outlinewidth": 0,
              "ticks": ""
             }
            },
            "type": "scattermapbox"
           }
          ],
          "scatterpolar": [
           {
            "marker": {
             "colorbar": {
              "outlinewidth": 0,
              "ticks": ""
             }
            },
            "type": "scatterpolar"
           }
          ],
          "scatterpolargl": [
           {
            "marker": {
             "colorbar": {
              "outlinewidth": 0,
              "ticks": ""
             }
            },
            "type": "scatterpolargl"
           }
          ],
          "scatterternary": [
           {
            "marker": {
             "colorbar": {
              "outlinewidth": 0,
              "ticks": ""
             }
            },
            "type": "scatterternary"
           }
          ],
          "surface": [
           {
            "colorbar": {
             "outlinewidth": 0,
             "ticks": ""
            },
            "colorscale": [
             [
              0,
              "#0d0887"
             ],
             [
              0.1111111111111111,
              "#46039f"
             ],
             [
              0.2222222222222222,
              "#7201a8"
             ],
             [
              0.3333333333333333,
              "#9c179e"
             ],
             [
              0.4444444444444444,
              "#bd3786"
             ],
             [
              0.5555555555555556,
              "#d8576b"
             ],
             [
              0.6666666666666666,
              "#ed7953"
             ],
             [
              0.7777777777777778,
              "#fb9f3a"
             ],
             [
              0.8888888888888888,
              "#fdca26"
             ],
             [
              1,
              "#f0f921"
             ]
            ],
            "type": "surface"
           }
          ],
          "table": [
           {
            "cells": {
             "fill": {
              "color": "#EBF0F8"
             },
             "line": {
              "color": "white"
             }
            },
            "header": {
             "fill": {
              "color": "#C8D4E3"
             },
             "line": {
              "color": "white"
             }
            },
            "type": "table"
           }
          ]
         },
         "layout": {
          "annotationdefaults": {
           "arrowcolor": "#2a3f5f",
           "arrowhead": 0,
           "arrowwidth": 1
          },
          "autotypenumbers": "strict",
          "coloraxis": {
           "colorbar": {
            "outlinewidth": 0,
            "ticks": ""
           }
          },
          "colorscale": {
           "diverging": [
            [
             0,
             "#8e0152"
            ],
            [
             0.1,
             "#c51b7d"
            ],
            [
             0.2,
             "#de77ae"
            ],
            [
             0.3,
             "#f1b6da"
            ],
            [
             0.4,
             "#fde0ef"
            ],
            [
             0.5,
             "#f7f7f7"
            ],
            [
             0.6,
             "#e6f5d0"
            ],
            [
             0.7,
             "#b8e186"
            ],
            [
             0.8,
             "#7fbc41"
            ],
            [
             0.9,
             "#4d9221"
            ],
            [
             1,
             "#276419"
            ]
           ],
           "sequential": [
            [
             0,
             "#0d0887"
            ],
            [
             0.1111111111111111,
             "#46039f"
            ],
            [
             0.2222222222222222,
             "#7201a8"
            ],
            [
             0.3333333333333333,
             "#9c179e"
            ],
            [
             0.4444444444444444,
             "#bd3786"
            ],
            [
             0.5555555555555556,
             "#d8576b"
            ],
            [
             0.6666666666666666,
             "#ed7953"
            ],
            [
             0.7777777777777778,
             "#fb9f3a"
            ],
            [
             0.8888888888888888,
             "#fdca26"
            ],
            [
             1,
             "#f0f921"
            ]
           ],
           "sequentialminus": [
            [
             0,
             "#0d0887"
            ],
            [
             0.1111111111111111,
             "#46039f"
            ],
            [
             0.2222222222222222,
             "#7201a8"
            ],
            [
             0.3333333333333333,
             "#9c179e"
            ],
            [
             0.4444444444444444,
             "#bd3786"
            ],
            [
             0.5555555555555556,
             "#d8576b"
            ],
            [
             0.6666666666666666,
             "#ed7953"
            ],
            [
             0.7777777777777778,
             "#fb9f3a"
            ],
            [
             0.8888888888888888,
             "#fdca26"
            ],
            [
             1,
             "#f0f921"
            ]
           ]
          },
          "colorway": [
           "#636efa",
           "#EF553B",
           "#00cc96",
           "#ab63fa",
           "#FFA15A",
           "#19d3f3",
           "#FF6692",
           "#B6E880",
           "#FF97FF",
           "#FECB52"
          ],
          "font": {
           "color": "#2a3f5f"
          },
          "geo": {
           "bgcolor": "white",
           "lakecolor": "white",
           "landcolor": "#E5ECF6",
           "showlakes": true,
           "showland": true,
           "subunitcolor": "white"
          },
          "hoverlabel": {
           "align": "left"
          },
          "hovermode": "closest",
          "mapbox": {
           "style": "light"
          },
          "paper_bgcolor": "white",
          "plot_bgcolor": "#E5ECF6",
          "polar": {
           "angularaxis": {
            "gridcolor": "white",
            "linecolor": "white",
            "ticks": ""
           },
           "bgcolor": "#E5ECF6",
           "radialaxis": {
            "gridcolor": "white",
            "linecolor": "white",
            "ticks": ""
           }
          },
          "scene": {
           "xaxis": {
            "backgroundcolor": "#E5ECF6",
            "gridcolor": "white",
            "gridwidth": 2,
            "linecolor": "white",
            "showbackground": true,
            "ticks": "",
            "zerolinecolor": "white"
           },
           "yaxis": {
            "backgroundcolor": "#E5ECF6",
            "gridcolor": "white",
            "gridwidth": 2,
            "linecolor": "white",
            "showbackground": true,
            "ticks": "",
            "zerolinecolor": "white"
           },
           "zaxis": {
            "backgroundcolor": "#E5ECF6",
            "gridcolor": "white",
            "gridwidth": 2,
            "linecolor": "white",
            "showbackground": true,
            "ticks": "",
            "zerolinecolor": "white"
           }
          },
          "shapedefaults": {
           "line": {
            "color": "#2a3f5f"
           }
          },
          "ternary": {
           "aaxis": {
            "gridcolor": "white",
            "linecolor": "white",
            "ticks": ""
           },
           "baxis": {
            "gridcolor": "white",
            "linecolor": "white",
            "ticks": ""
           },
           "bgcolor": "#E5ECF6",
           "caxis": {
            "gridcolor": "white",
            "linecolor": "white",
            "ticks": ""
           }
          },
          "title": {
           "x": 0.05
          },
          "xaxis": {
           "automargin": true,
           "gridcolor": "white",
           "linecolor": "white",
           "ticks": "",
           "title": {
            "standoff": 15
           },
           "zerolinecolor": "white",
           "zerolinewidth": 2
          },
          "yaxis": {
           "automargin": true,
           "gridcolor": "white",
           "linecolor": "white",
           "ticks": "",
           "title": {
            "standoff": 15
           },
           "zerolinecolor": "white",
           "zerolinewidth": 2
          }
         }
        },
        "title": {
         "text": "Energy Consumption in the UK by year (GWh)",
         "x": 0.5
        },
        "xaxis": {
         "anchor": "y",
         "domain": [
          0,
          1
         ],
         "title": {
          "text": "Year"
         }
        },
        "yaxis": {
         "anchor": "x",
         "domain": [
          0,
          1
         ],
         "title": {
          "text": "Energy Consumption (GWh)"
         }
        }
       }
      }
     },
     "metadata": {},
     "output_type": "display_data"
    }
   ],
   "source": [
    "Energy_Consumption_Fig = px.line(Energy_Gas_Consumption_Combined, x='Year', y=['Total Energy Consumption (GWh)','Total Gas Consumption (GWh)'])\n",
    "\n",
    "Energy_Consumption_Fig.update_layout(\n",
    "    title=\"Energy Consumption in the UK by year (GWh)\",\n",
    "    xaxis_title=\"Year\",\n",
    "    yaxis_title=\"Energy Consumption (GWh)\",\n",
    "    title_x=0.5, \n",
    "    legend=dict(\n",
    "        orientation=\"h\", \n",
    "        yanchor=\"bottom\", \n",
    "        y=0.88, \n",
    "        xanchor=\"center\",  \n",
    "        x=0.5,\n",
    "        title = None\n",
    "    ),\n",
    "    height = 700,\n",
    "    font=dict(\n",
    "        size=26 \n",
    "    )\n",
    ")\n",
    "\n",
    "Energy_Consumption_Fig"
   ]
  },
  {
   "cell_type": "code",
   "execution_count": 11,
   "metadata": {},
   "outputs": [
    {
     "data": {
      "application/vnd.plotly.v1+json": {
       "config": {
        "plotlyServerURL": "https://plot.ly"
       },
       "data": [
        {
         "alignmentgroup": "True",
         "hovertemplate": "variable=Gas_Consumption_as_Percent<br>Year=%{x}<br>value=%{y}<extra></extra>",
         "legendgroup": "Gas_Consumption_as_Percent",
         "marker": {
          "color": "#636efa",
          "pattern": {
           "shape": ""
          }
         },
         "name": "Gas_Consumption_as_Percent",
         "offsetgroup": "Gas_Consumption_as_Percent",
         "orientation": "v",
         "showlegend": true,
         "textposition": "auto",
         "type": "bar",
         "x": [
          "2005",
          "2006",
          "2007",
          "2008",
          "2009",
          "2010",
          "2011",
          "2012",
          "2013",
          "2014",
          "2015",
          "2016",
          "2017",
          "2018",
          "2019",
          "2020",
          "2021",
          "2022"
         ],
         "xaxis": "x",
         "y": [
          38.70423076878104,
          37.304221533275346,
          36.9013816570741,
          36.59264754947934,
          35.403950898797945,
          35.249330811437964,
          34.72189941091678,
          34.583880764371614,
          34.30109425850275,
          34.2070537504151,
          33.41005582571367,
          33.393945924966914,
          33.946127758473764,
          34.10109545476291,
          34.16721126978169,
          37.66821025184042,
          35.96633095175934,
          33.27854696861073
         ],
         "yaxis": "y"
        },
        {
         "alignmentgroup": "True",
         "hovertemplate": "variable=Other_Consumption_as_Percent<br>Year=%{x}<br>value=%{y}<extra></extra>",
         "legendgroup": "Other_Consumption_as_Percent",
         "marker": {
          "color": "#EF553B",
          "pattern": {
           "shape": ""
          }
         },
         "name": "Other_Consumption_as_Percent",
         "offsetgroup": "Other_Consumption_as_Percent",
         "orientation": "v",
         "showlegend": true,
         "textposition": "auto",
         "type": "bar",
         "x": [
          "2005",
          "2006",
          "2007",
          "2008",
          "2009",
          "2010",
          "2011",
          "2012",
          "2013",
          "2014",
          "2015",
          "2016",
          "2017",
          "2018",
          "2019",
          "2020",
          "2021",
          "2022"
         ],
         "xaxis": "x",
         "y": [
          61.29576923121896,
          62.695778466724654,
          63.0986183429259,
          63.40735245052066,
          64.59604910120206,
          64.75066918856203,
          65.27810058908322,
          65.41611923562839,
          65.69890574149724,
          65.7929462495849,
          66.58994417428633,
          66.60605407503309,
          66.05387224152624,
          65.89890454523709,
          65.83278873021831,
          62.33178974815958,
          64.03366904824065,
          66.72145303138927
         ],
         "yaxis": "y"
        }
       ],
       "layout": {
        "barmode": "relative",
        "font": {
         "size": 26
        },
        "height": 700,
        "legend": {
         "orientation": "h",
         "title": {},
         "tracegroupgap": 0,
         "x": 0.5,
         "xanchor": "center",
         "y": 1,
         "yanchor": "bottom"
        },
        "margin": {
         "b": 10,
         "l": 10,
         "r": 10,
         "t": 140
        },
        "template": {
         "data": {
          "bar": [
           {
            "error_x": {
             "color": "#2a3f5f"
            },
            "error_y": {
             "color": "#2a3f5f"
            },
            "marker": {
             "line": {
              "color": "#E5ECF6",
              "width": 0.5
             },
             "pattern": {
              "fillmode": "overlay",
              "size": 10,
              "solidity": 0.2
             }
            },
            "type": "bar"
           }
          ],
          "barpolar": [
           {
            "marker": {
             "line": {
              "color": "#E5ECF6",
              "width": 0.5
             },
             "pattern": {
              "fillmode": "overlay",
              "size": 10,
              "solidity": 0.2
             }
            },
            "type": "barpolar"
           }
          ],
          "carpet": [
           {
            "aaxis": {
             "endlinecolor": "#2a3f5f",
             "gridcolor": "white",
             "linecolor": "white",
             "minorgridcolor": "white",
             "startlinecolor": "#2a3f5f"
            },
            "baxis": {
             "endlinecolor": "#2a3f5f",
             "gridcolor": "white",
             "linecolor": "white",
             "minorgridcolor": "white",
             "startlinecolor": "#2a3f5f"
            },
            "type": "carpet"
           }
          ],
          "choropleth": [
           {
            "colorbar": {
             "outlinewidth": 0,
             "ticks": ""
            },
            "type": "choropleth"
           }
          ],
          "contour": [
           {
            "colorbar": {
             "outlinewidth": 0,
             "ticks": ""
            },
            "colorscale": [
             [
              0,
              "#0d0887"
             ],
             [
              0.1111111111111111,
              "#46039f"
             ],
             [
              0.2222222222222222,
              "#7201a8"
             ],
             [
              0.3333333333333333,
              "#9c179e"
             ],
             [
              0.4444444444444444,
              "#bd3786"
             ],
             [
              0.5555555555555556,
              "#d8576b"
             ],
             [
              0.6666666666666666,
              "#ed7953"
             ],
             [
              0.7777777777777778,
              "#fb9f3a"
             ],
             [
              0.8888888888888888,
              "#fdca26"
             ],
             [
              1,
              "#f0f921"
             ]
            ],
            "type": "contour"
           }
          ],
          "contourcarpet": [
           {
            "colorbar": {
             "outlinewidth": 0,
             "ticks": ""
            },
            "type": "contourcarpet"
           }
          ],
          "heatmap": [
           {
            "colorbar": {
             "outlinewidth": 0,
             "ticks": ""
            },
            "colorscale": [
             [
              0,
              "#0d0887"
             ],
             [
              0.1111111111111111,
              "#46039f"
             ],
             [
              0.2222222222222222,
              "#7201a8"
             ],
             [
              0.3333333333333333,
              "#9c179e"
             ],
             [
              0.4444444444444444,
              "#bd3786"
             ],
             [
              0.5555555555555556,
              "#d8576b"
             ],
             [
              0.6666666666666666,
              "#ed7953"
             ],
             [
              0.7777777777777778,
              "#fb9f3a"
             ],
             [
              0.8888888888888888,
              "#fdca26"
             ],
             [
              1,
              "#f0f921"
             ]
            ],
            "type": "heatmap"
           }
          ],
          "heatmapgl": [
           {
            "colorbar": {
             "outlinewidth": 0,
             "ticks": ""
            },
            "colorscale": [
             [
              0,
              "#0d0887"
             ],
             [
              0.1111111111111111,
              "#46039f"
             ],
             [
              0.2222222222222222,
              "#7201a8"
             ],
             [
              0.3333333333333333,
              "#9c179e"
             ],
             [
              0.4444444444444444,
              "#bd3786"
             ],
             [
              0.5555555555555556,
              "#d8576b"
             ],
             [
              0.6666666666666666,
              "#ed7953"
             ],
             [
              0.7777777777777778,
              "#fb9f3a"
             ],
             [
              0.8888888888888888,
              "#fdca26"
             ],
             [
              1,
              "#f0f921"
             ]
            ],
            "type": "heatmapgl"
           }
          ],
          "histogram": [
           {
            "marker": {
             "pattern": {
              "fillmode": "overlay",
              "size": 10,
              "solidity": 0.2
             }
            },
            "type": "histogram"
           }
          ],
          "histogram2d": [
           {
            "colorbar": {
             "outlinewidth": 0,
             "ticks": ""
            },
            "colorscale": [
             [
              0,
              "#0d0887"
             ],
             [
              0.1111111111111111,
              "#46039f"
             ],
             [
              0.2222222222222222,
              "#7201a8"
             ],
             [
              0.3333333333333333,
              "#9c179e"
             ],
             [
              0.4444444444444444,
              "#bd3786"
             ],
             [
              0.5555555555555556,
              "#d8576b"
             ],
             [
              0.6666666666666666,
              "#ed7953"
             ],
             [
              0.7777777777777778,
              "#fb9f3a"
             ],
             [
              0.8888888888888888,
              "#fdca26"
             ],
             [
              1,
              "#f0f921"
             ]
            ],
            "type": "histogram2d"
           }
          ],
          "histogram2dcontour": [
           {
            "colorbar": {
             "outlinewidth": 0,
             "ticks": ""
            },
            "colorscale": [
             [
              0,
              "#0d0887"
             ],
             [
              0.1111111111111111,
              "#46039f"
             ],
             [
              0.2222222222222222,
              "#7201a8"
             ],
             [
              0.3333333333333333,
              "#9c179e"
             ],
             [
              0.4444444444444444,
              "#bd3786"
             ],
             [
              0.5555555555555556,
              "#d8576b"
             ],
             [
              0.6666666666666666,
              "#ed7953"
             ],
             [
              0.7777777777777778,
              "#fb9f3a"
             ],
             [
              0.8888888888888888,
              "#fdca26"
             ],
             [
              1,
              "#f0f921"
             ]
            ],
            "type": "histogram2dcontour"
           }
          ],
          "mesh3d": [
           {
            "colorbar": {
             "outlinewidth": 0,
             "ticks": ""
            },
            "type": "mesh3d"
           }
          ],
          "parcoords": [
           {
            "line": {
             "colorbar": {
              "outlinewidth": 0,
              "ticks": ""
             }
            },
            "type": "parcoords"
           }
          ],
          "pie": [
           {
            "automargin": true,
            "type": "pie"
           }
          ],
          "scatter": [
           {
            "fillpattern": {
             "fillmode": "overlay",
             "size": 10,
             "solidity": 0.2
            },
            "type": "scatter"
           }
          ],
          "scatter3d": [
           {
            "line": {
             "colorbar": {
              "outlinewidth": 0,
              "ticks": ""
             }
            },
            "marker": {
             "colorbar": {
              "outlinewidth": 0,
              "ticks": ""
             }
            },
            "type": "scatter3d"
           }
          ],
          "scattercarpet": [
           {
            "marker": {
             "colorbar": {
              "outlinewidth": 0,
              "ticks": ""
             }
            },
            "type": "scattercarpet"
           }
          ],
          "scattergeo": [
           {
            "marker": {
             "colorbar": {
              "outlinewidth": 0,
              "ticks": ""
             }
            },
            "type": "scattergeo"
           }
          ],
          "scattergl": [
           {
            "marker": {
             "colorbar": {
              "outlinewidth": 0,
              "ticks": ""
             }
            },
            "type": "scattergl"
           }
          ],
          "scattermapbox": [
           {
            "marker": {
             "colorbar": {
              "outlinewidth": 0,
              "ticks": ""
             }
            },
            "type": "scattermapbox"
           }
          ],
          "scatterpolar": [
           {
            "marker": {
             "colorbar": {
              "outlinewidth": 0,
              "ticks": ""
             }
            },
            "type": "scatterpolar"
           }
          ],
          "scatterpolargl": [
           {
            "marker": {
             "colorbar": {
              "outlinewidth": 0,
              "ticks": ""
             }
            },
            "type": "scatterpolargl"
           }
          ],
          "scatterternary": [
           {
            "marker": {
             "colorbar": {
              "outlinewidth": 0,
              "ticks": ""
             }
            },
            "type": "scatterternary"
           }
          ],
          "surface": [
           {
            "colorbar": {
             "outlinewidth": 0,
             "ticks": ""
            },
            "colorscale": [
             [
              0,
              "#0d0887"
             ],
             [
              0.1111111111111111,
              "#46039f"
             ],
             [
              0.2222222222222222,
              "#7201a8"
             ],
             [
              0.3333333333333333,
              "#9c179e"
             ],
             [
              0.4444444444444444,
              "#bd3786"
             ],
             [
              0.5555555555555556,
              "#d8576b"
             ],
             [
              0.6666666666666666,
              "#ed7953"
             ],
             [
              0.7777777777777778,
              "#fb9f3a"
             ],
             [
              0.8888888888888888,
              "#fdca26"
             ],
             [
              1,
              "#f0f921"
             ]
            ],
            "type": "surface"
           }
          ],
          "table": [
           {
            "cells": {
             "fill": {
              "color": "#EBF0F8"
             },
             "line": {
              "color": "white"
             }
            },
            "header": {
             "fill": {
              "color": "#C8D4E3"
             },
             "line": {
              "color": "white"
             }
            },
            "type": "table"
           }
          ]
         },
         "layout": {
          "annotationdefaults": {
           "arrowcolor": "#2a3f5f",
           "arrowhead": 0,
           "arrowwidth": 1
          },
          "autotypenumbers": "strict",
          "coloraxis": {
           "colorbar": {
            "outlinewidth": 0,
            "ticks": ""
           }
          },
          "colorscale": {
           "diverging": [
            [
             0,
             "#8e0152"
            ],
            [
             0.1,
             "#c51b7d"
            ],
            [
             0.2,
             "#de77ae"
            ],
            [
             0.3,
             "#f1b6da"
            ],
            [
             0.4,
             "#fde0ef"
            ],
            [
             0.5,
             "#f7f7f7"
            ],
            [
             0.6,
             "#e6f5d0"
            ],
            [
             0.7,
             "#b8e186"
            ],
            [
             0.8,
             "#7fbc41"
            ],
            [
             0.9,
             "#4d9221"
            ],
            [
             1,
             "#276419"
            ]
           ],
           "sequential": [
            [
             0,
             "#0d0887"
            ],
            [
             0.1111111111111111,
             "#46039f"
            ],
            [
             0.2222222222222222,
             "#7201a8"
            ],
            [
             0.3333333333333333,
             "#9c179e"
            ],
            [
             0.4444444444444444,
             "#bd3786"
            ],
            [
             0.5555555555555556,
             "#d8576b"
            ],
            [
             0.6666666666666666,
             "#ed7953"
            ],
            [
             0.7777777777777778,
             "#fb9f3a"
            ],
            [
             0.8888888888888888,
             "#fdca26"
            ],
            [
             1,
             "#f0f921"
            ]
           ],
           "sequentialminus": [
            [
             0,
             "#0d0887"
            ],
            [
             0.1111111111111111,
             "#46039f"
            ],
            [
             0.2222222222222222,
             "#7201a8"
            ],
            [
             0.3333333333333333,
             "#9c179e"
            ],
            [
             0.4444444444444444,
             "#bd3786"
            ],
            [
             0.5555555555555556,
             "#d8576b"
            ],
            [
             0.6666666666666666,
             "#ed7953"
            ],
            [
             0.7777777777777778,
             "#fb9f3a"
            ],
            [
             0.8888888888888888,
             "#fdca26"
            ],
            [
             1,
             "#f0f921"
            ]
           ]
          },
          "colorway": [
           "#636efa",
           "#EF553B",
           "#00cc96",
           "#ab63fa",
           "#FFA15A",
           "#19d3f3",
           "#FF6692",
           "#B6E880",
           "#FF97FF",
           "#FECB52"
          ],
          "font": {
           "color": "#2a3f5f"
          },
          "geo": {
           "bgcolor": "white",
           "lakecolor": "white",
           "landcolor": "#E5ECF6",
           "showlakes": true,
           "showland": true,
           "subunitcolor": "white"
          },
          "hoverlabel": {
           "align": "left"
          },
          "hovermode": "closest",
          "mapbox": {
           "style": "light"
          },
          "paper_bgcolor": "white",
          "plot_bgcolor": "#E5ECF6",
          "polar": {
           "angularaxis": {
            "gridcolor": "white",
            "linecolor": "white",
            "ticks": ""
           },
           "bgcolor": "#E5ECF6",
           "radialaxis": {
            "gridcolor": "white",
            "linecolor": "white",
            "ticks": ""
           }
          },
          "scene": {
           "xaxis": {
            "backgroundcolor": "#E5ECF6",
            "gridcolor": "white",
            "gridwidth": 2,
            "linecolor": "white",
            "showbackground": true,
            "ticks": "",
            "zerolinecolor": "white"
           },
           "yaxis": {
            "backgroundcolor": "#E5ECF6",
            "gridcolor": "white",
            "gridwidth": 2,
            "linecolor": "white",
            "showbackground": true,
            "ticks": "",
            "zerolinecolor": "white"
           },
           "zaxis": {
            "backgroundcolor": "#E5ECF6",
            "gridcolor": "white",
            "gridwidth": 2,
            "linecolor": "white",
            "showbackground": true,
            "ticks": "",
            "zerolinecolor": "white"
           }
          },
          "shapedefaults": {
           "line": {
            "color": "#2a3f5f"
           }
          },
          "ternary": {
           "aaxis": {
            "gridcolor": "white",
            "linecolor": "white",
            "ticks": ""
           },
           "baxis": {
            "gridcolor": "white",
            "linecolor": "white",
            "ticks": ""
           },
           "bgcolor": "#E5ECF6",
           "caxis": {
            "gridcolor": "white",
            "linecolor": "white",
            "ticks": ""
           }
          },
          "title": {
           "x": 0.05
          },
          "xaxis": {
           "automargin": true,
           "gridcolor": "white",
           "linecolor": "white",
           "ticks": "",
           "title": {
            "standoff": 15
           },
           "zerolinecolor": "white",
           "zerolinewidth": 2
          },
          "yaxis": {
           "automargin": true,
           "gridcolor": "white",
           "linecolor": "white",
           "ticks": "",
           "title": {
            "standoff": 15
           },
           "zerolinecolor": "white",
           "zerolinewidth": 2
          }
         }
        },
        "title": {
         "text": "Gas as a Portion of Total Energy Consumption",
         "x": 0.5
        },
        "xaxis": {
         "anchor": "y",
         "domain": [
          0,
          1
         ],
         "title": {
          "text": "Year"
         }
        },
        "yaxis": {
         "anchor": "x",
         "domain": [
          0,
          1
         ],
         "title": {
          "text": "Percentage Consumption (%)"
         }
        }
       }
      }
     },
     "metadata": {},
     "output_type": "display_data"
    }
   ],
   "source": [
    "Gas_Consumption_as_Percentage_for_Chart = Energy_Gas_Consumption_Combined[['Year','Gas_Consumption_as_Percent','Other_Consumption_as_Percent']]\n",
    "Gas_Consumption_as_Percentage_for_Chart = Gas_Consumption_as_Percentage_for_Chart.set_index('Year')\n",
    "#Gas_Consumption_as_Percentage_for_Chart\n",
    "#Gas_Proportion_Fig = Gas_Consumption_as_Percentage_for_Chart.plot(kind = 'bar', stacked = True )\n",
    "Gas_Consumption_as_Percentage_for_Chart_Bar = px.bar(Gas_Consumption_as_Percentage_for_Chart)\n",
    "Gas_Consumption_as_Percentage_for_Chart_Bar.update_layout(\n",
    "    margin={\"r\": 10, \"t\": 140, \"l\": 10, \"b\": 10},\n",
    "    title='Gas as a Portion of Total Energy Consumption',\n",
    "    xaxis_title=\"Year\",\n",
    "    yaxis_title=\"Percentage Consumption (%)\",\n",
    "    title_x=0.5,\n",
    "    legend=dict(\n",
    "        orientation=\"h\", \n",
    "        yanchor=\"bottom\", \n",
    "        y=1, \n",
    "        xanchor=\"center\",  \n",
    "        x=0.5,\n",
    "        title = None\n",
    "    ),\n",
    "    height = 700,\n",
    "    font=dict(\n",
    "        size=26 \n",
    "    ))\n",
    "\n"
   ]
  },
  {
   "cell_type": "markdown",
   "metadata": {},
   "source": [
    "The Importation of Population Data"
   ]
  },
  {
   "cell_type": "code",
   "execution_count": 12,
   "metadata": {},
   "outputs": [
    {
     "data": {
      "text/html": [
       "<div>\n",
       "<style scoped>\n",
       "    .dataframe tbody tr th:only-of-type {\n",
       "        vertical-align: middle;\n",
       "    }\n",
       "\n",
       "    .dataframe tbody tr th {\n",
       "        vertical-align: top;\n",
       "    }\n",
       "\n",
       "    .dataframe thead th {\n",
       "        text-align: right;\n",
       "    }\n",
       "</style>\n",
       "<table border=\"1\" class=\"dataframe\">\n",
       "  <thead>\n",
       "    <tr style=\"text-align: right;\">\n",
       "      <th></th>\n",
       "      <th>ladcode23</th>\n",
       "      <th>laname23</th>\n",
       "      <th>country</th>\n",
       "      <th>sex</th>\n",
       "      <th>age</th>\n",
       "      <th>population_2011</th>\n",
       "      <th>population_2012</th>\n",
       "      <th>population_2013</th>\n",
       "      <th>population_2014</th>\n",
       "      <th>population_2015</th>\n",
       "      <th>population_2016</th>\n",
       "      <th>population_2017</th>\n",
       "      <th>population_2018</th>\n",
       "      <th>population_2019</th>\n",
       "      <th>population_2020</th>\n",
       "      <th>population_2021</th>\n",
       "      <th>population_2022</th>\n",
       "    </tr>\n",
       "  </thead>\n",
       "  <tbody>\n",
       "    <tr>\n",
       "      <th>0</th>\n",
       "      <td>E06000001</td>\n",
       "      <td>Hartlepool</td>\n",
       "      <td>E</td>\n",
       "      <td>F</td>\n",
       "      <td>0</td>\n",
       "      <td>555</td>\n",
       "      <td>565</td>\n",
       "      <td>508</td>\n",
       "      <td>513</td>\n",
       "      <td>517</td>\n",
       "      <td>507</td>\n",
       "      <td>508</td>\n",
       "      <td>463</td>\n",
       "      <td>495</td>\n",
       "      <td>455</td>\n",
       "      <td>446</td>\n",
       "      <td>430</td>\n",
       "    </tr>\n",
       "    <tr>\n",
       "      <th>1</th>\n",
       "      <td>E06000001</td>\n",
       "      <td>Hartlepool</td>\n",
       "      <td>E</td>\n",
       "      <td>F</td>\n",
       "      <td>1</td>\n",
       "      <td>584</td>\n",
       "      <td>557</td>\n",
       "      <td>561</td>\n",
       "      <td>506</td>\n",
       "      <td>515</td>\n",
       "      <td>522</td>\n",
       "      <td>526</td>\n",
       "      <td>501</td>\n",
       "      <td>462</td>\n",
       "      <td>498</td>\n",
       "      <td>477</td>\n",
       "      <td>461</td>\n",
       "    </tr>\n",
       "    <tr>\n",
       "      <th>2</th>\n",
       "      <td>E06000001</td>\n",
       "      <td>Hartlepool</td>\n",
       "      <td>E</td>\n",
       "      <td>F</td>\n",
       "      <td>2</td>\n",
       "      <td>561</td>\n",
       "      <td>570</td>\n",
       "      <td>565</td>\n",
       "      <td>556</td>\n",
       "      <td>509</td>\n",
       "      <td>518</td>\n",
       "      <td>521</td>\n",
       "      <td>516</td>\n",
       "      <td>527</td>\n",
       "      <td>459</td>\n",
       "      <td>506</td>\n",
       "      <td>489</td>\n",
       "    </tr>\n",
       "    <tr>\n",
       "      <th>3</th>\n",
       "      <td>E06000001</td>\n",
       "      <td>Hartlepool</td>\n",
       "      <td>E</td>\n",
       "      <td>F</td>\n",
       "      <td>3</td>\n",
       "      <td>565</td>\n",
       "      <td>567</td>\n",
       "      <td>578</td>\n",
       "      <td>564</td>\n",
       "      <td>552</td>\n",
       "      <td>532</td>\n",
       "      <td>534</td>\n",
       "      <td>523</td>\n",
       "      <td>531</td>\n",
       "      <td>522</td>\n",
       "      <td>463</td>\n",
       "      <td>512</td>\n",
       "    </tr>\n",
       "    <tr>\n",
       "      <th>4</th>\n",
       "      <td>E06000001</td>\n",
       "      <td>Hartlepool</td>\n",
       "      <td>E</td>\n",
       "      <td>F</td>\n",
       "      <td>4</td>\n",
       "      <td>546</td>\n",
       "      <td>552</td>\n",
       "      <td>557</td>\n",
       "      <td>582</td>\n",
       "      <td>564</td>\n",
       "      <td>557</td>\n",
       "      <td>530</td>\n",
       "      <td>538</td>\n",
       "      <td>514</td>\n",
       "      <td>520</td>\n",
       "      <td>523</td>\n",
       "      <td>468</td>\n",
       "    </tr>\n",
       "    <tr>\n",
       "      <th>...</th>\n",
       "      <td>...</td>\n",
       "      <td>...</td>\n",
       "      <td>...</td>\n",
       "      <td>...</td>\n",
       "      <td>...</td>\n",
       "      <td>...</td>\n",
       "      <td>...</td>\n",
       "      <td>...</td>\n",
       "      <td>...</td>\n",
       "      <td>...</td>\n",
       "      <td>...</td>\n",
       "      <td>...</td>\n",
       "      <td>...</td>\n",
       "      <td>...</td>\n",
       "      <td>...</td>\n",
       "      <td>...</td>\n",
       "      <td>...</td>\n",
       "    </tr>\n",
       "    <tr>\n",
       "      <th>65697</th>\n",
       "      <td>W06000024</td>\n",
       "      <td>Merthyr Tydfil</td>\n",
       "      <td>W</td>\n",
       "      <td>M</td>\n",
       "      <td>86</td>\n",
       "      <td>62</td>\n",
       "      <td>58</td>\n",
       "      <td>56</td>\n",
       "      <td>75</td>\n",
       "      <td>81</td>\n",
       "      <td>66</td>\n",
       "      <td>74</td>\n",
       "      <td>71</td>\n",
       "      <td>74</td>\n",
       "      <td>63</td>\n",
       "      <td>85</td>\n",
       "      <td>84</td>\n",
       "    </tr>\n",
       "    <tr>\n",
       "      <th>65698</th>\n",
       "      <td>W06000024</td>\n",
       "      <td>Merthyr Tydfil</td>\n",
       "      <td>W</td>\n",
       "      <td>M</td>\n",
       "      <td>87</td>\n",
       "      <td>46</td>\n",
       "      <td>55</td>\n",
       "      <td>43</td>\n",
       "      <td>46</td>\n",
       "      <td>64</td>\n",
       "      <td>69</td>\n",
       "      <td>61</td>\n",
       "      <td>63</td>\n",
       "      <td>62</td>\n",
       "      <td>58</td>\n",
       "      <td>54</td>\n",
       "      <td>76</td>\n",
       "    </tr>\n",
       "    <tr>\n",
       "      <th>65699</th>\n",
       "      <td>W06000024</td>\n",
       "      <td>Merthyr Tydfil</td>\n",
       "      <td>W</td>\n",
       "      <td>M</td>\n",
       "      <td>88</td>\n",
       "      <td>48</td>\n",
       "      <td>36</td>\n",
       "      <td>46</td>\n",
       "      <td>35</td>\n",
       "      <td>39</td>\n",
       "      <td>55</td>\n",
       "      <td>61</td>\n",
       "      <td>61</td>\n",
       "      <td>56</td>\n",
       "      <td>55</td>\n",
       "      <td>50</td>\n",
       "      <td>50</td>\n",
       "    </tr>\n",
       "    <tr>\n",
       "      <th>65700</th>\n",
       "      <td>W06000024</td>\n",
       "      <td>Merthyr Tydfil</td>\n",
       "      <td>W</td>\n",
       "      <td>M</td>\n",
       "      <td>89</td>\n",
       "      <td>32</td>\n",
       "      <td>44</td>\n",
       "      <td>33</td>\n",
       "      <td>41</td>\n",
       "      <td>27</td>\n",
       "      <td>31</td>\n",
       "      <td>46</td>\n",
       "      <td>49</td>\n",
       "      <td>52</td>\n",
       "      <td>43</td>\n",
       "      <td>50</td>\n",
       "      <td>44</td>\n",
       "    </tr>\n",
       "    <tr>\n",
       "      <th>65701</th>\n",
       "      <td>W06000024</td>\n",
       "      <td>Merthyr Tydfil</td>\n",
       "      <td>W</td>\n",
       "      <td>M</td>\n",
       "      <td>90</td>\n",
       "      <td>103</td>\n",
       "      <td>116</td>\n",
       "      <td>130</td>\n",
       "      <td>131</td>\n",
       "      <td>136</td>\n",
       "      <td>128</td>\n",
       "      <td>112</td>\n",
       "      <td>117</td>\n",
       "      <td>130</td>\n",
       "      <td>127</td>\n",
       "      <td>122</td>\n",
       "      <td>135</td>\n",
       "    </tr>\n",
       "  </tbody>\n",
       "</table>\n",
       "<p>65702 rows × 17 columns</p>\n",
       "</div>"
      ],
      "text/plain": [
       "       ladcode23        laname23 country sex  age  population_2011  \\\n",
       "0      E06000001      Hartlepool       E   F    0              555   \n",
       "1      E06000001      Hartlepool       E   F    1              584   \n",
       "2      E06000001      Hartlepool       E   F    2              561   \n",
       "3      E06000001      Hartlepool       E   F    3              565   \n",
       "4      E06000001      Hartlepool       E   F    4              546   \n",
       "...          ...             ...     ...  ..  ...              ...   \n",
       "65697  W06000024  Merthyr Tydfil       W   M   86               62   \n",
       "65698  W06000024  Merthyr Tydfil       W   M   87               46   \n",
       "65699  W06000024  Merthyr Tydfil       W   M   88               48   \n",
       "65700  W06000024  Merthyr Tydfil       W   M   89               32   \n",
       "65701  W06000024  Merthyr Tydfil       W   M   90              103   \n",
       "\n",
       "       population_2012  population_2013  population_2014  population_2015  \\\n",
       "0                  565              508              513              517   \n",
       "1                  557              561              506              515   \n",
       "2                  570              565              556              509   \n",
       "3                  567              578              564              552   \n",
       "4                  552              557              582              564   \n",
       "...                ...              ...              ...              ...   \n",
       "65697               58               56               75               81   \n",
       "65698               55               43               46               64   \n",
       "65699               36               46               35               39   \n",
       "65700               44               33               41               27   \n",
       "65701              116              130              131              136   \n",
       "\n",
       "       population_2016  population_2017  population_2018  population_2019  \\\n",
       "0                  507              508              463              495   \n",
       "1                  522              526              501              462   \n",
       "2                  518              521              516              527   \n",
       "3                  532              534              523              531   \n",
       "4                  557              530              538              514   \n",
       "...                ...              ...              ...              ...   \n",
       "65697               66               74               71               74   \n",
       "65698               69               61               63               62   \n",
       "65699               55               61               61               56   \n",
       "65700               31               46               49               52   \n",
       "65701              128              112              117              130   \n",
       "\n",
       "       population_2020  population_2021  population_2022  \n",
       "0                  455              446              430  \n",
       "1                  498              477              461  \n",
       "2                  459              506              489  \n",
       "3                  522              463              512  \n",
       "4                  520              523              468  \n",
       "...                ...              ...              ...  \n",
       "65697               63               85               84  \n",
       "65698               58               54               76  \n",
       "65699               55               50               50  \n",
       "65700               43               50               44  \n",
       "65701              127              122              135  \n",
       "\n",
       "[65702 rows x 17 columns]"
      ]
     },
     "execution_count": 12,
     "metadata": {},
     "output_type": "execute_result"
    }
   ],
   "source": [
    "#The Importation of Population Data\n",
    "\n",
    "#Source for this data it's the 'Mid-2011 to mid-2022 edition of this dataset'\n",
    "#https://www.ons.gov.uk/peoplepopulationandcommunity/populationandmigration/populationestimates/datasets/populationestimatesforukenglandandwalesscotlandandnorthernireland\n",
    "\n",
    "UK_Population_Raw_Data = pd.read_excel(io=UK_Population_3,sheet_name='MYEB1', header=1)\n",
    "UK_Population_Raw_Data"
   ]
  },
  {
   "cell_type": "code",
   "execution_count": 13,
   "metadata": {},
   "outputs": [
    {
     "data": {
      "text/html": [
       "<div>\n",
       "<style scoped>\n",
       "    .dataframe tbody tr th:only-of-type {\n",
       "        vertical-align: middle;\n",
       "    }\n",
       "\n",
       "    .dataframe tbody tr th {\n",
       "        vertical-align: top;\n",
       "    }\n",
       "\n",
       "    .dataframe thead th {\n",
       "        text-align: right;\n",
       "    }\n",
       "</style>\n",
       "<table border=\"1\" class=\"dataframe\">\n",
       "  <thead>\n",
       "    <tr style=\"text-align: right;\">\n",
       "      <th></th>\n",
       "      <th>ladcode23</th>\n",
       "      <th>laname23</th>\n",
       "      <th>country</th>\n",
       "      <th>sex</th>\n",
       "      <th>age</th>\n",
       "      <th>population_2011</th>\n",
       "      <th>population_2012</th>\n",
       "      <th>population_2013</th>\n",
       "      <th>population_2014</th>\n",
       "      <th>population_2015</th>\n",
       "      <th>population_2016</th>\n",
       "      <th>population_2017</th>\n",
       "      <th>population_2018</th>\n",
       "      <th>population_2019</th>\n",
       "      <th>population_2020</th>\n",
       "      <th>population_2021</th>\n",
       "      <th>population_2022</th>\n",
       "    </tr>\n",
       "  </thead>\n",
       "  <tbody>\n",
       "  </tbody>\n",
       "</table>\n",
       "</div>"
      ],
      "text/plain": [
       "Empty DataFrame\n",
       "Columns: [ladcode23, laname23, country, sex, age, population_2011, population_2012, population_2013, population_2014, population_2015, population_2016, population_2017, population_2018, population_2019, population_2020, population_2021, population_2022]\n",
       "Index: []"
      ]
     },
     "execution_count": 13,
     "metadata": {},
     "output_type": "execute_result"
    }
   ],
   "source": [
    "UK_Population_Raw_Data[UK_Population_Raw_Data['laname23']== '']"
   ]
  },
  {
   "cell_type": "code",
   "execution_count": 14,
   "metadata": {},
   "outputs": [
    {
     "data": {
      "text/html": [
       "<div>\n",
       "<style scoped>\n",
       "    .dataframe tbody tr th:only-of-type {\n",
       "        vertical-align: middle;\n",
       "    }\n",
       "\n",
       "    .dataframe tbody tr th {\n",
       "        vertical-align: top;\n",
       "    }\n",
       "\n",
       "    .dataframe thead th {\n",
       "        text-align: right;\n",
       "    }\n",
       "</style>\n",
       "<table border=\"1\" class=\"dataframe\">\n",
       "  <thead>\n",
       "    <tr style=\"text-align: right;\">\n",
       "      <th></th>\n",
       "      <th>LAD20CD</th>\n",
       "      <th>LAD20NM</th>\n",
       "      <th>RGN20CD</th>\n",
       "      <th>RGN20NM</th>\n",
       "      <th>FID</th>\n",
       "    </tr>\n",
       "  </thead>\n",
       "  <tbody>\n",
       "    <tr>\n",
       "      <th>0</th>\n",
       "      <td>E06000012</td>\n",
       "      <td>North East Lincolnshire</td>\n",
       "      <td>E12000003</td>\n",
       "      <td>Yorkshire and The Humber</td>\n",
       "      <td>1.0</td>\n",
       "    </tr>\n",
       "    <tr>\n",
       "      <th>1</th>\n",
       "      <td>E06000013</td>\n",
       "      <td>North Lincolnshire</td>\n",
       "      <td>E12000003</td>\n",
       "      <td>Yorkshire and The Humber</td>\n",
       "      <td>2.0</td>\n",
       "    </tr>\n",
       "    <tr>\n",
       "      <th>2</th>\n",
       "      <td>E06000014</td>\n",
       "      <td>York</td>\n",
       "      <td>E12000003</td>\n",
       "      <td>Yorkshire and The Humber</td>\n",
       "      <td>3.0</td>\n",
       "    </tr>\n",
       "    <tr>\n",
       "      <th>3</th>\n",
       "      <td>E07000163</td>\n",
       "      <td>Craven</td>\n",
       "      <td>E12000003</td>\n",
       "      <td>Yorkshire and The Humber</td>\n",
       "      <td>4.0</td>\n",
       "    </tr>\n",
       "    <tr>\n",
       "      <th>4</th>\n",
       "      <td>E07000164</td>\n",
       "      <td>Hambleton</td>\n",
       "      <td>E12000003</td>\n",
       "      <td>Yorkshire and The Humber</td>\n",
       "      <td>5.0</td>\n",
       "    </tr>\n",
       "    <tr>\n",
       "      <th>...</th>\n",
       "      <td>...</td>\n",
       "      <td>...</td>\n",
       "      <td>...</td>\n",
       "      <td>...</td>\n",
       "      <td>...</td>\n",
       "    </tr>\n",
       "    <tr>\n",
       "      <th>315</th>\n",
       "      <td>E06000062</td>\n",
       "      <td>NaN</td>\n",
       "      <td>NaN</td>\n",
       "      <td>South East</td>\n",
       "      <td>NaN</td>\n",
       "    </tr>\n",
       "    <tr>\n",
       "      <th>316</th>\n",
       "      <td>E06000063</td>\n",
       "      <td>NaN</td>\n",
       "      <td>NaN</td>\n",
       "      <td>South East</td>\n",
       "      <td>NaN</td>\n",
       "    </tr>\n",
       "    <tr>\n",
       "      <th>317</th>\n",
       "      <td>E06000064</td>\n",
       "      <td>NaN</td>\n",
       "      <td>NaN</td>\n",
       "      <td>South East</td>\n",
       "      <td>NaN</td>\n",
       "    </tr>\n",
       "    <tr>\n",
       "      <th>318</th>\n",
       "      <td>E06000065</td>\n",
       "      <td>NaN</td>\n",
       "      <td>NaN</td>\n",
       "      <td>South East</td>\n",
       "      <td>NaN</td>\n",
       "    </tr>\n",
       "    <tr>\n",
       "      <th>319</th>\n",
       "      <td>E06000066</td>\n",
       "      <td>NaN</td>\n",
       "      <td>NaN</td>\n",
       "      <td>South East</td>\n",
       "      <td>NaN</td>\n",
       "    </tr>\n",
       "  </tbody>\n",
       "</table>\n",
       "<p>320 rows × 5 columns</p>\n",
       "</div>"
      ],
      "text/plain": [
       "       LAD20CD                  LAD20NM    RGN20CD                   RGN20NM  \\\n",
       "0    E06000012  North East Lincolnshire  E12000003  Yorkshire and The Humber   \n",
       "1    E06000013       North Lincolnshire  E12000003  Yorkshire and The Humber   \n",
       "2    E06000014                     York  E12000003  Yorkshire and The Humber   \n",
       "3    E07000163                   Craven  E12000003  Yorkshire and The Humber   \n",
       "4    E07000164                Hambleton  E12000003  Yorkshire and The Humber   \n",
       "..         ...                      ...        ...                       ...   \n",
       "315  E06000062                      NaN        NaN                South East   \n",
       "316  E06000063                      NaN        NaN                South East   \n",
       "317  E06000064                      NaN        NaN                South East   \n",
       "318  E06000065                      NaN        NaN                South East   \n",
       "319  E06000066                      NaN        NaN                South East   \n",
       "\n",
       "     FID  \n",
       "0    1.0  \n",
       "1    2.0  \n",
       "2    3.0  \n",
       "3    4.0  \n",
       "4    5.0  \n",
       "..   ...  \n",
       "315  NaN  \n",
       "316  NaN  \n",
       "317  NaN  \n",
       "318  NaN  \n",
       "319  NaN  \n",
       "\n",
       "[320 rows x 5 columns]"
      ]
     },
     "execution_count": 14,
     "metadata": {},
     "output_type": "execute_result"
    }
   ],
   "source": [
    "#Source for Lookup table:\n",
    "#https://geoportal.statistics.gov.uk/datasets/ons::local-authority-district-to-region-april-2020-lookup-in-en/explore\n",
    "#In excel Find and replace was used to change all instances of 'East of England' to 'East'\n",
    "LAD20_to_RGN20_Conversion_Table = pd.read_excel(io=Local_Authority_District_to_Region_4)\n",
    "LAD20_to_RGN20_Conversion_Table"
   ]
  },
  {
   "cell_type": "code",
   "execution_count": 15,
   "metadata": {},
   "outputs": [
    {
     "data": {
      "text/plain": [
       "array(['Yorkshire and The Humber', 'East Midlands', 'North East',\n",
       "       'North West', 'London', 'South East', 'West Midlands',\n",
       "       'South West', 'East'], dtype=object)"
      ]
     },
     "execution_count": 15,
     "metadata": {},
     "output_type": "execute_result"
    }
   ],
   "source": [
    "LAD20_to_RGN20_Conversion_Table['RGN20NM'].unique()\n"
   ]
  },
  {
   "cell_type": "code",
   "execution_count": 16,
   "metadata": {},
   "outputs": [
    {
     "data": {
      "text/plain": [
       "0"
      ]
     },
     "execution_count": 16,
     "metadata": {},
     "output_type": "execute_result"
    }
   ],
   "source": [
    "#Join the RGN20NM onto the UK_Population_Density_Raw_Data table\n",
    "UK_Population_Raw_Data_With_Region = pd.merge(UK_Population_Raw_Data, LAD20_to_RGN20_Conversion_Table, left_on='ladcode23', right_on='LAD20CD', how='left')\n",
    "\n",
    "#This checks if all rows relating to england have had a RGN20NM successfully allocated\n",
    "len(UK_Population_Raw_Data_With_Region[UK_Population_Raw_Data_With_Region['RGN20NM'].notna()]) - len(UK_Population_Raw_Data_With_Region[UK_Population_Raw_Data_With_Region['country'] == 'E'])\n",
    "\n",
    "#This initially returned a difference of 1092\n",
    "#After manual adjustments this turned to 0"
   ]
  },
  {
   "cell_type": "code",
   "execution_count": 17,
   "metadata": {},
   "outputs": [
    {
     "data": {
      "text/plain": [
       "array([], dtype=object)"
      ]
     },
     "execution_count": 17,
     "metadata": {},
     "output_type": "execute_result"
    }
   ],
   "source": [
    "Region_Allocation_Erros = UK_Population_Raw_Data_With_Region[\n",
    "    (UK_Population_Raw_Data_With_Region['RGN20NM'].isna()) &\n",
    "    (UK_Population_Raw_Data_With_Region['country'] == 'E')]\n",
    "\n",
    "Region_Allocation_Erros['ladcode23'].unique()\n",
    "\n",
    "#The output here initially was: 'array(['E06000061', 'E06000062', 'E06000063', 'E06000064', 'E06000065', 'E06000066'], dtype=object)'\n",
    "#These values where allocated manually in the LAD20_to_RGN20_Conversion_Table excel. The the join was performed again.\n"
   ]
  },
  {
   "cell_type": "code",
   "execution_count": 18,
   "metadata": {},
   "outputs": [
    {
     "data": {
      "text/html": [
       "<div>\n",
       "<style scoped>\n",
       "    .dataframe tbody tr th:only-of-type {\n",
       "        vertical-align: middle;\n",
       "    }\n",
       "\n",
       "    .dataframe tbody tr th {\n",
       "        vertical-align: top;\n",
       "    }\n",
       "\n",
       "    .dataframe thead th {\n",
       "        text-align: right;\n",
       "    }\n",
       "</style>\n",
       "<table border=\"1\" class=\"dataframe\">\n",
       "  <thead>\n",
       "    <tr style=\"text-align: right;\">\n",
       "      <th></th>\n",
       "      <th>RGN20NM</th>\n",
       "      <th>population_2011</th>\n",
       "      <th>population_2012</th>\n",
       "      <th>population_2013</th>\n",
       "      <th>population_2014</th>\n",
       "      <th>population_2015</th>\n",
       "      <th>population_2016</th>\n",
       "      <th>population_2017</th>\n",
       "      <th>population_2018</th>\n",
       "      <th>population_2019</th>\n",
       "      <th>population_2020</th>\n",
       "      <th>population_2021</th>\n",
       "      <th>population_2022</th>\n",
       "    </tr>\n",
       "  </thead>\n",
       "  <tbody>\n",
       "    <tr>\n",
       "      <th>0</th>\n",
       "      <td>East</td>\n",
       "      <td>5862418</td>\n",
       "      <td>5915033</td>\n",
       "      <td>5970484</td>\n",
       "      <td>6039521</td>\n",
       "      <td>6098262</td>\n",
       "      <td>6161075</td>\n",
       "      <td>6202843</td>\n",
       "      <td>6237376</td>\n",
       "      <td>6274179</td>\n",
       "      <td>6297779</td>\n",
       "      <td>6349646</td>\n",
       "      <td>6401418</td>\n",
       "    </tr>\n",
       "    <tr>\n",
       "      <th>1</th>\n",
       "      <td>East Midlands</td>\n",
       "      <td>3843481</td>\n",
       "      <td>3867559</td>\n",
       "      <td>3893081</td>\n",
       "      <td>3920956</td>\n",
       "      <td>3948451</td>\n",
       "      <td>3984949</td>\n",
       "      <td>4018910</td>\n",
       "      <td>4045911</td>\n",
       "      <td>4066985</td>\n",
       "      <td>4076473</td>\n",
       "      <td>4094434</td>\n",
       "      <td>4142077</td>\n",
       "    </tr>\n",
       "    <tr>\n",
       "      <th>2</th>\n",
       "      <td>London</td>\n",
       "      <td>8204407</td>\n",
       "      <td>8320767</td>\n",
       "      <td>8438987</td>\n",
       "      <td>8547192</td>\n",
       "      <td>8659545</td>\n",
       "      <td>8743651</td>\n",
       "      <td>8776229</td>\n",
       "      <td>8833335</td>\n",
       "      <td>8889743</td>\n",
       "      <td>8867008</td>\n",
       "      <td>8804769</td>\n",
       "      <td>8869043</td>\n",
       "    </tr>\n",
       "    <tr>\n",
       "      <th>3</th>\n",
       "      <td>North East</td>\n",
       "      <td>2596441</td>\n",
       "      <td>2598972</td>\n",
       "      <td>2603299</td>\n",
       "      <td>2610482</td>\n",
       "      <td>2611804</td>\n",
       "      <td>2618253</td>\n",
       "      <td>2623787</td>\n",
       "      <td>2629393</td>\n",
       "      <td>2636676</td>\n",
       "      <td>2637426</td>\n",
       "      <td>2647493</td>\n",
       "      <td>2682069</td>\n",
       "    </tr>\n",
       "    <tr>\n",
       "      <th>4</th>\n",
       "      <td>North West</td>\n",
       "      <td>6556144</td>\n",
       "      <td>6580509</td>\n",
       "      <td>6607066</td>\n",
       "      <td>6642793</td>\n",
       "      <td>6683933</td>\n",
       "      <td>6735195</td>\n",
       "      <td>6777072</td>\n",
       "      <td>6817175</td>\n",
       "      <td>6864096</td>\n",
       "      <td>6882166</td>\n",
       "      <td>6923363</td>\n",
       "      <td>7012739</td>\n",
       "    </tr>\n",
       "    <tr>\n",
       "      <th>5</th>\n",
       "      <td>South East</td>\n",
       "      <td>10979355</td>\n",
       "      <td>11073623</td>\n",
       "      <td>11162565</td>\n",
       "      <td>11261890</td>\n",
       "      <td>11354048</td>\n",
       "      <td>11459199</td>\n",
       "      <td>11529391</td>\n",
       "      <td>11588320</td>\n",
       "      <td>11645604</td>\n",
       "      <td>11679917</td>\n",
       "      <td>11775410</td>\n",
       "      <td>11884007</td>\n",
       "    </tr>\n",
       "    <tr>\n",
       "      <th>6</th>\n",
       "      <td>South West</td>\n",
       "      <td>4769250</td>\n",
       "      <td>4800501</td>\n",
       "      <td>4835318</td>\n",
       "      <td>4877847</td>\n",
       "      <td>4922695</td>\n",
       "      <td>4972176</td>\n",
       "      <td>5015771</td>\n",
       "      <td>5047542</td>\n",
       "      <td>5077805</td>\n",
       "      <td>5095680</td>\n",
       "      <td>5139722</td>\n",
       "      <td>5189846</td>\n",
       "    </tr>\n",
       "    <tr>\n",
       "      <th>7</th>\n",
       "      <td>West Midlands</td>\n",
       "      <td>5608667</td>\n",
       "      <td>5640325</td>\n",
       "      <td>5676945</td>\n",
       "      <td>5716882</td>\n",
       "      <td>5756287</td>\n",
       "      <td>5812248</td>\n",
       "      <td>5855052</td>\n",
       "      <td>5889328</td>\n",
       "      <td>5920977</td>\n",
       "      <td>5931924</td>\n",
       "      <td>5956226</td>\n",
       "      <td>6017026</td>\n",
       "    </tr>\n",
       "    <tr>\n",
       "      <th>8</th>\n",
       "      <td>Yorkshire and The Humber</td>\n",
       "      <td>4687006</td>\n",
       "      <td>4709523</td>\n",
       "      <td>4730941</td>\n",
       "      <td>4752756</td>\n",
       "      <td>4773651</td>\n",
       "      <td>4802288</td>\n",
       "      <td>4820493</td>\n",
       "      <td>4836148</td>\n",
       "      <td>4853991</td>\n",
       "      <td>4857588</td>\n",
       "      <td>4863828</td>\n",
       "      <td>4914317</td>\n",
       "    </tr>\n",
       "  </tbody>\n",
       "</table>\n",
       "</div>"
      ],
      "text/plain": [
       "                    RGN20NM  population_2011  population_2012  \\\n",
       "0                      East          5862418          5915033   \n",
       "1             East Midlands          3843481          3867559   \n",
       "2                    London          8204407          8320767   \n",
       "3                North East          2596441          2598972   \n",
       "4                North West          6556144          6580509   \n",
       "5                South East         10979355         11073623   \n",
       "6                South West          4769250          4800501   \n",
       "7             West Midlands          5608667          5640325   \n",
       "8  Yorkshire and The Humber          4687006          4709523   \n",
       "\n",
       "   population_2013  population_2014  population_2015  population_2016  \\\n",
       "0          5970484          6039521          6098262          6161075   \n",
       "1          3893081          3920956          3948451          3984949   \n",
       "2          8438987          8547192          8659545          8743651   \n",
       "3          2603299          2610482          2611804          2618253   \n",
       "4          6607066          6642793          6683933          6735195   \n",
       "5         11162565         11261890         11354048         11459199   \n",
       "6          4835318          4877847          4922695          4972176   \n",
       "7          5676945          5716882          5756287          5812248   \n",
       "8          4730941          4752756          4773651          4802288   \n",
       "\n",
       "   population_2017  population_2018  population_2019  population_2020  \\\n",
       "0          6202843          6237376          6274179          6297779   \n",
       "1          4018910          4045911          4066985          4076473   \n",
       "2          8776229          8833335          8889743          8867008   \n",
       "3          2623787          2629393          2636676          2637426   \n",
       "4          6777072          6817175          6864096          6882166   \n",
       "5         11529391         11588320         11645604         11679917   \n",
       "6          5015771          5047542          5077805          5095680   \n",
       "7          5855052          5889328          5920977          5931924   \n",
       "8          4820493          4836148          4853991          4857588   \n",
       "\n",
       "   population_2021  population_2022  \n",
       "0          6349646          6401418  \n",
       "1          4094434          4142077  \n",
       "2          8804769          8869043  \n",
       "3          2647493          2682069  \n",
       "4          6923363          7012739  \n",
       "5         11775410         11884007  \n",
       "6          5139722          5189846  \n",
       "7          5956226          6017026  \n",
       "8          4863828          4914317  "
      ]
     },
     "execution_count": 18,
     "metadata": {},
     "output_type": "execute_result"
    }
   ],
   "source": [
    "#Group by Region\n",
    "Population_by_Region_Pivoted = UK_Population_Raw_Data_With_Region.groupby('RGN20NM',as_index=False).agg({\n",
    "    'population_2011' : 'sum',\n",
    "    'population_2012' : 'sum',\n",
    "    'population_2013' : 'sum',\n",
    "    'population_2014' : 'sum',\n",
    "    'population_2015' : 'sum',\n",
    "    'population_2016' : 'sum',\n",
    "    'population_2017' : 'sum',\n",
    "    'population_2018' : 'sum',\n",
    "    'population_2019' : 'sum',\n",
    "    'population_2020' : 'sum',\n",
    "    'population_2021' : 'sum',\n",
    "    'population_2022' : 'sum',\n",
    "})\n",
    "\n",
    "Population_by_Region_Pivoted\n"
   ]
  },
  {
   "cell_type": "code",
   "execution_count": 19,
   "metadata": {},
   "outputs": [
    {
     "data": {
      "text/html": [
       "<div>\n",
       "<style scoped>\n",
       "    .dataframe tbody tr th:only-of-type {\n",
       "        vertical-align: middle;\n",
       "    }\n",
       "\n",
       "    .dataframe tbody tr th {\n",
       "        vertical-align: top;\n",
       "    }\n",
       "\n",
       "    .dataframe thead th {\n",
       "        text-align: right;\n",
       "    }\n",
       "</style>\n",
       "<table border=\"1\" class=\"dataframe\">\n",
       "  <thead>\n",
       "    <tr style=\"text-align: right;\">\n",
       "      <th></th>\n",
       "      <th>Region</th>\n",
       "      <th>Year</th>\n",
       "      <th>Population</th>\n",
       "    </tr>\n",
       "  </thead>\n",
       "  <tbody>\n",
       "    <tr>\n",
       "      <th>0</th>\n",
       "      <td>East</td>\n",
       "      <td>2011</td>\n",
       "      <td>5862418</td>\n",
       "    </tr>\n",
       "    <tr>\n",
       "      <th>1</th>\n",
       "      <td>East Midlands</td>\n",
       "      <td>2011</td>\n",
       "      <td>3843481</td>\n",
       "    </tr>\n",
       "    <tr>\n",
       "      <th>2</th>\n",
       "      <td>London</td>\n",
       "      <td>2011</td>\n",
       "      <td>8204407</td>\n",
       "    </tr>\n",
       "    <tr>\n",
       "      <th>3</th>\n",
       "      <td>North East</td>\n",
       "      <td>2011</td>\n",
       "      <td>2596441</td>\n",
       "    </tr>\n",
       "    <tr>\n",
       "      <th>4</th>\n",
       "      <td>North West</td>\n",
       "      <td>2011</td>\n",
       "      <td>6556144</td>\n",
       "    </tr>\n",
       "    <tr>\n",
       "      <th>...</th>\n",
       "      <td>...</td>\n",
       "      <td>...</td>\n",
       "      <td>...</td>\n",
       "    </tr>\n",
       "    <tr>\n",
       "      <th>103</th>\n",
       "      <td>North West</td>\n",
       "      <td>2022</td>\n",
       "      <td>7012739</td>\n",
       "    </tr>\n",
       "    <tr>\n",
       "      <th>104</th>\n",
       "      <td>South East</td>\n",
       "      <td>2022</td>\n",
       "      <td>11884007</td>\n",
       "    </tr>\n",
       "    <tr>\n",
       "      <th>105</th>\n",
       "      <td>South West</td>\n",
       "      <td>2022</td>\n",
       "      <td>5189846</td>\n",
       "    </tr>\n",
       "    <tr>\n",
       "      <th>106</th>\n",
       "      <td>West Midlands</td>\n",
       "      <td>2022</td>\n",
       "      <td>6017026</td>\n",
       "    </tr>\n",
       "    <tr>\n",
       "      <th>107</th>\n",
       "      <td>Yorkshire and The Humber</td>\n",
       "      <td>2022</td>\n",
       "      <td>4914317</td>\n",
       "    </tr>\n",
       "  </tbody>\n",
       "</table>\n",
       "<p>108 rows × 3 columns</p>\n",
       "</div>"
      ],
      "text/plain": [
       "                       Region  Year  Population\n",
       "0                        East  2011     5862418\n",
       "1               East Midlands  2011     3843481\n",
       "2                      London  2011     8204407\n",
       "3                  North East  2011     2596441\n",
       "4                  North West  2011     6556144\n",
       "..                        ...   ...         ...\n",
       "103                North West  2022     7012739\n",
       "104                South East  2022    11884007\n",
       "105                South West  2022     5189846\n",
       "106             West Midlands  2022     6017026\n",
       "107  Yorkshire and The Humber  2022     4914317\n",
       "\n",
       "[108 rows x 3 columns]"
      ]
     },
     "execution_count": 19,
     "metadata": {},
     "output_type": "execute_result"
    }
   ],
   "source": [
    "#Unpivot the year columns\n",
    "\n",
    "Population_by_Region_and_Year = pd.melt(Population_by_Region_Pivoted, id_vars='RGN20NM')\n",
    "Population_by_Region_and_Year = Population_by_Region_and_Year.rename(columns={'RGN20NM':'Region','variable':'Year','value':'Population'})\n",
    "Population_by_Region_and_Year['Year'] = Population_by_Region_and_Year['Year'].apply(lambda x: x.split('_')[1])\n",
    "\n",
    "Population_by_Region_and_Year"
   ]
  },
  {
   "cell_type": "code",
   "execution_count": 20,
   "metadata": {},
   "outputs": [
    {
     "data": {
      "application/vnd.plotly.v1+json": {
       "config": {
        "plotlyServerURL": "https://plot.ly"
       },
       "data": [
        {
         "hovertemplate": "Region=East<br>Year=%{x}<br>Population=%{y}<extra></extra>",
         "legendgroup": "East",
         "line": {
          "color": "#636efa",
          "dash": "solid"
         },
         "marker": {
          "symbol": "circle"
         },
         "mode": "lines",
         "name": "East",
         "orientation": "v",
         "showlegend": true,
         "type": "scatter",
         "x": [
          "2011",
          "2012",
          "2013",
          "2014",
          "2015",
          "2016",
          "2017",
          "2018",
          "2019",
          "2020",
          "2021",
          "2022"
         ],
         "xaxis": "x",
         "y": [
          5862418,
          5915033,
          5970484,
          6039521,
          6098262,
          6161075,
          6202843,
          6237376,
          6274179,
          6297779,
          6349646,
          6401418
         ],
         "yaxis": "y"
        },
        {
         "hovertemplate": "Region=East Midlands<br>Year=%{x}<br>Population=%{y}<extra></extra>",
         "legendgroup": "East Midlands",
         "line": {
          "color": "#EF553B",
          "dash": "solid"
         },
         "marker": {
          "symbol": "circle"
         },
         "mode": "lines",
         "name": "East Midlands",
         "orientation": "v",
         "showlegend": true,
         "type": "scatter",
         "x": [
          "2011",
          "2012",
          "2013",
          "2014",
          "2015",
          "2016",
          "2017",
          "2018",
          "2019",
          "2020",
          "2021",
          "2022"
         ],
         "xaxis": "x",
         "y": [
          3843481,
          3867559,
          3893081,
          3920956,
          3948451,
          3984949,
          4018910,
          4045911,
          4066985,
          4076473,
          4094434,
          4142077
         ],
         "yaxis": "y"
        },
        {
         "hovertemplate": "Region=London<br>Year=%{x}<br>Population=%{y}<extra></extra>",
         "legendgroup": "London",
         "line": {
          "color": "#00cc96",
          "dash": "solid"
         },
         "marker": {
          "symbol": "circle"
         },
         "mode": "lines",
         "name": "London",
         "orientation": "v",
         "showlegend": true,
         "type": "scatter",
         "x": [
          "2011",
          "2012",
          "2013",
          "2014",
          "2015",
          "2016",
          "2017",
          "2018",
          "2019",
          "2020",
          "2021",
          "2022"
         ],
         "xaxis": "x",
         "y": [
          8204407,
          8320767,
          8438987,
          8547192,
          8659545,
          8743651,
          8776229,
          8833335,
          8889743,
          8867008,
          8804769,
          8869043
         ],
         "yaxis": "y"
        },
        {
         "hovertemplate": "Region=North East<br>Year=%{x}<br>Population=%{y}<extra></extra>",
         "legendgroup": "North East",
         "line": {
          "color": "#ab63fa",
          "dash": "solid"
         },
         "marker": {
          "symbol": "circle"
         },
         "mode": "lines",
         "name": "North East",
         "orientation": "v",
         "showlegend": true,
         "type": "scatter",
         "x": [
          "2011",
          "2012",
          "2013",
          "2014",
          "2015",
          "2016",
          "2017",
          "2018",
          "2019",
          "2020",
          "2021",
          "2022"
         ],
         "xaxis": "x",
         "y": [
          2596441,
          2598972,
          2603299,
          2610482,
          2611804,
          2618253,
          2623787,
          2629393,
          2636676,
          2637426,
          2647493,
          2682069
         ],
         "yaxis": "y"
        },
        {
         "hovertemplate": "Region=North West<br>Year=%{x}<br>Population=%{y}<extra></extra>",
         "legendgroup": "North West",
         "line": {
          "color": "#FFA15A",
          "dash": "solid"
         },
         "marker": {
          "symbol": "circle"
         },
         "mode": "lines",
         "name": "North West",
         "orientation": "v",
         "showlegend": true,
         "type": "scatter",
         "x": [
          "2011",
          "2012",
          "2013",
          "2014",
          "2015",
          "2016",
          "2017",
          "2018",
          "2019",
          "2020",
          "2021",
          "2022"
         ],
         "xaxis": "x",
         "y": [
          6556144,
          6580509,
          6607066,
          6642793,
          6683933,
          6735195,
          6777072,
          6817175,
          6864096,
          6882166,
          6923363,
          7012739
         ],
         "yaxis": "y"
        },
        {
         "hovertemplate": "Region=South East<br>Year=%{x}<br>Population=%{y}<extra></extra>",
         "legendgroup": "South East",
         "line": {
          "color": "#19d3f3",
          "dash": "solid"
         },
         "marker": {
          "symbol": "circle"
         },
         "mode": "lines",
         "name": "South East",
         "orientation": "v",
         "showlegend": true,
         "type": "scatter",
         "x": [
          "2011",
          "2012",
          "2013",
          "2014",
          "2015",
          "2016",
          "2017",
          "2018",
          "2019",
          "2020",
          "2021",
          "2022"
         ],
         "xaxis": "x",
         "y": [
          10979355,
          11073623,
          11162565,
          11261890,
          11354048,
          11459199,
          11529391,
          11588320,
          11645604,
          11679917,
          11775410,
          11884007
         ],
         "yaxis": "y"
        },
        {
         "hovertemplate": "Region=South West<br>Year=%{x}<br>Population=%{y}<extra></extra>",
         "legendgroup": "South West",
         "line": {
          "color": "#FF6692",
          "dash": "solid"
         },
         "marker": {
          "symbol": "circle"
         },
         "mode": "lines",
         "name": "South West",
         "orientation": "v",
         "showlegend": true,
         "type": "scatter",
         "x": [
          "2011",
          "2012",
          "2013",
          "2014",
          "2015",
          "2016",
          "2017",
          "2018",
          "2019",
          "2020",
          "2021",
          "2022"
         ],
         "xaxis": "x",
         "y": [
          4769250,
          4800501,
          4835318,
          4877847,
          4922695,
          4972176,
          5015771,
          5047542,
          5077805,
          5095680,
          5139722,
          5189846
         ],
         "yaxis": "y"
        },
        {
         "hovertemplate": "Region=West Midlands<br>Year=%{x}<br>Population=%{y}<extra></extra>",
         "legendgroup": "West Midlands",
         "line": {
          "color": "#B6E880",
          "dash": "solid"
         },
         "marker": {
          "symbol": "circle"
         },
         "mode": "lines",
         "name": "West Midlands",
         "orientation": "v",
         "showlegend": true,
         "type": "scatter",
         "x": [
          "2011",
          "2012",
          "2013",
          "2014",
          "2015",
          "2016",
          "2017",
          "2018",
          "2019",
          "2020",
          "2021",
          "2022"
         ],
         "xaxis": "x",
         "y": [
          5608667,
          5640325,
          5676945,
          5716882,
          5756287,
          5812248,
          5855052,
          5889328,
          5920977,
          5931924,
          5956226,
          6017026
         ],
         "yaxis": "y"
        },
        {
         "hovertemplate": "Region=Yorkshire and The Humber<br>Year=%{x}<br>Population=%{y}<extra></extra>",
         "legendgroup": "Yorkshire and The Humber",
         "line": {
          "color": "#FF97FF",
          "dash": "solid"
         },
         "marker": {
          "symbol": "circle"
         },
         "mode": "lines",
         "name": "Yorkshire and The Humber",
         "orientation": "v",
         "showlegend": true,
         "type": "scatter",
         "x": [
          "2011",
          "2012",
          "2013",
          "2014",
          "2015",
          "2016",
          "2017",
          "2018",
          "2019",
          "2020",
          "2021",
          "2022"
         ],
         "xaxis": "x",
         "y": [
          4687006,
          4709523,
          4730941,
          4752756,
          4773651,
          4802288,
          4820493,
          4836148,
          4853991,
          4857588,
          4863828,
          4914317
         ],
         "yaxis": "y"
        }
       ],
       "layout": {
        "font": {
         "size": 26
        },
        "height": 1000,
        "legend": {
         "font": {
          "size": 26
         },
         "orientation": "h",
         "title": {},
         "tracegroupgap": 0,
         "x": 0.5,
         "xanchor": "center",
         "y": 1,
         "yanchor": "bottom"
        },
        "margin": {
         "b": 10,
         "l": 10,
         "r": 10,
         "t": 170
        },
        "template": {
         "data": {
          "bar": [
           {
            "error_x": {
             "color": "#2a3f5f"
            },
            "error_y": {
             "color": "#2a3f5f"
            },
            "marker": {
             "line": {
              "color": "#E5ECF6",
              "width": 0.5
             },
             "pattern": {
              "fillmode": "overlay",
              "size": 10,
              "solidity": 0.2
             }
            },
            "type": "bar"
           }
          ],
          "barpolar": [
           {
            "marker": {
             "line": {
              "color": "#E5ECF6",
              "width": 0.5
             },
             "pattern": {
              "fillmode": "overlay",
              "size": 10,
              "solidity": 0.2
             }
            },
            "type": "barpolar"
           }
          ],
          "carpet": [
           {
            "aaxis": {
             "endlinecolor": "#2a3f5f",
             "gridcolor": "white",
             "linecolor": "white",
             "minorgridcolor": "white",
             "startlinecolor": "#2a3f5f"
            },
            "baxis": {
             "endlinecolor": "#2a3f5f",
             "gridcolor": "white",
             "linecolor": "white",
             "minorgridcolor": "white",
             "startlinecolor": "#2a3f5f"
            },
            "type": "carpet"
           }
          ],
          "choropleth": [
           {
            "colorbar": {
             "outlinewidth": 0,
             "ticks": ""
            },
            "type": "choropleth"
           }
          ],
          "contour": [
           {
            "colorbar": {
             "outlinewidth": 0,
             "ticks": ""
            },
            "colorscale": [
             [
              0,
              "#0d0887"
             ],
             [
              0.1111111111111111,
              "#46039f"
             ],
             [
              0.2222222222222222,
              "#7201a8"
             ],
             [
              0.3333333333333333,
              "#9c179e"
             ],
             [
              0.4444444444444444,
              "#bd3786"
             ],
             [
              0.5555555555555556,
              "#d8576b"
             ],
             [
              0.6666666666666666,
              "#ed7953"
             ],
             [
              0.7777777777777778,
              "#fb9f3a"
             ],
             [
              0.8888888888888888,
              "#fdca26"
             ],
             [
              1,
              "#f0f921"
             ]
            ],
            "type": "contour"
           }
          ],
          "contourcarpet": [
           {
            "colorbar": {
             "outlinewidth": 0,
             "ticks": ""
            },
            "type": "contourcarpet"
           }
          ],
          "heatmap": [
           {
            "colorbar": {
             "outlinewidth": 0,
             "ticks": ""
            },
            "colorscale": [
             [
              0,
              "#0d0887"
             ],
             [
              0.1111111111111111,
              "#46039f"
             ],
             [
              0.2222222222222222,
              "#7201a8"
             ],
             [
              0.3333333333333333,
              "#9c179e"
             ],
             [
              0.4444444444444444,
              "#bd3786"
             ],
             [
              0.5555555555555556,
              "#d8576b"
             ],
             [
              0.6666666666666666,
              "#ed7953"
             ],
             [
              0.7777777777777778,
              "#fb9f3a"
             ],
             [
              0.8888888888888888,
              "#fdca26"
             ],
             [
              1,
              "#f0f921"
             ]
            ],
            "type": "heatmap"
           }
          ],
          "heatmapgl": [
           {
            "colorbar": {
             "outlinewidth": 0,
             "ticks": ""
            },
            "colorscale": [
             [
              0,
              "#0d0887"
             ],
             [
              0.1111111111111111,
              "#46039f"
             ],
             [
              0.2222222222222222,
              "#7201a8"
             ],
             [
              0.3333333333333333,
              "#9c179e"
             ],
             [
              0.4444444444444444,
              "#bd3786"
             ],
             [
              0.5555555555555556,
              "#d8576b"
             ],
             [
              0.6666666666666666,
              "#ed7953"
             ],
             [
              0.7777777777777778,
              "#fb9f3a"
             ],
             [
              0.8888888888888888,
              "#fdca26"
             ],
             [
              1,
              "#f0f921"
             ]
            ],
            "type": "heatmapgl"
           }
          ],
          "histogram": [
           {
            "marker": {
             "pattern": {
              "fillmode": "overlay",
              "size": 10,
              "solidity": 0.2
             }
            },
            "type": "histogram"
           }
          ],
          "histogram2d": [
           {
            "colorbar": {
             "outlinewidth": 0,
             "ticks": ""
            },
            "colorscale": [
             [
              0,
              "#0d0887"
             ],
             [
              0.1111111111111111,
              "#46039f"
             ],
             [
              0.2222222222222222,
              "#7201a8"
             ],
             [
              0.3333333333333333,
              "#9c179e"
             ],
             [
              0.4444444444444444,
              "#bd3786"
             ],
             [
              0.5555555555555556,
              "#d8576b"
             ],
             [
              0.6666666666666666,
              "#ed7953"
             ],
             [
              0.7777777777777778,
              "#fb9f3a"
             ],
             [
              0.8888888888888888,
              "#fdca26"
             ],
             [
              1,
              "#f0f921"
             ]
            ],
            "type": "histogram2d"
           }
          ],
          "histogram2dcontour": [
           {
            "colorbar": {
             "outlinewidth": 0,
             "ticks": ""
            },
            "colorscale": [
             [
              0,
              "#0d0887"
             ],
             [
              0.1111111111111111,
              "#46039f"
             ],
             [
              0.2222222222222222,
              "#7201a8"
             ],
             [
              0.3333333333333333,
              "#9c179e"
             ],
             [
              0.4444444444444444,
              "#bd3786"
             ],
             [
              0.5555555555555556,
              "#d8576b"
             ],
             [
              0.6666666666666666,
              "#ed7953"
             ],
             [
              0.7777777777777778,
              "#fb9f3a"
             ],
             [
              0.8888888888888888,
              "#fdca26"
             ],
             [
              1,
              "#f0f921"
             ]
            ],
            "type": "histogram2dcontour"
           }
          ],
          "mesh3d": [
           {
            "colorbar": {
             "outlinewidth": 0,
             "ticks": ""
            },
            "type": "mesh3d"
           }
          ],
          "parcoords": [
           {
            "line": {
             "colorbar": {
              "outlinewidth": 0,
              "ticks": ""
             }
            },
            "type": "parcoords"
           }
          ],
          "pie": [
           {
            "automargin": true,
            "type": "pie"
           }
          ],
          "scatter": [
           {
            "fillpattern": {
             "fillmode": "overlay",
             "size": 10,
             "solidity": 0.2
            },
            "type": "scatter"
           }
          ],
          "scatter3d": [
           {
            "line": {
             "colorbar": {
              "outlinewidth": 0,
              "ticks": ""
             }
            },
            "marker": {
             "colorbar": {
              "outlinewidth": 0,
              "ticks": ""
             }
            },
            "type": "scatter3d"
           }
          ],
          "scattercarpet": [
           {
            "marker": {
             "colorbar": {
              "outlinewidth": 0,
              "ticks": ""
             }
            },
            "type": "scattercarpet"
           }
          ],
          "scattergeo": [
           {
            "marker": {
             "colorbar": {
              "outlinewidth": 0,
              "ticks": ""
             }
            },
            "type": "scattergeo"
           }
          ],
          "scattergl": [
           {
            "marker": {
             "colorbar": {
              "outlinewidth": 0,
              "ticks": ""
             }
            },
            "type": "scattergl"
           }
          ],
          "scattermapbox": [
           {
            "marker": {
             "colorbar": {
              "outlinewidth": 0,
              "ticks": ""
             }
            },
            "type": "scattermapbox"
           }
          ],
          "scatterpolar": [
           {
            "marker": {
             "colorbar": {
              "outlinewidth": 0,
              "ticks": ""
             }
            },
            "type": "scatterpolar"
           }
          ],
          "scatterpolargl": [
           {
            "marker": {
             "colorbar": {
              "outlinewidth": 0,
              "ticks": ""
             }
            },
            "type": "scatterpolargl"
           }
          ],
          "scatterternary": [
           {
            "marker": {
             "colorbar": {
              "outlinewidth": 0,
              "ticks": ""
             }
            },
            "type": "scatterternary"
           }
          ],
          "surface": [
           {
            "colorbar": {
             "outlinewidth": 0,
             "ticks": ""
            },
            "colorscale": [
             [
              0,
              "#0d0887"
             ],
             [
              0.1111111111111111,
              "#46039f"
             ],
             [
              0.2222222222222222,
              "#7201a8"
             ],
             [
              0.3333333333333333,
              "#9c179e"
             ],
             [
              0.4444444444444444,
              "#bd3786"
             ],
             [
              0.5555555555555556,
              "#d8576b"
             ],
             [
              0.6666666666666666,
              "#ed7953"
             ],
             [
              0.7777777777777778,
              "#fb9f3a"
             ],
             [
              0.8888888888888888,
              "#fdca26"
             ],
             [
              1,
              "#f0f921"
             ]
            ],
            "type": "surface"
           }
          ],
          "table": [
           {
            "cells": {
             "fill": {
              "color": "#EBF0F8"
             },
             "line": {
              "color": "white"
             }
            },
            "header": {
             "fill": {
              "color": "#C8D4E3"
             },
             "line": {
              "color": "white"
             }
            },
            "type": "table"
           }
          ]
         },
         "layout": {
          "annotationdefaults": {
           "arrowcolor": "#2a3f5f",
           "arrowhead": 0,
           "arrowwidth": 1
          },
          "autotypenumbers": "strict",
          "coloraxis": {
           "colorbar": {
            "outlinewidth": 0,
            "ticks": ""
           }
          },
          "colorscale": {
           "diverging": [
            [
             0,
             "#8e0152"
            ],
            [
             0.1,
             "#c51b7d"
            ],
            [
             0.2,
             "#de77ae"
            ],
            [
             0.3,
             "#f1b6da"
            ],
            [
             0.4,
             "#fde0ef"
            ],
            [
             0.5,
             "#f7f7f7"
            ],
            [
             0.6,
             "#e6f5d0"
            ],
            [
             0.7,
             "#b8e186"
            ],
            [
             0.8,
             "#7fbc41"
            ],
            [
             0.9,
             "#4d9221"
            ],
            [
             1,
             "#276419"
            ]
           ],
           "sequential": [
            [
             0,
             "#0d0887"
            ],
            [
             0.1111111111111111,
             "#46039f"
            ],
            [
             0.2222222222222222,
             "#7201a8"
            ],
            [
             0.3333333333333333,
             "#9c179e"
            ],
            [
             0.4444444444444444,
             "#bd3786"
            ],
            [
             0.5555555555555556,
             "#d8576b"
            ],
            [
             0.6666666666666666,
             "#ed7953"
            ],
            [
             0.7777777777777778,
             "#fb9f3a"
            ],
            [
             0.8888888888888888,
             "#fdca26"
            ],
            [
             1,
             "#f0f921"
            ]
           ],
           "sequentialminus": [
            [
             0,
             "#0d0887"
            ],
            [
             0.1111111111111111,
             "#46039f"
            ],
            [
             0.2222222222222222,
             "#7201a8"
            ],
            [
             0.3333333333333333,
             "#9c179e"
            ],
            [
             0.4444444444444444,
             "#bd3786"
            ],
            [
             0.5555555555555556,
             "#d8576b"
            ],
            [
             0.6666666666666666,
             "#ed7953"
            ],
            [
             0.7777777777777778,
             "#fb9f3a"
            ],
            [
             0.8888888888888888,
             "#fdca26"
            ],
            [
             1,
             "#f0f921"
            ]
           ]
          },
          "colorway": [
           "#636efa",
           "#EF553B",
           "#00cc96",
           "#ab63fa",
           "#FFA15A",
           "#19d3f3",
           "#FF6692",
           "#B6E880",
           "#FF97FF",
           "#FECB52"
          ],
          "font": {
           "color": "#2a3f5f"
          },
          "geo": {
           "bgcolor": "white",
           "lakecolor": "white",
           "landcolor": "#E5ECF6",
           "showlakes": true,
           "showland": true,
           "subunitcolor": "white"
          },
          "hoverlabel": {
           "align": "left"
          },
          "hovermode": "closest",
          "mapbox": {
           "style": "light"
          },
          "paper_bgcolor": "white",
          "plot_bgcolor": "#E5ECF6",
          "polar": {
           "angularaxis": {
            "gridcolor": "white",
            "linecolor": "white",
            "ticks": ""
           },
           "bgcolor": "#E5ECF6",
           "radialaxis": {
            "gridcolor": "white",
            "linecolor": "white",
            "ticks": ""
           }
          },
          "scene": {
           "xaxis": {
            "backgroundcolor": "#E5ECF6",
            "gridcolor": "white",
            "gridwidth": 2,
            "linecolor": "white",
            "showbackground": true,
            "ticks": "",
            "zerolinecolor": "white"
           },
           "yaxis": {
            "backgroundcolor": "#E5ECF6",
            "gridcolor": "white",
            "gridwidth": 2,
            "linecolor": "white",
            "showbackground": true,
            "ticks": "",
            "zerolinecolor": "white"
           },
           "zaxis": {
            "backgroundcolor": "#E5ECF6",
            "gridcolor": "white",
            "gridwidth": 2,
            "linecolor": "white",
            "showbackground": true,
            "ticks": "",
            "zerolinecolor": "white"
           }
          },
          "shapedefaults": {
           "line": {
            "color": "#2a3f5f"
           }
          },
          "ternary": {
           "aaxis": {
            "gridcolor": "white",
            "linecolor": "white",
            "ticks": ""
           },
           "baxis": {
            "gridcolor": "white",
            "linecolor": "white",
            "ticks": ""
           },
           "bgcolor": "#E5ECF6",
           "caxis": {
            "gridcolor": "white",
            "linecolor": "white",
            "ticks": ""
           }
          },
          "title": {
           "x": 0.05
          },
          "xaxis": {
           "automargin": true,
           "gridcolor": "white",
           "linecolor": "white",
           "ticks": "",
           "title": {
            "standoff": 15
           },
           "zerolinecolor": "white",
           "zerolinewidth": 2
          },
          "yaxis": {
           "automargin": true,
           "gridcolor": "white",
           "linecolor": "white",
           "ticks": "",
           "title": {
            "standoff": 15
           },
           "zerolinecolor": "white",
           "zerolinewidth": 2
          }
         }
        },
        "title": {
         "text": "Population by Region and Year",
         "x": 0.5,
         "y": 0.95
        },
        "xaxis": {
         "anchor": "y",
         "domain": [
          0,
          1
         ],
         "title": {
          "text": "Year"
         }
        },
        "yaxis": {
         "anchor": "x",
         "domain": [
          0,
          1
         ],
         "title": {
          "text": "Population"
         }
        }
       }
      }
     },
     "metadata": {},
     "output_type": "display_data"
    }
   ],
   "source": [
    "Population_by_Region_and_Year_Line = px.line(Population_by_Region_and_Year, x= 'Year', y='Population', color='Region')\n",
    "\n",
    "Population_by_Region_and_Year_Line\n",
    "Population_by_Region_and_Year_Line.update_layout(\n",
    "        margin={\"r\": 10, \"t\": 170, \"l\": 10, \"b\": 10},\n",
    "    title=\"Population by Region and Year\",\n",
    "    xaxis_title=\"Year\",\n",
    "    yaxis_title=\"Population\",\n",
    "    title_x=0.5,\n",
    "    title_y=0.95, \n",
    "    legend=dict(\n",
    "        orientation=\"h\", \n",
    "        yanchor=\"bottom\", \n",
    "        y=1, \n",
    "        xanchor=\"center\",  \n",
    "        x=0.5,\n",
    "        title = None\n",
    "    ,font=dict(\n",
    "        size=26 \n",
    "    )),\n",
    "    height = 1000,\n",
    "    font=dict(\n",
    "        size=26 \n",
    "    ))\n",
    "    \n",
    "Population_by_Region_and_Year_Line\n"
   ]
  },
  {
   "cell_type": "code",
   "execution_count": 21,
   "metadata": {},
   "outputs": [
    {
     "data": {
      "text/html": [
       "<div>\n",
       "<style scoped>\n",
       "    .dataframe tbody tr th:only-of-type {\n",
       "        vertical-align: middle;\n",
       "    }\n",
       "\n",
       "    .dataframe tbody tr th {\n",
       "        vertical-align: top;\n",
       "    }\n",
       "\n",
       "    .dataframe thead tr th {\n",
       "        text-align: left;\n",
       "    }\n",
       "\n",
       "    .dataframe thead tr:last-of-type th {\n",
       "        text-align: right;\n",
       "    }\n",
       "</style>\n",
       "<table border=\"1\" class=\"dataframe\">\n",
       "  <thead>\n",
       "    <tr>\n",
       "      <th></th>\n",
       "      <th></th>\n",
       "      <th colspan=\"9\" halign=\"left\">Population</th>\n",
       "      <th>Year</th>\n",
       "    </tr>\n",
       "    <tr>\n",
       "      <th></th>\n",
       "      <th>Region</th>\n",
       "      <th>East</th>\n",
       "      <th>East Midlands</th>\n",
       "      <th>London</th>\n",
       "      <th>North East</th>\n",
       "      <th>North West</th>\n",
       "      <th>South East</th>\n",
       "      <th>South West</th>\n",
       "      <th>West Midlands</th>\n",
       "      <th>Yorkshire and The Humber</th>\n",
       "      <th></th>\n",
       "    </tr>\n",
       "    <tr>\n",
       "      <th></th>\n",
       "      <th>Region</th>\n",
       "      <th></th>\n",
       "      <th></th>\n",
       "      <th></th>\n",
       "      <th></th>\n",
       "      <th></th>\n",
       "      <th></th>\n",
       "      <th></th>\n",
       "      <th></th>\n",
       "      <th></th>\n",
       "      <th></th>\n",
       "    </tr>\n",
       "  </thead>\n",
       "  <tbody>\n",
       "    <tr>\n",
       "      <th rowspan=\"9\" valign=\"top\">Population</th>\n",
       "      <th>East</th>\n",
       "      <td>1.000000</td>\n",
       "      <td>0.995639</td>\n",
       "      <td>0.952173</td>\n",
       "      <td>0.920096</td>\n",
       "      <td>0.984919</td>\n",
       "      <td>0.999387</td>\n",
       "      <td>0.997129</td>\n",
       "      <td>0.996699</td>\n",
       "      <td>0.994990</td>\n",
       "      <td>0.992994</td>\n",
       "    </tr>\n",
       "    <tr>\n",
       "      <th>East Midlands</th>\n",
       "      <td>0.995639</td>\n",
       "      <td>1.000000</td>\n",
       "      <td>0.936214</td>\n",
       "      <td>0.937375</td>\n",
       "      <td>0.994076</td>\n",
       "      <td>0.996868</td>\n",
       "      <td>0.998976</td>\n",
       "      <td>0.999739</td>\n",
       "      <td>0.997280</td>\n",
       "      <td>0.995321</td>\n",
       "    </tr>\n",
       "    <tr>\n",
       "      <th>London</th>\n",
       "      <td>0.952173</td>\n",
       "      <td>0.936214</td>\n",
       "      <td>1.000000</td>\n",
       "      <td>0.786523</td>\n",
       "      <td>0.895828</td>\n",
       "      <td>0.943988</td>\n",
       "      <td>0.931793</td>\n",
       "      <td>0.942203</td>\n",
       "      <td>0.945407</td>\n",
       "      <td>0.917723</td>\n",
       "    </tr>\n",
       "    <tr>\n",
       "      <th>North East</th>\n",
       "      <td>0.920096</td>\n",
       "      <td>0.937375</td>\n",
       "      <td>0.786523</td>\n",
       "      <td>1.000000</td>\n",
       "      <td>0.963696</td>\n",
       "      <td>0.931897</td>\n",
       "      <td>0.937396</td>\n",
       "      <td>0.931297</td>\n",
       "      <td>0.940663</td>\n",
       "      <td>0.939365</td>\n",
       "    </tr>\n",
       "    <tr>\n",
       "      <th>North West</th>\n",
       "      <td>0.984919</td>\n",
       "      <td>0.994076</td>\n",
       "      <td>0.895828</td>\n",
       "      <td>0.963696</td>\n",
       "      <td>1.000000</td>\n",
       "      <td>0.988930</td>\n",
       "      <td>0.994409</td>\n",
       "      <td>0.992083</td>\n",
       "      <td>0.989665</td>\n",
       "      <td>0.994604</td>\n",
       "    </tr>\n",
       "    <tr>\n",
       "      <th>South East</th>\n",
       "      <td>0.999387</td>\n",
       "      <td>0.996868</td>\n",
       "      <td>0.943988</td>\n",
       "      <td>0.931897</td>\n",
       "      <td>0.988930</td>\n",
       "      <td>1.000000</td>\n",
       "      <td>0.998226</td>\n",
       "      <td>0.997300</td>\n",
       "      <td>0.996488</td>\n",
       "      <td>0.994499</td>\n",
       "    </tr>\n",
       "    <tr>\n",
       "      <th>South West</th>\n",
       "      <td>0.997129</td>\n",
       "      <td>0.998976</td>\n",
       "      <td>0.931793</td>\n",
       "      <td>0.937396</td>\n",
       "      <td>0.994409</td>\n",
       "      <td>0.998226</td>\n",
       "      <td>1.000000</td>\n",
       "      <td>0.998837</td>\n",
       "      <td>0.995347</td>\n",
       "      <td>0.997157</td>\n",
       "    </tr>\n",
       "    <tr>\n",
       "      <th>West Midlands</th>\n",
       "      <td>0.996699</td>\n",
       "      <td>0.999739</td>\n",
       "      <td>0.942203</td>\n",
       "      <td>0.931297</td>\n",
       "      <td>0.992083</td>\n",
       "      <td>0.997300</td>\n",
       "      <td>0.998837</td>\n",
       "      <td>1.000000</td>\n",
       "      <td>0.997378</td>\n",
       "      <td>0.994335</td>\n",
       "    </tr>\n",
       "    <tr>\n",
       "      <th>Yorkshire and The Humber</th>\n",
       "      <td>0.994990</td>\n",
       "      <td>0.997280</td>\n",
       "      <td>0.945407</td>\n",
       "      <td>0.940663</td>\n",
       "      <td>0.989665</td>\n",
       "      <td>0.996488</td>\n",
       "      <td>0.995347</td>\n",
       "      <td>0.997378</td>\n",
       "      <td>1.000000</td>\n",
       "      <td>0.989635</td>\n",
       "    </tr>\n",
       "    <tr>\n",
       "      <th>Year</th>\n",
       "      <th></th>\n",
       "      <td>0.992994</td>\n",
       "      <td>0.995321</td>\n",
       "      <td>0.917723</td>\n",
       "      <td>0.939365</td>\n",
       "      <td>0.994604</td>\n",
       "      <td>0.994499</td>\n",
       "      <td>0.997157</td>\n",
       "      <td>0.994335</td>\n",
       "      <td>0.989635</td>\n",
       "      <td>1.000000</td>\n",
       "    </tr>\n",
       "  </tbody>\n",
       "</table>\n",
       "</div>"
      ],
      "text/plain": [
       "                                    Population                          \\\n",
       "Region                                    East East Midlands    London   \n",
       "           Region                                                        \n",
       "Population East                       1.000000      0.995639  0.952173   \n",
       "           East Midlands              0.995639      1.000000  0.936214   \n",
       "           London                     0.952173      0.936214  1.000000   \n",
       "           North East                 0.920096      0.937375  0.786523   \n",
       "           North West                 0.984919      0.994076  0.895828   \n",
       "           South East                 0.999387      0.996868  0.943988   \n",
       "           South West                 0.997129      0.998976  0.931793   \n",
       "           West Midlands              0.996699      0.999739  0.942203   \n",
       "           Yorkshire and The Humber   0.994990      0.997280  0.945407   \n",
       "Year                                  0.992994      0.995321  0.917723   \n",
       "\n",
       "                                                                      \\\n",
       "Region                              North East North West South East   \n",
       "           Region                                                      \n",
       "Population East                       0.920096   0.984919   0.999387   \n",
       "           East Midlands              0.937375   0.994076   0.996868   \n",
       "           London                     0.786523   0.895828   0.943988   \n",
       "           North East                 1.000000   0.963696   0.931897   \n",
       "           North West                 0.963696   1.000000   0.988930   \n",
       "           South East                 0.931897   0.988930   1.000000   \n",
       "           South West                 0.937396   0.994409   0.998226   \n",
       "           West Midlands              0.931297   0.992083   0.997300   \n",
       "           Yorkshire and The Humber   0.940663   0.989665   0.996488   \n",
       "Year                                  0.939365   0.994604   0.994499   \n",
       "\n",
       "                                                              \\\n",
       "Region                              South West West Midlands   \n",
       "           Region                                              \n",
       "Population East                       0.997129      0.996699   \n",
       "           East Midlands              0.998976      0.999739   \n",
       "           London                     0.931793      0.942203   \n",
       "           North East                 0.937396      0.931297   \n",
       "           North West                 0.994409      0.992083   \n",
       "           South East                 0.998226      0.997300   \n",
       "           South West                 1.000000      0.998837   \n",
       "           West Midlands              0.998837      1.000000   \n",
       "           Yorkshire and The Humber   0.995347      0.997378   \n",
       "Year                                  0.997157      0.994335   \n",
       "\n",
       "                                                                  Year  \n",
       "Region                              Yorkshire and The Humber            \n",
       "           Region                                                       \n",
       "Population East                                     0.994990  0.992994  \n",
       "           East Midlands                            0.997280  0.995321  \n",
       "           London                                   0.945407  0.917723  \n",
       "           North East                               0.940663  0.939365  \n",
       "           North West                               0.989665  0.994604  \n",
       "           South East                               0.996488  0.994499  \n",
       "           South West                               0.995347  0.997157  \n",
       "           West Midlands                            0.997378  0.994335  \n",
       "           Yorkshire and The Humber                 1.000000  0.989635  \n",
       "Year                                                0.989635  1.000000  "
      ]
     },
     "execution_count": 21,
     "metadata": {},
     "output_type": "execute_result"
    }
   ],
   "source": [
    "Population_by_Region_and_Year_Pivot = Population_by_Region_and_Year.pivot(index = 'Year', columns= 'Region')\n",
    "Population_by_Region_and_Year_Pivot['Year'] = Population_by_Region_and_Year_Pivot.index\n",
    "Population_by_Region_and_Year_Pivot.corr()\n",
    "\n",
    "#High corrolation with Year so exterapolation is viable"
   ]
  },
  {
   "cell_type": "code",
   "execution_count": 22,
   "metadata": {},
   "outputs": [],
   "source": [
    "def extrapolate_population_for_region_v1(region):\n",
    "    #Filtering to handle each region seperately\n",
    "    Population_by_Region_and_Year_for_Extrapoloation = Population_by_Region_and_Year[Population_by_Region_and_Year['Region']==region]\n",
    "\n",
    "    X = Population_by_Region_and_Year_for_Extrapoloation['Year'].values.reshape(-1,1)\n",
    "    y = Population_by_Region_and_Year_for_Extrapoloation['Population']\n",
    "\n",
    "    #Fitting the linear regession model\n",
    "    Population_by_Region_and_Year_Model = LinearRegression()\n",
    "    Population_by_Region_and_Year_Model.fit(X,y)\n",
    "    \n",
    "    #Extrapolating for the years where data is missing\n",
    "    years_to_extrapolate = np.array([2005, 2006, 2007, 2008, 2009, 2010]).reshape(-1, 1)\n",
    "\n",
    "    population_predictions = Population_by_Region_and_Year_Model.predict(years_to_extrapolate)\n",
    "    population_predictions = population_predictions.astype(int)\n",
    "    \n",
    "    #Bring the predictions into a dataframe\n",
    "    Predictions_df = pd.DataFrame({'Year':years_to_extrapolate.flatten(),'Population':Population_by_Region_and_Year_Model.predict(years_to_extrapolate),'Region':region,'Data_Type': 'Extrapolated'})\n",
    "    \n",
    "    return Predictions_df"
   ]
  },
  {
   "cell_type": "code",
   "execution_count": 23,
   "metadata": {},
   "outputs": [],
   "source": [
    "Population_by_Region_and_Year['Data_Type'] = \"Origional\""
   ]
  },
  {
   "cell_type": "code",
   "execution_count": 24,
   "metadata": {},
   "outputs": [],
   "source": [
    "#Create a list of regions for which to loop the extrapolate function\n",
    "Regions = list(Population_by_Region_and_Year['Region'].unique())\n",
    "\n",
    "#Concatating all the extrapolated values into one dataframe\n",
    "Population_by_Region_and_Year_Extrapolated = pd.concat((extrapolate_population_for_region_v1(region) for region in Regions), ignore_index=True)\n",
    "\n",
    "#Combining the origional data with the extrapolated data\n",
    "Population_by_Region_and_Year_Combined = pd.concat([Population_by_Region_and_Year,Population_by_Region_and_Year_Extrapolated], ignore_index=True)\n"
   ]
  },
  {
   "cell_type": "code",
   "execution_count": 25,
   "metadata": {},
   "outputs": [],
   "source": [
    "# Change the datatype of the Year column to be integer (required step to fix later graph)\n",
    "Population_by_Region_and_Year_Combined['Year'] = Population_by_Region_and_Year_Combined['Year'].astype(int)\n",
    "\n",
    "Population_by_Region_and_Year_Combined = Population_by_Region_and_Year_Combined.sort_values(by='Year')"
   ]
  },
  {
   "cell_type": "code",
   "execution_count": 26,
   "metadata": {},
   "outputs": [
    {
     "data": {
      "text/html": [
       "<div>\n",
       "<style scoped>\n",
       "    .dataframe tbody tr th:only-of-type {\n",
       "        vertical-align: middle;\n",
       "    }\n",
       "\n",
       "    .dataframe tbody tr th {\n",
       "        vertical-align: top;\n",
       "    }\n",
       "\n",
       "    .dataframe thead th {\n",
       "        text-align: right;\n",
       "    }\n",
       "</style>\n",
       "<table border=\"1\" class=\"dataframe\">\n",
       "  <thead>\n",
       "    <tr style=\"text-align: right;\">\n",
       "      <th></th>\n",
       "      <th>Region</th>\n",
       "      <th>Year</th>\n",
       "      <th>Population</th>\n",
       "      <th>Data_Type</th>\n",
       "    </tr>\n",
       "  </thead>\n",
       "  <tbody>\n",
       "    <tr>\n",
       "      <th>156</th>\n",
       "      <td>Yorkshire and The Humber</td>\n",
       "      <td>2005</td>\n",
       "      <td>4.579557e+06</td>\n",
       "      <td>Extrapolated</td>\n",
       "    </tr>\n",
       "    <tr>\n",
       "      <th>157</th>\n",
       "      <td>Yorkshire and The Humber</td>\n",
       "      <td>2006</td>\n",
       "      <td>4.598744e+06</td>\n",
       "      <td>Extrapolated</td>\n",
       "    </tr>\n",
       "    <tr>\n",
       "      <th>158</th>\n",
       "      <td>Yorkshire and The Humber</td>\n",
       "      <td>2007</td>\n",
       "      <td>4.617932e+06</td>\n",
       "      <td>Extrapolated</td>\n",
       "    </tr>\n",
       "    <tr>\n",
       "      <th>159</th>\n",
       "      <td>Yorkshire and The Humber</td>\n",
       "      <td>2008</td>\n",
       "      <td>4.637119e+06</td>\n",
       "      <td>Extrapolated</td>\n",
       "    </tr>\n",
       "    <tr>\n",
       "      <th>160</th>\n",
       "      <td>Yorkshire and The Humber</td>\n",
       "      <td>2009</td>\n",
       "      <td>4.656306e+06</td>\n",
       "      <td>Extrapolated</td>\n",
       "    </tr>\n",
       "    <tr>\n",
       "      <th>161</th>\n",
       "      <td>Yorkshire and The Humber</td>\n",
       "      <td>2010</td>\n",
       "      <td>4.675493e+06</td>\n",
       "      <td>Extrapolated</td>\n",
       "    </tr>\n",
       "    <tr>\n",
       "      <th>8</th>\n",
       "      <td>Yorkshire and The Humber</td>\n",
       "      <td>2011</td>\n",
       "      <td>4.687006e+06</td>\n",
       "      <td>Origional</td>\n",
       "    </tr>\n",
       "    <tr>\n",
       "      <th>17</th>\n",
       "      <td>Yorkshire and The Humber</td>\n",
       "      <td>2012</td>\n",
       "      <td>4.709523e+06</td>\n",
       "      <td>Origional</td>\n",
       "    </tr>\n",
       "    <tr>\n",
       "      <th>26</th>\n",
       "      <td>Yorkshire and The Humber</td>\n",
       "      <td>2013</td>\n",
       "      <td>4.730941e+06</td>\n",
       "      <td>Origional</td>\n",
       "    </tr>\n",
       "    <tr>\n",
       "      <th>35</th>\n",
       "      <td>Yorkshire and The Humber</td>\n",
       "      <td>2014</td>\n",
       "      <td>4.752756e+06</td>\n",
       "      <td>Origional</td>\n",
       "    </tr>\n",
       "    <tr>\n",
       "      <th>44</th>\n",
       "      <td>Yorkshire and The Humber</td>\n",
       "      <td>2015</td>\n",
       "      <td>4.773651e+06</td>\n",
       "      <td>Origional</td>\n",
       "    </tr>\n",
       "    <tr>\n",
       "      <th>53</th>\n",
       "      <td>Yorkshire and The Humber</td>\n",
       "      <td>2016</td>\n",
       "      <td>4.802288e+06</td>\n",
       "      <td>Origional</td>\n",
       "    </tr>\n",
       "    <tr>\n",
       "      <th>62</th>\n",
       "      <td>Yorkshire and The Humber</td>\n",
       "      <td>2017</td>\n",
       "      <td>4.820493e+06</td>\n",
       "      <td>Origional</td>\n",
       "    </tr>\n",
       "    <tr>\n",
       "      <th>71</th>\n",
       "      <td>Yorkshire and The Humber</td>\n",
       "      <td>2018</td>\n",
       "      <td>4.836148e+06</td>\n",
       "      <td>Origional</td>\n",
       "    </tr>\n",
       "    <tr>\n",
       "      <th>80</th>\n",
       "      <td>Yorkshire and The Humber</td>\n",
       "      <td>2019</td>\n",
       "      <td>4.853991e+06</td>\n",
       "      <td>Origional</td>\n",
       "    </tr>\n",
       "    <tr>\n",
       "      <th>89</th>\n",
       "      <td>Yorkshire and The Humber</td>\n",
       "      <td>2020</td>\n",
       "      <td>4.857588e+06</td>\n",
       "      <td>Origional</td>\n",
       "    </tr>\n",
       "    <tr>\n",
       "      <th>98</th>\n",
       "      <td>Yorkshire and The Humber</td>\n",
       "      <td>2021</td>\n",
       "      <td>4.863828e+06</td>\n",
       "      <td>Origional</td>\n",
       "    </tr>\n",
       "    <tr>\n",
       "      <th>107</th>\n",
       "      <td>Yorkshire and The Humber</td>\n",
       "      <td>2022</td>\n",
       "      <td>4.914317e+06</td>\n",
       "      <td>Origional</td>\n",
       "    </tr>\n",
       "  </tbody>\n",
       "</table>\n",
       "</div>"
      ],
      "text/plain": [
       "                       Region  Year    Population     Data_Type\n",
       "156  Yorkshire and The Humber  2005  4.579557e+06  Extrapolated\n",
       "157  Yorkshire and The Humber  2006  4.598744e+06  Extrapolated\n",
       "158  Yorkshire and The Humber  2007  4.617932e+06  Extrapolated\n",
       "159  Yorkshire and The Humber  2008  4.637119e+06  Extrapolated\n",
       "160  Yorkshire and The Humber  2009  4.656306e+06  Extrapolated\n",
       "161  Yorkshire and The Humber  2010  4.675493e+06  Extrapolated\n",
       "8    Yorkshire and The Humber  2011  4.687006e+06     Origional\n",
       "17   Yorkshire and The Humber  2012  4.709523e+06     Origional\n",
       "26   Yorkshire and The Humber  2013  4.730941e+06     Origional\n",
       "35   Yorkshire and The Humber  2014  4.752756e+06     Origional\n",
       "44   Yorkshire and The Humber  2015  4.773651e+06     Origional\n",
       "53   Yorkshire and The Humber  2016  4.802288e+06     Origional\n",
       "62   Yorkshire and The Humber  2017  4.820493e+06     Origional\n",
       "71   Yorkshire and The Humber  2018  4.836148e+06     Origional\n",
       "80   Yorkshire and The Humber  2019  4.853991e+06     Origional\n",
       "89   Yorkshire and The Humber  2020  4.857588e+06     Origional\n",
       "98   Yorkshire and The Humber  2021  4.863828e+06     Origional\n",
       "107  Yorkshire and The Humber  2022  4.914317e+06     Origional"
      ]
     },
     "execution_count": 26,
     "metadata": {},
     "output_type": "execute_result"
    }
   ],
   "source": [
    "Population_by_Region_and_Year_Combined[Population_by_Region_and_Year_Combined['Region'] ==\"Yorkshire and The Humber\"]"
   ]
  },
  {
   "cell_type": "code",
   "execution_count": 27,
   "metadata": {},
   "outputs": [
    {
     "data": {
      "application/vnd.plotly.v1+json": {
       "config": {
        "plotlyServerURL": "https://plot.ly"
       },
       "data": [
        {
         "hovertemplate": "Region=East<br>Year=%{x}<br>Population=%{y}<extra></extra>",
         "legendgroup": "East",
         "line": {
          "color": "#636efa",
          "dash": "solid"
         },
         "marker": {
          "symbol": "circle"
         },
         "mode": "lines",
         "name": "East",
         "orientation": "v",
         "showlegend": true,
         "type": "scatter",
         "x": [
          2005,
          2006,
          2007,
          2008,
          2009,
          2010,
          2011,
          2012,
          2013,
          2014,
          2015,
          2016,
          2017,
          2018,
          2019,
          2020,
          2021,
          2022
         ],
         "xaxis": "x",
         "y": [
          5597389.33799535,
          5645515.1491841525,
          5693640.9603729695,
          5741766.7715617865,
          5789892.582750589,
          5838018.393939406,
          5862418,
          5915033,
          5970484,
          6039521,
          6098262,
          6161075,
          6202843,
          6237376,
          6274179,
          6297779,
          6349646,
          6401418
         ],
         "yaxis": "y"
        },
        {
         "hovertemplate": "Region=North East<br>Year=%{x}<br>Population=%{y}<extra></extra>",
         "legendgroup": "North East",
         "line": {
          "color": "#EF553B",
          "dash": "solid"
         },
         "marker": {
          "symbol": "circle"
         },
         "mode": "lines",
         "name": "North East",
         "orientation": "v",
         "showlegend": true,
         "type": "scatter",
         "x": [
          2005,
          2006,
          2007,
          2008,
          2009,
          2010,
          2011,
          2012,
          2013,
          2014,
          2015,
          2016,
          2017,
          2018,
          2019,
          2020,
          2021,
          2022
         ],
         "xaxis": "x",
         "y": [
          2552025.263403263,
          2558342.595571095,
          2564659.9277389273,
          2570977.2599067595,
          2577294.5920745917,
          2583611.924242424,
          2596441,
          2598972,
          2603299,
          2610482,
          2611804,
          2618253,
          2623787,
          2629393,
          2636676,
          2637426,
          2647493,
          2682069
         ],
         "yaxis": "y"
        },
        {
         "hovertemplate": "Region=London<br>Year=%{x}<br>Population=%{y}<extra></extra>",
         "legendgroup": "London",
         "line": {
          "color": "#00cc96",
          "dash": "solid"
         },
         "marker": {
          "symbol": "circle"
         },
         "mode": "lines",
         "name": "London",
         "orientation": "v",
         "showlegend": true,
         "type": "scatter",
         "x": [
          2005,
          2006,
          2007,
          2008,
          2009,
          2010,
          2011,
          2012,
          2013,
          2014,
          2015,
          2016,
          2017,
          2018,
          2019,
          2020,
          2021,
          2022
         ],
         "xaxis": "x",
         "y": [
          7982143.386946395,
          8041338.715617716,
          8100534.0442890525,
          8159729.372960374,
          8218924.70163171,
          8278120.030303031,
          8204407,
          8320767,
          8438987,
          8547192,
          8659545,
          8743651,
          8776229,
          8833335,
          8889743,
          8867008,
          8804769,
          8869043
         ],
         "yaxis": "y"
        },
        {
         "hovertemplate": "Region=East Midlands<br>Year=%{x}<br>Population=%{y}<extra></extra>",
         "legendgroup": "East Midlands",
         "line": {
          "color": "#ab63fa",
          "dash": "solid"
         },
         "marker": {
          "symbol": "circle"
         },
         "mode": "lines",
         "name": "East Midlands",
         "orientation": "v",
         "showlegend": true,
         "type": "scatter",
         "x": [
          2005,
          2006,
          2007,
          2008,
          2009,
          2010,
          2011,
          2012,
          2013,
          2014,
          2015,
          2016,
          2017,
          2018,
          2019,
          2020,
          2021,
          2022
         ],
         "xaxis": "x",
         "y": [
          3683664.0862470865,
          3710470.593240097,
          3737277.1002331004,
          3764083.607226111,
          3790890.114219114,
          3817696.621212125,
          3843481,
          3867559,
          3893081,
          3920956,
          3948451,
          3984949,
          4018910,
          4045911,
          4066985,
          4076473,
          4094434,
          4142077
         ],
         "yaxis": "y"
        },
        {
         "hovertemplate": "Region=South West<br>Year=%{x}<br>Population=%{y}<extra></extra>",
         "legendgroup": "South West",
         "line": {
          "color": "#FFA15A",
          "dash": "solid"
         },
         "marker": {
          "symbol": "circle"
         },
         "mode": "lines",
         "name": "South West",
         "orientation": "v",
         "showlegend": true,
         "type": "scatter",
         "x": [
          2005,
          2006,
          2007,
          2008,
          2009,
          2010,
          2011,
          2012,
          2013,
          2014,
          2015,
          2016,
          2017,
          2018,
          2019,
          2020,
          2021,
          2022
         ],
         "xaxis": "x",
         "y": [
          4539588.30652681,
          4577770.142191142,
          4615951.977855489,
          4654133.813519821,
          4692315.6491841525,
          4730497.484848484,
          4769250,
          4800501,
          4835318,
          4877847,
          4922695,
          4972176,
          5015771,
          5047542,
          5077805,
          5095680,
          5139722,
          5189846
         ],
         "yaxis": "y"
        },
        {
         "hovertemplate": "Region=West Midlands<br>Year=%{x}<br>Population=%{y}<extra></extra>",
         "legendgroup": "West Midlands",
         "line": {
          "color": "#19d3f3",
          "dash": "solid"
         },
         "marker": {
          "symbol": "circle"
         },
         "mode": "lines",
         "name": "West Midlands",
         "orientation": "v",
         "showlegend": true,
         "type": "scatter",
         "x": [
          2005,
          2006,
          2007,
          2008,
          2009,
          2010,
          2011,
          2012,
          2013,
          2014,
          2015,
          2016,
          2017,
          2018,
          2019,
          2020,
          2021,
          2022
         ],
         "xaxis": "x",
         "y": [
          5389644.664335668,
          5426645.75874126,
          5463646.853146851,
          5500647.947552443,
          5537649.041958034,
          5574650.13636364,
          5608667,
          5640325,
          5676945,
          5716882,
          5756287,
          5812248,
          5855052,
          5889328,
          5920977,
          5931924,
          5956226,
          6017026
         ],
         "yaxis": "y"
        },
        {
         "hovertemplate": "Region=South East<br>Year=%{x}<br>Population=%{y}<extra></extra>",
         "legendgroup": "South East",
         "line": {
          "color": "#FF6692",
          "dash": "solid"
         },
         "marker": {
          "symbol": "circle"
         },
         "mode": "lines",
         "name": "South East",
         "orientation": "v",
         "showlegend": true,
         "type": "scatter",
         "x": [
          2005,
          2006,
          2007,
          2008,
          2009,
          2010,
          2011,
          2012,
          2013,
          2014,
          2015,
          2016,
          2017,
          2018,
          2019,
          2020,
          2021,
          2022
         ],
         "xaxis": "x",
         "y": [
          10541495.078088582,
          10620447.165501177,
          10699399.252913743,
          10778351.340326339,
          10857303.427738935,
          10936255.51515153,
          10979355,
          11073623,
          11162565,
          11261890,
          11354048,
          11459199,
          11529391,
          11588320,
          11645604,
          11679917,
          11775410,
          11884007
         ],
         "yaxis": "y"
        },
        {
         "hovertemplate": "Region=North West<br>Year=%{x}<br>Population=%{y}<extra></extra>",
         "legendgroup": "North West",
         "line": {
          "color": "#B6E880",
          "dash": "solid"
         },
         "marker": {
          "symbol": "circle"
         },
         "mode": "lines",
         "name": "North West",
         "orientation": "v",
         "showlegend": true,
         "type": "scatter",
         "x": [
          2005,
          2006,
          2007,
          2008,
          2009,
          2010,
          2011,
          2012,
          2013,
          2014,
          2015,
          2016,
          2017,
          2018,
          2019,
          2020,
          2021,
          2022
         ],
         "xaxis": "x",
         "y": [
          6291142.4895104915,
          6331639.164335668,
          6372135.839160845,
          6412632.513986021,
          6453129.188811198,
          6493625.8636363745,
          6556144,
          6580509,
          6607066,
          6642793,
          6683933,
          6735195,
          6777072,
          6817175,
          6864096,
          6882166,
          6923363,
          7012739
         ],
         "yaxis": "y"
        },
        {
         "hovertemplate": "Region=Yorkshire and The Humber<br>Year=%{x}<br>Population=%{y}<extra></extra>",
         "legendgroup": "Yorkshire and The Humber",
         "line": {
          "color": "#FF97FF",
          "dash": "solid"
         },
         "marker": {
          "symbol": "circle"
         },
         "mode": "lines",
         "name": "Yorkshire and The Humber",
         "orientation": "v",
         "showlegend": true,
         "type": "scatter",
         "x": [
          2005,
          2006,
          2007,
          2008,
          2009,
          2010,
          2011,
          2012,
          2013,
          2014,
          2015,
          2016,
          2017,
          2018,
          2019,
          2020,
          2021,
          2022
         ],
         "xaxis": "x",
         "y": [
          4579556.955710955,
          4598744.249417253,
          4617931.543123543,
          4637118.836829834,
          4656306.130536132,
          4675493.424242422,
          4687006,
          4709523,
          4730941,
          4752756,
          4773651,
          4802288,
          4820493,
          4836148,
          4853991,
          4857588,
          4863828,
          4914317
         ],
         "yaxis": "y"
        }
       ],
       "layout": {
        "font": {
         "size": 26
        },
        "height": 1000,
        "legend": {
         "font": {
          "size": 26
         },
         "orientation": "h",
         "title": {},
         "tracegroupgap": 0,
         "x": 0.5,
         "xanchor": "center",
         "y": 1,
         "yanchor": "bottom"
        },
        "margin": {
         "b": 10,
         "l": 10,
         "r": 10,
         "t": 170
        },
        "template": {
         "data": {
          "bar": [
           {
            "error_x": {
             "color": "#2a3f5f"
            },
            "error_y": {
             "color": "#2a3f5f"
            },
            "marker": {
             "line": {
              "color": "#E5ECF6",
              "width": 0.5
             },
             "pattern": {
              "fillmode": "overlay",
              "size": 10,
              "solidity": 0.2
             }
            },
            "type": "bar"
           }
          ],
          "barpolar": [
           {
            "marker": {
             "line": {
              "color": "#E5ECF6",
              "width": 0.5
             },
             "pattern": {
              "fillmode": "overlay",
              "size": 10,
              "solidity": 0.2
             }
            },
            "type": "barpolar"
           }
          ],
          "carpet": [
           {
            "aaxis": {
             "endlinecolor": "#2a3f5f",
             "gridcolor": "white",
             "linecolor": "white",
             "minorgridcolor": "white",
             "startlinecolor": "#2a3f5f"
            },
            "baxis": {
             "endlinecolor": "#2a3f5f",
             "gridcolor": "white",
             "linecolor": "white",
             "minorgridcolor": "white",
             "startlinecolor": "#2a3f5f"
            },
            "type": "carpet"
           }
          ],
          "choropleth": [
           {
            "colorbar": {
             "outlinewidth": 0,
             "ticks": ""
            },
            "type": "choropleth"
           }
          ],
          "contour": [
           {
            "colorbar": {
             "outlinewidth": 0,
             "ticks": ""
            },
            "colorscale": [
             [
              0,
              "#0d0887"
             ],
             [
              0.1111111111111111,
              "#46039f"
             ],
             [
              0.2222222222222222,
              "#7201a8"
             ],
             [
              0.3333333333333333,
              "#9c179e"
             ],
             [
              0.4444444444444444,
              "#bd3786"
             ],
             [
              0.5555555555555556,
              "#d8576b"
             ],
             [
              0.6666666666666666,
              "#ed7953"
             ],
             [
              0.7777777777777778,
              "#fb9f3a"
             ],
             [
              0.8888888888888888,
              "#fdca26"
             ],
             [
              1,
              "#f0f921"
             ]
            ],
            "type": "contour"
           }
          ],
          "contourcarpet": [
           {
            "colorbar": {
             "outlinewidth": 0,
             "ticks": ""
            },
            "type": "contourcarpet"
           }
          ],
          "heatmap": [
           {
            "colorbar": {
             "outlinewidth": 0,
             "ticks": ""
            },
            "colorscale": [
             [
              0,
              "#0d0887"
             ],
             [
              0.1111111111111111,
              "#46039f"
             ],
             [
              0.2222222222222222,
              "#7201a8"
             ],
             [
              0.3333333333333333,
              "#9c179e"
             ],
             [
              0.4444444444444444,
              "#bd3786"
             ],
             [
              0.5555555555555556,
              "#d8576b"
             ],
             [
              0.6666666666666666,
              "#ed7953"
             ],
             [
              0.7777777777777778,
              "#fb9f3a"
             ],
             [
              0.8888888888888888,
              "#fdca26"
             ],
             [
              1,
              "#f0f921"
             ]
            ],
            "type": "heatmap"
           }
          ],
          "heatmapgl": [
           {
            "colorbar": {
             "outlinewidth": 0,
             "ticks": ""
            },
            "colorscale": [
             [
              0,
              "#0d0887"
             ],
             [
              0.1111111111111111,
              "#46039f"
             ],
             [
              0.2222222222222222,
              "#7201a8"
             ],
             [
              0.3333333333333333,
              "#9c179e"
             ],
             [
              0.4444444444444444,
              "#bd3786"
             ],
             [
              0.5555555555555556,
              "#d8576b"
             ],
             [
              0.6666666666666666,
              "#ed7953"
             ],
             [
              0.7777777777777778,
              "#fb9f3a"
             ],
             [
              0.8888888888888888,
              "#fdca26"
             ],
             [
              1,
              "#f0f921"
             ]
            ],
            "type": "heatmapgl"
           }
          ],
          "histogram": [
           {
            "marker": {
             "pattern": {
              "fillmode": "overlay",
              "size": 10,
              "solidity": 0.2
             }
            },
            "type": "histogram"
           }
          ],
          "histogram2d": [
           {
            "colorbar": {
             "outlinewidth": 0,
             "ticks": ""
            },
            "colorscale": [
             [
              0,
              "#0d0887"
             ],
             [
              0.1111111111111111,
              "#46039f"
             ],
             [
              0.2222222222222222,
              "#7201a8"
             ],
             [
              0.3333333333333333,
              "#9c179e"
             ],
             [
              0.4444444444444444,
              "#bd3786"
             ],
             [
              0.5555555555555556,
              "#d8576b"
             ],
             [
              0.6666666666666666,
              "#ed7953"
             ],
             [
              0.7777777777777778,
              "#fb9f3a"
             ],
             [
              0.8888888888888888,
              "#fdca26"
             ],
             [
              1,
              "#f0f921"
             ]
            ],
            "type": "histogram2d"
           }
          ],
          "histogram2dcontour": [
           {
            "colorbar": {
             "outlinewidth": 0,
             "ticks": ""
            },
            "colorscale": [
             [
              0,
              "#0d0887"
             ],
             [
              0.1111111111111111,
              "#46039f"
             ],
             [
              0.2222222222222222,
              "#7201a8"
             ],
             [
              0.3333333333333333,
              "#9c179e"
             ],
             [
              0.4444444444444444,
              "#bd3786"
             ],
             [
              0.5555555555555556,
              "#d8576b"
             ],
             [
              0.6666666666666666,
              "#ed7953"
             ],
             [
              0.7777777777777778,
              "#fb9f3a"
             ],
             [
              0.8888888888888888,
              "#fdca26"
             ],
             [
              1,
              "#f0f921"
             ]
            ],
            "type": "histogram2dcontour"
           }
          ],
          "mesh3d": [
           {
            "colorbar": {
             "outlinewidth": 0,
             "ticks": ""
            },
            "type": "mesh3d"
           }
          ],
          "parcoords": [
           {
            "line": {
             "colorbar": {
              "outlinewidth": 0,
              "ticks": ""
             }
            },
            "type": "parcoords"
           }
          ],
          "pie": [
           {
            "automargin": true,
            "type": "pie"
           }
          ],
          "scatter": [
           {
            "fillpattern": {
             "fillmode": "overlay",
             "size": 10,
             "solidity": 0.2
            },
            "type": "scatter"
           }
          ],
          "scatter3d": [
           {
            "line": {
             "colorbar": {
              "outlinewidth": 0,
              "ticks": ""
             }
            },
            "marker": {
             "colorbar": {
              "outlinewidth": 0,
              "ticks": ""
             }
            },
            "type": "scatter3d"
           }
          ],
          "scattercarpet": [
           {
            "marker": {
             "colorbar": {
              "outlinewidth": 0,
              "ticks": ""
             }
            },
            "type": "scattercarpet"
           }
          ],
          "scattergeo": [
           {
            "marker": {
             "colorbar": {
              "outlinewidth": 0,
              "ticks": ""
             }
            },
            "type": "scattergeo"
           }
          ],
          "scattergl": [
           {
            "marker": {
             "colorbar": {
              "outlinewidth": 0,
              "ticks": ""
             }
            },
            "type": "scattergl"
           }
          ],
          "scattermapbox": [
           {
            "marker": {
             "colorbar": {
              "outlinewidth": 0,
              "ticks": ""
             }
            },
            "type": "scattermapbox"
           }
          ],
          "scatterpolar": [
           {
            "marker": {
             "colorbar": {
              "outlinewidth": 0,
              "ticks": ""
             }
            },
            "type": "scatterpolar"
           }
          ],
          "scatterpolargl": [
           {
            "marker": {
             "colorbar": {
              "outlinewidth": 0,
              "ticks": ""
             }
            },
            "type": "scatterpolargl"
           }
          ],
          "scatterternary": [
           {
            "marker": {
             "colorbar": {
              "outlinewidth": 0,
              "ticks": ""
             }
            },
            "type": "scatterternary"
           }
          ],
          "surface": [
           {
            "colorbar": {
             "outlinewidth": 0,
             "ticks": ""
            },
            "colorscale": [
             [
              0,
              "#0d0887"
             ],
             [
              0.1111111111111111,
              "#46039f"
             ],
             [
              0.2222222222222222,
              "#7201a8"
             ],
             [
              0.3333333333333333,
              "#9c179e"
             ],
             [
              0.4444444444444444,
              "#bd3786"
             ],
             [
              0.5555555555555556,
              "#d8576b"
             ],
             [
              0.6666666666666666,
              "#ed7953"
             ],
             [
              0.7777777777777778,
              "#fb9f3a"
             ],
             [
              0.8888888888888888,
              "#fdca26"
             ],
             [
              1,
              "#f0f921"
             ]
            ],
            "type": "surface"
           }
          ],
          "table": [
           {
            "cells": {
             "fill": {
              "color": "#EBF0F8"
             },
             "line": {
              "color": "white"
             }
            },
            "header": {
             "fill": {
              "color": "#C8D4E3"
             },
             "line": {
              "color": "white"
             }
            },
            "type": "table"
           }
          ]
         },
         "layout": {
          "annotationdefaults": {
           "arrowcolor": "#2a3f5f",
           "arrowhead": 0,
           "arrowwidth": 1
          },
          "autotypenumbers": "strict",
          "coloraxis": {
           "colorbar": {
            "outlinewidth": 0,
            "ticks": ""
           }
          },
          "colorscale": {
           "diverging": [
            [
             0,
             "#8e0152"
            ],
            [
             0.1,
             "#c51b7d"
            ],
            [
             0.2,
             "#de77ae"
            ],
            [
             0.3,
             "#f1b6da"
            ],
            [
             0.4,
             "#fde0ef"
            ],
            [
             0.5,
             "#f7f7f7"
            ],
            [
             0.6,
             "#e6f5d0"
            ],
            [
             0.7,
             "#b8e186"
            ],
            [
             0.8,
             "#7fbc41"
            ],
            [
             0.9,
             "#4d9221"
            ],
            [
             1,
             "#276419"
            ]
           ],
           "sequential": [
            [
             0,
             "#0d0887"
            ],
            [
             0.1111111111111111,
             "#46039f"
            ],
            [
             0.2222222222222222,
             "#7201a8"
            ],
            [
             0.3333333333333333,
             "#9c179e"
            ],
            [
             0.4444444444444444,
             "#bd3786"
            ],
            [
             0.5555555555555556,
             "#d8576b"
            ],
            [
             0.6666666666666666,
             "#ed7953"
            ],
            [
             0.7777777777777778,
             "#fb9f3a"
            ],
            [
             0.8888888888888888,
             "#fdca26"
            ],
            [
             1,
             "#f0f921"
            ]
           ],
           "sequentialminus": [
            [
             0,
             "#0d0887"
            ],
            [
             0.1111111111111111,
             "#46039f"
            ],
            [
             0.2222222222222222,
             "#7201a8"
            ],
            [
             0.3333333333333333,
             "#9c179e"
            ],
            [
             0.4444444444444444,
             "#bd3786"
            ],
            [
             0.5555555555555556,
             "#d8576b"
            ],
            [
             0.6666666666666666,
             "#ed7953"
            ],
            [
             0.7777777777777778,
             "#fb9f3a"
            ],
            [
             0.8888888888888888,
             "#fdca26"
            ],
            [
             1,
             "#f0f921"
            ]
           ]
          },
          "colorway": [
           "#636efa",
           "#EF553B",
           "#00cc96",
           "#ab63fa",
           "#FFA15A",
           "#19d3f3",
           "#FF6692",
           "#B6E880",
           "#FF97FF",
           "#FECB52"
          ],
          "font": {
           "color": "#2a3f5f"
          },
          "geo": {
           "bgcolor": "white",
           "lakecolor": "white",
           "landcolor": "#E5ECF6",
           "showlakes": true,
           "showland": true,
           "subunitcolor": "white"
          },
          "hoverlabel": {
           "align": "left"
          },
          "hovermode": "closest",
          "mapbox": {
           "style": "light"
          },
          "paper_bgcolor": "white",
          "plot_bgcolor": "#E5ECF6",
          "polar": {
           "angularaxis": {
            "gridcolor": "white",
            "linecolor": "white",
            "ticks": ""
           },
           "bgcolor": "#E5ECF6",
           "radialaxis": {
            "gridcolor": "white",
            "linecolor": "white",
            "ticks": ""
           }
          },
          "scene": {
           "xaxis": {
            "backgroundcolor": "#E5ECF6",
            "gridcolor": "white",
            "gridwidth": 2,
            "linecolor": "white",
            "showbackground": true,
            "ticks": "",
            "zerolinecolor": "white"
           },
           "yaxis": {
            "backgroundcolor": "#E5ECF6",
            "gridcolor": "white",
            "gridwidth": 2,
            "linecolor": "white",
            "showbackground": true,
            "ticks": "",
            "zerolinecolor": "white"
           },
           "zaxis": {
            "backgroundcolor": "#E5ECF6",
            "gridcolor": "white",
            "gridwidth": 2,
            "linecolor": "white",
            "showbackground": true,
            "ticks": "",
            "zerolinecolor": "white"
           }
          },
          "shapedefaults": {
           "line": {
            "color": "#2a3f5f"
           }
          },
          "ternary": {
           "aaxis": {
            "gridcolor": "white",
            "linecolor": "white",
            "ticks": ""
           },
           "baxis": {
            "gridcolor": "white",
            "linecolor": "white",
            "ticks": ""
           },
           "bgcolor": "#E5ECF6",
           "caxis": {
            "gridcolor": "white",
            "linecolor": "white",
            "ticks": ""
           }
          },
          "title": {
           "x": 0.05
          },
          "xaxis": {
           "automargin": true,
           "gridcolor": "white",
           "linecolor": "white",
           "ticks": "",
           "title": {
            "standoff": 15
           },
           "zerolinecolor": "white",
           "zerolinewidth": 2
          },
          "yaxis": {
           "automargin": true,
           "gridcolor": "white",
           "linecolor": "white",
           "ticks": "",
           "title": {
            "standoff": 15
           },
           "zerolinecolor": "white",
           "zerolinewidth": 2
          }
         }
        },
        "title": {
         "text": "Population by Region and Year (Extrapolation Model 1)",
         "x": 0.5,
         "y": 0.95
        },
        "xaxis": {
         "anchor": "y",
         "domain": [
          0,
          1
         ],
         "title": {
          "text": "Year"
         }
        },
        "yaxis": {
         "anchor": "x",
         "domain": [
          0,
          1
         ],
         "title": {
          "text": "Population"
         }
        }
       }
      }
     },
     "metadata": {},
     "output_type": "display_data"
    }
   ],
   "source": [
    "Population_by_Region_and_Year_Combined_Line = px.line(Population_by_Region_and_Year_Combined, x= 'Year', y='Population', color='Region')\n",
    "\n",
    "Population_by_Region_and_Year_Combined_Line\n",
    "Population_by_Region_and_Year_Combined_Line.update_layout(\n",
    "        margin={\"r\": 10, \"t\": 170, \"l\": 10, \"b\": 10},\n",
    "    title=\"Population by Region and Year (Extrapolation Model 1)\",\n",
    "    xaxis_title=\"Year\",\n",
    "    yaxis_title=\"Population\",\n",
    "    title_x=0.5,\n",
    "    title_y=0.95, \n",
    "    legend=dict(\n",
    "        orientation=\"h\", \n",
    "        yanchor=\"bottom\", \n",
    "        y=1, \n",
    "        xanchor=\"center\",  \n",
    "        x=0.5,\n",
    "        title = None\n",
    "    ,font=dict(\n",
    "        size=26 \n",
    "    )),\n",
    "    height = 1000,\n",
    "    font=dict(\n",
    "        size=26 \n",
    "    ))\n",
    "\n",
    "#Include commentry about the 2010 prediction for London this seems unlikely"
   ]
  },
  {
   "cell_type": "code",
   "execution_count": 28,
   "metadata": {},
   "outputs": [],
   "source": [
    "#Lets check the R^2 value for this way of modeling"
   ]
  },
  {
   "cell_type": "code",
   "execution_count": 29,
   "metadata": {},
   "outputs": [],
   "source": [
    "def extrapolate_population_for_region_r2_model1(region):\n",
    "    #Filtering to handle each region seperately\n",
    "    Population_by_Region_and_Year_Region = Population_by_Region_and_Year[Population_by_Region_and_Year['Region']==region]\n",
    "\n",
    "    X = Population_by_Region_and_Year_Region['Year'].values.reshape(-1,1)\n",
    "    y = Population_by_Region_and_Year_Region['Population']\n",
    "\n",
    "    #Fitting the linear regession model\n",
    "    Population_by_Region_and_Year_Model = LinearRegression()\n",
    "    Population_by_Region_and_Year_Model.fit(X,y)\n",
    "    \n",
    "    R2 = Population_by_Region_and_Year_Model.score(X, y)\n",
    "    \n",
    "    return R2"
   ]
  },
  {
   "cell_type": "code",
   "execution_count": 30,
   "metadata": {},
   "outputs": [],
   "source": [
    "def extrapolate_population_for_region_r2_model2(region):\n",
    "    #Filtering to handle each region seperately\n",
    "    Population_by_Region_and_Year_Region = Population_by_Region_and_Year[(Population_by_Region_and_Year['Region']==region) &\n",
    "                                                                            (Population_by_Region_and_Year['Year']!='2020') & \n",
    "                                                                            (Population_by_Region_and_Year['Year']!='2021') &\n",
    "                                                                            (Population_by_Region_and_Year['Year']!='2022')]\n",
    "    \n",
    "    X = Population_by_Region_and_Year_Region['Year'].values.reshape(-1,1)\n",
    "    y = Population_by_Region_and_Year_Region['Population']\n",
    "\n",
    "    #Fitting the linear regession model\n",
    "    Population_by_Region_and_Year_Model = LinearRegression()\n",
    "    Population_by_Region_and_Year_Model.fit(X,y)\n",
    "    \n",
    "    R2 = Population_by_Region_and_Year_Model.score(X, y)\n",
    "    \n",
    "    return R2"
   ]
  },
  {
   "cell_type": "code",
   "execution_count": 31,
   "metadata": {},
   "outputs": [],
   "source": [
    "R2_outcomes = pd.DataFrame(columns=['Region','Model1_R2','Model2_R2'])"
   ]
  },
  {
   "cell_type": "code",
   "execution_count": 32,
   "metadata": {},
   "outputs": [
    {
     "data": {
      "text/html": [
       "<div>\n",
       "<style scoped>\n",
       "    .dataframe tbody tr th:only-of-type {\n",
       "        vertical-align: middle;\n",
       "    }\n",
       "\n",
       "    .dataframe tbody tr th {\n",
       "        vertical-align: top;\n",
       "    }\n",
       "\n",
       "    .dataframe thead th {\n",
       "        text-align: right;\n",
       "    }\n",
       "</style>\n",
       "<table border=\"1\" class=\"dataframe\">\n",
       "  <thead>\n",
       "    <tr style=\"text-align: right;\">\n",
       "      <th></th>\n",
       "      <th>Region</th>\n",
       "      <th>Model1_R2</th>\n",
       "      <th>Model2_R2</th>\n",
       "    </tr>\n",
       "  </thead>\n",
       "  <tbody>\n",
       "    <tr>\n",
       "      <th>0</th>\n",
       "      <td>East</td>\n",
       "      <td>0.986038</td>\n",
       "      <td>0.989760</td>\n",
       "    </tr>\n",
       "    <tr>\n",
       "      <th>1</th>\n",
       "      <td>East Midlands</td>\n",
       "      <td>0.990663</td>\n",
       "      <td>0.996692</td>\n",
       "    </tr>\n",
       "    <tr>\n",
       "      <th>2</th>\n",
       "      <td>London</td>\n",
       "      <td>0.842216</td>\n",
       "      <td>0.967706</td>\n",
       "    </tr>\n",
       "    <tr>\n",
       "      <th>3</th>\n",
       "      <td>North East</td>\n",
       "      <td>0.882407</td>\n",
       "      <td>0.986730</td>\n",
       "    </tr>\n",
       "    <tr>\n",
       "      <th>4</th>\n",
       "      <td>North West</td>\n",
       "      <td>0.989237</td>\n",
       "      <td>0.990682</td>\n",
       "    </tr>\n",
       "    <tr>\n",
       "      <th>5</th>\n",
       "      <td>South East</td>\n",
       "      <td>0.989027</td>\n",
       "      <td>0.991894</td>\n",
       "    </tr>\n",
       "    <tr>\n",
       "      <th>6</th>\n",
       "      <td>South West</td>\n",
       "      <td>0.994322</td>\n",
       "      <td>0.996009</td>\n",
       "    </tr>\n",
       "    <tr>\n",
       "      <th>7</th>\n",
       "      <td>West Midlands</td>\n",
       "      <td>0.988701</td>\n",
       "      <td>0.996162</td>\n",
       "    </tr>\n",
       "    <tr>\n",
       "      <th>8</th>\n",
       "      <td>Yorkshire and The Humber</td>\n",
       "      <td>0.979378</td>\n",
       "      <td>0.996405</td>\n",
       "    </tr>\n",
       "  </tbody>\n",
       "</table>\n",
       "</div>"
      ],
      "text/plain": [
       "                     Region  Model1_R2  Model2_R2\n",
       "0                      East   0.986038   0.989760\n",
       "1             East Midlands   0.990663   0.996692\n",
       "2                    London   0.842216   0.967706\n",
       "3                North East   0.882407   0.986730\n",
       "4                North West   0.989237   0.990682\n",
       "5                South East   0.989027   0.991894\n",
       "6                South West   0.994322   0.996009\n",
       "7             West Midlands   0.988701   0.996162\n",
       "8  Yorkshire and The Humber   0.979378   0.996405"
      ]
     },
     "execution_count": 32,
     "metadata": {},
     "output_type": "execute_result"
    }
   ],
   "source": [
    "for region in Regions:\n",
    "    new_row_for_r2 = pd.DataFrame({'Region': [region],'Model1_R2':[extrapolate_population_for_region_r2_model1(region)],'Model2_R2':[extrapolate_population_for_region_r2_model2(region)]})\n",
    "    R2_outcomes = pd.concat([R2_outcomes, new_row_for_r2], ignore_index=True)\n",
    "    \n",
    "R2_outcomes"
   ]
  },
  {
   "cell_type": "code",
   "execution_count": 33,
   "metadata": {},
   "outputs": [
    {
     "data": {
      "text/html": [
       "<div>\n",
       "<style scoped>\n",
       "    .dataframe tbody tr th:only-of-type {\n",
       "        vertical-align: middle;\n",
       "    }\n",
       "\n",
       "    .dataframe tbody tr th {\n",
       "        vertical-align: top;\n",
       "    }\n",
       "\n",
       "    .dataframe thead th {\n",
       "        text-align: right;\n",
       "    }\n",
       "</style>\n",
       "<table border=\"1\" class=\"dataframe\">\n",
       "  <thead>\n",
       "    <tr style=\"text-align: right;\">\n",
       "      <th></th>\n",
       "      <th>Region</th>\n",
       "      <th>Model1_R2</th>\n",
       "      <th>Model2_R2</th>\n",
       "      <th>Percentage_Improved</th>\n",
       "    </tr>\n",
       "  </thead>\n",
       "  <tbody>\n",
       "    <tr>\n",
       "      <th>0</th>\n",
       "      <td>East</td>\n",
       "      <td>0.986038</td>\n",
       "      <td>0.989760</td>\n",
       "      <td>0.377469</td>\n",
       "    </tr>\n",
       "    <tr>\n",
       "      <th>1</th>\n",
       "      <td>East Midlands</td>\n",
       "      <td>0.990663</td>\n",
       "      <td>0.996692</td>\n",
       "      <td>0.608602</td>\n",
       "    </tr>\n",
       "    <tr>\n",
       "      <th>2</th>\n",
       "      <td>London</td>\n",
       "      <td>0.842216</td>\n",
       "      <td>0.967706</td>\n",
       "      <td>14.899989</td>\n",
       "    </tr>\n",
       "    <tr>\n",
       "      <th>3</th>\n",
       "      <td>North East</td>\n",
       "      <td>0.882407</td>\n",
       "      <td>0.986730</td>\n",
       "      <td>11.822613</td>\n",
       "    </tr>\n",
       "    <tr>\n",
       "      <th>4</th>\n",
       "      <td>North West</td>\n",
       "      <td>0.989237</td>\n",
       "      <td>0.990682</td>\n",
       "      <td>0.146073</td>\n",
       "    </tr>\n",
       "    <tr>\n",
       "      <th>5</th>\n",
       "      <td>South East</td>\n",
       "      <td>0.989027</td>\n",
       "      <td>0.991894</td>\n",
       "      <td>0.289901</td>\n",
       "    </tr>\n",
       "    <tr>\n",
       "      <th>6</th>\n",
       "      <td>South West</td>\n",
       "      <td>0.994322</td>\n",
       "      <td>0.996009</td>\n",
       "      <td>0.169629</td>\n",
       "    </tr>\n",
       "    <tr>\n",
       "      <th>7</th>\n",
       "      <td>West Midlands</td>\n",
       "      <td>0.988701</td>\n",
       "      <td>0.996162</td>\n",
       "      <td>0.754630</td>\n",
       "    </tr>\n",
       "    <tr>\n",
       "      <th>8</th>\n",
       "      <td>Yorkshire and The Humber</td>\n",
       "      <td>0.979378</td>\n",
       "      <td>0.996405</td>\n",
       "      <td>1.738566</td>\n",
       "    </tr>\n",
       "  </tbody>\n",
       "</table>\n",
       "</div>"
      ],
      "text/plain": [
       "                     Region  Model1_R2  Model2_R2  Percentage_Improved\n",
       "0                      East   0.986038   0.989760             0.377469\n",
       "1             East Midlands   0.990663   0.996692             0.608602\n",
       "2                    London   0.842216   0.967706            14.899989\n",
       "3                North East   0.882407   0.986730            11.822613\n",
       "4                North West   0.989237   0.990682             0.146073\n",
       "5                South East   0.989027   0.991894             0.289901\n",
       "6                South West   0.994322   0.996009             0.169629\n",
       "7             West Midlands   0.988701   0.996162             0.754630\n",
       "8  Yorkshire and The Humber   0.979378   0.996405             1.738566"
      ]
     },
     "execution_count": 33,
     "metadata": {},
     "output_type": "execute_result"
    }
   ],
   "source": [
    "R2_outcomes['Percentage_Improved'] = (R2_outcomes['Model2_R2'] / R2_outcomes['Model1_R2'] - 1)*100\n",
    "R2_outcomes"
   ]
  },
  {
   "cell_type": "code",
   "execution_count": 34,
   "metadata": {},
   "outputs": [],
   "source": [
    "def extrapolate_population_for_region_v2(region):\n",
    "    #Filtering to handle each region seperately\n",
    "    Population_by_Region_and_Year_for_Extrapoloation2 = Population_by_Region_and_Year[(Population_by_Region_and_Year['Region']==region) &\n",
    "                                                                            (Population_by_Region_and_Year['Year']!='2020') & \n",
    "                                                                            (Population_by_Region_and_Year['Year']!='2021') &\n",
    "                                                                            (Population_by_Region_and_Year['Year']!='2022')]\n",
    "\n",
    "\n",
    "    X = Population_by_Region_and_Year_for_Extrapoloation2['Year'].values.reshape(-1,1)\n",
    "    y = Population_by_Region_and_Year_for_Extrapoloation2['Population']\n",
    "\n",
    "    #Fitting the linear regession model\n",
    "    Population_by_Region_and_Year_Model_v2 = LinearRegression()\n",
    "    Population_by_Region_and_Year_Model_v2.fit(X,y)\n",
    "    \n",
    "    #Extrapolating for the years where data is missing\n",
    "    years_to_extrapolate = np.array([2005, 2006, 2007, 2008, 2009, 2010]).reshape(-1, 1)\n",
    "\n",
    "    population_predictions = Population_by_Region_and_Year_Model_v2.predict(years_to_extrapolate)\n",
    "    population_predictions = population_predictions.astype(int)\n",
    "    \n",
    "    #Bring the predictions into a dataframe\n",
    "    Predictions_df = pd.DataFrame({'Year':years_to_extrapolate.flatten(),'Population':Population_by_Region_and_Year_Model_v2.predict(years_to_extrapolate),'Region':region,'Data_Type': 'Extrapolated'})\n",
    "    \n",
    "    return Predictions_df"
   ]
  },
  {
   "cell_type": "code",
   "execution_count": 35,
   "metadata": {},
   "outputs": [],
   "source": [
    "#Create a list of regions for which to loop the extrapolate function\n",
    "Regions = list(Population_by_Region_and_Year['Region'].unique())\n",
    "\n",
    "#Concatating all the extrapolated values into one dataframe\n",
    "Population_by_Region_and_Year_Extrapolated_v2 = pd.concat((extrapolate_population_for_region_v2(region) for region in Regions), ignore_index=True)\n",
    "\n",
    "#Combining the origional data with the extrapolated data\n",
    "Population_by_Region_and_Year_Combined_v2 = pd.concat([Population_by_Region_and_Year,Population_by_Region_and_Year_Extrapolated_v2], ignore_index=True)\n"
   ]
  },
  {
   "cell_type": "code",
   "execution_count": 36,
   "metadata": {},
   "outputs": [],
   "source": [
    "# Change the datatype of the Year column to be integer (required step to fix later graph)\n",
    "Population_by_Region_and_Year_Combined_v2['Year'] = Population_by_Region_and_Year_Combined_v2['Year'].astype(int)\n",
    "\n",
    "Population_by_Region_and_Year_Combined_v2 = Population_by_Region_and_Year_Combined_v2.sort_values(by='Year')"
   ]
  },
  {
   "cell_type": "code",
   "execution_count": 37,
   "metadata": {},
   "outputs": [
    {
     "data": {
      "application/vnd.plotly.v1+json": {
       "config": {
        "plotlyServerURL": "https://plot.ly"
       },
       "data": [
        {
         "hovertemplate": "Region=East<br>Year=%{x}<br>Population=%{y}<extra></extra>",
         "legendgroup": "East",
         "line": {
          "color": "#636efa",
          "dash": "solid"
         },
         "marker": {
          "symbol": "circle"
         },
         "mode": "lines",
         "name": "East",
         "orientation": "v",
         "showlegend": true,
         "type": "scatter",
         "x": [
          2005,
          2006,
          2007,
          2008,
          2009,
          2010,
          2011,
          2012,
          2013,
          2014,
          2015,
          2016,
          2017,
          2018,
          2019,
          2020,
          2021,
          2022
         ],
         "xaxis": "x",
         "y": [
          5551185.944444448,
          5604525.027777776,
          5657864.1111111045,
          5711203.194444448,
          5764542.277777776,
          5817881.3611111045,
          5862418,
          5915033,
          5970484,
          6039521,
          6098262,
          6161075,
          6202843,
          6237376,
          6274179,
          6297779,
          6349646,
          6401418
         ],
         "yaxis": "y"
        },
        {
         "hovertemplate": "Region=North East<br>Year=%{x}<br>Population=%{y}<extra></extra>",
         "legendgroup": "North East",
         "line": {
          "color": "#EF553B",
          "dash": "solid"
         },
         "marker": {
          "symbol": "circle"
         },
         "mode": "lines",
         "name": "North East",
         "orientation": "v",
         "showlegend": true,
         "type": "scatter",
         "x": [
          2005,
          2006,
          2007,
          2008,
          2009,
          2010,
          2011,
          2012,
          2013,
          2014,
          2015,
          2016,
          2017,
          2018,
          2019,
          2020,
          2021,
          2022
         ],
         "xaxis": "x",
         "y": [
          2564186.888888888,
          2569202.722222222,
          2574218.555555556,
          2579234.388888888,
          2584250.222222222,
          2589266.055555556,
          2596441,
          2598972,
          2603299,
          2610482,
          2611804,
          2618253,
          2623787,
          2629393,
          2636676,
          2637426,
          2647493,
          2682069
         ],
         "yaxis": "y"
        },
        {
         "hovertemplate": "Region=London<br>Year=%{x}<br>Population=%{y}<extra></extra>",
         "legendgroup": "London",
         "line": {
          "color": "#00cc96",
          "dash": "solid"
         },
         "marker": {
          "symbol": "circle"
         },
         "mode": "lines",
         "name": "London",
         "orientation": "v",
         "showlegend": true,
         "type": "scatter",
         "x": [
          2005,
          2006,
          2007,
          2008,
          2009,
          2010,
          2011,
          2012,
          2013,
          2014,
          2015,
          2016,
          2017,
          2018,
          2019,
          2020,
          2021,
          2022
         ],
         "xaxis": "x",
         "y": [
          7743207.722222239,
          7829040.905555576,
          7914874.088888884,
          8000707.272222221,
          8086540.455555558,
          8172373.6388888955,
          8204407,
          8320767,
          8438987,
          8547192,
          8659545,
          8743651,
          8776229,
          8833335,
          8889743,
          8867008,
          8804769,
          8869043
         ],
         "yaxis": "y"
        },
        {
         "hovertemplate": "Region=East Midlands<br>Year=%{x}<br>Population=%{y}<extra></extra>",
         "legendgroup": "East Midlands",
         "line": {
          "color": "#ab63fa",
          "dash": "solid"
         },
         "marker": {
          "symbol": "circle"
         },
         "mode": "lines",
         "name": "East Midlands",
         "orientation": "v",
         "showlegend": true,
         "type": "scatter",
         "x": [
          2005,
          2006,
          2007,
          2008,
          2009,
          2010,
          2011,
          2012,
          2013,
          2014,
          2015,
          2016,
          2017,
          2018,
          2019,
          2020,
          2021,
          2022
         ],
         "xaxis": "x",
         "y": [
          3663688.7222222164,
          3692767.438888885,
          3721846.1555555537,
          3750924.8722222224,
          3780003.5888888836,
          3809082.3055555522,
          3843481,
          3867559,
          3893081,
          3920956,
          3948451,
          3984949,
          4018910,
          4045911,
          4066985,
          4076473,
          4094434,
          4142077
         ],
         "yaxis": "y"
        },
        {
         "hovertemplate": "Region=South West<br>Year=%{x}<br>Population=%{y}<extra></extra>",
         "legendgroup": "South West",
         "line": {
          "color": "#FFA15A",
          "dash": "solid"
         },
         "marker": {
          "symbol": "circle"
         },
         "mode": "lines",
         "name": "South West",
         "orientation": "v",
         "showlegend": true,
         "type": "scatter",
         "x": [
          2005,
          2006,
          2007,
          2008,
          2009,
          2010,
          2011,
          2012,
          2013,
          2014,
          2015,
          2016,
          2017,
          2018,
          2019,
          2020,
          2021,
          2022
         ],
         "xaxis": "x",
         "y": [
          4519226.444444448,
          4559736.077777788,
          4600245.711111113,
          4640755.344444454,
          4681264.977777779,
          4721774.611111119,
          4769250,
          4800501,
          4835318,
          4877847,
          4922695,
          4972176,
          5015771,
          5047542,
          5077805,
          5095680,
          5139722,
          5189846
         ],
         "yaxis": "y"
        },
        {
         "hovertemplate": "Region=West Midlands<br>Year=%{x}<br>Population=%{y}<extra></extra>",
         "legendgroup": "West Midlands",
         "line": {
          "color": "#19d3f3",
          "dash": "solid"
         },
         "marker": {
          "symbol": "circle"
         },
         "mode": "lines",
         "name": "West Midlands",
         "orientation": "v",
         "showlegend": true,
         "type": "scatter",
         "x": [
          2005,
          2006,
          2007,
          2008,
          2009,
          2010,
          2011,
          2012,
          2013,
          2014,
          2015,
          2016,
          2017,
          2018,
          2019,
          2020,
          2021,
          2022
         ],
         "xaxis": "x",
         "y": [
          5356107.5,
          5396904.650000006,
          5437701.799999997,
          5478498.950000003,
          5519296.100000009,
          5560093.25,
          5608667,
          5640325,
          5676945,
          5716882,
          5756287,
          5812248,
          5855052,
          5889328,
          5920977,
          5931924,
          5956226,
          6017026
         ],
         "yaxis": "y"
        },
        {
         "hovertemplate": "Region=South East<br>Year=%{x}<br>Population=%{y}<extra></extra>",
         "legendgroup": "South East",
         "line": {
          "color": "#FF6692",
          "dash": "solid"
         },
         "marker": {
          "symbol": "circle"
         },
         "mode": "lines",
         "name": "South East",
         "orientation": "v",
         "showlegend": true,
         "type": "scatter",
         "x": [
          2005,
          2006,
          2007,
          2008,
          2009,
          2010,
          2011,
          2012,
          2013,
          2014,
          2015,
          2016,
          2017,
          2018,
          2019,
          2020,
          2021,
          2022
         ],
         "xaxis": "x",
         "y": [
          10482658.111111134,
          10568325.577777803,
          10653993.044444472,
          10739660.51111114,
          10825327.977777809,
          10910995.444444478,
          10979355,
          11073623,
          11162565,
          11261890,
          11354048,
          11459199,
          11529391,
          11588320,
          11645604,
          11679917,
          11775410,
          11884007
         ],
         "yaxis": "y"
        },
        {
         "hovertemplate": "Region=North West<br>Year=%{x}<br>Population=%{y}<extra></extra>",
         "legendgroup": "North West",
         "line": {
          "color": "#B6E880",
          "dash": "solid"
         },
         "marker": {
          "symbol": "circle"
         },
         "mode": "lines",
         "name": "North West",
         "orientation": "v",
         "showlegend": true,
         "type": "scatter",
         "x": [
          2005,
          2006,
          2007,
          2008,
          2009,
          2010,
          2011,
          2012,
          2013,
          2014,
          2015,
          2016,
          2017,
          2018,
          2019,
          2020,
          2021,
          2022
         ],
         "xaxis": "x",
         "y": [
          6300294.777777776,
          6339865.1111111045,
          6379435.444444433,
          6419005.777777776,
          6458576.1111111045,
          6498146.444444433,
          6556144,
          6580509,
          6607066,
          6642793,
          6683933,
          6735195,
          6777072,
          6817175,
          6864096,
          6882166,
          6923363,
          7012739
         ],
         "yaxis": "y"
        },
        {
         "hovertemplate": "Region=Yorkshire and The Humber<br>Year=%{x}<br>Population=%{y}<extra></extra>",
         "legendgroup": "Yorkshire and The Humber",
         "line": {
          "color": "#FF97FF",
          "dash": "solid"
         },
         "marker": {
          "symbol": "circle"
         },
         "mode": "lines",
         "name": "Yorkshire and The Humber",
         "orientation": "v",
         "showlegend": true,
         "type": "scatter",
         "x": [
          2005,
          2006,
          2007,
          2008,
          2009,
          2010,
          2011,
          2012,
          2013,
          2014,
          2015,
          2016,
          2017,
          2018,
          2019,
          2020,
          2021,
          2022
         ],
         "xaxis": "x",
         "y": [
          4561346.722222224,
          4582620.905555554,
          4603895.088888891,
          4625169.272222221,
          4646443.455555558,
          4667717.638888888,
          4687006,
          4709523,
          4730941,
          4752756,
          4773651,
          4802288,
          4820493,
          4836148,
          4853991,
          4857588,
          4863828,
          4914317
         ],
         "yaxis": "y"
        }
       ],
       "layout": {
        "font": {
         "size": 26
        },
        "height": 1000,
        "legend": {
         "font": {
          "size": 26
         },
         "orientation": "h",
         "title": {},
         "tracegroupgap": 0,
         "x": 0.5,
         "xanchor": "center",
         "y": 1,
         "yanchor": "bottom"
        },
        "margin": {
         "b": 10,
         "l": 10,
         "r": 10,
         "t": 170
        },
        "template": {
         "data": {
          "bar": [
           {
            "error_x": {
             "color": "#2a3f5f"
            },
            "error_y": {
             "color": "#2a3f5f"
            },
            "marker": {
             "line": {
              "color": "#E5ECF6",
              "width": 0.5
             },
             "pattern": {
              "fillmode": "overlay",
              "size": 10,
              "solidity": 0.2
             }
            },
            "type": "bar"
           }
          ],
          "barpolar": [
           {
            "marker": {
             "line": {
              "color": "#E5ECF6",
              "width": 0.5
             },
             "pattern": {
              "fillmode": "overlay",
              "size": 10,
              "solidity": 0.2
             }
            },
            "type": "barpolar"
           }
          ],
          "carpet": [
           {
            "aaxis": {
             "endlinecolor": "#2a3f5f",
             "gridcolor": "white",
             "linecolor": "white",
             "minorgridcolor": "white",
             "startlinecolor": "#2a3f5f"
            },
            "baxis": {
             "endlinecolor": "#2a3f5f",
             "gridcolor": "white",
             "linecolor": "white",
             "minorgridcolor": "white",
             "startlinecolor": "#2a3f5f"
            },
            "type": "carpet"
           }
          ],
          "choropleth": [
           {
            "colorbar": {
             "outlinewidth": 0,
             "ticks": ""
            },
            "type": "choropleth"
           }
          ],
          "contour": [
           {
            "colorbar": {
             "outlinewidth": 0,
             "ticks": ""
            },
            "colorscale": [
             [
              0,
              "#0d0887"
             ],
             [
              0.1111111111111111,
              "#46039f"
             ],
             [
              0.2222222222222222,
              "#7201a8"
             ],
             [
              0.3333333333333333,
              "#9c179e"
             ],
             [
              0.4444444444444444,
              "#bd3786"
             ],
             [
              0.5555555555555556,
              "#d8576b"
             ],
             [
              0.6666666666666666,
              "#ed7953"
             ],
             [
              0.7777777777777778,
              "#fb9f3a"
             ],
             [
              0.8888888888888888,
              "#fdca26"
             ],
             [
              1,
              "#f0f921"
             ]
            ],
            "type": "contour"
           }
          ],
          "contourcarpet": [
           {
            "colorbar": {
             "outlinewidth": 0,
             "ticks": ""
            },
            "type": "contourcarpet"
           }
          ],
          "heatmap": [
           {
            "colorbar": {
             "outlinewidth": 0,
             "ticks": ""
            },
            "colorscale": [
             [
              0,
              "#0d0887"
             ],
             [
              0.1111111111111111,
              "#46039f"
             ],
             [
              0.2222222222222222,
              "#7201a8"
             ],
             [
              0.3333333333333333,
              "#9c179e"
             ],
             [
              0.4444444444444444,
              "#bd3786"
             ],
             [
              0.5555555555555556,
              "#d8576b"
             ],
             [
              0.6666666666666666,
              "#ed7953"
             ],
             [
              0.7777777777777778,
              "#fb9f3a"
             ],
             [
              0.8888888888888888,
              "#fdca26"
             ],
             [
              1,
              "#f0f921"
             ]
            ],
            "type": "heatmap"
           }
          ],
          "heatmapgl": [
           {
            "colorbar": {
             "outlinewidth": 0,
             "ticks": ""
            },
            "colorscale": [
             [
              0,
              "#0d0887"
             ],
             [
              0.1111111111111111,
              "#46039f"
             ],
             [
              0.2222222222222222,
              "#7201a8"
             ],
             [
              0.3333333333333333,
              "#9c179e"
             ],
             [
              0.4444444444444444,
              "#bd3786"
             ],
             [
              0.5555555555555556,
              "#d8576b"
             ],
             [
              0.6666666666666666,
              "#ed7953"
             ],
             [
              0.7777777777777778,
              "#fb9f3a"
             ],
             [
              0.8888888888888888,
              "#fdca26"
             ],
             [
              1,
              "#f0f921"
             ]
            ],
            "type": "heatmapgl"
           }
          ],
          "histogram": [
           {
            "marker": {
             "pattern": {
              "fillmode": "overlay",
              "size": 10,
              "solidity": 0.2
             }
            },
            "type": "histogram"
           }
          ],
          "histogram2d": [
           {
            "colorbar": {
             "outlinewidth": 0,
             "ticks": ""
            },
            "colorscale": [
             [
              0,
              "#0d0887"
             ],
             [
              0.1111111111111111,
              "#46039f"
             ],
             [
              0.2222222222222222,
              "#7201a8"
             ],
             [
              0.3333333333333333,
              "#9c179e"
             ],
             [
              0.4444444444444444,
              "#bd3786"
             ],
             [
              0.5555555555555556,
              "#d8576b"
             ],
             [
              0.6666666666666666,
              "#ed7953"
             ],
             [
              0.7777777777777778,
              "#fb9f3a"
             ],
             [
              0.8888888888888888,
              "#fdca26"
             ],
             [
              1,
              "#f0f921"
             ]
            ],
            "type": "histogram2d"
           }
          ],
          "histogram2dcontour": [
           {
            "colorbar": {
             "outlinewidth": 0,
             "ticks": ""
            },
            "colorscale": [
             [
              0,
              "#0d0887"
             ],
             [
              0.1111111111111111,
              "#46039f"
             ],
             [
              0.2222222222222222,
              "#7201a8"
             ],
             [
              0.3333333333333333,
              "#9c179e"
             ],
             [
              0.4444444444444444,
              "#bd3786"
             ],
             [
              0.5555555555555556,
              "#d8576b"
             ],
             [
              0.6666666666666666,
              "#ed7953"
             ],
             [
              0.7777777777777778,
              "#fb9f3a"
             ],
             [
              0.8888888888888888,
              "#fdca26"
             ],
             [
              1,
              "#f0f921"
             ]
            ],
            "type": "histogram2dcontour"
           }
          ],
          "mesh3d": [
           {
            "colorbar": {
             "outlinewidth": 0,
             "ticks": ""
            },
            "type": "mesh3d"
           }
          ],
          "parcoords": [
           {
            "line": {
             "colorbar": {
              "outlinewidth": 0,
              "ticks": ""
             }
            },
            "type": "parcoords"
           }
          ],
          "pie": [
           {
            "automargin": true,
            "type": "pie"
           }
          ],
          "scatter": [
           {
            "fillpattern": {
             "fillmode": "overlay",
             "size": 10,
             "solidity": 0.2
            },
            "type": "scatter"
           }
          ],
          "scatter3d": [
           {
            "line": {
             "colorbar": {
              "outlinewidth": 0,
              "ticks": ""
             }
            },
            "marker": {
             "colorbar": {
              "outlinewidth": 0,
              "ticks": ""
             }
            },
            "type": "scatter3d"
           }
          ],
          "scattercarpet": [
           {
            "marker": {
             "colorbar": {
              "outlinewidth": 0,
              "ticks": ""
             }
            },
            "type": "scattercarpet"
           }
          ],
          "scattergeo": [
           {
            "marker": {
             "colorbar": {
              "outlinewidth": 0,
              "ticks": ""
             }
            },
            "type": "scattergeo"
           }
          ],
          "scattergl": [
           {
            "marker": {
             "colorbar": {
              "outlinewidth": 0,
              "ticks": ""
             }
            },
            "type": "scattergl"
           }
          ],
          "scattermapbox": [
           {
            "marker": {
             "colorbar": {
              "outlinewidth": 0,
              "ticks": ""
             }
            },
            "type": "scattermapbox"
           }
          ],
          "scatterpolar": [
           {
            "marker": {
             "colorbar": {
              "outlinewidth": 0,
              "ticks": ""
             }
            },
            "type": "scatterpolar"
           }
          ],
          "scatterpolargl": [
           {
            "marker": {
             "colorbar": {
              "outlinewidth": 0,
              "ticks": ""
             }
            },
            "type": "scatterpolargl"
           }
          ],
          "scatterternary": [
           {
            "marker": {
             "colorbar": {
              "outlinewidth": 0,
              "ticks": ""
             }
            },
            "type": "scatterternary"
           }
          ],
          "surface": [
           {
            "colorbar": {
             "outlinewidth": 0,
             "ticks": ""
            },
            "colorscale": [
             [
              0,
              "#0d0887"
             ],
             [
              0.1111111111111111,
              "#46039f"
             ],
             [
              0.2222222222222222,
              "#7201a8"
             ],
             [
              0.3333333333333333,
              "#9c179e"
             ],
             [
              0.4444444444444444,
              "#bd3786"
             ],
             [
              0.5555555555555556,
              "#d8576b"
             ],
             [
              0.6666666666666666,
              "#ed7953"
             ],
             [
              0.7777777777777778,
              "#fb9f3a"
             ],
             [
              0.8888888888888888,
              "#fdca26"
             ],
             [
              1,
              "#f0f921"
             ]
            ],
            "type": "surface"
           }
          ],
          "table": [
           {
            "cells": {
             "fill": {
              "color": "#EBF0F8"
             },
             "line": {
              "color": "white"
             }
            },
            "header": {
             "fill": {
              "color": "#C8D4E3"
             },
             "line": {
              "color": "white"
             }
            },
            "type": "table"
           }
          ]
         },
         "layout": {
          "annotationdefaults": {
           "arrowcolor": "#2a3f5f",
           "arrowhead": 0,
           "arrowwidth": 1
          },
          "autotypenumbers": "strict",
          "coloraxis": {
           "colorbar": {
            "outlinewidth": 0,
            "ticks": ""
           }
          },
          "colorscale": {
           "diverging": [
            [
             0,
             "#8e0152"
            ],
            [
             0.1,
             "#c51b7d"
            ],
            [
             0.2,
             "#de77ae"
            ],
            [
             0.3,
             "#f1b6da"
            ],
            [
             0.4,
             "#fde0ef"
            ],
            [
             0.5,
             "#f7f7f7"
            ],
            [
             0.6,
             "#e6f5d0"
            ],
            [
             0.7,
             "#b8e186"
            ],
            [
             0.8,
             "#7fbc41"
            ],
            [
             0.9,
             "#4d9221"
            ],
            [
             1,
             "#276419"
            ]
           ],
           "sequential": [
            [
             0,
             "#0d0887"
            ],
            [
             0.1111111111111111,
             "#46039f"
            ],
            [
             0.2222222222222222,
             "#7201a8"
            ],
            [
             0.3333333333333333,
             "#9c179e"
            ],
            [
             0.4444444444444444,
             "#bd3786"
            ],
            [
             0.5555555555555556,
             "#d8576b"
            ],
            [
             0.6666666666666666,
             "#ed7953"
            ],
            [
             0.7777777777777778,
             "#fb9f3a"
            ],
            [
             0.8888888888888888,
             "#fdca26"
            ],
            [
             1,
             "#f0f921"
            ]
           ],
           "sequentialminus": [
            [
             0,
             "#0d0887"
            ],
            [
             0.1111111111111111,
             "#46039f"
            ],
            [
             0.2222222222222222,
             "#7201a8"
            ],
            [
             0.3333333333333333,
             "#9c179e"
            ],
            [
             0.4444444444444444,
             "#bd3786"
            ],
            [
             0.5555555555555556,
             "#d8576b"
            ],
            [
             0.6666666666666666,
             "#ed7953"
            ],
            [
             0.7777777777777778,
             "#fb9f3a"
            ],
            [
             0.8888888888888888,
             "#fdca26"
            ],
            [
             1,
             "#f0f921"
            ]
           ]
          },
          "colorway": [
           "#636efa",
           "#EF553B",
           "#00cc96",
           "#ab63fa",
           "#FFA15A",
           "#19d3f3",
           "#FF6692",
           "#B6E880",
           "#FF97FF",
           "#FECB52"
          ],
          "font": {
           "color": "#2a3f5f"
          },
          "geo": {
           "bgcolor": "white",
           "lakecolor": "white",
           "landcolor": "#E5ECF6",
           "showlakes": true,
           "showland": true,
           "subunitcolor": "white"
          },
          "hoverlabel": {
           "align": "left"
          },
          "hovermode": "closest",
          "mapbox": {
           "style": "light"
          },
          "paper_bgcolor": "white",
          "plot_bgcolor": "#E5ECF6",
          "polar": {
           "angularaxis": {
            "gridcolor": "white",
            "linecolor": "white",
            "ticks": ""
           },
           "bgcolor": "#E5ECF6",
           "radialaxis": {
            "gridcolor": "white",
            "linecolor": "white",
            "ticks": ""
           }
          },
          "scene": {
           "xaxis": {
            "backgroundcolor": "#E5ECF6",
            "gridcolor": "white",
            "gridwidth": 2,
            "linecolor": "white",
            "showbackground": true,
            "ticks": "",
            "zerolinecolor": "white"
           },
           "yaxis": {
            "backgroundcolor": "#E5ECF6",
            "gridcolor": "white",
            "gridwidth": 2,
            "linecolor": "white",
            "showbackground": true,
            "ticks": "",
            "zerolinecolor": "white"
           },
           "zaxis": {
            "backgroundcolor": "#E5ECF6",
            "gridcolor": "white",
            "gridwidth": 2,
            "linecolor": "white",
            "showbackground": true,
            "ticks": "",
            "zerolinecolor": "white"
           }
          },
          "shapedefaults": {
           "line": {
            "color": "#2a3f5f"
           }
          },
          "ternary": {
           "aaxis": {
            "gridcolor": "white",
            "linecolor": "white",
            "ticks": ""
           },
           "baxis": {
            "gridcolor": "white",
            "linecolor": "white",
            "ticks": ""
           },
           "bgcolor": "#E5ECF6",
           "caxis": {
            "gridcolor": "white",
            "linecolor": "white",
            "ticks": ""
           }
          },
          "title": {
           "x": 0.05
          },
          "xaxis": {
           "automargin": true,
           "gridcolor": "white",
           "linecolor": "white",
           "ticks": "",
           "title": {
            "standoff": 15
           },
           "zerolinecolor": "white",
           "zerolinewidth": 2
          },
          "yaxis": {
           "automargin": true,
           "gridcolor": "white",
           "linecolor": "white",
           "ticks": "",
           "title": {
            "standoff": 15
           },
           "zerolinecolor": "white",
           "zerolinewidth": 2
          }
         }
        },
        "title": {
         "text": "Population by Region and Year (Extrapolation Model 2)",
         "x": 0.5,
         "y": 0.95
        },
        "xaxis": {
         "anchor": "y",
         "domain": [
          0,
          1
         ],
         "title": {
          "text": "Year"
         }
        },
        "yaxis": {
         "anchor": "x",
         "domain": [
          0,
          1
         ],
         "title": {
          "text": "Population"
         }
        }
       }
      }
     },
     "metadata": {},
     "output_type": "display_data"
    }
   ],
   "source": [
    "Population_by_Region_and_Year_Combined_v2_Line = px.line(Population_by_Region_and_Year_Combined_v2, x= 'Year', y='Population', color='Region')\n",
    "\n",
    "Population_by_Region_and_Year_Combined_v2_Line\n",
    "Population_by_Region_and_Year_Combined_v2_Line.update_layout(\n",
    "        margin={\"r\": 10, \"t\": 170, \"l\": 10, \"b\": 10},\n",
    "    title=\"Population by Region and Year (Extrapolation Model 2)\",\n",
    "    xaxis_title=\"Year\",\n",
    "    yaxis_title=\"Population\",\n",
    "    title_x=0.5,\n",
    "    title_y=0.95, \n",
    "    legend=dict(\n",
    "        orientation=\"h\", \n",
    "        yanchor=\"bottom\", \n",
    "        y=1, \n",
    "        xanchor=\"center\",  \n",
    "        x=0.5,\n",
    "        title = None\n",
    "    ,font=dict(\n",
    "        size=26 \n",
    "    )),\n",
    "    height = 1000,\n",
    "    font=dict(\n",
    "        size=26 \n",
    "    ))\n",
    "#Include commentry about the 2010 prediction for London this seems unlikely"
   ]
  },
  {
   "cell_type": "code",
   "execution_count": 38,
   "metadata": {},
   "outputs": [
    {
     "data": {
      "text/html": [
       "<div>\n",
       "<style scoped>\n",
       "    .dataframe tbody tr th:only-of-type {\n",
       "        vertical-align: middle;\n",
       "    }\n",
       "\n",
       "    .dataframe tbody tr th {\n",
       "        vertical-align: top;\n",
       "    }\n",
       "\n",
       "    .dataframe thead th {\n",
       "        text-align: right;\n",
       "    }\n",
       "</style>\n",
       "<table border=\"1\" class=\"dataframe\">\n",
       "  <thead>\n",
       "    <tr style=\"text-align: right;\">\n",
       "      <th></th>\n",
       "      <th>Region</th>\n",
       "      <th>Year</th>\n",
       "      <th>Population</th>\n",
       "      <th>Data_Type</th>\n",
       "    </tr>\n",
       "  </thead>\n",
       "  <tbody>\n",
       "    <tr>\n",
       "      <th>120</th>\n",
       "      <td>London</td>\n",
       "      <td>2005</td>\n",
       "      <td>7.743208e+06</td>\n",
       "      <td>Extrapolated</td>\n",
       "    </tr>\n",
       "    <tr>\n",
       "      <th>121</th>\n",
       "      <td>London</td>\n",
       "      <td>2006</td>\n",
       "      <td>7.829041e+06</td>\n",
       "      <td>Extrapolated</td>\n",
       "    </tr>\n",
       "    <tr>\n",
       "      <th>122</th>\n",
       "      <td>London</td>\n",
       "      <td>2007</td>\n",
       "      <td>7.914874e+06</td>\n",
       "      <td>Extrapolated</td>\n",
       "    </tr>\n",
       "    <tr>\n",
       "      <th>123</th>\n",
       "      <td>London</td>\n",
       "      <td>2008</td>\n",
       "      <td>8.000707e+06</td>\n",
       "      <td>Extrapolated</td>\n",
       "    </tr>\n",
       "    <tr>\n",
       "      <th>124</th>\n",
       "      <td>London</td>\n",
       "      <td>2009</td>\n",
       "      <td>8.086540e+06</td>\n",
       "      <td>Extrapolated</td>\n",
       "    </tr>\n",
       "    <tr>\n",
       "      <th>125</th>\n",
       "      <td>London</td>\n",
       "      <td>2010</td>\n",
       "      <td>8.172374e+06</td>\n",
       "      <td>Extrapolated</td>\n",
       "    </tr>\n",
       "    <tr>\n",
       "      <th>2</th>\n",
       "      <td>London</td>\n",
       "      <td>2011</td>\n",
       "      <td>8.204407e+06</td>\n",
       "      <td>Origional</td>\n",
       "    </tr>\n",
       "    <tr>\n",
       "      <th>11</th>\n",
       "      <td>London</td>\n",
       "      <td>2012</td>\n",
       "      <td>8.320767e+06</td>\n",
       "      <td>Origional</td>\n",
       "    </tr>\n",
       "    <tr>\n",
       "      <th>20</th>\n",
       "      <td>London</td>\n",
       "      <td>2013</td>\n",
       "      <td>8.438987e+06</td>\n",
       "      <td>Origional</td>\n",
       "    </tr>\n",
       "    <tr>\n",
       "      <th>29</th>\n",
       "      <td>London</td>\n",
       "      <td>2014</td>\n",
       "      <td>8.547192e+06</td>\n",
       "      <td>Origional</td>\n",
       "    </tr>\n",
       "    <tr>\n",
       "      <th>38</th>\n",
       "      <td>London</td>\n",
       "      <td>2015</td>\n",
       "      <td>8.659545e+06</td>\n",
       "      <td>Origional</td>\n",
       "    </tr>\n",
       "    <tr>\n",
       "      <th>47</th>\n",
       "      <td>London</td>\n",
       "      <td>2016</td>\n",
       "      <td>8.743651e+06</td>\n",
       "      <td>Origional</td>\n",
       "    </tr>\n",
       "    <tr>\n",
       "      <th>56</th>\n",
       "      <td>London</td>\n",
       "      <td>2017</td>\n",
       "      <td>8.776229e+06</td>\n",
       "      <td>Origional</td>\n",
       "    </tr>\n",
       "    <tr>\n",
       "      <th>65</th>\n",
       "      <td>London</td>\n",
       "      <td>2018</td>\n",
       "      <td>8.833335e+06</td>\n",
       "      <td>Origional</td>\n",
       "    </tr>\n",
       "    <tr>\n",
       "      <th>74</th>\n",
       "      <td>London</td>\n",
       "      <td>2019</td>\n",
       "      <td>8.889743e+06</td>\n",
       "      <td>Origional</td>\n",
       "    </tr>\n",
       "    <tr>\n",
       "      <th>83</th>\n",
       "      <td>London</td>\n",
       "      <td>2020</td>\n",
       "      <td>8.867008e+06</td>\n",
       "      <td>Origional</td>\n",
       "    </tr>\n",
       "    <tr>\n",
       "      <th>92</th>\n",
       "      <td>London</td>\n",
       "      <td>2021</td>\n",
       "      <td>8.804769e+06</td>\n",
       "      <td>Origional</td>\n",
       "    </tr>\n",
       "    <tr>\n",
       "      <th>101</th>\n",
       "      <td>London</td>\n",
       "      <td>2022</td>\n",
       "      <td>8.869043e+06</td>\n",
       "      <td>Origional</td>\n",
       "    </tr>\n",
       "  </tbody>\n",
       "</table>\n",
       "</div>"
      ],
      "text/plain": [
       "     Region  Year    Population     Data_Type\n",
       "120  London  2005  7.743208e+06  Extrapolated\n",
       "121  London  2006  7.829041e+06  Extrapolated\n",
       "122  London  2007  7.914874e+06  Extrapolated\n",
       "123  London  2008  8.000707e+06  Extrapolated\n",
       "124  London  2009  8.086540e+06  Extrapolated\n",
       "125  London  2010  8.172374e+06  Extrapolated\n",
       "2    London  2011  8.204407e+06     Origional\n",
       "11   London  2012  8.320767e+06     Origional\n",
       "20   London  2013  8.438987e+06     Origional\n",
       "29   London  2014  8.547192e+06     Origional\n",
       "38   London  2015  8.659545e+06     Origional\n",
       "47   London  2016  8.743651e+06     Origional\n",
       "56   London  2017  8.776229e+06     Origional\n",
       "65   London  2018  8.833335e+06     Origional\n",
       "74   London  2019  8.889743e+06     Origional\n",
       "83   London  2020  8.867008e+06     Origional\n",
       "92   London  2021  8.804769e+06     Origional\n",
       "101  London  2022  8.869043e+06     Origional"
      ]
     },
     "execution_count": 38,
     "metadata": {},
     "output_type": "execute_result"
    }
   ],
   "source": [
    "Population_by_Region_and_Year_Combined_v2[Population_by_Region_and_Year_Combined_v2['Region']=='London']"
   ]
  },
  {
   "cell_type": "code",
   "execution_count": 39,
   "metadata": {},
   "outputs": [],
   "source": [
    "#Data taken from here:\n",
    "#https://en.wikipedia.org/wiki/Regions_of_England See citation [28]\n",
    "\n",
    "Regional_Areas = pd.DataFrame({'Region':['North East','North West','Yorkshire and The Humber', 'East Midlands', 'West Midlands', 'East', 'London', 'South East', 'South West'],'Area km^2':['8581','14108','15404','15624','12998','19116','1572','1972','23836']})\n",
    "\n",
    "Regional_Areas['Area km^2'] = Regional_Areas['Area km^2'].astype(float)"
   ]
  },
  {
   "cell_type": "code",
   "execution_count": 40,
   "metadata": {},
   "outputs": [
    {
     "data": {
      "text/html": [
       "<div>\n",
       "<style scoped>\n",
       "    .dataframe tbody tr th:only-of-type {\n",
       "        vertical-align: middle;\n",
       "    }\n",
       "\n",
       "    .dataframe tbody tr th {\n",
       "        vertical-align: top;\n",
       "    }\n",
       "\n",
       "    .dataframe thead th {\n",
       "        text-align: right;\n",
       "    }\n",
       "</style>\n",
       "<table border=\"1\" class=\"dataframe\">\n",
       "  <thead>\n",
       "    <tr style=\"text-align: right;\">\n",
       "      <th></th>\n",
       "      <th>Region</th>\n",
       "      <th>Year</th>\n",
       "      <th>Population</th>\n",
       "      <th>Data_Type</th>\n",
       "      <th>Area km^2</th>\n",
       "      <th>Population_Density(Persons.km^-2)</th>\n",
       "    </tr>\n",
       "  </thead>\n",
       "  <tbody>\n",
       "    <tr>\n",
       "      <th>0</th>\n",
       "      <td>East</td>\n",
       "      <td>2005</td>\n",
       "      <td>5.551186e+06</td>\n",
       "      <td>Extrapolated</td>\n",
       "      <td>19116.0</td>\n",
       "      <td>290.394745</td>\n",
       "    </tr>\n",
       "    <tr>\n",
       "      <th>1</th>\n",
       "      <td>North East</td>\n",
       "      <td>2005</td>\n",
       "      <td>2.564187e+06</td>\n",
       "      <td>Extrapolated</td>\n",
       "      <td>8581.0</td>\n",
       "      <td>298.821453</td>\n",
       "    </tr>\n",
       "    <tr>\n",
       "      <th>2</th>\n",
       "      <td>London</td>\n",
       "      <td>2005</td>\n",
       "      <td>7.743208e+06</td>\n",
       "      <td>Extrapolated</td>\n",
       "      <td>1572.0</td>\n",
       "      <td>4925.704658</td>\n",
       "    </tr>\n",
       "    <tr>\n",
       "      <th>3</th>\n",
       "      <td>East Midlands</td>\n",
       "      <td>2005</td>\n",
       "      <td>3.663689e+06</td>\n",
       "      <td>Extrapolated</td>\n",
       "      <td>15624.0</td>\n",
       "      <td>234.491086</td>\n",
       "    </tr>\n",
       "    <tr>\n",
       "      <th>4</th>\n",
       "      <td>South West</td>\n",
       "      <td>2005</td>\n",
       "      <td>4.519226e+06</td>\n",
       "      <td>Extrapolated</td>\n",
       "      <td>23836.0</td>\n",
       "      <td>189.596679</td>\n",
       "    </tr>\n",
       "    <tr>\n",
       "      <th>...</th>\n",
       "      <td>...</td>\n",
       "      <td>...</td>\n",
       "      <td>...</td>\n",
       "      <td>...</td>\n",
       "      <td>...</td>\n",
       "      <td>...</td>\n",
       "    </tr>\n",
       "    <tr>\n",
       "      <th>157</th>\n",
       "      <td>West Midlands</td>\n",
       "      <td>2022</td>\n",
       "      <td>6.017026e+06</td>\n",
       "      <td>Origional</td>\n",
       "      <td>12998.0</td>\n",
       "      <td>462.919372</td>\n",
       "    </tr>\n",
       "    <tr>\n",
       "      <th>158</th>\n",
       "      <td>South West</td>\n",
       "      <td>2022</td>\n",
       "      <td>5.189846e+06</td>\n",
       "      <td>Origional</td>\n",
       "      <td>23836.0</td>\n",
       "      <td>217.731415</td>\n",
       "    </tr>\n",
       "    <tr>\n",
       "      <th>159</th>\n",
       "      <td>East</td>\n",
       "      <td>2022</td>\n",
       "      <td>6.401418e+06</td>\n",
       "      <td>Origional</td>\n",
       "      <td>19116.0</td>\n",
       "      <td>334.872254</td>\n",
       "    </tr>\n",
       "    <tr>\n",
       "      <th>160</th>\n",
       "      <td>North West</td>\n",
       "      <td>2022</td>\n",
       "      <td>7.012739e+06</td>\n",
       "      <td>Origional</td>\n",
       "      <td>14108.0</td>\n",
       "      <td>497.075347</td>\n",
       "    </tr>\n",
       "    <tr>\n",
       "      <th>161</th>\n",
       "      <td>North East</td>\n",
       "      <td>2022</td>\n",
       "      <td>2.682069e+06</td>\n",
       "      <td>Origional</td>\n",
       "      <td>8581.0</td>\n",
       "      <td>312.559026</td>\n",
       "    </tr>\n",
       "  </tbody>\n",
       "</table>\n",
       "<p>162 rows × 6 columns</p>\n",
       "</div>"
      ],
      "text/plain": [
       "            Region  Year    Population     Data_Type  Area km^2  \\\n",
       "0             East  2005  5.551186e+06  Extrapolated    19116.0   \n",
       "1       North East  2005  2.564187e+06  Extrapolated     8581.0   \n",
       "2           London  2005  7.743208e+06  Extrapolated     1572.0   \n",
       "3    East Midlands  2005  3.663689e+06  Extrapolated    15624.0   \n",
       "4       South West  2005  4.519226e+06  Extrapolated    23836.0   \n",
       "..             ...   ...           ...           ...        ...   \n",
       "157  West Midlands  2022  6.017026e+06     Origional    12998.0   \n",
       "158     South West  2022  5.189846e+06     Origional    23836.0   \n",
       "159           East  2022  6.401418e+06     Origional    19116.0   \n",
       "160     North West  2022  7.012739e+06     Origional    14108.0   \n",
       "161     North East  2022  2.682069e+06     Origional     8581.0   \n",
       "\n",
       "     Population_Density(Persons.km^-2)  \n",
       "0                           290.394745  \n",
       "1                           298.821453  \n",
       "2                          4925.704658  \n",
       "3                           234.491086  \n",
       "4                           189.596679  \n",
       "..                                 ...  \n",
       "157                         462.919372  \n",
       "158                         217.731415  \n",
       "159                         334.872254  \n",
       "160                         497.075347  \n",
       "161                         312.559026  \n",
       "\n",
       "[162 rows x 6 columns]"
      ]
     },
     "execution_count": 40,
     "metadata": {},
     "output_type": "execute_result"
    }
   ],
   "source": [
    "Population_Density_by_Region = Population_by_Region_and_Year_Combined_v2.merge(Regional_Areas, on='Region', how='left')\n",
    "Population_Density_by_Region['Population_Density(Persons.km^-2)'] = Population_Density_by_Region['Population'] / Population_Density_by_Region['Area km^2']\n",
    "Population_Density_by_Region"
   ]
  },
  {
   "cell_type": "markdown",
   "metadata": {},
   "source": [
    "Making Chloropleths\n",
    "\n",
    "Cite this user:\n",
    "https://github.com/martinjc/UK-GeoJSON/tree/master\n",
    "Cite this GeoJSON Specifically:\n",
    "https://raw.githubusercontent.com/martinjc/UK-GeoJSON/refs/heads/master/json/eurostat/ew/nuts1.json"
   ]
  },
  {
   "cell_type": "code",
   "execution_count": 41,
   "metadata": {},
   "outputs": [],
   "source": [
    "#Importing the GeoJSON\n",
    "with urlopen('https://raw.githubusercontent.com/martinjc/UK-GeoJSON/refs/heads/master/json/eurostat/ew/nuts1.json') as response:\n",
    "    Regions = json.load(response)\n",
    "    "
   ]
  },
  {
   "cell_type": "code",
   "execution_count": 42,
   "metadata": {},
   "outputs": [
    {
     "name": "stdout",
     "output_type": "stream",
     "text": [
      "UKC / North East (England)\n",
      "UKD / North West (England)\n",
      "UKE / Yorkshire and The Humber\n",
      "UKF / East Midlands (England)\n",
      "UKG / West Midlands (England)\n",
      "UKH / East of England\n",
      "UKI / London\n",
      "UKJ / South East (England)\n",
      "UKK / South West (England\n",
      "UKL / Wales\n"
     ]
    }
   ],
   "source": [
    "#Printing a list of all Regions in the GeoJSON along with their Location Code\n",
    "for ref in range(len(Regions['features'])):\n",
    "    print(f\"{Regions['features'][ref]['properties']['NUTS112CD']} / {Regions['features'][ref]['properties']['NUTS112NM']}\")"
   ]
  },
  {
   "cell_type": "code",
   "execution_count": 43,
   "metadata": {},
   "outputs": [
    {
     "data": {
      "text/plain": [
       "array(['North East', 'North West', 'Yorkshire and The Humber',\n",
       "       'East Midlands', 'West Midlands', 'East', 'London', 'South East',\n",
       "       'South West', 'Yorkshire and the Humber', 'Inner London',\n",
       "       'Outer London'], dtype=object)"
      ]
     },
     "execution_count": 43,
     "metadata": {},
     "output_type": "execute_result"
    }
   ],
   "source": [
    "#Printing a list of all the Location Codes in the Gas_Consumption dataframe\n",
    "Gas_Consumption['Country or region'].unique()"
   ]
  },
  {
   "cell_type": "code",
   "execution_count": 44,
   "metadata": {},
   "outputs": [
    {
     "data": {
      "text/html": [
       "<div>\n",
       "<style scoped>\n",
       "    .dataframe tbody tr th:only-of-type {\n",
       "        vertical-align: middle;\n",
       "    }\n",
       "\n",
       "    .dataframe tbody tr th {\n",
       "        vertical-align: top;\n",
       "    }\n",
       "\n",
       "    .dataframe thead th {\n",
       "        text-align: right;\n",
       "    }\n",
       "</style>\n",
       "<table border=\"1\" class=\"dataframe\">\n",
       "  <thead>\n",
       "    <tr style=\"text-align: right;\">\n",
       "      <th></th>\n",
       "      <th>Location_Code</th>\n",
       "      <th>In_Region</th>\n",
       "      <th>Region</th>\n",
       "    </tr>\n",
       "  </thead>\n",
       "  <tbody>\n",
       "    <tr>\n",
       "      <th>0</th>\n",
       "      <td>UKC</td>\n",
       "      <td>North East</td>\n",
       "      <td>North East</td>\n",
       "    </tr>\n",
       "    <tr>\n",
       "      <th>1</th>\n",
       "      <td>UKD</td>\n",
       "      <td>North West</td>\n",
       "      <td>North West</td>\n",
       "    </tr>\n",
       "    <tr>\n",
       "      <th>2</th>\n",
       "      <td>UKE</td>\n",
       "      <td>Yorkshire and The Humber</td>\n",
       "      <td>Yorkshire and The Humber</td>\n",
       "    </tr>\n",
       "    <tr>\n",
       "      <th>3</th>\n",
       "      <td>UKE</td>\n",
       "      <td>Yorkshire and the Humber</td>\n",
       "      <td>Yorkshire and The Humber</td>\n",
       "    </tr>\n",
       "    <tr>\n",
       "      <th>4</th>\n",
       "      <td>UKF</td>\n",
       "      <td>East Midlands</td>\n",
       "      <td>East Midlands</td>\n",
       "    </tr>\n",
       "    <tr>\n",
       "      <th>5</th>\n",
       "      <td>UKG</td>\n",
       "      <td>West Midlands</td>\n",
       "      <td>West Midlands</td>\n",
       "    </tr>\n",
       "    <tr>\n",
       "      <th>6</th>\n",
       "      <td>UKH</td>\n",
       "      <td>East</td>\n",
       "      <td>East</td>\n",
       "    </tr>\n",
       "    <tr>\n",
       "      <th>7</th>\n",
       "      <td>UKI</td>\n",
       "      <td>Inner London</td>\n",
       "      <td>London</td>\n",
       "    </tr>\n",
       "    <tr>\n",
       "      <th>8</th>\n",
       "      <td>UKI</td>\n",
       "      <td>Outer London</td>\n",
       "      <td>London</td>\n",
       "    </tr>\n",
       "    <tr>\n",
       "      <th>9</th>\n",
       "      <td>UKI</td>\n",
       "      <td>London</td>\n",
       "      <td>London</td>\n",
       "    </tr>\n",
       "    <tr>\n",
       "      <th>10</th>\n",
       "      <td>UKJ</td>\n",
       "      <td>South East</td>\n",
       "      <td>South East</td>\n",
       "    </tr>\n",
       "    <tr>\n",
       "      <th>11</th>\n",
       "      <td>UKK</td>\n",
       "      <td>South West</td>\n",
       "      <td>South West</td>\n",
       "    </tr>\n",
       "  </tbody>\n",
       "</table>\n",
       "</div>"
      ],
      "text/plain": [
       "   Location_Code                 In_Region                    Region\n",
       "0            UKC                North East                North East\n",
       "1            UKD                North West                North West\n",
       "2            UKE  Yorkshire and The Humber  Yorkshire and The Humber\n",
       "3            UKE  Yorkshire and the Humber  Yorkshire and The Humber\n",
       "4            UKF             East Midlands             East Midlands\n",
       "5            UKG             West Midlands             West Midlands\n",
       "6            UKH                      East                      East\n",
       "7            UKI              Inner London                    London\n",
       "8            UKI              Outer London                    London\n",
       "9            UKI                    London                    London\n",
       "10           UKJ                South East                South East\n",
       "11           UKK                South West                South West"
      ]
     },
     "execution_count": 44,
     "metadata": {},
     "output_type": "execute_result"
    }
   ],
   "source": [
    "#Defining the Location_Code mapping table\n",
    "Location_Code_List = [\n",
    "    ('UKC', 'North East', 'North East'),\n",
    "    ('UKD', 'North West', 'North West'),\n",
    "    ('UKE', 'Yorkshire and The Humber', 'Yorkshire and The Humber'),\n",
    "    ('UKE', 'Yorkshire and the Humber', 'Yorkshire and The Humber'),\n",
    "    ('UKF', 'East Midlands', 'East Midlands'),\n",
    "    ('UKG', 'West Midlands', 'West Midlands'),\n",
    "    ('UKH', 'East', 'East'),\n",
    "    ('UKI', 'Inner London', 'London'),\n",
    "    ('UKI', 'Outer London', 'London'),\n",
    "    ('UKI', 'London', 'London'),\n",
    "    ('UKJ', 'South East', 'South East'),\n",
    "    ('UKK', 'South West', 'South West')\n",
    "]\n",
    "\n",
    "Location_Code = pd.DataFrame(Location_Code_List, columns=['Location_Code', 'In_Region', 'Region'])\n",
    "Location_Code"
   ]
  },
  {
   "cell_type": "code",
   "execution_count": 45,
   "metadata": {},
   "outputs": [
    {
     "data": {
      "text/html": [
       "<div>\n",
       "<style scoped>\n",
       "    .dataframe tbody tr th:only-of-type {\n",
       "        vertical-align: middle;\n",
       "    }\n",
       "\n",
       "    .dataframe tbody tr th {\n",
       "        vertical-align: top;\n",
       "    }\n",
       "\n",
       "    .dataframe thead th {\n",
       "        text-align: right;\n",
       "    }\n",
       "</style>\n",
       "<table border=\"1\" class=\"dataframe\">\n",
       "  <thead>\n",
       "    <tr style=\"text-align: right;\">\n",
       "      <th></th>\n",
       "      <th>Year</th>\n",
       "      <th>Location_Code</th>\n",
       "      <th>Region</th>\n",
       "      <th>Number of meters\\n(thousands):\\nDomestic\\n</th>\n",
       "      <th>Number of meters\\n(thousands):\\nNon-Domestic</th>\n",
       "      <th>Number of meters\\n(thousands):\\nAll meters</th>\n",
       "      <th>Total consumption\\n(GWh):\\nDomestic\\n</th>\n",
       "      <th>Total consumption\\n(GWh):\\nNon-Domestic</th>\n",
       "      <th>Total consumption\\n(GWh):\\nAll meters</th>\n",
       "      <th>Mean consumption\\n(kWh per meter):\\nDomestic\\n</th>\n",
       "      <th>Mean consumption\\n(kWh per meter):\\nNon-Domestic</th>\n",
       "      <th>Mean consumption\\n(kWh per meter):\\nAll meters</th>\n",
       "    </tr>\n",
       "  </thead>\n",
       "  <tbody>\n",
       "    <tr>\n",
       "      <th>0</th>\n",
       "      <td>2005</td>\n",
       "      <td>UKC</td>\n",
       "      <td>North East</td>\n",
       "      <td>1037.403</td>\n",
       "      <td>16.219</td>\n",
       "      <td>1053.622</td>\n",
       "      <td>20710.658157</td>\n",
       "      <td>13952.158200</td>\n",
       "      <td>34662.816357</td>\n",
       "      <td>19963.946660</td>\n",
       "      <td>860235.415254</td>\n",
       "      <td>32898.721132</td>\n",
       "    </tr>\n",
       "    <tr>\n",
       "      <th>1</th>\n",
       "      <td>2005</td>\n",
       "      <td>UKD</td>\n",
       "      <td>North West</td>\n",
       "      <td>2747.967</td>\n",
       "      <td>48.871</td>\n",
       "      <td>2796.838</td>\n",
       "      <td>53390.873953</td>\n",
       "      <td>35926.287793</td>\n",
       "      <td>89317.161746</td>\n",
       "      <td>19429.226753</td>\n",
       "      <td>735124.875550</td>\n",
       "      <td>31935.050134</td>\n",
       "    </tr>\n",
       "    <tr>\n",
       "      <th>2</th>\n",
       "      <td>2005</td>\n",
       "      <td>UKE</td>\n",
       "      <td>Yorkshire and The Humber</td>\n",
       "      <td>1989.970</td>\n",
       "      <td>36.997</td>\n",
       "      <td>2026.967</td>\n",
       "      <td>39024.143235</td>\n",
       "      <td>30648.965991</td>\n",
       "      <td>69673.109226</td>\n",
       "      <td>19610.417863</td>\n",
       "      <td>828417.601184</td>\n",
       "      <td>34373.085120</td>\n",
       "    </tr>\n",
       "    <tr>\n",
       "      <th>3</th>\n",
       "      <td>2005</td>\n",
       "      <td>UKF</td>\n",
       "      <td>East Midlands</td>\n",
       "      <td>1620.786</td>\n",
       "      <td>28.502</td>\n",
       "      <td>1649.288</td>\n",
       "      <td>31469.021304</td>\n",
       "      <td>18936.399391</td>\n",
       "      <td>50405.420695</td>\n",
       "      <td>19415.901485</td>\n",
       "      <td>664388.442601</td>\n",
       "      <td>30561.927750</td>\n",
       "    </tr>\n",
       "    <tr>\n",
       "      <th>4</th>\n",
       "      <td>2005</td>\n",
       "      <td>UKG</td>\n",
       "      <td>West Midlands</td>\n",
       "      <td>1984.918</td>\n",
       "      <td>36.397</td>\n",
       "      <td>2021.315</td>\n",
       "      <td>37726.189511</td>\n",
       "      <td>22962.792215</td>\n",
       "      <td>60688.981726</td>\n",
       "      <td>19006.422185</td>\n",
       "      <td>630897.937055</td>\n",
       "      <td>30024.504704</td>\n",
       "    </tr>\n",
       "    <tr>\n",
       "      <th>...</th>\n",
       "      <td>...</td>\n",
       "      <td>...</td>\n",
       "      <td>...</td>\n",
       "      <td>...</td>\n",
       "      <td>...</td>\n",
       "      <td>...</td>\n",
       "      <td>...</td>\n",
       "      <td>...</td>\n",
       "      <td>...</td>\n",
       "      <td>...</td>\n",
       "      <td>...</td>\n",
       "      <td>...</td>\n",
       "    </tr>\n",
       "    <tr>\n",
       "      <th>157</th>\n",
       "      <td>2022</td>\n",
       "      <td>UKG</td>\n",
       "      <td>West Midlands</td>\n",
       "      <td>2221.428</td>\n",
       "      <td>21.914</td>\n",
       "      <td>2243.342</td>\n",
       "      <td>25247.105176</td>\n",
       "      <td>15406.577700</td>\n",
       "      <td>40653.682876</td>\n",
       "      <td>11365.259273</td>\n",
       "      <td>703047.262016</td>\n",
       "      <td>18121.928300</td>\n",
       "    </tr>\n",
       "    <tr>\n",
       "      <th>158</th>\n",
       "      <td>2022</td>\n",
       "      <td>UKH</td>\n",
       "      <td>East</td>\n",
       "      <td>2217.992</td>\n",
       "      <td>20.366</td>\n",
       "      <td>2238.358</td>\n",
       "      <td>25143.154335</td>\n",
       "      <td>13711.245874</td>\n",
       "      <td>38854.400209</td>\n",
       "      <td>11335.998658</td>\n",
       "      <td>673241.965715</td>\n",
       "      <td>17358.438734</td>\n",
       "    </tr>\n",
       "    <tr>\n",
       "      <th>159</th>\n",
       "      <td>2022</td>\n",
       "      <td>UKI</td>\n",
       "      <td>London</td>\n",
       "      <td>3001.866</td>\n",
       "      <td>39.524</td>\n",
       "      <td>3041.390</td>\n",
       "      <td>35792.967053</td>\n",
       "      <td>19576.692142</td>\n",
       "      <td>55369.659195</td>\n",
       "      <td>11923.572555</td>\n",
       "      <td>495311.510530</td>\n",
       "      <td>18205.379512</td>\n",
       "    </tr>\n",
       "    <tr>\n",
       "      <th>160</th>\n",
       "      <td>2022</td>\n",
       "      <td>UKJ</td>\n",
       "      <td>South East</td>\n",
       "      <td>3428.042</td>\n",
       "      <td>35.662</td>\n",
       "      <td>3463.704</td>\n",
       "      <td>39604.299045</td>\n",
       "      <td>16541.969255</td>\n",
       "      <td>56146.268301</td>\n",
       "      <td>11553.037870</td>\n",
       "      <td>463854.221730</td>\n",
       "      <td>16209.892156</td>\n",
       "    </tr>\n",
       "    <tr>\n",
       "      <th>161</th>\n",
       "      <td>2022</td>\n",
       "      <td>UKK</td>\n",
       "      <td>South West</td>\n",
       "      <td>1994.866</td>\n",
       "      <td>18.140</td>\n",
       "      <td>2013.006</td>\n",
       "      <td>19620.178140</td>\n",
       "      <td>10846.932730</td>\n",
       "      <td>30467.110870</td>\n",
       "      <td>9835.336379</td>\n",
       "      <td>597956.600307</td>\n",
       "      <td>15135.131674</td>\n",
       "    </tr>\n",
       "  </tbody>\n",
       "</table>\n",
       "<p>162 rows × 12 columns</p>\n",
       "</div>"
      ],
      "text/plain": [
       "     Year Location_Code                    Region  \\\n",
       "0    2005           UKC                North East   \n",
       "1    2005           UKD                North West   \n",
       "2    2005           UKE  Yorkshire and The Humber   \n",
       "3    2005           UKF             East Midlands   \n",
       "4    2005           UKG             West Midlands   \n",
       "..    ...           ...                       ...   \n",
       "157  2022           UKG             West Midlands   \n",
       "158  2022           UKH                      East   \n",
       "159  2022           UKI                    London   \n",
       "160  2022           UKJ                South East   \n",
       "161  2022           UKK                South West   \n",
       "\n",
       "     Number of meters\\n(thousands):\\nDomestic\\n  \\\n",
       "0                                      1037.403   \n",
       "1                                      2747.967   \n",
       "2                                      1989.970   \n",
       "3                                      1620.786   \n",
       "4                                      1984.918   \n",
       "..                                          ...   \n",
       "157                                    2221.428   \n",
       "158                                    2217.992   \n",
       "159                                    3001.866   \n",
       "160                                    3428.042   \n",
       "161                                    1994.866   \n",
       "\n",
       "     Number of meters\\n(thousands):\\nNon-Domestic  \\\n",
       "0                                          16.219   \n",
       "1                                          48.871   \n",
       "2                                          36.997   \n",
       "3                                          28.502   \n",
       "4                                          36.397   \n",
       "..                                            ...   \n",
       "157                                        21.914   \n",
       "158                                        20.366   \n",
       "159                                        39.524   \n",
       "160                                        35.662   \n",
       "161                                        18.140   \n",
       "\n",
       "     Number of meters\\n(thousands):\\nAll meters  \\\n",
       "0                                      1053.622   \n",
       "1                                      2796.838   \n",
       "2                                      2026.967   \n",
       "3                                      1649.288   \n",
       "4                                      2021.315   \n",
       "..                                          ...   \n",
       "157                                    2243.342   \n",
       "158                                    2238.358   \n",
       "159                                    3041.390   \n",
       "160                                    3463.704   \n",
       "161                                    2013.006   \n",
       "\n",
       "     Total consumption\\n(GWh):\\nDomestic\\n  \\\n",
       "0                             20710.658157   \n",
       "1                             53390.873953   \n",
       "2                             39024.143235   \n",
       "3                             31469.021304   \n",
       "4                             37726.189511   \n",
       "..                                     ...   \n",
       "157                           25247.105176   \n",
       "158                           25143.154335   \n",
       "159                           35792.967053   \n",
       "160                           39604.299045   \n",
       "161                           19620.178140   \n",
       "\n",
       "     Total consumption\\n(GWh):\\nNon-Domestic  \\\n",
       "0                               13952.158200   \n",
       "1                               35926.287793   \n",
       "2                               30648.965991   \n",
       "3                               18936.399391   \n",
       "4                               22962.792215   \n",
       "..                                       ...   \n",
       "157                             15406.577700   \n",
       "158                             13711.245874   \n",
       "159                             19576.692142   \n",
       "160                             16541.969255   \n",
       "161                             10846.932730   \n",
       "\n",
       "     Total consumption\\n(GWh):\\nAll meters  \\\n",
       "0                             34662.816357   \n",
       "1                             89317.161746   \n",
       "2                             69673.109226   \n",
       "3                             50405.420695   \n",
       "4                             60688.981726   \n",
       "..                                     ...   \n",
       "157                           40653.682876   \n",
       "158                           38854.400209   \n",
       "159                           55369.659195   \n",
       "160                           56146.268301   \n",
       "161                           30467.110870   \n",
       "\n",
       "     Mean consumption\\n(kWh per meter):\\nDomestic\\n  \\\n",
       "0                                      19963.946660   \n",
       "1                                      19429.226753   \n",
       "2                                      19610.417863   \n",
       "3                                      19415.901485   \n",
       "4                                      19006.422185   \n",
       "..                                              ...   \n",
       "157                                    11365.259273   \n",
       "158                                    11335.998658   \n",
       "159                                    11923.572555   \n",
       "160                                    11553.037870   \n",
       "161                                     9835.336379   \n",
       "\n",
       "     Mean consumption\\n(kWh per meter):\\nNon-Domestic  \\\n",
       "0                                       860235.415254   \n",
       "1                                       735124.875550   \n",
       "2                                       828417.601184   \n",
       "3                                       664388.442601   \n",
       "4                                       630897.937055   \n",
       "..                                                ...   \n",
       "157                                     703047.262016   \n",
       "158                                     673241.965715   \n",
       "159                                     495311.510530   \n",
       "160                                     463854.221730   \n",
       "161                                     597956.600307   \n",
       "\n",
       "     Mean consumption\\n(kWh per meter):\\nAll meters  \n",
       "0                                      32898.721132  \n",
       "1                                      31935.050134  \n",
       "2                                      34373.085120  \n",
       "3                                      30561.927750  \n",
       "4                                      30024.504704  \n",
       "..                                              ...  \n",
       "157                                    18121.928300  \n",
       "158                                    17358.438734  \n",
       "159                                    18205.379512  \n",
       "160                                    16209.892156  \n",
       "161                                    15135.131674  \n",
       "\n",
       "[162 rows x 12 columns]"
      ]
     },
     "execution_count": 45,
     "metadata": {},
     "output_type": "execute_result"
    }
   ],
   "source": [
    "#This step reclassifies regions into the desired regions found in the Geo-JSON\n",
    "Gas_Consumption_Cleaned = Gas_Consumption.merge(Location_Code, right_on='In_Region', left_on='Country or region', how='left')\n",
    "\n",
    "#This step combines values for Outer and inner london, which have both been classified as London\n",
    "Gas_Consumption_Cleaned = Gas_Consumption_Cleaned.groupby(['Year','Location_Code'],as_index=False).agg({\n",
    "    'Region': 'max',\n",
    "    'Number of meters\\n(thousands):\\nDomestic\\n' : 'sum',\n",
    "     'Number of meters\\n(thousands):\\nNon-Domestic': 'sum',\n",
    "     'Number of meters\\n(thousands):\\nAll meters': 'sum',\n",
    "     'Total consumption\\n(GWh):\\nDomestic\\n': 'sum',\n",
    "     'Total consumption\\n(GWh):\\nNon-Domestic': 'sum',\n",
    "     'Total consumption\\n(GWh):\\nAll meters': 'sum',\n",
    "     'Mean consumption\\n(kWh per meter):\\nDomestic\\n': 'sum',\n",
    "     'Mean consumption\\n(kWh per meter):\\nNon-Domestic': 'sum',\n",
    "     'Mean consumption\\n(kWh per meter):\\nAll meters' : 'sum'\n",
    "})\n",
    "Gas_Consumption_Cleaned"
   ]
  },
  {
   "cell_type": "code",
   "execution_count": 46,
   "metadata": {},
   "outputs": [
    {
     "data": {
      "text/html": [
       "<div>\n",
       "<style scoped>\n",
       "    .dataframe tbody tr th:only-of-type {\n",
       "        vertical-align: middle;\n",
       "    }\n",
       "\n",
       "    .dataframe tbody tr th {\n",
       "        vertical-align: top;\n",
       "    }\n",
       "\n",
       "    .dataframe thead th {\n",
       "        text-align: right;\n",
       "    }\n",
       "</style>\n",
       "<table border=\"1\" class=\"dataframe\">\n",
       "  <thead>\n",
       "    <tr style=\"text-align: right;\">\n",
       "      <th></th>\n",
       "      <th>Year</th>\n",
       "      <th>Location_Code</th>\n",
       "      <th>Region</th>\n",
       "      <th>Number of meters\\n(thousands):\\nDomestic\\n</th>\n",
       "      <th>Number of meters\\n(thousands):\\nNon-Domestic</th>\n",
       "      <th>Number of meters\\n(thousands):\\nAll meters</th>\n",
       "      <th>Total consumption\\n(GWh):\\nDomestic\\n</th>\n",
       "      <th>Total consumption\\n(GWh):\\nNon-Domestic</th>\n",
       "      <th>Total consumption\\n(GWh):\\nAll meters</th>\n",
       "      <th>Mean consumption\\n(kWh per meter):\\nDomestic\\n</th>\n",
       "      <th>Mean consumption\\n(kWh per meter):\\nNon-Domestic</th>\n",
       "      <th>Mean consumption\\n(kWh per meter):\\nAll meters</th>\n",
       "    </tr>\n",
       "  </thead>\n",
       "  <tbody>\n",
       "  </tbody>\n",
       "</table>\n",
       "</div>"
      ],
      "text/plain": [
       "Empty DataFrame\n",
       "Columns: [Year, Location_Code, Region, Number of meters\n",
       "(thousands):\n",
       "Domestic\n",
       ", Number of meters\n",
       "(thousands):\n",
       "Non-Domestic, Number of meters\n",
       "(thousands):\n",
       "All meters, Total consumption\n",
       "(GWh):\n",
       "Domestic\n",
       ", Total consumption\n",
       "(GWh):\n",
       "Non-Domestic, Total consumption\n",
       "(GWh):\n",
       "All meters, Mean consumption\n",
       "(kWh per meter):\n",
       "Domestic\n",
       ", Mean consumption\n",
       "(kWh per meter):\n",
       "Non-Domestic, Mean consumption\n",
       "(kWh per meter):\n",
       "All meters]\n",
       "Index: []"
      ]
     },
     "execution_count": 46,
     "metadata": {},
     "output_type": "execute_result"
    }
   ],
   "source": [
    "#Checking that all regions have been successfully allocated a Location_Code\n",
    "Gas_Consumption_Cleaned[Gas_Consumption_Cleaned['Location_Code'].isnull()]"
   ]
  },
  {
   "cell_type": "code",
   "execution_count": 47,
   "metadata": {},
   "outputs": [],
   "source": [
    "#Converts the field 'Year' to an integer to allow following join\n",
    "Gas_Consumption_Cleaned['Year'] = Gas_Consumption_Cleaned['Year'].astype(int)"
   ]
  },
  {
   "cell_type": "code",
   "execution_count": 48,
   "metadata": {},
   "outputs": [
    {
     "data": {
      "text/html": [
       "<div>\n",
       "<style scoped>\n",
       "    .dataframe tbody tr th:only-of-type {\n",
       "        vertical-align: middle;\n",
       "    }\n",
       "\n",
       "    .dataframe tbody tr th {\n",
       "        vertical-align: top;\n",
       "    }\n",
       "\n",
       "    .dataframe thead th {\n",
       "        text-align: right;\n",
       "    }\n",
       "</style>\n",
       "<table border=\"1\" class=\"dataframe\">\n",
       "  <thead>\n",
       "    <tr style=\"text-align: right;\">\n",
       "      <th></th>\n",
       "      <th>Year</th>\n",
       "      <th>Location_Code</th>\n",
       "      <th>Region</th>\n",
       "      <th>Number of meters\\n(thousands):\\nDomestic\\n</th>\n",
       "      <th>Number of meters\\n(thousands):\\nNon-Domestic</th>\n",
       "      <th>Number of meters\\n(thousands):\\nAll meters</th>\n",
       "      <th>Total consumption\\n(GWh):\\nDomestic\\n</th>\n",
       "      <th>Total consumption\\n(GWh):\\nNon-Domestic</th>\n",
       "      <th>Total consumption\\n(GWh):\\nAll meters</th>\n",
       "      <th>Mean consumption\\n(kWh per meter):\\nDomestic\\n</th>\n",
       "      <th>Mean consumption\\n(kWh per meter):\\nNon-Domestic</th>\n",
       "      <th>Mean consumption\\n(kWh per meter):\\nAll meters</th>\n",
       "      <th>Population</th>\n",
       "      <th>Data_Type</th>\n",
       "      <th>Area km^2</th>\n",
       "      <th>Population_Density(Persons.km^-2)</th>\n",
       "    </tr>\n",
       "  </thead>\n",
       "  <tbody>\n",
       "    <tr>\n",
       "      <th>45</th>\n",
       "      <td>2010</td>\n",
       "      <td>UKC</td>\n",
       "      <td>North East</td>\n",
       "      <td>1080.768</td>\n",
       "      <td>11.923</td>\n",
       "      <td>1092.691</td>\n",
       "      <td>16620.453603</td>\n",
       "      <td>9478.474684</td>\n",
       "      <td>26098.928287</td>\n",
       "      <td>15378.373160</td>\n",
       "      <td>794973.973329</td>\n",
       "      <td>23885.003434</td>\n",
       "      <td>2.589266e+06</td>\n",
       "      <td>Extrapolated</td>\n",
       "      <td>8581.0</td>\n",
       "      <td>301.744092</td>\n",
       "    </tr>\n",
       "    <tr>\n",
       "      <th>46</th>\n",
       "      <td>2010</td>\n",
       "      <td>UKD</td>\n",
       "      <td>North West</td>\n",
       "      <td>2833.501</td>\n",
       "      <td>34.101</td>\n",
       "      <td>2867.602</td>\n",
       "      <td>43159.855574</td>\n",
       "      <td>26673.463523</td>\n",
       "      <td>69833.319097</td>\n",
       "      <td>15231.988827</td>\n",
       "      <td>782190.068414</td>\n",
       "      <td>24352.514434</td>\n",
       "      <td>6.498146e+06</td>\n",
       "      <td>Extrapolated</td>\n",
       "      <td>14108.0</td>\n",
       "      <td>460.600117</td>\n",
       "    </tr>\n",
       "    <tr>\n",
       "      <th>47</th>\n",
       "      <td>2010</td>\n",
       "      <td>UKE</td>\n",
       "      <td>Yorkshire and The Humber</td>\n",
       "      <td>2083.114</td>\n",
       "      <td>25.578</td>\n",
       "      <td>2108.692</td>\n",
       "      <td>32486.133640</td>\n",
       "      <td>22541.149332</td>\n",
       "      <td>55027.282972</td>\n",
       "      <td>15594.985987</td>\n",
       "      <td>881270.988037</td>\n",
       "      <td>26095.457740</td>\n",
       "      <td>4.667718e+06</td>\n",
       "      <td>Extrapolated</td>\n",
       "      <td>15404.0</td>\n",
       "      <td>303.019842</td>\n",
       "    </tr>\n",
       "    <tr>\n",
       "      <th>48</th>\n",
       "      <td>2010</td>\n",
       "      <td>UKF</td>\n",
       "      <td>East Midlands</td>\n",
       "      <td>1714.820</td>\n",
       "      <td>19.904</td>\n",
       "      <td>1734.724</td>\n",
       "      <td>26448.515431</td>\n",
       "      <td>14815.583187</td>\n",
       "      <td>41264.098618</td>\n",
       "      <td>15423.493679</td>\n",
       "      <td>744352.049186</td>\n",
       "      <td>23787.126147</td>\n",
       "      <td>3.809082e+06</td>\n",
       "      <td>Extrapolated</td>\n",
       "      <td>15624.0</td>\n",
       "      <td>243.796871</td>\n",
       "    </tr>\n",
       "    <tr>\n",
       "      <th>49</th>\n",
       "      <td>2010</td>\n",
       "      <td>UKG</td>\n",
       "      <td>West Midlands</td>\n",
       "      <td>2068.149</td>\n",
       "      <td>24.960</td>\n",
       "      <td>2093.109</td>\n",
       "      <td>31161.449497</td>\n",
       "      <td>16743.357037</td>\n",
       "      <td>47904.806534</td>\n",
       "      <td>15067.313572</td>\n",
       "      <td>670807.573598</td>\n",
       "      <td>22886.914410</td>\n",
       "      <td>5.560093e+06</td>\n",
       "      <td>Extrapolated</td>\n",
       "      <td>12998.0</td>\n",
       "      <td>427.765291</td>\n",
       "    </tr>\n",
       "    <tr>\n",
       "      <th>50</th>\n",
       "      <td>2010</td>\n",
       "      <td>UKH</td>\n",
       "      <td>East</td>\n",
       "      <td>2004.529</td>\n",
       "      <td>23.978</td>\n",
       "      <td>2028.507</td>\n",
       "      <td>30751.229491</td>\n",
       "      <td>17361.387992</td>\n",
       "      <td>48112.617483</td>\n",
       "      <td>15340.875333</td>\n",
       "      <td>724054.883310</td>\n",
       "      <td>23718.240796</td>\n",
       "      <td>5.817881e+06</td>\n",
       "      <td>Extrapolated</td>\n",
       "      <td>19116.0</td>\n",
       "      <td>304.346169</td>\n",
       "    </tr>\n",
       "    <tr>\n",
       "      <th>51</th>\n",
       "      <td>2010</td>\n",
       "      <td>UKI</td>\n",
       "      <td>London</td>\n",
       "      <td>2987.734</td>\n",
       "      <td>44.259</td>\n",
       "      <td>3031.993</td>\n",
       "      <td>44701.219243</td>\n",
       "      <td>22721.974812</td>\n",
       "      <td>67423.194055</td>\n",
       "      <td>14961.579325</td>\n",
       "      <td>513386.538602</td>\n",
       "      <td>22237.252545</td>\n",
       "      <td>8.172374e+06</td>\n",
       "      <td>Extrapolated</td>\n",
       "      <td>1572.0</td>\n",
       "      <td>5198.710966</td>\n",
       "    </tr>\n",
       "    <tr>\n",
       "      <th>52</th>\n",
       "      <td>2010</td>\n",
       "      <td>UKJ</td>\n",
       "      <td>South East</td>\n",
       "      <td>3130.822</td>\n",
       "      <td>41.931</td>\n",
       "      <td>3172.753</td>\n",
       "      <td>48158.250292</td>\n",
       "      <td>21256.898786</td>\n",
       "      <td>69415.149078</td>\n",
       "      <td>15381.982844</td>\n",
       "      <td>506949.483342</td>\n",
       "      <td>21878.522872</td>\n",
       "      <td>1.091100e+07</td>\n",
       "      <td>Extrapolated</td>\n",
       "      <td>1972.0</td>\n",
       "      <td>5532.959150</td>\n",
       "    </tr>\n",
       "    <tr>\n",
       "      <th>53</th>\n",
       "      <td>2010</td>\n",
       "      <td>UKK</td>\n",
       "      <td>South West</td>\n",
       "      <td>1779.916</td>\n",
       "      <td>20.640</td>\n",
       "      <td>1800.556</td>\n",
       "      <td>23919.620625</td>\n",
       "      <td>11367.803472</td>\n",
       "      <td>35287.424097</td>\n",
       "      <td>13438.623297</td>\n",
       "      <td>550765.672093</td>\n",
       "      <td>19598.070872</td>\n",
       "      <td>4.721775e+06</td>\n",
       "      <td>Extrapolated</td>\n",
       "      <td>23836.0</td>\n",
       "      <td>198.094253</td>\n",
       "    </tr>\n",
       "  </tbody>\n",
       "</table>\n",
       "</div>"
      ],
      "text/plain": [
       "    Year Location_Code                    Region  \\\n",
       "45  2010           UKC                North East   \n",
       "46  2010           UKD                North West   \n",
       "47  2010           UKE  Yorkshire and The Humber   \n",
       "48  2010           UKF             East Midlands   \n",
       "49  2010           UKG             West Midlands   \n",
       "50  2010           UKH                      East   \n",
       "51  2010           UKI                    London   \n",
       "52  2010           UKJ                South East   \n",
       "53  2010           UKK                South West   \n",
       "\n",
       "    Number of meters\\n(thousands):\\nDomestic\\n  \\\n",
       "45                                    1080.768   \n",
       "46                                    2833.501   \n",
       "47                                    2083.114   \n",
       "48                                    1714.820   \n",
       "49                                    2068.149   \n",
       "50                                    2004.529   \n",
       "51                                    2987.734   \n",
       "52                                    3130.822   \n",
       "53                                    1779.916   \n",
       "\n",
       "    Number of meters\\n(thousands):\\nNon-Domestic  \\\n",
       "45                                        11.923   \n",
       "46                                        34.101   \n",
       "47                                        25.578   \n",
       "48                                        19.904   \n",
       "49                                        24.960   \n",
       "50                                        23.978   \n",
       "51                                        44.259   \n",
       "52                                        41.931   \n",
       "53                                        20.640   \n",
       "\n",
       "    Number of meters\\n(thousands):\\nAll meters  \\\n",
       "45                                    1092.691   \n",
       "46                                    2867.602   \n",
       "47                                    2108.692   \n",
       "48                                    1734.724   \n",
       "49                                    2093.109   \n",
       "50                                    2028.507   \n",
       "51                                    3031.993   \n",
       "52                                    3172.753   \n",
       "53                                    1800.556   \n",
       "\n",
       "    Total consumption\\n(GWh):\\nDomestic\\n  \\\n",
       "45                           16620.453603   \n",
       "46                           43159.855574   \n",
       "47                           32486.133640   \n",
       "48                           26448.515431   \n",
       "49                           31161.449497   \n",
       "50                           30751.229491   \n",
       "51                           44701.219243   \n",
       "52                           48158.250292   \n",
       "53                           23919.620625   \n",
       "\n",
       "    Total consumption\\n(GWh):\\nNon-Domestic  \\\n",
       "45                              9478.474684   \n",
       "46                             26673.463523   \n",
       "47                             22541.149332   \n",
       "48                             14815.583187   \n",
       "49                             16743.357037   \n",
       "50                             17361.387992   \n",
       "51                             22721.974812   \n",
       "52                             21256.898786   \n",
       "53                             11367.803472   \n",
       "\n",
       "    Total consumption\\n(GWh):\\nAll meters  \\\n",
       "45                           26098.928287   \n",
       "46                           69833.319097   \n",
       "47                           55027.282972   \n",
       "48                           41264.098618   \n",
       "49                           47904.806534   \n",
       "50                           48112.617483   \n",
       "51                           67423.194055   \n",
       "52                           69415.149078   \n",
       "53                           35287.424097   \n",
       "\n",
       "    Mean consumption\\n(kWh per meter):\\nDomestic\\n  \\\n",
       "45                                    15378.373160   \n",
       "46                                    15231.988827   \n",
       "47                                    15594.985987   \n",
       "48                                    15423.493679   \n",
       "49                                    15067.313572   \n",
       "50                                    15340.875333   \n",
       "51                                    14961.579325   \n",
       "52                                    15381.982844   \n",
       "53                                    13438.623297   \n",
       "\n",
       "    Mean consumption\\n(kWh per meter):\\nNon-Domestic  \\\n",
       "45                                     794973.973329   \n",
       "46                                     782190.068414   \n",
       "47                                     881270.988037   \n",
       "48                                     744352.049186   \n",
       "49                                     670807.573598   \n",
       "50                                     724054.883310   \n",
       "51                                     513386.538602   \n",
       "52                                     506949.483342   \n",
       "53                                     550765.672093   \n",
       "\n",
       "    Mean consumption\\n(kWh per meter):\\nAll meters    Population  \\\n",
       "45                                    23885.003434  2.589266e+06   \n",
       "46                                    24352.514434  6.498146e+06   \n",
       "47                                    26095.457740  4.667718e+06   \n",
       "48                                    23787.126147  3.809082e+06   \n",
       "49                                    22886.914410  5.560093e+06   \n",
       "50                                    23718.240796  5.817881e+06   \n",
       "51                                    22237.252545  8.172374e+06   \n",
       "52                                    21878.522872  1.091100e+07   \n",
       "53                                    19598.070872  4.721775e+06   \n",
       "\n",
       "       Data_Type  Area km^2  Population_Density(Persons.km^-2)  \n",
       "45  Extrapolated     8581.0                         301.744092  \n",
       "46  Extrapolated    14108.0                         460.600117  \n",
       "47  Extrapolated    15404.0                         303.019842  \n",
       "48  Extrapolated    15624.0                         243.796871  \n",
       "49  Extrapolated    12998.0                         427.765291  \n",
       "50  Extrapolated    19116.0                         304.346169  \n",
       "51  Extrapolated     1572.0                        5198.710966  \n",
       "52  Extrapolated     1972.0                        5532.959150  \n",
       "53  Extrapolated    23836.0                         198.094253  "
      ]
     },
     "execution_count": 48,
     "metadata": {},
     "output_type": "execute_result"
    }
   ],
   "source": [
    "#Here I am merging the Population density data onto the Gas energy consumption data\n",
    "Gas_Consumption_Cleaned_PopD = Gas_Consumption_Cleaned.merge(Population_Density_by_Region, on=['Region','Year'], how='left')\n",
    "\n",
    "Gas_Consumption_Cleaned_PopD[Gas_Consumption_Cleaned_PopD['Year'] == 2010]"
   ]
  },
  {
   "cell_type": "code",
   "execution_count": 49,
   "metadata": {},
   "outputs": [
    {
     "data": {
      "text/html": [
       "<div>\n",
       "<style scoped>\n",
       "    .dataframe tbody tr th:only-of-type {\n",
       "        vertical-align: middle;\n",
       "    }\n",
       "\n",
       "    .dataframe tbody tr th {\n",
       "        vertical-align: top;\n",
       "    }\n",
       "\n",
       "    .dataframe thead th {\n",
       "        text-align: right;\n",
       "    }\n",
       "</style>\n",
       "<table border=\"1\" class=\"dataframe\">\n",
       "  <thead>\n",
       "    <tr style=\"text-align: right;\">\n",
       "      <th></th>\n",
       "      <th>Year</th>\n",
       "      <th>Location_Code</th>\n",
       "      <th>Region</th>\n",
       "      <th>Number of meters\\n(thousands):\\nDomestic\\n</th>\n",
       "      <th>Number of meters\\n(thousands):\\nNon-Domestic</th>\n",
       "      <th>Number of meters\\n(thousands):\\nAll meters</th>\n",
       "      <th>Total consumption\\n(GWh):\\nDomestic\\n</th>\n",
       "      <th>Total consumption\\n(GWh):\\nNon-Domestic</th>\n",
       "      <th>Total consumption\\n(GWh):\\nAll meters</th>\n",
       "      <th>Mean consumption\\n(kWh per meter):\\nDomestic\\n</th>\n",
       "      <th>Mean consumption\\n(kWh per meter):\\nNon-Domestic</th>\n",
       "      <th>Mean consumption\\n(kWh per meter):\\nAll meters</th>\n",
       "      <th>Population</th>\n",
       "      <th>Data_Type</th>\n",
       "      <th>Area km^2</th>\n",
       "      <th>Population_Density(Persons.km^-2)</th>\n",
       "      <th>Domestic_Gas_Consumption(GWh/person)</th>\n",
       "      <th>Commercial_Gas_Consumption(GWh/person)</th>\n",
       "      <th>Total_Gas_Consumption(GWh/person)</th>\n",
       "    </tr>\n",
       "  </thead>\n",
       "  <tbody>\n",
       "    <tr>\n",
       "      <th>0</th>\n",
       "      <td>2005</td>\n",
       "      <td>UKC</td>\n",
       "      <td>North East</td>\n",
       "      <td>1037.403</td>\n",
       "      <td>16.219</td>\n",
       "      <td>1053.622</td>\n",
       "      <td>20710.658157</td>\n",
       "      <td>13952.158200</td>\n",
       "      <td>34662.816357</td>\n",
       "      <td>19963.946660</td>\n",
       "      <td>860235.415254</td>\n",
       "      <td>32898.721132</td>\n",
       "      <td>2.564187e+06</td>\n",
       "      <td>Extrapolated</td>\n",
       "      <td>8581.0</td>\n",
       "      <td>298.821453</td>\n",
       "      <td>0.008077</td>\n",
       "      <td>0.005441</td>\n",
       "      <td>0.013518</td>\n",
       "    </tr>\n",
       "    <tr>\n",
       "      <th>1</th>\n",
       "      <td>2005</td>\n",
       "      <td>UKD</td>\n",
       "      <td>North West</td>\n",
       "      <td>2747.967</td>\n",
       "      <td>48.871</td>\n",
       "      <td>2796.838</td>\n",
       "      <td>53390.873953</td>\n",
       "      <td>35926.287793</td>\n",
       "      <td>89317.161746</td>\n",
       "      <td>19429.226753</td>\n",
       "      <td>735124.875550</td>\n",
       "      <td>31935.050134</td>\n",
       "      <td>6.300295e+06</td>\n",
       "      <td>Extrapolated</td>\n",
       "      <td>14108.0</td>\n",
       "      <td>446.576040</td>\n",
       "      <td>0.008474</td>\n",
       "      <td>0.005702</td>\n",
       "      <td>0.014177</td>\n",
       "    </tr>\n",
       "    <tr>\n",
       "      <th>2</th>\n",
       "      <td>2005</td>\n",
       "      <td>UKE</td>\n",
       "      <td>Yorkshire and The Humber</td>\n",
       "      <td>1989.970</td>\n",
       "      <td>36.997</td>\n",
       "      <td>2026.967</td>\n",
       "      <td>39024.143235</td>\n",
       "      <td>30648.965991</td>\n",
       "      <td>69673.109226</td>\n",
       "      <td>19610.417863</td>\n",
       "      <td>828417.601184</td>\n",
       "      <td>34373.085120</td>\n",
       "      <td>4.561347e+06</td>\n",
       "      <td>Extrapolated</td>\n",
       "      <td>15404.0</td>\n",
       "      <td>296.114433</td>\n",
       "      <td>0.008555</td>\n",
       "      <td>0.006719</td>\n",
       "      <td>0.015275</td>\n",
       "    </tr>\n",
       "    <tr>\n",
       "      <th>3</th>\n",
       "      <td>2005</td>\n",
       "      <td>UKF</td>\n",
       "      <td>East Midlands</td>\n",
       "      <td>1620.786</td>\n",
       "      <td>28.502</td>\n",
       "      <td>1649.288</td>\n",
       "      <td>31469.021304</td>\n",
       "      <td>18936.399391</td>\n",
       "      <td>50405.420695</td>\n",
       "      <td>19415.901485</td>\n",
       "      <td>664388.442601</td>\n",
       "      <td>30561.927750</td>\n",
       "      <td>3.663689e+06</td>\n",
       "      <td>Extrapolated</td>\n",
       "      <td>15624.0</td>\n",
       "      <td>234.491086</td>\n",
       "      <td>0.008589</td>\n",
       "      <td>0.005169</td>\n",
       "      <td>0.013758</td>\n",
       "    </tr>\n",
       "    <tr>\n",
       "      <th>4</th>\n",
       "      <td>2005</td>\n",
       "      <td>UKG</td>\n",
       "      <td>West Midlands</td>\n",
       "      <td>1984.918</td>\n",
       "      <td>36.397</td>\n",
       "      <td>2021.315</td>\n",
       "      <td>37726.189511</td>\n",
       "      <td>22962.792215</td>\n",
       "      <td>60688.981726</td>\n",
       "      <td>19006.422185</td>\n",
       "      <td>630897.937055</td>\n",
       "      <td>30024.504704</td>\n",
       "      <td>5.356108e+06</td>\n",
       "      <td>Extrapolated</td>\n",
       "      <td>12998.0</td>\n",
       "      <td>412.071665</td>\n",
       "      <td>0.007044</td>\n",
       "      <td>0.004287</td>\n",
       "      <td>0.011331</td>\n",
       "    </tr>\n",
       "    <tr>\n",
       "      <th>...</th>\n",
       "      <td>...</td>\n",
       "      <td>...</td>\n",
       "      <td>...</td>\n",
       "      <td>...</td>\n",
       "      <td>...</td>\n",
       "      <td>...</td>\n",
       "      <td>...</td>\n",
       "      <td>...</td>\n",
       "      <td>...</td>\n",
       "      <td>...</td>\n",
       "      <td>...</td>\n",
       "      <td>...</td>\n",
       "      <td>...</td>\n",
       "      <td>...</td>\n",
       "      <td>...</td>\n",
       "      <td>...</td>\n",
       "      <td>...</td>\n",
       "      <td>...</td>\n",
       "      <td>...</td>\n",
       "    </tr>\n",
       "    <tr>\n",
       "      <th>157</th>\n",
       "      <td>2022</td>\n",
       "      <td>UKG</td>\n",
       "      <td>West Midlands</td>\n",
       "      <td>2221.428</td>\n",
       "      <td>21.914</td>\n",
       "      <td>2243.342</td>\n",
       "      <td>25247.105176</td>\n",
       "      <td>15406.577700</td>\n",
       "      <td>40653.682876</td>\n",
       "      <td>11365.259273</td>\n",
       "      <td>703047.262016</td>\n",
       "      <td>18121.928300</td>\n",
       "      <td>6.017026e+06</td>\n",
       "      <td>Origional</td>\n",
       "      <td>12998.0</td>\n",
       "      <td>462.919372</td>\n",
       "      <td>0.004196</td>\n",
       "      <td>0.002560</td>\n",
       "      <td>0.006756</td>\n",
       "    </tr>\n",
       "    <tr>\n",
       "      <th>158</th>\n",
       "      <td>2022</td>\n",
       "      <td>UKH</td>\n",
       "      <td>East</td>\n",
       "      <td>2217.992</td>\n",
       "      <td>20.366</td>\n",
       "      <td>2238.358</td>\n",
       "      <td>25143.154335</td>\n",
       "      <td>13711.245874</td>\n",
       "      <td>38854.400209</td>\n",
       "      <td>11335.998658</td>\n",
       "      <td>673241.965715</td>\n",
       "      <td>17358.438734</td>\n",
       "      <td>6.401418e+06</td>\n",
       "      <td>Origional</td>\n",
       "      <td>19116.0</td>\n",
       "      <td>334.872254</td>\n",
       "      <td>0.003928</td>\n",
       "      <td>0.002142</td>\n",
       "      <td>0.006070</td>\n",
       "    </tr>\n",
       "    <tr>\n",
       "      <th>159</th>\n",
       "      <td>2022</td>\n",
       "      <td>UKI</td>\n",
       "      <td>London</td>\n",
       "      <td>3001.866</td>\n",
       "      <td>39.524</td>\n",
       "      <td>3041.390</td>\n",
       "      <td>35792.967053</td>\n",
       "      <td>19576.692142</td>\n",
       "      <td>55369.659195</td>\n",
       "      <td>11923.572555</td>\n",
       "      <td>495311.510530</td>\n",
       "      <td>18205.379512</td>\n",
       "      <td>8.869043e+06</td>\n",
       "      <td>Origional</td>\n",
       "      <td>1572.0</td>\n",
       "      <td>5641.884860</td>\n",
       "      <td>0.004036</td>\n",
       "      <td>0.002207</td>\n",
       "      <td>0.006243</td>\n",
       "    </tr>\n",
       "    <tr>\n",
       "      <th>160</th>\n",
       "      <td>2022</td>\n",
       "      <td>UKJ</td>\n",
       "      <td>South East</td>\n",
       "      <td>3428.042</td>\n",
       "      <td>35.662</td>\n",
       "      <td>3463.704</td>\n",
       "      <td>39604.299045</td>\n",
       "      <td>16541.969255</td>\n",
       "      <td>56146.268301</td>\n",
       "      <td>11553.037870</td>\n",
       "      <td>463854.221730</td>\n",
       "      <td>16209.892156</td>\n",
       "      <td>1.188401e+07</td>\n",
       "      <td>Origional</td>\n",
       "      <td>1972.0</td>\n",
       "      <td>6026.372718</td>\n",
       "      <td>0.003333</td>\n",
       "      <td>0.001392</td>\n",
       "      <td>0.004725</td>\n",
       "    </tr>\n",
       "    <tr>\n",
       "      <th>161</th>\n",
       "      <td>2022</td>\n",
       "      <td>UKK</td>\n",
       "      <td>South West</td>\n",
       "      <td>1994.866</td>\n",
       "      <td>18.140</td>\n",
       "      <td>2013.006</td>\n",
       "      <td>19620.178140</td>\n",
       "      <td>10846.932730</td>\n",
       "      <td>30467.110870</td>\n",
       "      <td>9835.336379</td>\n",
       "      <td>597956.600307</td>\n",
       "      <td>15135.131674</td>\n",
       "      <td>5.189846e+06</td>\n",
       "      <td>Origional</td>\n",
       "      <td>23836.0</td>\n",
       "      <td>217.731415</td>\n",
       "      <td>0.003780</td>\n",
       "      <td>0.002090</td>\n",
       "      <td>0.005871</td>\n",
       "    </tr>\n",
       "  </tbody>\n",
       "</table>\n",
       "<p>162 rows × 19 columns</p>\n",
       "</div>"
      ],
      "text/plain": [
       "     Year Location_Code                    Region  \\\n",
       "0    2005           UKC                North East   \n",
       "1    2005           UKD                North West   \n",
       "2    2005           UKE  Yorkshire and The Humber   \n",
       "3    2005           UKF             East Midlands   \n",
       "4    2005           UKG             West Midlands   \n",
       "..    ...           ...                       ...   \n",
       "157  2022           UKG             West Midlands   \n",
       "158  2022           UKH                      East   \n",
       "159  2022           UKI                    London   \n",
       "160  2022           UKJ                South East   \n",
       "161  2022           UKK                South West   \n",
       "\n",
       "     Number of meters\\n(thousands):\\nDomestic\\n  \\\n",
       "0                                      1037.403   \n",
       "1                                      2747.967   \n",
       "2                                      1989.970   \n",
       "3                                      1620.786   \n",
       "4                                      1984.918   \n",
       "..                                          ...   \n",
       "157                                    2221.428   \n",
       "158                                    2217.992   \n",
       "159                                    3001.866   \n",
       "160                                    3428.042   \n",
       "161                                    1994.866   \n",
       "\n",
       "     Number of meters\\n(thousands):\\nNon-Domestic  \\\n",
       "0                                          16.219   \n",
       "1                                          48.871   \n",
       "2                                          36.997   \n",
       "3                                          28.502   \n",
       "4                                          36.397   \n",
       "..                                            ...   \n",
       "157                                        21.914   \n",
       "158                                        20.366   \n",
       "159                                        39.524   \n",
       "160                                        35.662   \n",
       "161                                        18.140   \n",
       "\n",
       "     Number of meters\\n(thousands):\\nAll meters  \\\n",
       "0                                      1053.622   \n",
       "1                                      2796.838   \n",
       "2                                      2026.967   \n",
       "3                                      1649.288   \n",
       "4                                      2021.315   \n",
       "..                                          ...   \n",
       "157                                    2243.342   \n",
       "158                                    2238.358   \n",
       "159                                    3041.390   \n",
       "160                                    3463.704   \n",
       "161                                    2013.006   \n",
       "\n",
       "     Total consumption\\n(GWh):\\nDomestic\\n  \\\n",
       "0                             20710.658157   \n",
       "1                             53390.873953   \n",
       "2                             39024.143235   \n",
       "3                             31469.021304   \n",
       "4                             37726.189511   \n",
       "..                                     ...   \n",
       "157                           25247.105176   \n",
       "158                           25143.154335   \n",
       "159                           35792.967053   \n",
       "160                           39604.299045   \n",
       "161                           19620.178140   \n",
       "\n",
       "     Total consumption\\n(GWh):\\nNon-Domestic  \\\n",
       "0                               13952.158200   \n",
       "1                               35926.287793   \n",
       "2                               30648.965991   \n",
       "3                               18936.399391   \n",
       "4                               22962.792215   \n",
       "..                                       ...   \n",
       "157                             15406.577700   \n",
       "158                             13711.245874   \n",
       "159                             19576.692142   \n",
       "160                             16541.969255   \n",
       "161                             10846.932730   \n",
       "\n",
       "     Total consumption\\n(GWh):\\nAll meters  \\\n",
       "0                             34662.816357   \n",
       "1                             89317.161746   \n",
       "2                             69673.109226   \n",
       "3                             50405.420695   \n",
       "4                             60688.981726   \n",
       "..                                     ...   \n",
       "157                           40653.682876   \n",
       "158                           38854.400209   \n",
       "159                           55369.659195   \n",
       "160                           56146.268301   \n",
       "161                           30467.110870   \n",
       "\n",
       "     Mean consumption\\n(kWh per meter):\\nDomestic\\n  \\\n",
       "0                                      19963.946660   \n",
       "1                                      19429.226753   \n",
       "2                                      19610.417863   \n",
       "3                                      19415.901485   \n",
       "4                                      19006.422185   \n",
       "..                                              ...   \n",
       "157                                    11365.259273   \n",
       "158                                    11335.998658   \n",
       "159                                    11923.572555   \n",
       "160                                    11553.037870   \n",
       "161                                     9835.336379   \n",
       "\n",
       "     Mean consumption\\n(kWh per meter):\\nNon-Domestic  \\\n",
       "0                                       860235.415254   \n",
       "1                                       735124.875550   \n",
       "2                                       828417.601184   \n",
       "3                                       664388.442601   \n",
       "4                                       630897.937055   \n",
       "..                                                ...   \n",
       "157                                     703047.262016   \n",
       "158                                     673241.965715   \n",
       "159                                     495311.510530   \n",
       "160                                     463854.221730   \n",
       "161                                     597956.600307   \n",
       "\n",
       "     Mean consumption\\n(kWh per meter):\\nAll meters    Population  \\\n",
       "0                                      32898.721132  2.564187e+06   \n",
       "1                                      31935.050134  6.300295e+06   \n",
       "2                                      34373.085120  4.561347e+06   \n",
       "3                                      30561.927750  3.663689e+06   \n",
       "4                                      30024.504704  5.356108e+06   \n",
       "..                                              ...           ...   \n",
       "157                                    18121.928300  6.017026e+06   \n",
       "158                                    17358.438734  6.401418e+06   \n",
       "159                                    18205.379512  8.869043e+06   \n",
       "160                                    16209.892156  1.188401e+07   \n",
       "161                                    15135.131674  5.189846e+06   \n",
       "\n",
       "        Data_Type  Area km^2  Population_Density(Persons.km^-2)  \\\n",
       "0    Extrapolated     8581.0                         298.821453   \n",
       "1    Extrapolated    14108.0                         446.576040   \n",
       "2    Extrapolated    15404.0                         296.114433   \n",
       "3    Extrapolated    15624.0                         234.491086   \n",
       "4    Extrapolated    12998.0                         412.071665   \n",
       "..            ...        ...                                ...   \n",
       "157     Origional    12998.0                         462.919372   \n",
       "158     Origional    19116.0                         334.872254   \n",
       "159     Origional     1572.0                        5641.884860   \n",
       "160     Origional     1972.0                        6026.372718   \n",
       "161     Origional    23836.0                         217.731415   \n",
       "\n",
       "     Domestic_Gas_Consumption(GWh/person)  \\\n",
       "0                                0.008077   \n",
       "1                                0.008474   \n",
       "2                                0.008555   \n",
       "3                                0.008589   \n",
       "4                                0.007044   \n",
       "..                                    ...   \n",
       "157                              0.004196   \n",
       "158                              0.003928   \n",
       "159                              0.004036   \n",
       "160                              0.003333   \n",
       "161                              0.003780   \n",
       "\n",
       "     Commercial_Gas_Consumption(GWh/person)  Total_Gas_Consumption(GWh/person)  \n",
       "0                                  0.005441                           0.013518  \n",
       "1                                  0.005702                           0.014177  \n",
       "2                                  0.006719                           0.015275  \n",
       "3                                  0.005169                           0.013758  \n",
       "4                                  0.004287                           0.011331  \n",
       "..                                      ...                                ...  \n",
       "157                                0.002560                           0.006756  \n",
       "158                                0.002142                           0.006070  \n",
       "159                                0.002207                           0.006243  \n",
       "160                                0.001392                           0.004725  \n",
       "161                                0.002090                           0.005871  \n",
       "\n",
       "[162 rows x 19 columns]"
      ]
     },
     "execution_count": 49,
     "metadata": {},
     "output_type": "execute_result"
    }
   ],
   "source": [
    "#Calculated Gas consumption per person for each region and year\n",
    "Gas_Consumption_Cleaned_PopD['Domestic_Gas_Consumption(GWh/person)'] = Gas_Consumption_Cleaned_PopD['Total consumption\\n(GWh):\\nDomestic\\n']/Gas_Consumption_Cleaned_PopD['Population']\n",
    "Gas_Consumption_Cleaned_PopD['Commercial_Gas_Consumption(GWh/person)'] = Gas_Consumption_Cleaned_PopD['Total consumption\\n(GWh):\\nNon-Domestic']/Gas_Consumption_Cleaned_PopD['Population']\n",
    "Gas_Consumption_Cleaned_PopD['Total_Gas_Consumption(GWh/person)'] = Gas_Consumption_Cleaned_PopD['Total consumption\\n(GWh):\\nAll meters']/Gas_Consumption_Cleaned_PopD['Population']\n",
    "\n",
    "#Please note only domestic values where used in visualisation as the scope of this project centres around the domestic cost of energy\n",
    "Gas_Consumption_Cleaned_PopD"
   ]
  },
  {
   "cell_type": "code",
   "execution_count": 50,
   "metadata": {},
   "outputs": [],
   "source": [
    "#Setting the maximum and minimum values as variables\n",
    "Max_Domestic_Gas_Consumption = Gas_Consumption_Cleaned_PopD['Domestic_Gas_Consumption(GWh/person)'].max()\n",
    "Min_Domestic_Gas_Consumption = Gas_Consumption_Cleaned_PopD['Domestic_Gas_Consumption(GWh/person)'].min()"
   ]
  },
  {
   "cell_type": "code",
   "execution_count": 51,
   "metadata": {},
   "outputs": [],
   "source": [
    "#defining the graphing function\n",
    "def create_domestic_choropleth(year):\n",
    "    fig = px.choropleth(Gas_Consumption_Cleaned_PopD.loc[Gas_Consumption_Cleaned_PopD['Year'] == year]\n",
    "                        ,locations='Location_Code'\n",
    "                        ,geojson=Regions\n",
    "                        ,color ='Domestic_Gas_Consumption(GWh/person)'\n",
    "                        ,featureidkey=\"properties.NUTS112CD\"\n",
    "                        ,hover_name='Region'\n",
    "                        ,range_color = (Min_Domestic_Gas_Consumption, Max_Domestic_Gas_Consumption))\n",
    "    fig.update_geos(\n",
    "        fitbounds=\"geojson\",\n",
    "       # projection_scale = 100,\n",
    "        visible=False,\n",
    "        projection_type=\"orthographic\" \n",
    "        )\n",
    "    fig.update_layout(\n",
    "    margin={\"r\": 0, \"t\": 50, \"l\": 0, \"b\": 0}, \n",
    "    title={\n",
    "        'text': f\"{year}\",  \n",
    "        'y': 0.95, \n",
    "        'x': 0.5,  \n",
    "        'xanchor': 'center',\n",
    "        'yanchor': 'top'},\n",
    "    coloraxis_colorbar_title=None,\n",
    "    coloraxis_colorbar=dict(\n",
    "            len=0.8,\n",
    "            thickness=15 \n",
    "        ),\n",
    "        width=800,\n",
    "        height=650,\n",
    "        font=dict(\n",
    "        size=26 \n",
    "    ))\n",
    "\n",
    "    return fig\n",
    "\n",
    "#Showing \"Domestic Gas Consumption in {year} (GWh/person)\"\n"
   ]
  },
  {
   "cell_type": "code",
   "execution_count": 52,
   "metadata": {},
   "outputs": [
    {
     "data": {
      "text/plain": [
       "[2005,\n",
       " 2006,\n",
       " 2007,\n",
       " 2008,\n",
       " 2009,\n",
       " 2010,\n",
       " 2011,\n",
       " 2012,\n",
       " 2013,\n",
       " 2014,\n",
       " 2015,\n",
       " 2016,\n",
       " 2017,\n",
       " 2018,\n",
       " 2019,\n",
       " 2020,\n",
       " 2021,\n",
       " 2022]"
      ]
     },
     "execution_count": 52,
     "metadata": {},
     "output_type": "execute_result"
    }
   ],
   "source": [
    "#Defining the years to graph as a variable\n",
    "Years_to_Graph = list(range(2005,2023))\n",
    "Years_to_Graph"
   ]
  },
  {
   "cell_type": "code",
   "execution_count": 53,
   "metadata": {},
   "outputs": [
    {
     "data": {
      "text/plain": [
       "'figures = [create_domestic_choropleth(year) for year in Years_to_Graph]\\n\\nfor fig in figures:\\n    fig.show()'"
      ]
     },
     "execution_count": 53,
     "metadata": {},
     "output_type": "execute_result"
    }
   ],
   "source": [
    "#Looping the create a gragh function for each year\n",
    "#Choropleth hidden here to support GitHub upload\n",
    "'''figures = [create_domestic_choropleth(year) for year in Years_to_Graph]\n",
    "\n",
    "for fig in figures:\n",
    "    fig.show()'''\n"
   ]
  },
  {
   "cell_type": "markdown",
   "metadata": {},
   "source": [
    "This is the Importation of Energy Bills data"
   ]
  },
  {
   "cell_type": "code",
   "execution_count": 54,
   "metadata": {},
   "outputs": [],
   "source": [
    "#The importation of Energy price data\n",
    "\n",
    "#Importing the Historical data sheet (Pre-2020 data)\n",
    "Energy_Price_Raw_S1 = pd.read_excel(io=Domestic_Energy_Bills_5, sheet_name=r'2.2.3 (Historic Consumption)', header=16, usecols='A:F')\n",
    "#Filtering to only include the average value for each region for each year\n",
    "Energy_Price_Raw_S1 = Energy_Price_Raw_S1[Energy_Price_Raw_S1['Bill range\\n[Note 1]'] == 'Average']\n",
    "#Selecting only the needed columns\n",
    "Energy_Price_Raw_S1 = Energy_Price_Raw_S1[['Year', 'PES area', 'Credit: Unit cost (Pence per kWh)']]\n",
    "#Renaming columns to fit with the same naming convention as the recent dataset\n",
    "Energy_Price_Raw_S1.rename(columns={'PES area':'Region','Credit: Unit cost (Pence per kWh)':'Average Unit Cost (Pence per kWh)'}, inplace = True)\n",
    "#Removing Yearly totals. These will be calculated later using an aggregate function\n",
    "Energy_Price_Raw_S1 = Energy_Price_Raw_S1[Energy_Price_Raw_S1['Region'] != 'United Kingdom']\n",
    "#(!!)Removing years later than 2017 as these are included in both datasets. Include dialog around the difference in these years. The latest dataset was chosen under the assumption that the more recent data would be better. justify this\n",
    "Energy_Price_Raw_S1 = Energy_Price_Raw_S1[Energy_Price_Raw_S1['Year'] < 2017]\n",
    "\n",
    "#Importing the Historical data sheet (Post-2018 data)\n",
    "Energy_Price_Raw_S2 = pd.read_excel(io=Domestic_Energy_Bills_5, sheet_name=r'2.2.3', header=11,usecols='A:C')\n",
    "#Removing Yearly totals. These will be calculated later using an aggregate function\n",
    "Energy_Price_Raw_S2 = Energy_Price_Raw_S2[Energy_Price_Raw_S2['Region'] != 'United Kingdom']\n",
    "Energy_Price_Raw_S2.rename(columns={'Credit: Unit cost (Pence per kWh)':'Average Unit Cost (Pence per kWh)'}, inplace = True)\n",
    "\n",
    "Energy_Price = pd.concat([Energy_Price_Raw_S1,Energy_Price_Raw_S2])\n"
   ]
  },
  {
   "cell_type": "code",
   "execution_count": 55,
   "metadata": {},
   "outputs": [
    {
     "data": {
      "text/html": [
       "<div>\n",
       "<style scoped>\n",
       "    .dataframe tbody tr th:only-of-type {\n",
       "        vertical-align: middle;\n",
       "    }\n",
       "\n",
       "    .dataframe tbody tr th {\n",
       "        vertical-align: top;\n",
       "    }\n",
       "\n",
       "    .dataframe thead th {\n",
       "        text-align: right;\n",
       "    }\n",
       "</style>\n",
       "<table border=\"1\" class=\"dataframe\">\n",
       "  <thead>\n",
       "    <tr style=\"text-align: right;\">\n",
       "      <th></th>\n",
       "      <th>Year</th>\n",
       "      <th>Region</th>\n",
       "      <th>Average Unit Cost (Pence per kWh)</th>\n",
       "    </tr>\n",
       "  </thead>\n",
       "  <tbody>\n",
       "    <tr>\n",
       "      <th>63</th>\n",
       "      <td>2000</td>\n",
       "      <td>Northern Scotland</td>\n",
       "      <td>8.25</td>\n",
       "    </tr>\n",
       "    <tr>\n",
       "      <th>65</th>\n",
       "      <td>2000</td>\n",
       "      <td>Northern Ireland</td>\n",
       "      <td>9.35</td>\n",
       "    </tr>\n",
       "    <tr>\n",
       "      <th>67</th>\n",
       "      <td>2000</td>\n",
       "      <td>West Midlands</td>\n",
       "      <td>7.44</td>\n",
       "    </tr>\n",
       "    <tr>\n",
       "      <th>70</th>\n",
       "      <td>2000</td>\n",
       "      <td>South East</td>\n",
       "      <td>7.38</td>\n",
       "    </tr>\n",
       "    <tr>\n",
       "      <th>73</th>\n",
       "      <td>2000</td>\n",
       "      <td>South Wales</td>\n",
       "      <td>8.64</td>\n",
       "    </tr>\n",
       "    <tr>\n",
       "      <th>76</th>\n",
       "      <td>2000</td>\n",
       "      <td>Southern Scotland</td>\n",
       "      <td>8.11</td>\n",
       "    </tr>\n",
       "    <tr>\n",
       "      <th>79</th>\n",
       "      <td>2000</td>\n",
       "      <td>Eastern</td>\n",
       "      <td>7.31</td>\n",
       "    </tr>\n",
       "    <tr>\n",
       "      <th>82</th>\n",
       "      <td>2000</td>\n",
       "      <td>Yorkshire</td>\n",
       "      <td>7.57</td>\n",
       "    </tr>\n",
       "    <tr>\n",
       "      <th>85</th>\n",
       "      <td>2000</td>\n",
       "      <td>Merseyside &amp; North Wales</td>\n",
       "      <td>8.21</td>\n",
       "    </tr>\n",
       "    <tr>\n",
       "      <th>88</th>\n",
       "      <td>2000</td>\n",
       "      <td>London</td>\n",
       "      <td>7.64</td>\n",
       "    </tr>\n",
       "    <tr>\n",
       "      <th>91</th>\n",
       "      <td>2000</td>\n",
       "      <td>North West</td>\n",
       "      <td>7.54</td>\n",
       "    </tr>\n",
       "    <tr>\n",
       "      <th>94</th>\n",
       "      <td>2000</td>\n",
       "      <td>North East</td>\n",
       "      <td>8.00</td>\n",
       "    </tr>\n",
       "    <tr>\n",
       "      <th>97</th>\n",
       "      <td>2000</td>\n",
       "      <td>East Midlands</td>\n",
       "      <td>7.26</td>\n",
       "    </tr>\n",
       "    <tr>\n",
       "      <th>100</th>\n",
       "      <td>2000</td>\n",
       "      <td>South West</td>\n",
       "      <td>8.22</td>\n",
       "    </tr>\n",
       "    <tr>\n",
       "      <th>103</th>\n",
       "      <td>2000</td>\n",
       "      <td>Southern</td>\n",
       "      <td>7.70</td>\n",
       "    </tr>\n",
       "  </tbody>\n",
       "</table>\n",
       "</div>"
      ],
      "text/plain": [
       "     Year                    Region  Average Unit Cost (Pence per kWh)\n",
       "63   2000         Northern Scotland                               8.25\n",
       "65   2000          Northern Ireland                               9.35\n",
       "67   2000             West Midlands                               7.44\n",
       "70   2000                South East                               7.38\n",
       "73   2000               South Wales                               8.64\n",
       "76   2000         Southern Scotland                               8.11\n",
       "79   2000                   Eastern                               7.31\n",
       "82   2000                 Yorkshire                               7.57\n",
       "85   2000  Merseyside & North Wales                               8.21\n",
       "88   2000                    London                               7.64\n",
       "91   2000                North West                               7.54\n",
       "94   2000                North East                               8.00\n",
       "97   2000             East Midlands                               7.26\n",
       "100  2000                South West                               8.22\n",
       "103  2000                  Southern                               7.70"
      ]
     },
     "execution_count": 55,
     "metadata": {},
     "output_type": "execute_result"
    }
   ],
   "source": [
    "Energy_Price[Energy_Price['Year'] == 2000]"
   ]
  },
  {
   "cell_type": "code",
   "execution_count": 56,
   "metadata": {},
   "outputs": [],
   "source": [
    "#ChatGPT Generated code to replace 'South West' with the average of 'Southern' and 'South West'\n",
    "# Group by Year to calculate averages\n",
    "for year in Energy_Price['Year'].unique():\n",
    "    # Filter the current year's data for 'Southern' and 'South West'\n",
    "    southern_value = Energy_Price.loc[(Energy_Price['Year'] == year) & (Energy_Price['Region'] == 'Southern'), 'Average Unit Cost (Pence per kWh)'].values\n",
    "    south_west_value = Energy_Price.loc[(Energy_Price['Year'] == year) & (Energy_Price['Region'] == 'South West'), 'Average Unit Cost (Pence per kWh)'].values\n",
    "\n",
    "    if southern_value.size > 0 and south_west_value.size > 0:\n",
    "        # Calculate the average\n",
    "        avg_value = (southern_value[0] + south_west_value[0]) / 2\n",
    "\n",
    "        # Update 'South West' value\n",
    "        Energy_Price.loc[(Energy_Price['Year'] == year) & (Energy_Price['Region'] == 'South West'), 'Average Unit Cost (Pence per kWh)'] = avg_value"
   ]
  },
  {
   "cell_type": "code",
   "execution_count": 57,
   "metadata": {},
   "outputs": [],
   "source": [
    "#This process above assumes that each region is of roughly the same magnitude. Interpolation was used"
   ]
  },
  {
   "cell_type": "code",
   "execution_count": 58,
   "metadata": {},
   "outputs": [],
   "source": [
    "Energy_Price.rename(columns={'Region':'In_Region'}, inplace = True)"
   ]
  },
  {
   "cell_type": "code",
   "execution_count": 59,
   "metadata": {},
   "outputs": [
    {
     "data": {
      "text/html": [
       "<div>\n",
       "<style scoped>\n",
       "    .dataframe tbody tr th:only-of-type {\n",
       "        vertical-align: middle;\n",
       "    }\n",
       "\n",
       "    .dataframe tbody tr th {\n",
       "        vertical-align: top;\n",
       "    }\n",
       "\n",
       "    .dataframe thead th {\n",
       "        text-align: right;\n",
       "    }\n",
       "</style>\n",
       "<table border=\"1\" class=\"dataframe\">\n",
       "  <thead>\n",
       "    <tr style=\"text-align: right;\">\n",
       "      <th></th>\n",
       "      <th>In_Region</th>\n",
       "      <th>Region</th>\n",
       "    </tr>\n",
       "  </thead>\n",
       "  <tbody>\n",
       "    <tr>\n",
       "      <th>0</th>\n",
       "      <td>West Midlands</td>\n",
       "      <td>West Midlands</td>\n",
       "    </tr>\n",
       "    <tr>\n",
       "      <th>1</th>\n",
       "      <td>South East</td>\n",
       "      <td>South East</td>\n",
       "    </tr>\n",
       "    <tr>\n",
       "      <th>2</th>\n",
       "      <td>Eastern</td>\n",
       "      <td>East</td>\n",
       "    </tr>\n",
       "    <tr>\n",
       "      <th>3</th>\n",
       "      <td>Yorkshire</td>\n",
       "      <td>Yorkshire and The Humber</td>\n",
       "    </tr>\n",
       "    <tr>\n",
       "      <th>4</th>\n",
       "      <td>London</td>\n",
       "      <td>London</td>\n",
       "    </tr>\n",
       "    <tr>\n",
       "      <th>5</th>\n",
       "      <td>North West</td>\n",
       "      <td>North West</td>\n",
       "    </tr>\n",
       "    <tr>\n",
       "      <th>6</th>\n",
       "      <td>North East</td>\n",
       "      <td>North East</td>\n",
       "    </tr>\n",
       "    <tr>\n",
       "      <th>7</th>\n",
       "      <td>East Midlands</td>\n",
       "      <td>East Midlands</td>\n",
       "    </tr>\n",
       "    <tr>\n",
       "      <th>8</th>\n",
       "      <td>South West</td>\n",
       "      <td>South West</td>\n",
       "    </tr>\n",
       "  </tbody>\n",
       "</table>\n",
       "</div>"
      ],
      "text/plain": [
       "       In_Region                    Region\n",
       "0  West Midlands             West Midlands\n",
       "1     South East                South East\n",
       "2        Eastern                      East\n",
       "3      Yorkshire  Yorkshire and The Humber\n",
       "4         London                    London\n",
       "5     North West                North West\n",
       "6     North East                North East\n",
       "7  East Midlands             East Midlands\n",
       "8     South West                South West"
      ]
     },
     "execution_count": 59,
     "metadata": {},
     "output_type": "execute_result"
    }
   ],
   "source": [
    "#Standardisation of naming convention for Region\n",
    "Energy_Price['In_Region'].unique()\n",
    "Energy_Price_Region_Correction = pd.DataFrame({'In_Region':['West Midlands',\n",
    "       'South East', 'Eastern',\n",
    "       'Yorkshire', 'London', 'North West',\n",
    "       'North East', 'East Midlands', 'South West'], 'Region':['West Midlands','South East','East','Yorkshire and The Humber','London', 'North West',\n",
    "       'North East', 'East Midlands', 'South West']})\n",
    "Energy_Price_Region_Correction"
   ]
  },
  {
   "cell_type": "code",
   "execution_count": 60,
   "metadata": {},
   "outputs": [],
   "source": [
    "Energy_Price_Region = pd.merge(Energy_Price, Energy_Price_Region_Correction, on='In_Region', how='left')\n",
    "Energy_Price_Region = Energy_Price_Region[Energy_Price_Region['Region'].notnull()]"
   ]
  },
  {
   "cell_type": "code",
   "execution_count": 61,
   "metadata": {},
   "outputs": [
    {
     "data": {
      "text/html": [
       "<div>\n",
       "<style scoped>\n",
       "    .dataframe tbody tr th:only-of-type {\n",
       "        vertical-align: middle;\n",
       "    }\n",
       "\n",
       "    .dataframe tbody tr th {\n",
       "        vertical-align: top;\n",
       "    }\n",
       "\n",
       "    .dataframe thead th {\n",
       "        text-align: right;\n",
       "    }\n",
       "</style>\n",
       "<table border=\"1\" class=\"dataframe\">\n",
       "  <thead>\n",
       "    <tr style=\"text-align: right;\">\n",
       "      <th></th>\n",
       "      <th>Year</th>\n",
       "      <th>Average Unit Cost (Pence per kWh)</th>\n",
       "    </tr>\n",
       "  </thead>\n",
       "  <tbody>\n",
       "    <tr>\n",
       "      <th>0</th>\n",
       "      <td>1998</td>\n",
       "      <td>8.259667</td>\n",
       "    </tr>\n",
       "    <tr>\n",
       "      <th>1</th>\n",
       "      <td>1999</td>\n",
       "      <td>8.138333</td>\n",
       "    </tr>\n",
       "    <tr>\n",
       "      <th>2</th>\n",
       "      <td>2000</td>\n",
       "      <td>7.890667</td>\n",
       "    </tr>\n",
       "    <tr>\n",
       "      <th>3</th>\n",
       "      <td>2001</td>\n",
       "      <td>7.719667</td>\n",
       "    </tr>\n",
       "    <tr>\n",
       "      <th>4</th>\n",
       "      <td>2002</td>\n",
       "      <td>7.706667</td>\n",
       "    </tr>\n",
       "    <tr>\n",
       "      <th>5</th>\n",
       "      <td>2003</td>\n",
       "      <td>7.743434</td>\n",
       "    </tr>\n",
       "    <tr>\n",
       "      <th>6</th>\n",
       "      <td>2004</td>\n",
       "      <td>8.007071</td>\n",
       "    </tr>\n",
       "    <tr>\n",
       "      <th>7</th>\n",
       "      <td>2005</td>\n",
       "      <td>8.792929</td>\n",
       "    </tr>\n",
       "    <tr>\n",
       "      <th>8</th>\n",
       "      <td>2006</td>\n",
       "      <td>10.326263</td>\n",
       "    </tr>\n",
       "    <tr>\n",
       "      <th>9</th>\n",
       "      <td>2007</td>\n",
       "      <td>11.497499</td>\n",
       "    </tr>\n",
       "    <tr>\n",
       "      <th>10</th>\n",
       "      <td>2008</td>\n",
       "      <td>13.237404</td>\n",
       "    </tr>\n",
       "    <tr>\n",
       "      <th>11</th>\n",
       "      <td>2009</td>\n",
       "      <td>13.728701</td>\n",
       "    </tr>\n",
       "    <tr>\n",
       "      <th>12</th>\n",
       "      <td>2010</td>\n",
       "      <td>13.337961</td>\n",
       "    </tr>\n",
       "    <tr>\n",
       "      <th>13</th>\n",
       "      <td>2011</td>\n",
       "      <td>14.411113</td>\n",
       "    </tr>\n",
       "    <tr>\n",
       "      <th>14</th>\n",
       "      <td>2012</td>\n",
       "      <td>15.323495</td>\n",
       "    </tr>\n",
       "    <tr>\n",
       "      <th>15</th>\n",
       "      <td>2013</td>\n",
       "      <td>15.945047</td>\n",
       "    </tr>\n",
       "    <tr>\n",
       "      <th>16</th>\n",
       "      <td>2014</td>\n",
       "      <td>16.487723</td>\n",
       "    </tr>\n",
       "    <tr>\n",
       "      <th>17</th>\n",
       "      <td>2015</td>\n",
       "      <td>16.345805</td>\n",
       "    </tr>\n",
       "    <tr>\n",
       "      <th>18</th>\n",
       "      <td>2016</td>\n",
       "      <td>16.509792</td>\n",
       "    </tr>\n",
       "    <tr>\n",
       "      <th>19</th>\n",
       "      <td>2017</td>\n",
       "      <td>17.809102</td>\n",
       "    </tr>\n",
       "    <tr>\n",
       "      <th>20</th>\n",
       "      <td>2018</td>\n",
       "      <td>19.262200</td>\n",
       "    </tr>\n",
       "    <tr>\n",
       "      <th>21</th>\n",
       "      <td>2019</td>\n",
       "      <td>20.870799</td>\n",
       "    </tr>\n",
       "    <tr>\n",
       "      <th>22</th>\n",
       "      <td>2020</td>\n",
       "      <td>20.943317</td>\n",
       "    </tr>\n",
       "    <tr>\n",
       "      <th>23</th>\n",
       "      <td>2021</td>\n",
       "      <td>22.744511</td>\n",
       "    </tr>\n",
       "    <tr>\n",
       "      <th>24</th>\n",
       "      <td>2022</td>\n",
       "      <td>33.613535</td>\n",
       "    </tr>\n",
       "    <tr>\n",
       "      <th>25</th>\n",
       "      <td>2023</td>\n",
       "      <td>36.700335</td>\n",
       "    </tr>\n",
       "  </tbody>\n",
       "</table>\n",
       "</div>"
      ],
      "text/plain": [
       "    Year  Average Unit Cost (Pence per kWh)\n",
       "0   1998                           8.259667\n",
       "1   1999                           8.138333\n",
       "2   2000                           7.890667\n",
       "3   2001                           7.719667\n",
       "4   2002                           7.706667\n",
       "5   2003                           7.743434\n",
       "6   2004                           8.007071\n",
       "7   2005                           8.792929\n",
       "8   2006                          10.326263\n",
       "9   2007                          11.497499\n",
       "10  2008                          13.237404\n",
       "11  2009                          13.728701\n",
       "12  2010                          13.337961\n",
       "13  2011                          14.411113\n",
       "14  2012                          15.323495\n",
       "15  2013                          15.945047\n",
       "16  2014                          16.487723\n",
       "17  2015                          16.345805\n",
       "18  2016                          16.509792\n",
       "19  2017                          17.809102\n",
       "20  2018                          19.262200\n",
       "21  2019                          20.870799\n",
       "22  2020                          20.943317\n",
       "23  2021                          22.744511\n",
       "24  2022                          33.613535\n",
       "25  2023                          36.700335"
      ]
     },
     "execution_count": 61,
     "metadata": {},
     "output_type": "execute_result"
    }
   ],
   "source": [
    "#Data processing to allow for the line graph of energy price by year\n",
    "Energy_Price_Aggregate = Energy_Price.groupby('Year',as_index=False).agg({'Average Unit Cost (Pence per kWh)' : 'mean'})\n",
    "Energy_Price_Aggregate"
   ]
  },
  {
   "cell_type": "markdown",
   "metadata": {},
   "source": [
    "Now to bring in the Gas inmport cost data"
   ]
  },
  {
   "cell_type": "code",
   "execution_count": 62,
   "metadata": {},
   "outputs": [
    {
     "data": {
      "text/html": [
       "<div>\n",
       "<style scoped>\n",
       "    .dataframe tbody tr th:only-of-type {\n",
       "        vertical-align: middle;\n",
       "    }\n",
       "\n",
       "    .dataframe tbody tr th {\n",
       "        vertical-align: top;\n",
       "    }\n",
       "\n",
       "    .dataframe thead th {\n",
       "        text-align: right;\n",
       "    }\n",
       "</style>\n",
       "<table border=\"1\" class=\"dataframe\">\n",
       "  <thead>\n",
       "    <tr style=\"text-align: right;\">\n",
       "      <th></th>\n",
       "      <th>Year</th>\n",
       "      <th>Coal (pence per kWh)</th>\n",
       "      <th>Oil (pence per kWh)</th>\n",
       "      <th>Natural Gas (pence per kWh)</th>\n",
       "    </tr>\n",
       "  </thead>\n",
       "  <tbody>\n",
       "    <tr>\n",
       "      <th>8</th>\n",
       "      <td>1998</td>\n",
       "      <td>0.544375</td>\n",
       "      <td>0.774538</td>\n",
       "      <td>0.848242</td>\n",
       "    </tr>\n",
       "    <tr>\n",
       "      <th>9</th>\n",
       "      <td>1999</td>\n",
       "      <td>0.513870</td>\n",
       "      <td>0.911555</td>\n",
       "      <td>0.782009</td>\n",
       "    </tr>\n",
       "    <tr>\n",
       "      <th>10</th>\n",
       "      <td>2000</td>\n",
       "      <td>0.512963</td>\n",
       "      <td>1.273934</td>\n",
       "      <td>0.750103</td>\n",
       "    </tr>\n",
       "    <tr>\n",
       "      <th>11</th>\n",
       "      <td>2001</td>\n",
       "      <td>0.551299</td>\n",
       "      <td>1.220321</td>\n",
       "      <td>0.824940</td>\n",
       "    </tr>\n",
       "    <tr>\n",
       "      <th>12</th>\n",
       "      <td>2002</td>\n",
       "      <td>0.498163</td>\n",
       "      <td>1.289745</td>\n",
       "      <td>0.740489</td>\n",
       "    </tr>\n",
       "    <tr>\n",
       "      <th>13</th>\n",
       "      <td>2003</td>\n",
       "      <td>0.463550</td>\n",
       "      <td>1.555741</td>\n",
       "      <td>0.810822</td>\n",
       "    </tr>\n",
       "    <tr>\n",
       "      <th>14</th>\n",
       "      <td>2004</td>\n",
       "      <td>0.521652</td>\n",
       "      <td>1.395152</td>\n",
       "      <td>0.881483</td>\n",
       "    </tr>\n",
       "    <tr>\n",
       "      <th>15</th>\n",
       "      <td>2005</td>\n",
       "      <td>0.559014</td>\n",
       "      <td>2.172904</td>\n",
       "      <td>1.141708</td>\n",
       "    </tr>\n",
       "    <tr>\n",
       "      <th>16</th>\n",
       "      <td>2006</td>\n",
       "      <td>0.572821</td>\n",
       "      <td>2.314728</td>\n",
       "      <td>1.405394</td>\n",
       "    </tr>\n",
       "    <tr>\n",
       "      <th>17</th>\n",
       "      <td>2007</td>\n",
       "      <td>0.604027</td>\n",
       "      <td>2.120755</td>\n",
       "      <td>1.322306</td>\n",
       "    </tr>\n",
       "    <tr>\n",
       "      <th>18</th>\n",
       "      <td>2008</td>\n",
       "      <td>0.930995</td>\n",
       "      <td>2.456412</td>\n",
       "      <td>1.701349</td>\n",
       "    </tr>\n",
       "    <tr>\n",
       "      <th>19</th>\n",
       "      <td>2009</td>\n",
       "      <td>0.764055</td>\n",
       "      <td>2.256922</td>\n",
       "      <td>1.424737</td>\n",
       "    </tr>\n",
       "    <tr>\n",
       "      <th>20</th>\n",
       "      <td>2010</td>\n",
       "      <td>0.869646</td>\n",
       "      <td>3.485674</td>\n",
       "      <td>1.461134</td>\n",
       "    </tr>\n",
       "    <tr>\n",
       "      <th>21</th>\n",
       "      <td>2011</td>\n",
       "      <td>1.083788</td>\n",
       "      <td>4.321027</td>\n",
       "      <td>1.872670</td>\n",
       "    </tr>\n",
       "    <tr>\n",
       "      <th>22</th>\n",
       "      <td>2012</td>\n",
       "      <td>0.879180</td>\n",
       "      <td>4.623866</td>\n",
       "      <td>2.058533</td>\n",
       "    </tr>\n",
       "    <tr>\n",
       "      <th>23</th>\n",
       "      <td>2013</td>\n",
       "      <td>0.794566</td>\n",
       "      <td>4.236485</td>\n",
       "      <td>2.169998</td>\n",
       "    </tr>\n",
       "    <tr>\n",
       "      <th>24</th>\n",
       "      <td>2014</td>\n",
       "      <td>0.724438</td>\n",
       "      <td>3.779470</td>\n",
       "      <td>1.760189</td>\n",
       "    </tr>\n",
       "    <tr>\n",
       "      <th>25</th>\n",
       "      <td>2015</td>\n",
       "      <td>0.619805</td>\n",
       "      <td>2.503178</td>\n",
       "      <td>1.467249</td>\n",
       "    </tr>\n",
       "    <tr>\n",
       "      <th>26</th>\n",
       "      <td>2016</td>\n",
       "      <td>0.669809</td>\n",
       "      <td>2.171225</td>\n",
       "      <td>1.158163</td>\n",
       "    </tr>\n",
       "    <tr>\n",
       "      <th>27</th>\n",
       "      <td>2017</td>\n",
       "      <td>0.894947</td>\n",
       "      <td>2.749002</td>\n",
       "      <td>1.357619</td>\n",
       "    </tr>\n",
       "    <tr>\n",
       "      <th>28</th>\n",
       "      <td>2018</td>\n",
       "      <td>0.913079</td>\n",
       "      <td>3.370556</td>\n",
       "      <td>1.683321</td>\n",
       "    </tr>\n",
       "    <tr>\n",
       "      <th>29</th>\n",
       "      <td>2019</td>\n",
       "      <td>0.706770</td>\n",
       "      <td>3.433348</td>\n",
       "      <td>1.215103</td>\n",
       "    </tr>\n",
       "    <tr>\n",
       "      <th>30</th>\n",
       "      <td>2020</td>\n",
       "      <td>0.685702</td>\n",
       "      <td>2.770059</td>\n",
       "      <td>0.969033</td>\n",
       "    </tr>\n",
       "    <tr>\n",
       "      <th>31</th>\n",
       "      <td>2021</td>\n",
       "      <td>1.474959</td>\n",
       "      <td>3.720295</td>\n",
       "      <td>2.377165</td>\n",
       "    </tr>\n",
       "    <tr>\n",
       "      <th>32</th>\n",
       "      <td>2022</td>\n",
       "      <td>2.830942</td>\n",
       "      <td>5.878026</td>\n",
       "      <td>4.862319</td>\n",
       "    </tr>\n",
       "    <tr>\n",
       "      <th>33</th>\n",
       "      <td>2023</td>\n",
       "      <td>1.775227</td>\n",
       "      <td>4.273539</td>\n",
       "      <td>4.904535</td>\n",
       "    </tr>\n",
       "  </tbody>\n",
       "</table>\n",
       "</div>"
      ],
      "text/plain": [
       "    Year  Coal (pence per kWh)  Oil (pence per kWh)  \\\n",
       "8   1998              0.544375             0.774538   \n",
       "9   1999              0.513870             0.911555   \n",
       "10  2000              0.512963             1.273934   \n",
       "11  2001              0.551299             1.220321   \n",
       "12  2002              0.498163             1.289745   \n",
       "13  2003              0.463550             1.555741   \n",
       "14  2004              0.521652             1.395152   \n",
       "15  2005              0.559014             2.172904   \n",
       "16  2006              0.572821             2.314728   \n",
       "17  2007              0.604027             2.120755   \n",
       "18  2008              0.930995             2.456412   \n",
       "19  2009              0.764055             2.256922   \n",
       "20  2010              0.869646             3.485674   \n",
       "21  2011              1.083788             4.321027   \n",
       "22  2012              0.879180             4.623866   \n",
       "23  2013              0.794566             4.236485   \n",
       "24  2014              0.724438             3.779470   \n",
       "25  2015              0.619805             2.503178   \n",
       "26  2016              0.669809             2.171225   \n",
       "27  2017              0.894947             2.749002   \n",
       "28  2018              0.913079             3.370556   \n",
       "29  2019              0.706770             3.433348   \n",
       "30  2020              0.685702             2.770059   \n",
       "31  2021              1.474959             3.720295   \n",
       "32  2022              2.830942             5.878026   \n",
       "33  2023              1.775227             4.273539   \n",
       "\n",
       "    Natural Gas (pence per kWh)  \n",
       "8                      0.848242  \n",
       "9                      0.782009  \n",
       "10                     0.750103  \n",
       "11                     0.824940  \n",
       "12                     0.740489  \n",
       "13                     0.810822  \n",
       "14                     0.881483  \n",
       "15                     1.141708  \n",
       "16                     1.405394  \n",
       "17                     1.322306  \n",
       "18                     1.701349  \n",
       "19                     1.424737  \n",
       "20                     1.461134  \n",
       "21                     1.872670  \n",
       "22                     2.058533  \n",
       "23                     2.169998  \n",
       "24                     1.760189  \n",
       "25                     1.467249  \n",
       "26                     1.158163  \n",
       "27                     1.357619  \n",
       "28                     1.683321  \n",
       "29                     1.215103  \n",
       "30                     0.969033  \n",
       "31                     2.377165  \n",
       "32                     4.862319  \n",
       "33                     4.904535  "
      ]
     },
     "execution_count": 62,
     "metadata": {},
     "output_type": "execute_result"
    }
   ],
   "source": [
    "#Importation of the Price of Fuel Imports data\n",
    "Energy_Generation_Imports_Raw = pd.read_excel(io=Energy_Import_Costs_6, sheet_name=r'3.2.1 (Annual real)', header=12, usecols='A:J')\n",
    "Energy_Generation_Imports_Raw.rename(columns={'Major power producers: Coal (pence per kWh)\\n[Note 1]':'Coal (pence per kWh)','Major power producers: Oil (pence per kWh)\\n[Note 2, 3]':'Oil (pence per kWh)','Major power producers: Natural gas (pence per kWh)\\n[Note 4]':'Natural Gas (pence per kWh)'}, inplace = True)\n",
    "Energy_Generation_Imports_Subset = Energy_Generation_Imports_Raw[['Year','Coal (pence per kWh)', 'Oil (pence per kWh)','Natural Gas (pence per kWh)']]\n",
    "Energy_Generation_Imports_Subset = Energy_Generation_Imports_Subset[Energy_Generation_Imports_Raw['Year'] >= 1998]\n",
    "\n",
    "Energy_Generation_Imports_Subset"
   ]
  },
  {
   "cell_type": "code",
   "execution_count": 63,
   "metadata": {},
   "outputs": [
    {
     "data": {
      "text/html": [
       "<div>\n",
       "<style scoped>\n",
       "    .dataframe tbody tr th:only-of-type {\n",
       "        vertical-align: middle;\n",
       "    }\n",
       "\n",
       "    .dataframe tbody tr th {\n",
       "        vertical-align: top;\n",
       "    }\n",
       "\n",
       "    .dataframe thead th {\n",
       "        text-align: right;\n",
       "    }\n",
       "</style>\n",
       "<table border=\"1\" class=\"dataframe\">\n",
       "  <thead>\n",
       "    <tr style=\"text-align: right;\">\n",
       "      <th></th>\n",
       "      <th>Year</th>\n",
       "      <th>Coal (pence per kWh)</th>\n",
       "      <th>Oil (pence per kWh)</th>\n",
       "      <th>Natural Gas (pence per kWh)</th>\n",
       "      <th>Average Unit Cost (Pence per kWh)</th>\n",
       "    </tr>\n",
       "  </thead>\n",
       "  <tbody>\n",
       "    <tr>\n",
       "      <th>0</th>\n",
       "      <td>1998</td>\n",
       "      <td>0.544375</td>\n",
       "      <td>0.774538</td>\n",
       "      <td>0.848242</td>\n",
       "      <td>8.259667</td>\n",
       "    </tr>\n",
       "    <tr>\n",
       "      <th>1</th>\n",
       "      <td>1999</td>\n",
       "      <td>0.513870</td>\n",
       "      <td>0.911555</td>\n",
       "      <td>0.782009</td>\n",
       "      <td>8.138333</td>\n",
       "    </tr>\n",
       "    <tr>\n",
       "      <th>2</th>\n",
       "      <td>2000</td>\n",
       "      <td>0.512963</td>\n",
       "      <td>1.273934</td>\n",
       "      <td>0.750103</td>\n",
       "      <td>7.890667</td>\n",
       "    </tr>\n",
       "    <tr>\n",
       "      <th>3</th>\n",
       "      <td>2001</td>\n",
       "      <td>0.551299</td>\n",
       "      <td>1.220321</td>\n",
       "      <td>0.824940</td>\n",
       "      <td>7.719667</td>\n",
       "    </tr>\n",
       "    <tr>\n",
       "      <th>4</th>\n",
       "      <td>2002</td>\n",
       "      <td>0.498163</td>\n",
       "      <td>1.289745</td>\n",
       "      <td>0.740489</td>\n",
       "      <td>7.706667</td>\n",
       "    </tr>\n",
       "    <tr>\n",
       "      <th>5</th>\n",
       "      <td>2003</td>\n",
       "      <td>0.463550</td>\n",
       "      <td>1.555741</td>\n",
       "      <td>0.810822</td>\n",
       "      <td>7.743434</td>\n",
       "    </tr>\n",
       "    <tr>\n",
       "      <th>6</th>\n",
       "      <td>2004</td>\n",
       "      <td>0.521652</td>\n",
       "      <td>1.395152</td>\n",
       "      <td>0.881483</td>\n",
       "      <td>8.007071</td>\n",
       "    </tr>\n",
       "    <tr>\n",
       "      <th>7</th>\n",
       "      <td>2005</td>\n",
       "      <td>0.559014</td>\n",
       "      <td>2.172904</td>\n",
       "      <td>1.141708</td>\n",
       "      <td>8.792929</td>\n",
       "    </tr>\n",
       "    <tr>\n",
       "      <th>8</th>\n",
       "      <td>2006</td>\n",
       "      <td>0.572821</td>\n",
       "      <td>2.314728</td>\n",
       "      <td>1.405394</td>\n",
       "      <td>10.326263</td>\n",
       "    </tr>\n",
       "    <tr>\n",
       "      <th>9</th>\n",
       "      <td>2007</td>\n",
       "      <td>0.604027</td>\n",
       "      <td>2.120755</td>\n",
       "      <td>1.322306</td>\n",
       "      <td>11.497499</td>\n",
       "    </tr>\n",
       "    <tr>\n",
       "      <th>10</th>\n",
       "      <td>2008</td>\n",
       "      <td>0.930995</td>\n",
       "      <td>2.456412</td>\n",
       "      <td>1.701349</td>\n",
       "      <td>13.237404</td>\n",
       "    </tr>\n",
       "    <tr>\n",
       "      <th>11</th>\n",
       "      <td>2009</td>\n",
       "      <td>0.764055</td>\n",
       "      <td>2.256922</td>\n",
       "      <td>1.424737</td>\n",
       "      <td>13.728701</td>\n",
       "    </tr>\n",
       "    <tr>\n",
       "      <th>12</th>\n",
       "      <td>2010</td>\n",
       "      <td>0.869646</td>\n",
       "      <td>3.485674</td>\n",
       "      <td>1.461134</td>\n",
       "      <td>13.337961</td>\n",
       "    </tr>\n",
       "    <tr>\n",
       "      <th>13</th>\n",
       "      <td>2011</td>\n",
       "      <td>1.083788</td>\n",
       "      <td>4.321027</td>\n",
       "      <td>1.872670</td>\n",
       "      <td>14.411113</td>\n",
       "    </tr>\n",
       "    <tr>\n",
       "      <th>14</th>\n",
       "      <td>2012</td>\n",
       "      <td>0.879180</td>\n",
       "      <td>4.623866</td>\n",
       "      <td>2.058533</td>\n",
       "      <td>15.323495</td>\n",
       "    </tr>\n",
       "    <tr>\n",
       "      <th>15</th>\n",
       "      <td>2013</td>\n",
       "      <td>0.794566</td>\n",
       "      <td>4.236485</td>\n",
       "      <td>2.169998</td>\n",
       "      <td>15.945047</td>\n",
       "    </tr>\n",
       "    <tr>\n",
       "      <th>16</th>\n",
       "      <td>2014</td>\n",
       "      <td>0.724438</td>\n",
       "      <td>3.779470</td>\n",
       "      <td>1.760189</td>\n",
       "      <td>16.487723</td>\n",
       "    </tr>\n",
       "    <tr>\n",
       "      <th>17</th>\n",
       "      <td>2015</td>\n",
       "      <td>0.619805</td>\n",
       "      <td>2.503178</td>\n",
       "      <td>1.467249</td>\n",
       "      <td>16.345805</td>\n",
       "    </tr>\n",
       "    <tr>\n",
       "      <th>18</th>\n",
       "      <td>2016</td>\n",
       "      <td>0.669809</td>\n",
       "      <td>2.171225</td>\n",
       "      <td>1.158163</td>\n",
       "      <td>16.509792</td>\n",
       "    </tr>\n",
       "    <tr>\n",
       "      <th>19</th>\n",
       "      <td>2017</td>\n",
       "      <td>0.894947</td>\n",
       "      <td>2.749002</td>\n",
       "      <td>1.357619</td>\n",
       "      <td>17.809102</td>\n",
       "    </tr>\n",
       "    <tr>\n",
       "      <th>20</th>\n",
       "      <td>2018</td>\n",
       "      <td>0.913079</td>\n",
       "      <td>3.370556</td>\n",
       "      <td>1.683321</td>\n",
       "      <td>19.262200</td>\n",
       "    </tr>\n",
       "    <tr>\n",
       "      <th>21</th>\n",
       "      <td>2019</td>\n",
       "      <td>0.706770</td>\n",
       "      <td>3.433348</td>\n",
       "      <td>1.215103</td>\n",
       "      <td>20.870799</td>\n",
       "    </tr>\n",
       "    <tr>\n",
       "      <th>22</th>\n",
       "      <td>2020</td>\n",
       "      <td>0.685702</td>\n",
       "      <td>2.770059</td>\n",
       "      <td>0.969033</td>\n",
       "      <td>20.943317</td>\n",
       "    </tr>\n",
       "    <tr>\n",
       "      <th>23</th>\n",
       "      <td>2021</td>\n",
       "      <td>1.474959</td>\n",
       "      <td>3.720295</td>\n",
       "      <td>2.377165</td>\n",
       "      <td>22.744511</td>\n",
       "    </tr>\n",
       "    <tr>\n",
       "      <th>24</th>\n",
       "      <td>2022</td>\n",
       "      <td>2.830942</td>\n",
       "      <td>5.878026</td>\n",
       "      <td>4.862319</td>\n",
       "      <td>33.613535</td>\n",
       "    </tr>\n",
       "    <tr>\n",
       "      <th>25</th>\n",
       "      <td>2023</td>\n",
       "      <td>1.775227</td>\n",
       "      <td>4.273539</td>\n",
       "      <td>4.904535</td>\n",
       "      <td>36.700335</td>\n",
       "    </tr>\n",
       "  </tbody>\n",
       "</table>\n",
       "</div>"
      ],
      "text/plain": [
       "    Year  Coal (pence per kWh)  Oil (pence per kWh)  \\\n",
       "0   1998              0.544375             0.774538   \n",
       "1   1999              0.513870             0.911555   \n",
       "2   2000              0.512963             1.273934   \n",
       "3   2001              0.551299             1.220321   \n",
       "4   2002              0.498163             1.289745   \n",
       "5   2003              0.463550             1.555741   \n",
       "6   2004              0.521652             1.395152   \n",
       "7   2005              0.559014             2.172904   \n",
       "8   2006              0.572821             2.314728   \n",
       "9   2007              0.604027             2.120755   \n",
       "10  2008              0.930995             2.456412   \n",
       "11  2009              0.764055             2.256922   \n",
       "12  2010              0.869646             3.485674   \n",
       "13  2011              1.083788             4.321027   \n",
       "14  2012              0.879180             4.623866   \n",
       "15  2013              0.794566             4.236485   \n",
       "16  2014              0.724438             3.779470   \n",
       "17  2015              0.619805             2.503178   \n",
       "18  2016              0.669809             2.171225   \n",
       "19  2017              0.894947             2.749002   \n",
       "20  2018              0.913079             3.370556   \n",
       "21  2019              0.706770             3.433348   \n",
       "22  2020              0.685702             2.770059   \n",
       "23  2021              1.474959             3.720295   \n",
       "24  2022              2.830942             5.878026   \n",
       "25  2023              1.775227             4.273539   \n",
       "\n",
       "    Natural Gas (pence per kWh)  Average Unit Cost (Pence per kWh)  \n",
       "0                      0.848242                           8.259667  \n",
       "1                      0.782009                           8.138333  \n",
       "2                      0.750103                           7.890667  \n",
       "3                      0.824940                           7.719667  \n",
       "4                      0.740489                           7.706667  \n",
       "5                      0.810822                           7.743434  \n",
       "6                      0.881483                           8.007071  \n",
       "7                      1.141708                           8.792929  \n",
       "8                      1.405394                          10.326263  \n",
       "9                      1.322306                          11.497499  \n",
       "10                     1.701349                          13.237404  \n",
       "11                     1.424737                          13.728701  \n",
       "12                     1.461134                          13.337961  \n",
       "13                     1.872670                          14.411113  \n",
       "14                     2.058533                          15.323495  \n",
       "15                     2.169998                          15.945047  \n",
       "16                     1.760189                          16.487723  \n",
       "17                     1.467249                          16.345805  \n",
       "18                     1.158163                          16.509792  \n",
       "19                     1.357619                          17.809102  \n",
       "20                     1.683321                          19.262200  \n",
       "21                     1.215103                          20.870799  \n",
       "22                     0.969033                          20.943317  \n",
       "23                     2.377165                          22.744511  \n",
       "24                     4.862319                          33.613535  \n",
       "25                     4.904535                          36.700335  "
      ]
     },
     "execution_count": 63,
     "metadata": {},
     "output_type": "execute_result"
    }
   ],
   "source": [
    "Energy_Vs_Import_Price = Energy_Generation_Imports_Subset.merge(Energy_Price_Aggregate, on='Year')\n",
    "#Energy_Vs_Import_Price['Log Unit Cost'] = np.log(Energy_Vs_Import_Price['Credit: Unit cost (Pence per kWh)'])\n",
    "#Energy_Vs_Import_Price['Log Import Cost'] = np.log(Energy_Vs_Import_Price['Major power producers: Oil (pence per kWh)\\n[Note 2, 3]'])\n",
    "Energy_Vs_Import_Price"
   ]
  },
  {
   "cell_type": "code",
   "execution_count": 64,
   "metadata": {},
   "outputs": [
    {
     "data": {
      "text/html": [
       "<div>\n",
       "<style scoped>\n",
       "    .dataframe tbody tr th:only-of-type {\n",
       "        vertical-align: middle;\n",
       "    }\n",
       "\n",
       "    .dataframe tbody tr th {\n",
       "        vertical-align: top;\n",
       "    }\n",
       "\n",
       "    .dataframe thead th {\n",
       "        text-align: right;\n",
       "    }\n",
       "</style>\n",
       "<table border=\"1\" class=\"dataframe\">\n",
       "  <thead>\n",
       "    <tr style=\"text-align: right;\">\n",
       "      <th></th>\n",
       "      <th>Region</th>\n",
       "      <th>2002</th>\n",
       "      <th>2003</th>\n",
       "      <th>2004</th>\n",
       "      <th>2005</th>\n",
       "      <th>2006</th>\n",
       "      <th>2007</th>\n",
       "      <th>2008</th>\n",
       "      <th>2009</th>\n",
       "      <th>2010</th>\n",
       "      <th>...</th>\n",
       "      <th>2015</th>\n",
       "      <th>2016</th>\n",
       "      <th>2017</th>\n",
       "      <th>2018</th>\n",
       "      <th>2019</th>\n",
       "      <th>2020</th>\n",
       "      <th>2021</th>\n",
       "      <th>2022</th>\n",
       "      <th>2023</th>\n",
       "      <th>2024</th>\n",
       "    </tr>\n",
       "  </thead>\n",
       "  <tbody>\n",
       "    <tr>\n",
       "      <th>0</th>\n",
       "      <td>North East</td>\n",
       "      <td>343.2</td>\n",
       "      <td>350.5</td>\n",
       "      <td>372.7</td>\n",
       "      <td>383.3</td>\n",
       "      <td>392.9</td>\n",
       "      <td>401.0</td>\n",
       "      <td>421.7</td>\n",
       "      <td>438.5</td>\n",
       "      <td>443.4</td>\n",
       "      <td>...</td>\n",
       "      <td>485.6</td>\n",
       "      <td>492.4</td>\n",
       "      <td>504.1</td>\n",
       "      <td>511.1</td>\n",
       "      <td>531.4</td>\n",
       "      <td>525.2</td>\n",
       "      <td>546.8</td>\n",
       "      <td>581.4</td>\n",
       "      <td>617.4</td>\n",
       "      <td>661.2</td>\n",
       "    </tr>\n",
       "    <tr>\n",
       "      <th>1</th>\n",
       "      <td>North West</td>\n",
       "      <td>370.2</td>\n",
       "      <td>383.2</td>\n",
       "      <td>399.7</td>\n",
       "      <td>409.5</td>\n",
       "      <td>422.0</td>\n",
       "      <td>433.7</td>\n",
       "      <td>451.3</td>\n",
       "      <td>460.0</td>\n",
       "      <td>471.0</td>\n",
       "      <td>...</td>\n",
       "      <td>491.5</td>\n",
       "      <td>502.5</td>\n",
       "      <td>514.5</td>\n",
       "      <td>529.8</td>\n",
       "      <td>555.8</td>\n",
       "      <td>558.1</td>\n",
       "      <td>578.0</td>\n",
       "      <td>604.4</td>\n",
       "      <td>653.3</td>\n",
       "      <td>696.0</td>\n",
       "    </tr>\n",
       "    <tr>\n",
       "      <th>2</th>\n",
       "      <td>Yorkshire and The Humber</td>\n",
       "      <td>360.0</td>\n",
       "      <td>375.5</td>\n",
       "      <td>394.9</td>\n",
       "      <td>400.0</td>\n",
       "      <td>414.9</td>\n",
       "      <td>425.6</td>\n",
       "      <td>444.3</td>\n",
       "      <td>452.6</td>\n",
       "      <td>462.5</td>\n",
       "      <td>...</td>\n",
       "      <td>480.6</td>\n",
       "      <td>498.3</td>\n",
       "      <td>502.3</td>\n",
       "      <td>520.4</td>\n",
       "      <td>540.8</td>\n",
       "      <td>539.7</td>\n",
       "      <td>568.5</td>\n",
       "      <td>594.5</td>\n",
       "      <td>634.7</td>\n",
       "      <td>674.8</td>\n",
       "    </tr>\n",
       "    <tr>\n",
       "      <th>3</th>\n",
       "      <td>East Midlands</td>\n",
       "      <td>369.6</td>\n",
       "      <td>385.7</td>\n",
       "      <td>398.2</td>\n",
       "      <td>412.2</td>\n",
       "      <td>425.3</td>\n",
       "      <td>430.0</td>\n",
       "      <td>450.2</td>\n",
       "      <td>460.2</td>\n",
       "      <td>469.8</td>\n",
       "      <td>...</td>\n",
       "      <td>491.0</td>\n",
       "      <td>501.5</td>\n",
       "      <td>516.7</td>\n",
       "      <td>529.9</td>\n",
       "      <td>547.5</td>\n",
       "      <td>562.5</td>\n",
       "      <td>573.4</td>\n",
       "      <td>604.3</td>\n",
       "      <td>644.1</td>\n",
       "      <td>684.1</td>\n",
       "    </tr>\n",
       "    <tr>\n",
       "      <th>4</th>\n",
       "      <td>West Midlands</td>\n",
       "      <td>366.0</td>\n",
       "      <td>378.9</td>\n",
       "      <td>397.2</td>\n",
       "      <td>404.7</td>\n",
       "      <td>419.9</td>\n",
       "      <td>431.1</td>\n",
       "      <td>449.8</td>\n",
       "      <td>456.8</td>\n",
       "      <td>469.2</td>\n",
       "      <td>...</td>\n",
       "      <td>492.1</td>\n",
       "      <td>507.6</td>\n",
       "      <td>517.1</td>\n",
       "      <td>535.5</td>\n",
       "      <td>550.8</td>\n",
       "      <td>551.7</td>\n",
       "      <td>581.8</td>\n",
       "      <td>615.0</td>\n",
       "      <td>657.9</td>\n",
       "      <td>689.9</td>\n",
       "    </tr>\n",
       "    <tr>\n",
       "      <th>5</th>\n",
       "      <td>East</td>\n",
       "      <td>415.9</td>\n",
       "      <td>431.7</td>\n",
       "      <td>453.0</td>\n",
       "      <td>456.7</td>\n",
       "      <td>469.4</td>\n",
       "      <td>479.9</td>\n",
       "      <td>499.0</td>\n",
       "      <td>509.5</td>\n",
       "      <td>523.3</td>\n",
       "      <td>...</td>\n",
       "      <td>550.6</td>\n",
       "      <td>569.5</td>\n",
       "      <td>574.9</td>\n",
       "      <td>589.4</td>\n",
       "      <td>610.2</td>\n",
       "      <td>607.6</td>\n",
       "      <td>573.4</td>\n",
       "      <td>670.0</td>\n",
       "      <td>709.5</td>\n",
       "      <td>763.5</td>\n",
       "    </tr>\n",
       "    <tr>\n",
       "      <th>6</th>\n",
       "      <td>London</td>\n",
       "      <td>479.9</td>\n",
       "      <td>496.3</td>\n",
       "      <td>514.7</td>\n",
       "      <td>526.7</td>\n",
       "      <td>538.9</td>\n",
       "      <td>555.9</td>\n",
       "      <td>581.5</td>\n",
       "      <td>598.2</td>\n",
       "      <td>606.4</td>\n",
       "      <td>...</td>\n",
       "      <td>620.8</td>\n",
       "      <td>631.8</td>\n",
       "      <td>654.1</td>\n",
       "      <td>670.8</td>\n",
       "      <td>699.3</td>\n",
       "      <td>714.3</td>\n",
       "      <td>728.4</td>\n",
       "      <td>766.6</td>\n",
       "      <td>804.9</td>\n",
       "      <td>853.4</td>\n",
       "    </tr>\n",
       "    <tr>\n",
       "      <th>7</th>\n",
       "      <td>South East</td>\n",
       "      <td>435.1</td>\n",
       "      <td>451.0</td>\n",
       "      <td>468.7</td>\n",
       "      <td>468.9</td>\n",
       "      <td>488.0</td>\n",
       "      <td>502.3</td>\n",
       "      <td>524.8</td>\n",
       "      <td>536.6</td>\n",
       "      <td>547.8</td>\n",
       "      <td>...</td>\n",
       "      <td>574.9</td>\n",
       "      <td>581.8</td>\n",
       "      <td>595.9</td>\n",
       "      <td>614.9</td>\n",
       "      <td>636.3</td>\n",
       "      <td>629.0</td>\n",
       "      <td>660.1</td>\n",
       "      <td>689.0</td>\n",
       "      <td>728.3</td>\n",
       "      <td>779.2</td>\n",
       "    </tr>\n",
       "    <tr>\n",
       "      <th>8</th>\n",
       "      <td>South West</td>\n",
       "      <td>367.1</td>\n",
       "      <td>383.9</td>\n",
       "      <td>400.7</td>\n",
       "      <td>406.0</td>\n",
       "      <td>422.6</td>\n",
       "      <td>432.6</td>\n",
       "      <td>451.9</td>\n",
       "      <td>460.0</td>\n",
       "      <td>468.3</td>\n",
       "      <td>...</td>\n",
       "      <td>498.3</td>\n",
       "      <td>513.4</td>\n",
       "      <td>527.0</td>\n",
       "      <td>537.6</td>\n",
       "      <td>560.9</td>\n",
       "      <td>558.9</td>\n",
       "      <td>577.3</td>\n",
       "      <td>622.0</td>\n",
       "      <td>667.5</td>\n",
       "      <td>700.8</td>\n",
       "    </tr>\n",
       "  </tbody>\n",
       "</table>\n",
       "<p>9 rows × 24 columns</p>\n",
       "</div>"
      ],
      "text/plain": [
       "                     Region   2002   2003   2004   2005   2006   2007   2008  \\\n",
       "0                North East  343.2  350.5  372.7  383.3  392.9  401.0  421.7   \n",
       "1                North West  370.2  383.2  399.7  409.5  422.0  433.7  451.3   \n",
       "2  Yorkshire and The Humber  360.0  375.5  394.9  400.0  414.9  425.6  444.3   \n",
       "3             East Midlands  369.6  385.7  398.2  412.2  425.3  430.0  450.2   \n",
       "4             West Midlands  366.0  378.9  397.2  404.7  419.9  431.1  449.8   \n",
       "5                      East  415.9  431.7  453.0  456.7  469.4  479.9  499.0   \n",
       "6                    London  479.9  496.3  514.7  526.7  538.9  555.9  581.5   \n",
       "7                South East  435.1  451.0  468.7  468.9  488.0  502.3  524.8   \n",
       "8                South West  367.1  383.9  400.7  406.0  422.6  432.6  451.9   \n",
       "\n",
       "    2009   2010  ...   2015   2016   2017   2018   2019   2020   2021   2022  \\\n",
       "0  438.5  443.4  ...  485.6  492.4  504.1  511.1  531.4  525.2  546.8  581.4   \n",
       "1  460.0  471.0  ...  491.5  502.5  514.5  529.8  555.8  558.1  578.0  604.4   \n",
       "2  452.6  462.5  ...  480.6  498.3  502.3  520.4  540.8  539.7  568.5  594.5   \n",
       "3  460.2  469.8  ...  491.0  501.5  516.7  529.9  547.5  562.5  573.4  604.3   \n",
       "4  456.8  469.2  ...  492.1  507.6  517.1  535.5  550.8  551.7  581.8  615.0   \n",
       "5  509.5  523.3  ...  550.6  569.5  574.9  589.4  610.2  607.6  573.4  670.0   \n",
       "6  598.2  606.4  ...  620.8  631.8  654.1  670.8  699.3  714.3  728.4  766.6   \n",
       "7  536.6  547.8  ...  574.9  581.8  595.9  614.9  636.3  629.0  660.1  689.0   \n",
       "8  460.0  468.3  ...  498.3  513.4  527.0  537.6  560.9  558.9  577.3  622.0   \n",
       "\n",
       "    2023   2024  \n",
       "0  617.4  661.2  \n",
       "1  653.3  696.0  \n",
       "2  634.7  674.8  \n",
       "3  644.1  684.1  \n",
       "4  657.9  689.9  \n",
       "5  709.5  763.5  \n",
       "6  804.9  853.4  \n",
       "7  728.3  779.2  \n",
       "8  667.5  700.8  \n",
       "\n",
       "[9 rows x 24 columns]"
      ]
     },
     "execution_count": 64,
     "metadata": {},
     "output_type": "execute_result"
    }
   ],
   "source": [
    "#Median Income by region and region Adjusted for inflation\n",
    "Median_Income_Raw = pd.read_excel(io=Average_Earning_7, sheet_name='FT weekly pay by home region', header=4, nrows=9, skiprows=[5,6,7], usecols='B:E,G:H, J:N, P:Y, AA:AC')\n",
    "Median_Income_Raw.rename(columns={'Unnamed: 1': 'Region'}, inplace=True)\n",
    "Median_Income_Raw"
   ]
  },
  {
   "cell_type": "code",
   "execution_count": 65,
   "metadata": {},
   "outputs": [],
   "source": [
    "# Unpivot the Median_Income_Raw df\n",
    "Median_Income = pd.melt(\n",
    "    Median_Income_Raw, \n",
    "    id_vars=['Region'], \n",
    "    var_name='Year',   \n",
    "    value_name='Median_Income' )\n",
    "\n",
    "#Convert the weekly income into salary\n",
    "Median_Income['Salary'] = Median_Income['Median_Income']*52"
   ]
  },
  {
   "cell_type": "code",
   "execution_count": 66,
   "metadata": {},
   "outputs": [
    {
     "data": {
      "text/html": [
       "<div>\n",
       "<style scoped>\n",
       "    .dataframe tbody tr th:only-of-type {\n",
       "        vertical-align: middle;\n",
       "    }\n",
       "\n",
       "    .dataframe tbody tr th {\n",
       "        vertical-align: top;\n",
       "    }\n",
       "\n",
       "    .dataframe thead th {\n",
       "        text-align: right;\n",
       "    }\n",
       "</style>\n",
       "<table border=\"1\" class=\"dataframe\">\n",
       "  <thead>\n",
       "    <tr style=\"text-align: right;\">\n",
       "      <th></th>\n",
       "      <th>Year</th>\n",
       "      <th>Salary</th>\n",
       "    </tr>\n",
       "  </thead>\n",
       "  <tbody>\n",
       "    <tr>\n",
       "      <th>0</th>\n",
       "      <td>2002</td>\n",
       "      <td>20262.666667</td>\n",
       "    </tr>\n",
       "    <tr>\n",
       "      <th>1</th>\n",
       "      <td>2003</td>\n",
       "      <td>21012.044444</td>\n",
       "    </tr>\n",
       "    <tr>\n",
       "      <th>2</th>\n",
       "      <td>2004</td>\n",
       "      <td>21954.400000</td>\n",
       "    </tr>\n",
       "    <tr>\n",
       "      <th>3</th>\n",
       "      <td>2005</td>\n",
       "      <td>22348.444444</td>\n",
       "    </tr>\n",
       "    <tr>\n",
       "      <th>4</th>\n",
       "      <td>2006</td>\n",
       "      <td>23075.866667</td>\n",
       "    </tr>\n",
       "    <tr>\n",
       "      <th>5</th>\n",
       "      <td>2007</td>\n",
       "      <td>23643.244444</td>\n",
       "    </tr>\n",
       "    <tr>\n",
       "      <th>6</th>\n",
       "      <td>2008</td>\n",
       "      <td>24697.111111</td>\n",
       "    </tr>\n",
       "    <tr>\n",
       "      <th>7</th>\n",
       "      <td>2009</td>\n",
       "      <td>25262.755556</td>\n",
       "    </tr>\n",
       "    <tr>\n",
       "      <th>8</th>\n",
       "      <td>2010</td>\n",
       "      <td>25778.711111</td>\n",
       "    </tr>\n",
       "    <tr>\n",
       "      <th>9</th>\n",
       "      <td>2011</td>\n",
       "      <td>25916.222222</td>\n",
       "    </tr>\n",
       "    <tr>\n",
       "      <th>10</th>\n",
       "      <td>2012</td>\n",
       "      <td>26091.866667</td>\n",
       "    </tr>\n",
       "    <tr>\n",
       "      <th>11</th>\n",
       "      <td>2013</td>\n",
       "      <td>26578.355556</td>\n",
       "    </tr>\n",
       "    <tr>\n",
       "      <th>12</th>\n",
       "      <td>2014</td>\n",
       "      <td>26722.800000</td>\n",
       "    </tr>\n",
       "    <tr>\n",
       "      <th>13</th>\n",
       "      <td>2015</td>\n",
       "      <td>27071.200000</td>\n",
       "    </tr>\n",
       "    <tr>\n",
       "      <th>14</th>\n",
       "      <td>2016</td>\n",
       "      <td>27726.400000</td>\n",
       "    </tr>\n",
       "    <tr>\n",
       "      <th>15</th>\n",
       "      <td>2017</td>\n",
       "      <td>28349.244444</td>\n",
       "    </tr>\n",
       "    <tr>\n",
       "      <th>16</th>\n",
       "      <td>2018</td>\n",
       "      <td>29116.533333</td>\n",
       "    </tr>\n",
       "    <tr>\n",
       "      <th>17</th>\n",
       "      <td>2019</td>\n",
       "      <td>30235.111111</td>\n",
       "    </tr>\n",
       "    <tr>\n",
       "      <th>18</th>\n",
       "      <td>2020</td>\n",
       "      <td>30316.000000</td>\n",
       "    </tr>\n",
       "    <tr>\n",
       "      <th>19</th>\n",
       "      <td>2021</td>\n",
       "      <td>31128.933333</td>\n",
       "    </tr>\n",
       "    <tr>\n",
       "      <th>20</th>\n",
       "      <td>2022</td>\n",
       "      <td>33206.044444</td>\n",
       "    </tr>\n",
       "    <tr>\n",
       "      <th>21</th>\n",
       "      <td>2023</td>\n",
       "      <td>35346.133333</td>\n",
       "    </tr>\n",
       "    <tr>\n",
       "      <th>22</th>\n",
       "      <td>2024</td>\n",
       "      <td>37572.311111</td>\n",
       "    </tr>\n",
       "  </tbody>\n",
       "</table>\n",
       "</div>"
      ],
      "text/plain": [
       "    Year        Salary\n",
       "0   2002  20262.666667\n",
       "1   2003  21012.044444\n",
       "2   2004  21954.400000\n",
       "3   2005  22348.444444\n",
       "4   2006  23075.866667\n",
       "5   2007  23643.244444\n",
       "6   2008  24697.111111\n",
       "7   2009  25262.755556\n",
       "8   2010  25778.711111\n",
       "9   2011  25916.222222\n",
       "10  2012  26091.866667\n",
       "11  2013  26578.355556\n",
       "12  2014  26722.800000\n",
       "13  2015  27071.200000\n",
       "14  2016  27726.400000\n",
       "15  2017  28349.244444\n",
       "16  2018  29116.533333\n",
       "17  2019  30235.111111\n",
       "18  2020  30316.000000\n",
       "19  2021  31128.933333\n",
       "20  2022  33206.044444\n",
       "21  2023  35346.133333\n",
       "22  2024  37572.311111"
      ]
     },
     "execution_count": 66,
     "metadata": {},
     "output_type": "execute_result"
    }
   ],
   "source": [
    "Median_Income_by_Year = Median_Income.groupby('Year', as_index=False)['Salary'].mean()\n",
    "Median_Income_by_Year"
   ]
  },
  {
   "cell_type": "code",
   "execution_count": 67,
   "metadata": {},
   "outputs": [
    {
     "data": {
      "text/html": [
       "<div>\n",
       "<style scoped>\n",
       "    .dataframe tbody tr th:only-of-type {\n",
       "        vertical-align: middle;\n",
       "    }\n",
       "\n",
       "    .dataframe tbody tr th {\n",
       "        vertical-align: top;\n",
       "    }\n",
       "\n",
       "    .dataframe thead th {\n",
       "        text-align: right;\n",
       "    }\n",
       "</style>\n",
       "<table border=\"1\" class=\"dataframe\">\n",
       "  <thead>\n",
       "    <tr style=\"text-align: right;\">\n",
       "      <th></th>\n",
       "      <th>Year</th>\n",
       "      <th>Coal (pence per kWh)</th>\n",
       "      <th>Oil (pence per kWh)</th>\n",
       "      <th>Natural Gas (pence per kWh)</th>\n",
       "      <th>Average Unit Cost (Pence per kWh)</th>\n",
       "      <th>Salary</th>\n",
       "      <th>Salary (£'000)</th>\n",
       "    </tr>\n",
       "  </thead>\n",
       "  <tbody>\n",
       "    <tr>\n",
       "      <th>0</th>\n",
       "      <td>2002</td>\n",
       "      <td>0.498163</td>\n",
       "      <td>1.289745</td>\n",
       "      <td>0.740489</td>\n",
       "      <td>7.706667</td>\n",
       "      <td>20262.666667</td>\n",
       "      <td>20.262667</td>\n",
       "    </tr>\n",
       "    <tr>\n",
       "      <th>1</th>\n",
       "      <td>2003</td>\n",
       "      <td>0.463550</td>\n",
       "      <td>1.555741</td>\n",
       "      <td>0.810822</td>\n",
       "      <td>7.743434</td>\n",
       "      <td>21012.044444</td>\n",
       "      <td>21.012044</td>\n",
       "    </tr>\n",
       "    <tr>\n",
       "      <th>2</th>\n",
       "      <td>2004</td>\n",
       "      <td>0.521652</td>\n",
       "      <td>1.395152</td>\n",
       "      <td>0.881483</td>\n",
       "      <td>8.007071</td>\n",
       "      <td>21954.400000</td>\n",
       "      <td>21.954400</td>\n",
       "    </tr>\n",
       "    <tr>\n",
       "      <th>3</th>\n",
       "      <td>2005</td>\n",
       "      <td>0.559014</td>\n",
       "      <td>2.172904</td>\n",
       "      <td>1.141708</td>\n",
       "      <td>8.792929</td>\n",
       "      <td>22348.444444</td>\n",
       "      <td>22.348444</td>\n",
       "    </tr>\n",
       "    <tr>\n",
       "      <th>4</th>\n",
       "      <td>2006</td>\n",
       "      <td>0.572821</td>\n",
       "      <td>2.314728</td>\n",
       "      <td>1.405394</td>\n",
       "      <td>10.326263</td>\n",
       "      <td>23075.866667</td>\n",
       "      <td>23.075867</td>\n",
       "    </tr>\n",
       "    <tr>\n",
       "      <th>5</th>\n",
       "      <td>2007</td>\n",
       "      <td>0.604027</td>\n",
       "      <td>2.120755</td>\n",
       "      <td>1.322306</td>\n",
       "      <td>11.497499</td>\n",
       "      <td>23643.244444</td>\n",
       "      <td>23.643244</td>\n",
       "    </tr>\n",
       "    <tr>\n",
       "      <th>6</th>\n",
       "      <td>2008</td>\n",
       "      <td>0.930995</td>\n",
       "      <td>2.456412</td>\n",
       "      <td>1.701349</td>\n",
       "      <td>13.237404</td>\n",
       "      <td>24697.111111</td>\n",
       "      <td>24.697111</td>\n",
       "    </tr>\n",
       "    <tr>\n",
       "      <th>7</th>\n",
       "      <td>2009</td>\n",
       "      <td>0.764055</td>\n",
       "      <td>2.256922</td>\n",
       "      <td>1.424737</td>\n",
       "      <td>13.728701</td>\n",
       "      <td>25262.755556</td>\n",
       "      <td>25.262756</td>\n",
       "    </tr>\n",
       "    <tr>\n",
       "      <th>8</th>\n",
       "      <td>2010</td>\n",
       "      <td>0.869646</td>\n",
       "      <td>3.485674</td>\n",
       "      <td>1.461134</td>\n",
       "      <td>13.337961</td>\n",
       "      <td>25778.711111</td>\n",
       "      <td>25.778711</td>\n",
       "    </tr>\n",
       "    <tr>\n",
       "      <th>9</th>\n",
       "      <td>2011</td>\n",
       "      <td>1.083788</td>\n",
       "      <td>4.321027</td>\n",
       "      <td>1.872670</td>\n",
       "      <td>14.411113</td>\n",
       "      <td>25916.222222</td>\n",
       "      <td>25.916222</td>\n",
       "    </tr>\n",
       "    <tr>\n",
       "      <th>10</th>\n",
       "      <td>2012</td>\n",
       "      <td>0.879180</td>\n",
       "      <td>4.623866</td>\n",
       "      <td>2.058533</td>\n",
       "      <td>15.323495</td>\n",
       "      <td>26091.866667</td>\n",
       "      <td>26.091867</td>\n",
       "    </tr>\n",
       "    <tr>\n",
       "      <th>11</th>\n",
       "      <td>2013</td>\n",
       "      <td>0.794566</td>\n",
       "      <td>4.236485</td>\n",
       "      <td>2.169998</td>\n",
       "      <td>15.945047</td>\n",
       "      <td>26578.355556</td>\n",
       "      <td>26.578356</td>\n",
       "    </tr>\n",
       "    <tr>\n",
       "      <th>12</th>\n",
       "      <td>2014</td>\n",
       "      <td>0.724438</td>\n",
       "      <td>3.779470</td>\n",
       "      <td>1.760189</td>\n",
       "      <td>16.487723</td>\n",
       "      <td>26722.800000</td>\n",
       "      <td>26.722800</td>\n",
       "    </tr>\n",
       "    <tr>\n",
       "      <th>13</th>\n",
       "      <td>2015</td>\n",
       "      <td>0.619805</td>\n",
       "      <td>2.503178</td>\n",
       "      <td>1.467249</td>\n",
       "      <td>16.345805</td>\n",
       "      <td>27071.200000</td>\n",
       "      <td>27.071200</td>\n",
       "    </tr>\n",
       "    <tr>\n",
       "      <th>14</th>\n",
       "      <td>2016</td>\n",
       "      <td>0.669809</td>\n",
       "      <td>2.171225</td>\n",
       "      <td>1.158163</td>\n",
       "      <td>16.509792</td>\n",
       "      <td>27726.400000</td>\n",
       "      <td>27.726400</td>\n",
       "    </tr>\n",
       "    <tr>\n",
       "      <th>15</th>\n",
       "      <td>2017</td>\n",
       "      <td>0.894947</td>\n",
       "      <td>2.749002</td>\n",
       "      <td>1.357619</td>\n",
       "      <td>17.809102</td>\n",
       "      <td>28349.244444</td>\n",
       "      <td>28.349244</td>\n",
       "    </tr>\n",
       "    <tr>\n",
       "      <th>16</th>\n",
       "      <td>2018</td>\n",
       "      <td>0.913079</td>\n",
       "      <td>3.370556</td>\n",
       "      <td>1.683321</td>\n",
       "      <td>19.262200</td>\n",
       "      <td>29116.533333</td>\n",
       "      <td>29.116533</td>\n",
       "    </tr>\n",
       "    <tr>\n",
       "      <th>17</th>\n",
       "      <td>2019</td>\n",
       "      <td>0.706770</td>\n",
       "      <td>3.433348</td>\n",
       "      <td>1.215103</td>\n",
       "      <td>20.870799</td>\n",
       "      <td>30235.111111</td>\n",
       "      <td>30.235111</td>\n",
       "    </tr>\n",
       "    <tr>\n",
       "      <th>18</th>\n",
       "      <td>2020</td>\n",
       "      <td>0.685702</td>\n",
       "      <td>2.770059</td>\n",
       "      <td>0.969033</td>\n",
       "      <td>20.943317</td>\n",
       "      <td>30316.000000</td>\n",
       "      <td>30.316000</td>\n",
       "    </tr>\n",
       "    <tr>\n",
       "      <th>19</th>\n",
       "      <td>2021</td>\n",
       "      <td>1.474959</td>\n",
       "      <td>3.720295</td>\n",
       "      <td>2.377165</td>\n",
       "      <td>22.744511</td>\n",
       "      <td>31128.933333</td>\n",
       "      <td>31.128933</td>\n",
       "    </tr>\n",
       "    <tr>\n",
       "      <th>20</th>\n",
       "      <td>2022</td>\n",
       "      <td>2.830942</td>\n",
       "      <td>5.878026</td>\n",
       "      <td>4.862319</td>\n",
       "      <td>33.613535</td>\n",
       "      <td>33206.044444</td>\n",
       "      <td>33.206044</td>\n",
       "    </tr>\n",
       "    <tr>\n",
       "      <th>21</th>\n",
       "      <td>2023</td>\n",
       "      <td>1.775227</td>\n",
       "      <td>4.273539</td>\n",
       "      <td>4.904535</td>\n",
       "      <td>36.700335</td>\n",
       "      <td>35346.133333</td>\n",
       "      <td>35.346133</td>\n",
       "    </tr>\n",
       "  </tbody>\n",
       "</table>\n",
       "</div>"
      ],
      "text/plain": [
       "    Year  Coal (pence per kWh)  Oil (pence per kWh)  \\\n",
       "0   2002              0.498163             1.289745   \n",
       "1   2003              0.463550             1.555741   \n",
       "2   2004              0.521652             1.395152   \n",
       "3   2005              0.559014             2.172904   \n",
       "4   2006              0.572821             2.314728   \n",
       "5   2007              0.604027             2.120755   \n",
       "6   2008              0.930995             2.456412   \n",
       "7   2009              0.764055             2.256922   \n",
       "8   2010              0.869646             3.485674   \n",
       "9   2011              1.083788             4.321027   \n",
       "10  2012              0.879180             4.623866   \n",
       "11  2013              0.794566             4.236485   \n",
       "12  2014              0.724438             3.779470   \n",
       "13  2015              0.619805             2.503178   \n",
       "14  2016              0.669809             2.171225   \n",
       "15  2017              0.894947             2.749002   \n",
       "16  2018              0.913079             3.370556   \n",
       "17  2019              0.706770             3.433348   \n",
       "18  2020              0.685702             2.770059   \n",
       "19  2021              1.474959             3.720295   \n",
       "20  2022              2.830942             5.878026   \n",
       "21  2023              1.775227             4.273539   \n",
       "\n",
       "    Natural Gas (pence per kWh)  Average Unit Cost (Pence per kWh)  \\\n",
       "0                      0.740489                           7.706667   \n",
       "1                      0.810822                           7.743434   \n",
       "2                      0.881483                           8.007071   \n",
       "3                      1.141708                           8.792929   \n",
       "4                      1.405394                          10.326263   \n",
       "5                      1.322306                          11.497499   \n",
       "6                      1.701349                          13.237404   \n",
       "7                      1.424737                          13.728701   \n",
       "8                      1.461134                          13.337961   \n",
       "9                      1.872670                          14.411113   \n",
       "10                     2.058533                          15.323495   \n",
       "11                     2.169998                          15.945047   \n",
       "12                     1.760189                          16.487723   \n",
       "13                     1.467249                          16.345805   \n",
       "14                     1.158163                          16.509792   \n",
       "15                     1.357619                          17.809102   \n",
       "16                     1.683321                          19.262200   \n",
       "17                     1.215103                          20.870799   \n",
       "18                     0.969033                          20.943317   \n",
       "19                     2.377165                          22.744511   \n",
       "20                     4.862319                          33.613535   \n",
       "21                     4.904535                          36.700335   \n",
       "\n",
       "          Salary  Salary (£'000)  \n",
       "0   20262.666667       20.262667  \n",
       "1   21012.044444       21.012044  \n",
       "2   21954.400000       21.954400  \n",
       "3   22348.444444       22.348444  \n",
       "4   23075.866667       23.075867  \n",
       "5   23643.244444       23.643244  \n",
       "6   24697.111111       24.697111  \n",
       "7   25262.755556       25.262756  \n",
       "8   25778.711111       25.778711  \n",
       "9   25916.222222       25.916222  \n",
       "10  26091.866667       26.091867  \n",
       "11  26578.355556       26.578356  \n",
       "12  26722.800000       26.722800  \n",
       "13  27071.200000       27.071200  \n",
       "14  27726.400000       27.726400  \n",
       "15  28349.244444       28.349244  \n",
       "16  29116.533333       29.116533  \n",
       "17  30235.111111       30.235111  \n",
       "18  30316.000000       30.316000  \n",
       "19  31128.933333       31.128933  \n",
       "20  33206.044444       33.206044  \n",
       "21  35346.133333       35.346133  "
      ]
     },
     "execution_count": 67,
     "metadata": {},
     "output_type": "execute_result"
    }
   ],
   "source": [
    "Energy_Vs_Import_Price_Sal = Energy_Vs_Import_Price.merge(Median_Income_by_Year, on=['Year'], how='left')\n",
    "Energy_Vs_Import_Price_Sal = Energy_Vs_Import_Price_Sal[Energy_Vs_Import_Price_Sal['Salary'].notnull()]\n",
    "Energy_Vs_Import_Price_Sal = Energy_Vs_Import_Price_Sal.reset_index()\n",
    "Energy_Vs_Import_Price_Sal = Energy_Vs_Import_Price_Sal.drop(columns=['index'])\n",
    "Energy_Vs_Import_Price_Sal[\"Salary (£'000)\"] = Energy_Vs_Import_Price_Sal['Salary']/1000\n",
    "Energy_Vs_Import_Price_Sal"
   ]
  },
  {
   "cell_type": "code",
   "execution_count": 68,
   "metadata": {},
   "outputs": [
    {
     "data": {
      "application/vnd.plotly.v1+json": {
       "config": {
        "plotlyServerURL": "https://plot.ly"
       },
       "data": [
        {
         "hovertemplate": "variable=Average Unit Cost (Pence per kWh)<br>Year=%{x}<br>value=%{y}<extra></extra>",
         "legendgroup": "Average Unit Cost (Pence per kWh)",
         "line": {
          "color": "green",
          "dash": "solid"
         },
         "marker": {
          "symbol": "circle"
         },
         "mode": "lines",
         "name": "Average Unit Cost (Pence per kWh)",
         "orientation": "v",
         "showlegend": true,
         "type": "scatter",
         "x": [
          2002,
          2003,
          2004,
          2005,
          2006,
          2007,
          2008,
          2009,
          2010,
          2011,
          2012,
          2013,
          2014,
          2015,
          2016,
          2017,
          2018,
          2019,
          2020,
          2021,
          2022,
          2023
         ],
         "xaxis": "x",
         "y": [
          7.706666666666666,
          7.743434343434344,
          8.007070707070707,
          8.792929292929294,
          10.326262626262627,
          11.497499107294056,
          13.23740352504652,
          13.728701157125386,
          13.33796106930895,
          14.41111295058707,
          15.323494949494949,
          15.9450469924812,
          16.487722856909983,
          16.345804612468118,
          16.509792348512313,
          17.809101807350267,
          19.262200405800154,
          20.870799021238998,
          20.943317092130805,
          22.744511280111507,
          33.613534943970485,
          36.70033468141712
         ],
         "yaxis": "y"
        },
        {
         "hovertemplate": "variable=Oil (pence per kWh)<br>Year=%{x}<br>value=%{y}<extra></extra>",
         "legendgroup": "Oil (pence per kWh)",
         "line": {
          "color": "purple",
          "dash": "solid"
         },
         "marker": {
          "symbol": "circle"
         },
         "mode": "lines",
         "name": "Oil (pence per kWh)",
         "orientation": "v",
         "showlegend": true,
         "type": "scatter",
         "x": [
          2002,
          2003,
          2004,
          2005,
          2006,
          2007,
          2008,
          2009,
          2010,
          2011,
          2012,
          2013,
          2014,
          2015,
          2016,
          2017,
          2018,
          2019,
          2020,
          2021,
          2022,
          2023
         ],
         "xaxis": "x",
         "y": [
          1.289744627723355,
          1.5557414153592977,
          1.395152242416172,
          2.172903951867491,
          2.3147277897771814,
          2.1207549242992885,
          2.4564123472683614,
          2.2569224590424226,
          3.4856743566198043,
          4.321027377405333,
          4.623866470283808,
          4.236485395366341,
          3.779469503435937,
          2.503177643830492,
          2.171224729335332,
          2.749002315946513,
          3.3705563245552725,
          3.433347754627847,
          2.7700585895401755,
          3.7202945803195018,
          5.878025527365417,
          4.2735390122857
         ],
         "yaxis": "y"
        },
        {
         "hovertemplate": "variable=Natural Gas (pence per kWh)<br>Year=%{x}<br>value=%{y}<extra></extra>",
         "legendgroup": "Natural Gas (pence per kWh)",
         "line": {
          "color": "lightgrey",
          "dash": "solid"
         },
         "marker": {
          "symbol": "circle"
         },
         "mode": "lines",
         "name": "Natural Gas (pence per kWh)",
         "orientation": "v",
         "showlegend": true,
         "type": "scatter",
         "x": [
          2002,
          2003,
          2004,
          2005,
          2006,
          2007,
          2008,
          2009,
          2010,
          2011,
          2012,
          2013,
          2014,
          2015,
          2016,
          2017,
          2018,
          2019,
          2020,
          2021,
          2022,
          2023
         ],
         "xaxis": "x",
         "y": [
          0.7404886363636363,
          0.8108222222222221,
          0.8814830852503384,
          1.1417082785808146,
          1.4053943734015346,
          1.322306,
          1.7013486715761659,
          1.4247373665480427,
          1.4611343605103526,
          1.8726697918865336,
          2.0585333808416166,
          2.1699982236159028,
          1.7601889937316877,
          1.4672489641236302,
          1.158162698701337,
          1.3576190736792246,
          1.6833214497269613,
          1.2151030991198557,
          0.9690332230018006,
          2.3771646222847242,
          4.8623188350740945,
          4.904535214951021
         ],
         "yaxis": "y"
        },
        {
         "hovertemplate": "variable=Coal (pence per kWh)<br>Year=%{x}<br>value=%{y}<extra></extra>",
         "legendgroup": "Coal (pence per kWh)",
         "line": {
          "color": "lightgrey",
          "dash": "solid"
         },
         "marker": {
          "symbol": "circle"
         },
         "mode": "lines",
         "name": "Coal (pence per kWh)",
         "orientation": "v",
         "showlegend": true,
         "type": "scatter",
         "x": [
          2002,
          2003,
          2004,
          2005,
          2006,
          2007,
          2008,
          2009,
          2010,
          2011,
          2012,
          2013,
          2014,
          2015,
          2016,
          2017,
          2018,
          2019,
          2020,
          2021,
          2022,
          2023
         ],
         "xaxis": "x",
         "y": [
          0.49816338129166465,
          0.4635500009300348,
          0.5216518805183191,
          0.5590144099704893,
          0.5728207989449081,
          0.6040274776542615,
          0.9309953075342217,
          0.7640551751875683,
          0.8696462033268267,
          1.0837881905931106,
          0.8791803853903469,
          0.7945656791461673,
          0.7244383252187832,
          0.6198054313575502,
          0.6698086614764348,
          0.8949474644144926,
          0.9130794696544428,
          0.7067698337965661,
          0.6857024851344462,
          1.4749593503698968,
          2.8309417335466716,
          1.7752270796615102
         ],
         "yaxis": "y"
        }
       ],
       "layout": {
        "font": {
         "size": 26
        },
        "height": 700,
        "legend": {
         "font": {
          "size": 26
         },
         "orientation": "h",
         "title": {},
         "tracegroupgap": 0,
         "x": 0.5,
         "xanchor": "center",
         "y": 1,
         "yanchor": "bottom"
        },
        "margin": {
         "b": 10,
         "l": 10,
         "r": 10,
         "t": 130
        },
        "template": {
         "data": {
          "bar": [
           {
            "error_x": {
             "color": "#2a3f5f"
            },
            "error_y": {
             "color": "#2a3f5f"
            },
            "marker": {
             "line": {
              "color": "#E5ECF6",
              "width": 0.5
             },
             "pattern": {
              "fillmode": "overlay",
              "size": 10,
              "solidity": 0.2
             }
            },
            "type": "bar"
           }
          ],
          "barpolar": [
           {
            "marker": {
             "line": {
              "color": "#E5ECF6",
              "width": 0.5
             },
             "pattern": {
              "fillmode": "overlay",
              "size": 10,
              "solidity": 0.2
             }
            },
            "type": "barpolar"
           }
          ],
          "carpet": [
           {
            "aaxis": {
             "endlinecolor": "#2a3f5f",
             "gridcolor": "white",
             "linecolor": "white",
             "minorgridcolor": "white",
             "startlinecolor": "#2a3f5f"
            },
            "baxis": {
             "endlinecolor": "#2a3f5f",
             "gridcolor": "white",
             "linecolor": "white",
             "minorgridcolor": "white",
             "startlinecolor": "#2a3f5f"
            },
            "type": "carpet"
           }
          ],
          "choropleth": [
           {
            "colorbar": {
             "outlinewidth": 0,
             "ticks": ""
            },
            "type": "choropleth"
           }
          ],
          "contour": [
           {
            "colorbar": {
             "outlinewidth": 0,
             "ticks": ""
            },
            "colorscale": [
             [
              0,
              "#0d0887"
             ],
             [
              0.1111111111111111,
              "#46039f"
             ],
             [
              0.2222222222222222,
              "#7201a8"
             ],
             [
              0.3333333333333333,
              "#9c179e"
             ],
             [
              0.4444444444444444,
              "#bd3786"
             ],
             [
              0.5555555555555556,
              "#d8576b"
             ],
             [
              0.6666666666666666,
              "#ed7953"
             ],
             [
              0.7777777777777778,
              "#fb9f3a"
             ],
             [
              0.8888888888888888,
              "#fdca26"
             ],
             [
              1,
              "#f0f921"
             ]
            ],
            "type": "contour"
           }
          ],
          "contourcarpet": [
           {
            "colorbar": {
             "outlinewidth": 0,
             "ticks": ""
            },
            "type": "contourcarpet"
           }
          ],
          "heatmap": [
           {
            "colorbar": {
             "outlinewidth": 0,
             "ticks": ""
            },
            "colorscale": [
             [
              0,
              "#0d0887"
             ],
             [
              0.1111111111111111,
              "#46039f"
             ],
             [
              0.2222222222222222,
              "#7201a8"
             ],
             [
              0.3333333333333333,
              "#9c179e"
             ],
             [
              0.4444444444444444,
              "#bd3786"
             ],
             [
              0.5555555555555556,
              "#d8576b"
             ],
             [
              0.6666666666666666,
              "#ed7953"
             ],
             [
              0.7777777777777778,
              "#fb9f3a"
             ],
             [
              0.8888888888888888,
              "#fdca26"
             ],
             [
              1,
              "#f0f921"
             ]
            ],
            "type": "heatmap"
           }
          ],
          "heatmapgl": [
           {
            "colorbar": {
             "outlinewidth": 0,
             "ticks": ""
            },
            "colorscale": [
             [
              0,
              "#0d0887"
             ],
             [
              0.1111111111111111,
              "#46039f"
             ],
             [
              0.2222222222222222,
              "#7201a8"
             ],
             [
              0.3333333333333333,
              "#9c179e"
             ],
             [
              0.4444444444444444,
              "#bd3786"
             ],
             [
              0.5555555555555556,
              "#d8576b"
             ],
             [
              0.6666666666666666,
              "#ed7953"
             ],
             [
              0.7777777777777778,
              "#fb9f3a"
             ],
             [
              0.8888888888888888,
              "#fdca26"
             ],
             [
              1,
              "#f0f921"
             ]
            ],
            "type": "heatmapgl"
           }
          ],
          "histogram": [
           {
            "marker": {
             "pattern": {
              "fillmode": "overlay",
              "size": 10,
              "solidity": 0.2
             }
            },
            "type": "histogram"
           }
          ],
          "histogram2d": [
           {
            "colorbar": {
             "outlinewidth": 0,
             "ticks": ""
            },
            "colorscale": [
             [
              0,
              "#0d0887"
             ],
             [
              0.1111111111111111,
              "#46039f"
             ],
             [
              0.2222222222222222,
              "#7201a8"
             ],
             [
              0.3333333333333333,
              "#9c179e"
             ],
             [
              0.4444444444444444,
              "#bd3786"
             ],
             [
              0.5555555555555556,
              "#d8576b"
             ],
             [
              0.6666666666666666,
              "#ed7953"
             ],
             [
              0.7777777777777778,
              "#fb9f3a"
             ],
             [
              0.8888888888888888,
              "#fdca26"
             ],
             [
              1,
              "#f0f921"
             ]
            ],
            "type": "histogram2d"
           }
          ],
          "histogram2dcontour": [
           {
            "colorbar": {
             "outlinewidth": 0,
             "ticks": ""
            },
            "colorscale": [
             [
              0,
              "#0d0887"
             ],
             [
              0.1111111111111111,
              "#46039f"
             ],
             [
              0.2222222222222222,
              "#7201a8"
             ],
             [
              0.3333333333333333,
              "#9c179e"
             ],
             [
              0.4444444444444444,
              "#bd3786"
             ],
             [
              0.5555555555555556,
              "#d8576b"
             ],
             [
              0.6666666666666666,
              "#ed7953"
             ],
             [
              0.7777777777777778,
              "#fb9f3a"
             ],
             [
              0.8888888888888888,
              "#fdca26"
             ],
             [
              1,
              "#f0f921"
             ]
            ],
            "type": "histogram2dcontour"
           }
          ],
          "mesh3d": [
           {
            "colorbar": {
             "outlinewidth": 0,
             "ticks": ""
            },
            "type": "mesh3d"
           }
          ],
          "parcoords": [
           {
            "line": {
             "colorbar": {
              "outlinewidth": 0,
              "ticks": ""
             }
            },
            "type": "parcoords"
           }
          ],
          "pie": [
           {
            "automargin": true,
            "type": "pie"
           }
          ],
          "scatter": [
           {
            "fillpattern": {
             "fillmode": "overlay",
             "size": 10,
             "solidity": 0.2
            },
            "type": "scatter"
           }
          ],
          "scatter3d": [
           {
            "line": {
             "colorbar": {
              "outlinewidth": 0,
              "ticks": ""
             }
            },
            "marker": {
             "colorbar": {
              "outlinewidth": 0,
              "ticks": ""
             }
            },
            "type": "scatter3d"
           }
          ],
          "scattercarpet": [
           {
            "marker": {
             "colorbar": {
              "outlinewidth": 0,
              "ticks": ""
             }
            },
            "type": "scattercarpet"
           }
          ],
          "scattergeo": [
           {
            "marker": {
             "colorbar": {
              "outlinewidth": 0,
              "ticks": ""
             }
            },
            "type": "scattergeo"
           }
          ],
          "scattergl": [
           {
            "marker": {
             "colorbar": {
              "outlinewidth": 0,
              "ticks": ""
             }
            },
            "type": "scattergl"
           }
          ],
          "scattermapbox": [
           {
            "marker": {
             "colorbar": {
              "outlinewidth": 0,
              "ticks": ""
             }
            },
            "type": "scattermapbox"
           }
          ],
          "scatterpolar": [
           {
            "marker": {
             "colorbar": {
              "outlinewidth": 0,
              "ticks": ""
             }
            },
            "type": "scatterpolar"
           }
          ],
          "scatterpolargl": [
           {
            "marker": {
             "colorbar": {
              "outlinewidth": 0,
              "ticks": ""
             }
            },
            "type": "scatterpolargl"
           }
          ],
          "scatterternary": [
           {
            "marker": {
             "colorbar": {
              "outlinewidth": 0,
              "ticks": ""
             }
            },
            "type": "scatterternary"
           }
          ],
          "surface": [
           {
            "colorbar": {
             "outlinewidth": 0,
             "ticks": ""
            },
            "colorscale": [
             [
              0,
              "#0d0887"
             ],
             [
              0.1111111111111111,
              "#46039f"
             ],
             [
              0.2222222222222222,
              "#7201a8"
             ],
             [
              0.3333333333333333,
              "#9c179e"
             ],
             [
              0.4444444444444444,
              "#bd3786"
             ],
             [
              0.5555555555555556,
              "#d8576b"
             ],
             [
              0.6666666666666666,
              "#ed7953"
             ],
             [
              0.7777777777777778,
              "#fb9f3a"
             ],
             [
              0.8888888888888888,
              "#fdca26"
             ],
             [
              1,
              "#f0f921"
             ]
            ],
            "type": "surface"
           }
          ],
          "table": [
           {
            "cells": {
             "fill": {
              "color": "#EBF0F8"
             },
             "line": {
              "color": "white"
             }
            },
            "header": {
             "fill": {
              "color": "#C8D4E3"
             },
             "line": {
              "color": "white"
             }
            },
            "type": "table"
           }
          ]
         },
         "layout": {
          "annotationdefaults": {
           "arrowcolor": "#2a3f5f",
           "arrowhead": 0,
           "arrowwidth": 1
          },
          "autotypenumbers": "strict",
          "coloraxis": {
           "colorbar": {
            "outlinewidth": 0,
            "ticks": ""
           }
          },
          "colorscale": {
           "diverging": [
            [
             0,
             "#8e0152"
            ],
            [
             0.1,
             "#c51b7d"
            ],
            [
             0.2,
             "#de77ae"
            ],
            [
             0.3,
             "#f1b6da"
            ],
            [
             0.4,
             "#fde0ef"
            ],
            [
             0.5,
             "#f7f7f7"
            ],
            [
             0.6,
             "#e6f5d0"
            ],
            [
             0.7,
             "#b8e186"
            ],
            [
             0.8,
             "#7fbc41"
            ],
            [
             0.9,
             "#4d9221"
            ],
            [
             1,
             "#276419"
            ]
           ],
           "sequential": [
            [
             0,
             "#0d0887"
            ],
            [
             0.1111111111111111,
             "#46039f"
            ],
            [
             0.2222222222222222,
             "#7201a8"
            ],
            [
             0.3333333333333333,
             "#9c179e"
            ],
            [
             0.4444444444444444,
             "#bd3786"
            ],
            [
             0.5555555555555556,
             "#d8576b"
            ],
            [
             0.6666666666666666,
             "#ed7953"
            ],
            [
             0.7777777777777778,
             "#fb9f3a"
            ],
            [
             0.8888888888888888,
             "#fdca26"
            ],
            [
             1,
             "#f0f921"
            ]
           ],
           "sequentialminus": [
            [
             0,
             "#0d0887"
            ],
            [
             0.1111111111111111,
             "#46039f"
            ],
            [
             0.2222222222222222,
             "#7201a8"
            ],
            [
             0.3333333333333333,
             "#9c179e"
            ],
            [
             0.4444444444444444,
             "#bd3786"
            ],
            [
             0.5555555555555556,
             "#d8576b"
            ],
            [
             0.6666666666666666,
             "#ed7953"
            ],
            [
             0.7777777777777778,
             "#fb9f3a"
            ],
            [
             0.8888888888888888,
             "#fdca26"
            ],
            [
             1,
             "#f0f921"
            ]
           ]
          },
          "colorway": [
           "#636efa",
           "#EF553B",
           "#00cc96",
           "#ab63fa",
           "#FFA15A",
           "#19d3f3",
           "#FF6692",
           "#B6E880",
           "#FF97FF",
           "#FECB52"
          ],
          "font": {
           "color": "#2a3f5f"
          },
          "geo": {
           "bgcolor": "white",
           "lakecolor": "white",
           "landcolor": "#E5ECF6",
           "showlakes": true,
           "showland": true,
           "subunitcolor": "white"
          },
          "hoverlabel": {
           "align": "left"
          },
          "hovermode": "closest",
          "mapbox": {
           "style": "light"
          },
          "paper_bgcolor": "white",
          "plot_bgcolor": "#E5ECF6",
          "polar": {
           "angularaxis": {
            "gridcolor": "white",
            "linecolor": "white",
            "ticks": ""
           },
           "bgcolor": "#E5ECF6",
           "radialaxis": {
            "gridcolor": "white",
            "linecolor": "white",
            "ticks": ""
           }
          },
          "scene": {
           "xaxis": {
            "backgroundcolor": "#E5ECF6",
            "gridcolor": "white",
            "gridwidth": 2,
            "linecolor": "white",
            "showbackground": true,
            "ticks": "",
            "zerolinecolor": "white"
           },
           "yaxis": {
            "backgroundcolor": "#E5ECF6",
            "gridcolor": "white",
            "gridwidth": 2,
            "linecolor": "white",
            "showbackground": true,
            "ticks": "",
            "zerolinecolor": "white"
           },
           "zaxis": {
            "backgroundcolor": "#E5ECF6",
            "gridcolor": "white",
            "gridwidth": 2,
            "linecolor": "white",
            "showbackground": true,
            "ticks": "",
            "zerolinecolor": "white"
           }
          },
          "shapedefaults": {
           "line": {
            "color": "#2a3f5f"
           }
          },
          "ternary": {
           "aaxis": {
            "gridcolor": "white",
            "linecolor": "white",
            "ticks": ""
           },
           "baxis": {
            "gridcolor": "white",
            "linecolor": "white",
            "ticks": ""
           },
           "bgcolor": "#E5ECF6",
           "caxis": {
            "gridcolor": "white",
            "linecolor": "white",
            "ticks": ""
           }
          },
          "title": {
           "x": 0.05
          },
          "xaxis": {
           "automargin": true,
           "gridcolor": "white",
           "linecolor": "white",
           "ticks": "",
           "title": {
            "standoff": 15
           },
           "zerolinecolor": "white",
           "zerolinewidth": 2
          },
          "yaxis": {
           "automargin": true,
           "gridcolor": "white",
           "linecolor": "white",
           "ticks": "",
           "title": {
            "standoff": 15
           },
           "zerolinecolor": "white",
           "zerolinewidth": 2
          }
         }
        },
        "title": {
         "text": "Unit Cost of Energy and Import Cost of Fuel (2002-2023)",
         "x": 0.5,
         "y": 0.95
        },
        "xaxis": {
         "anchor": "y",
         "domain": [
          0,
          1
         ],
         "title": {
          "text": "Year"
         }
        },
        "yaxis": {
         "anchor": "x",
         "domain": [
          0,
          1
         ],
         "title": {
          "text": ""
         }
        }
       }
      }
     },
     "metadata": {},
     "output_type": "display_data"
    }
   ],
   "source": [
    "Energy_Price_Vs_Salary_Fig = px.line(Energy_Vs_Import_Price_Sal\n",
    "                                     , x='Year'\n",
    "                                     , y=['Average Unit Cost (Pence per kWh)','Oil (pence per kWh)', 'Natural Gas (pence per kWh)', 'Coal (pence per kWh)' ]\n",
    "                                     ,color_discrete_map= { \n",
    "                                                             \n",
    "                                                                'Average Unit Cost (Pence per kWh)': 'green',\n",
    "                                                                'Oil (pence per kWh)': 'purple',\n",
    "                                                                'Coal (pence per kWh)': 'lightgrey',\n",
    "                                                                'Natural Gas (pence per kWh)': 'lightgrey',})\n",
    "Energy_Price_Vs_Salary_Fig.update_layout(\n",
    "        margin={\"r\": 10, \"t\": 130, \"l\": 10, \"b\": 10},\n",
    "    title=\"Unit Cost of Energy and Import Cost of Fuel (2002-2023)\",\n",
    "    xaxis_title=\"Year\",\n",
    "    yaxis_title=\"\",\n",
    "    title_x=0.5,\n",
    "    title_y=0.95, \n",
    "    legend=dict(\n",
    "        orientation=\"h\", \n",
    "        yanchor=\"bottom\", \n",
    "        y=1, \n",
    "        xanchor=\"center\",  \n",
    "        x=0.5,\n",
    "        title = None\n",
    "    ,font=dict(\n",
    "        size=26 \n",
    "    )),\n",
    "    height = 700,\n",
    "    font=dict(\n",
    "        size=26 \n",
    "    ))\n",
    "#Energy_Vs_Import_Price_Fig = px.line(Energy_Vs_Import_Price, x='Year', y=['Oil (pence per kWh)','Average Unit Cost (Pence per kWh)'])\n",
    "Energy_Price_Vs_Salary_Fig"
   ]
  },
  {
   "cell_type": "code",
   "execution_count": 69,
   "metadata": {},
   "outputs": [
    {
     "data": {
      "application/vnd.plotly.v1+json": {
       "config": {
        "plotlyServerURL": "https://plot.ly"
       },
       "data": [
        {
         "hovertemplate": "variable=Salary (£'000)<br>Year=%{x}<br>value=%{y}<extra></extra>",
         "legendgroup": "Salary (£'000)",
         "line": {
          "color": "Orange",
          "dash": "solid"
         },
         "marker": {
          "symbol": "circle"
         },
         "mode": "lines",
         "name": "Salary (£'000)",
         "orientation": "v",
         "showlegend": true,
         "type": "scatter",
         "x": [
          2002,
          2003,
          2004,
          2005,
          2006,
          2007,
          2008,
          2009,
          2010,
          2011,
          2012,
          2013,
          2014,
          2015,
          2016,
          2017,
          2018,
          2019,
          2020,
          2021,
          2022,
          2023
         ],
         "xaxis": "x",
         "y": [
          20.262666666666668,
          21.012044444444445,
          21.954399999999996,
          22.348444444444446,
          23.075866666666666,
          23.643244444444445,
          24.69711111111111,
          25.262755555555554,
          25.77871111111111,
          25.916222222222224,
          26.091866666666665,
          26.578355555555557,
          26.722800000000003,
          27.071199999999997,
          27.7264,
          28.349244444444444,
          29.116533333333333,
          30.23511111111111,
          30.316,
          31.128933333333336,
          33.206044444444444,
          35.346133333333334
         ],
         "yaxis": "y"
        },
        {
         "hovertemplate": "variable=Average Unit Cost (Pence per kWh)<br>Year=%{x}<br>value=%{y}<extra></extra>",
         "legendgroup": "Average Unit Cost (Pence per kWh)",
         "line": {
          "color": "green",
          "dash": "solid"
         },
         "marker": {
          "symbol": "circle"
         },
         "mode": "lines",
         "name": "Average Unit Cost (Pence per kWh)",
         "orientation": "v",
         "showlegend": true,
         "type": "scatter",
         "x": [
          2002,
          2003,
          2004,
          2005,
          2006,
          2007,
          2008,
          2009,
          2010,
          2011,
          2012,
          2013,
          2014,
          2015,
          2016,
          2017,
          2018,
          2019,
          2020,
          2021,
          2022,
          2023
         ],
         "xaxis": "x",
         "y": [
          7.706666666666666,
          7.743434343434344,
          8.007070707070707,
          8.792929292929294,
          10.326262626262627,
          11.497499107294056,
          13.23740352504652,
          13.728701157125386,
          13.33796106930895,
          14.41111295058707,
          15.323494949494949,
          15.9450469924812,
          16.487722856909983,
          16.345804612468118,
          16.509792348512313,
          17.809101807350267,
          19.262200405800154,
          20.870799021238998,
          20.943317092130805,
          22.744511280111507,
          33.613534943970485,
          36.70033468141712
         ],
         "yaxis": "y"
        },
        {
         "hovertemplate": "variable=Oil (pence per kWh)<br>Year=%{x}<br>value=%{y}<extra></extra>",
         "legendgroup": "Oil (pence per kWh)",
         "line": {
          "color": "purple",
          "dash": "solid"
         },
         "marker": {
          "symbol": "circle"
         },
         "mode": "lines",
         "name": "Oil (pence per kWh)",
         "orientation": "v",
         "showlegend": true,
         "type": "scatter",
         "x": [
          2002,
          2003,
          2004,
          2005,
          2006,
          2007,
          2008,
          2009,
          2010,
          2011,
          2012,
          2013,
          2014,
          2015,
          2016,
          2017,
          2018,
          2019,
          2020,
          2021,
          2022,
          2023
         ],
         "xaxis": "x",
         "y": [
          1.289744627723355,
          1.5557414153592977,
          1.395152242416172,
          2.172903951867491,
          2.3147277897771814,
          2.1207549242992885,
          2.4564123472683614,
          2.2569224590424226,
          3.4856743566198043,
          4.321027377405333,
          4.623866470283808,
          4.236485395366341,
          3.779469503435937,
          2.503177643830492,
          2.171224729335332,
          2.749002315946513,
          3.3705563245552725,
          3.433347754627847,
          2.7700585895401755,
          3.7202945803195018,
          5.878025527365417,
          4.2735390122857
         ],
         "yaxis": "y"
        },
        {
         "hovertemplate": "variable=Natural Gas (pence per kWh)<br>Year=%{x}<br>value=%{y}<extra></extra>",
         "legendgroup": "Natural Gas (pence per kWh)",
         "line": {
          "color": "lightgrey",
          "dash": "solid"
         },
         "marker": {
          "symbol": "circle"
         },
         "mode": "lines",
         "name": "Natural Gas (pence per kWh)",
         "orientation": "v",
         "showlegend": true,
         "type": "scatter",
         "x": [
          2002,
          2003,
          2004,
          2005,
          2006,
          2007,
          2008,
          2009,
          2010,
          2011,
          2012,
          2013,
          2014,
          2015,
          2016,
          2017,
          2018,
          2019,
          2020,
          2021,
          2022,
          2023
         ],
         "xaxis": "x",
         "y": [
          0.7404886363636363,
          0.8108222222222221,
          0.8814830852503384,
          1.1417082785808146,
          1.4053943734015346,
          1.322306,
          1.7013486715761659,
          1.4247373665480427,
          1.4611343605103526,
          1.8726697918865336,
          2.0585333808416166,
          2.1699982236159028,
          1.7601889937316877,
          1.4672489641236302,
          1.158162698701337,
          1.3576190736792246,
          1.6833214497269613,
          1.2151030991198557,
          0.9690332230018006,
          2.3771646222847242,
          4.8623188350740945,
          4.904535214951021
         ],
         "yaxis": "y"
        },
        {
         "hovertemplate": "variable=Coal (pence per kWh)<br>Year=%{x}<br>value=%{y}<extra></extra>",
         "legendgroup": "Coal (pence per kWh)",
         "line": {
          "color": "lightgrey",
          "dash": "solid"
         },
         "marker": {
          "symbol": "circle"
         },
         "mode": "lines",
         "name": "Coal (pence per kWh)",
         "orientation": "v",
         "showlegend": true,
         "type": "scatter",
         "x": [
          2002,
          2003,
          2004,
          2005,
          2006,
          2007,
          2008,
          2009,
          2010,
          2011,
          2012,
          2013,
          2014,
          2015,
          2016,
          2017,
          2018,
          2019,
          2020,
          2021,
          2022,
          2023
         ],
         "xaxis": "x",
         "y": [
          0.49816338129166465,
          0.4635500009300348,
          0.5216518805183191,
          0.5590144099704893,
          0.5728207989449081,
          0.6040274776542615,
          0.9309953075342217,
          0.7640551751875683,
          0.8696462033268267,
          1.0837881905931106,
          0.8791803853903469,
          0.7945656791461673,
          0.7244383252187832,
          0.6198054313575502,
          0.6698086614764348,
          0.8949474644144926,
          0.9130794696544428,
          0.7067698337965661,
          0.6857024851344462,
          1.4749593503698968,
          2.8309417335466716,
          1.7752270796615102
         ],
         "yaxis": "y"
        }
       ],
       "layout": {
        "font": {
         "size": 26
        },
        "height": 700,
        "legend": {
         "font": {
          "size": 26
         },
         "orientation": "h",
         "title": {},
         "tracegroupgap": 0,
         "x": 0.5,
         "xanchor": "center",
         "y": 1,
         "yanchor": "bottom"
        },
        "margin": {
         "b": 10,
         "l": 10,
         "r": 10,
         "t": 170
        },
        "template": {
         "data": {
          "bar": [
           {
            "error_x": {
             "color": "#2a3f5f"
            },
            "error_y": {
             "color": "#2a3f5f"
            },
            "marker": {
             "line": {
              "color": "#E5ECF6",
              "width": 0.5
             },
             "pattern": {
              "fillmode": "overlay",
              "size": 10,
              "solidity": 0.2
             }
            },
            "type": "bar"
           }
          ],
          "barpolar": [
           {
            "marker": {
             "line": {
              "color": "#E5ECF6",
              "width": 0.5
             },
             "pattern": {
              "fillmode": "overlay",
              "size": 10,
              "solidity": 0.2
             }
            },
            "type": "barpolar"
           }
          ],
          "carpet": [
           {
            "aaxis": {
             "endlinecolor": "#2a3f5f",
             "gridcolor": "white",
             "linecolor": "white",
             "minorgridcolor": "white",
             "startlinecolor": "#2a3f5f"
            },
            "baxis": {
             "endlinecolor": "#2a3f5f",
             "gridcolor": "white",
             "linecolor": "white",
             "minorgridcolor": "white",
             "startlinecolor": "#2a3f5f"
            },
            "type": "carpet"
           }
          ],
          "choropleth": [
           {
            "colorbar": {
             "outlinewidth": 0,
             "ticks": ""
            },
            "type": "choropleth"
           }
          ],
          "contour": [
           {
            "colorbar": {
             "outlinewidth": 0,
             "ticks": ""
            },
            "colorscale": [
             [
              0,
              "#0d0887"
             ],
             [
              0.1111111111111111,
              "#46039f"
             ],
             [
              0.2222222222222222,
              "#7201a8"
             ],
             [
              0.3333333333333333,
              "#9c179e"
             ],
             [
              0.4444444444444444,
              "#bd3786"
             ],
             [
              0.5555555555555556,
              "#d8576b"
             ],
             [
              0.6666666666666666,
              "#ed7953"
             ],
             [
              0.7777777777777778,
              "#fb9f3a"
             ],
             [
              0.8888888888888888,
              "#fdca26"
             ],
             [
              1,
              "#f0f921"
             ]
            ],
            "type": "contour"
           }
          ],
          "contourcarpet": [
           {
            "colorbar": {
             "outlinewidth": 0,
             "ticks": ""
            },
            "type": "contourcarpet"
           }
          ],
          "heatmap": [
           {
            "colorbar": {
             "outlinewidth": 0,
             "ticks": ""
            },
            "colorscale": [
             [
              0,
              "#0d0887"
             ],
             [
              0.1111111111111111,
              "#46039f"
             ],
             [
              0.2222222222222222,
              "#7201a8"
             ],
             [
              0.3333333333333333,
              "#9c179e"
             ],
             [
              0.4444444444444444,
              "#bd3786"
             ],
             [
              0.5555555555555556,
              "#d8576b"
             ],
             [
              0.6666666666666666,
              "#ed7953"
             ],
             [
              0.7777777777777778,
              "#fb9f3a"
             ],
             [
              0.8888888888888888,
              "#fdca26"
             ],
             [
              1,
              "#f0f921"
             ]
            ],
            "type": "heatmap"
           }
          ],
          "heatmapgl": [
           {
            "colorbar": {
             "outlinewidth": 0,
             "ticks": ""
            },
            "colorscale": [
             [
              0,
              "#0d0887"
             ],
             [
              0.1111111111111111,
              "#46039f"
             ],
             [
              0.2222222222222222,
              "#7201a8"
             ],
             [
              0.3333333333333333,
              "#9c179e"
             ],
             [
              0.4444444444444444,
              "#bd3786"
             ],
             [
              0.5555555555555556,
              "#d8576b"
             ],
             [
              0.6666666666666666,
              "#ed7953"
             ],
             [
              0.7777777777777778,
              "#fb9f3a"
             ],
             [
              0.8888888888888888,
              "#fdca26"
             ],
             [
              1,
              "#f0f921"
             ]
            ],
            "type": "heatmapgl"
           }
          ],
          "histogram": [
           {
            "marker": {
             "pattern": {
              "fillmode": "overlay",
              "size": 10,
              "solidity": 0.2
             }
            },
            "type": "histogram"
           }
          ],
          "histogram2d": [
           {
            "colorbar": {
             "outlinewidth": 0,
             "ticks": ""
            },
            "colorscale": [
             [
              0,
              "#0d0887"
             ],
             [
              0.1111111111111111,
              "#46039f"
             ],
             [
              0.2222222222222222,
              "#7201a8"
             ],
             [
              0.3333333333333333,
              "#9c179e"
             ],
             [
              0.4444444444444444,
              "#bd3786"
             ],
             [
              0.5555555555555556,
              "#d8576b"
             ],
             [
              0.6666666666666666,
              "#ed7953"
             ],
             [
              0.7777777777777778,
              "#fb9f3a"
             ],
             [
              0.8888888888888888,
              "#fdca26"
             ],
             [
              1,
              "#f0f921"
             ]
            ],
            "type": "histogram2d"
           }
          ],
          "histogram2dcontour": [
           {
            "colorbar": {
             "outlinewidth": 0,
             "ticks": ""
            },
            "colorscale": [
             [
              0,
              "#0d0887"
             ],
             [
              0.1111111111111111,
              "#46039f"
             ],
             [
              0.2222222222222222,
              "#7201a8"
             ],
             [
              0.3333333333333333,
              "#9c179e"
             ],
             [
              0.4444444444444444,
              "#bd3786"
             ],
             [
              0.5555555555555556,
              "#d8576b"
             ],
             [
              0.6666666666666666,
              "#ed7953"
             ],
             [
              0.7777777777777778,
              "#fb9f3a"
             ],
             [
              0.8888888888888888,
              "#fdca26"
             ],
             [
              1,
              "#f0f921"
             ]
            ],
            "type": "histogram2dcontour"
           }
          ],
          "mesh3d": [
           {
            "colorbar": {
             "outlinewidth": 0,
             "ticks": ""
            },
            "type": "mesh3d"
           }
          ],
          "parcoords": [
           {
            "line": {
             "colorbar": {
              "outlinewidth": 0,
              "ticks": ""
             }
            },
            "type": "parcoords"
           }
          ],
          "pie": [
           {
            "automargin": true,
            "type": "pie"
           }
          ],
          "scatter": [
           {
            "fillpattern": {
             "fillmode": "overlay",
             "size": 10,
             "solidity": 0.2
            },
            "type": "scatter"
           }
          ],
          "scatter3d": [
           {
            "line": {
             "colorbar": {
              "outlinewidth": 0,
              "ticks": ""
             }
            },
            "marker": {
             "colorbar": {
              "outlinewidth": 0,
              "ticks": ""
             }
            },
            "type": "scatter3d"
           }
          ],
          "scattercarpet": [
           {
            "marker": {
             "colorbar": {
              "outlinewidth": 0,
              "ticks": ""
             }
            },
            "type": "scattercarpet"
           }
          ],
          "scattergeo": [
           {
            "marker": {
             "colorbar": {
              "outlinewidth": 0,
              "ticks": ""
             }
            },
            "type": "scattergeo"
           }
          ],
          "scattergl": [
           {
            "marker": {
             "colorbar": {
              "outlinewidth": 0,
              "ticks": ""
             }
            },
            "type": "scattergl"
           }
          ],
          "scattermapbox": [
           {
            "marker": {
             "colorbar": {
              "outlinewidth": 0,
              "ticks": ""
             }
            },
            "type": "scattermapbox"
           }
          ],
          "scatterpolar": [
           {
            "marker": {
             "colorbar": {
              "outlinewidth": 0,
              "ticks": ""
             }
            },
            "type": "scatterpolar"
           }
          ],
          "scatterpolargl": [
           {
            "marker": {
             "colorbar": {
              "outlinewidth": 0,
              "ticks": ""
             }
            },
            "type": "scatterpolargl"
           }
          ],
          "scatterternary": [
           {
            "marker": {
             "colorbar": {
              "outlinewidth": 0,
              "ticks": ""
             }
            },
            "type": "scatterternary"
           }
          ],
          "surface": [
           {
            "colorbar": {
             "outlinewidth": 0,
             "ticks": ""
            },
            "colorscale": [
             [
              0,
              "#0d0887"
             ],
             [
              0.1111111111111111,
              "#46039f"
             ],
             [
              0.2222222222222222,
              "#7201a8"
             ],
             [
              0.3333333333333333,
              "#9c179e"
             ],
             [
              0.4444444444444444,
              "#bd3786"
             ],
             [
              0.5555555555555556,
              "#d8576b"
             ],
             [
              0.6666666666666666,
              "#ed7953"
             ],
             [
              0.7777777777777778,
              "#fb9f3a"
             ],
             [
              0.8888888888888888,
              "#fdca26"
             ],
             [
              1,
              "#f0f921"
             ]
            ],
            "type": "surface"
           }
          ],
          "table": [
           {
            "cells": {
             "fill": {
              "color": "#EBF0F8"
             },
             "line": {
              "color": "white"
             }
            },
            "header": {
             "fill": {
              "color": "#C8D4E3"
             },
             "line": {
              "color": "white"
             }
            },
            "type": "table"
           }
          ]
         },
         "layout": {
          "annotationdefaults": {
           "arrowcolor": "#2a3f5f",
           "arrowhead": 0,
           "arrowwidth": 1
          },
          "autotypenumbers": "strict",
          "coloraxis": {
           "colorbar": {
            "outlinewidth": 0,
            "ticks": ""
           }
          },
          "colorscale": {
           "diverging": [
            [
             0,
             "#8e0152"
            ],
            [
             0.1,
             "#c51b7d"
            ],
            [
             0.2,
             "#de77ae"
            ],
            [
             0.3,
             "#f1b6da"
            ],
            [
             0.4,
             "#fde0ef"
            ],
            [
             0.5,
             "#f7f7f7"
            ],
            [
             0.6,
             "#e6f5d0"
            ],
            [
             0.7,
             "#b8e186"
            ],
            [
             0.8,
             "#7fbc41"
            ],
            [
             0.9,
             "#4d9221"
            ],
            [
             1,
             "#276419"
            ]
           ],
           "sequential": [
            [
             0,
             "#0d0887"
            ],
            [
             0.1111111111111111,
             "#46039f"
            ],
            [
             0.2222222222222222,
             "#7201a8"
            ],
            [
             0.3333333333333333,
             "#9c179e"
            ],
            [
             0.4444444444444444,
             "#bd3786"
            ],
            [
             0.5555555555555556,
             "#d8576b"
            ],
            [
             0.6666666666666666,
             "#ed7953"
            ],
            [
             0.7777777777777778,
             "#fb9f3a"
            ],
            [
             0.8888888888888888,
             "#fdca26"
            ],
            [
             1,
             "#f0f921"
            ]
           ],
           "sequentialminus": [
            [
             0,
             "#0d0887"
            ],
            [
             0.1111111111111111,
             "#46039f"
            ],
            [
             0.2222222222222222,
             "#7201a8"
            ],
            [
             0.3333333333333333,
             "#9c179e"
            ],
            [
             0.4444444444444444,
             "#bd3786"
            ],
            [
             0.5555555555555556,
             "#d8576b"
            ],
            [
             0.6666666666666666,
             "#ed7953"
            ],
            [
             0.7777777777777778,
             "#fb9f3a"
            ],
            [
             0.8888888888888888,
             "#fdca26"
            ],
            [
             1,
             "#f0f921"
            ]
           ]
          },
          "colorway": [
           "#636efa",
           "#EF553B",
           "#00cc96",
           "#ab63fa",
           "#FFA15A",
           "#19d3f3",
           "#FF6692",
           "#B6E880",
           "#FF97FF",
           "#FECB52"
          ],
          "font": {
           "color": "#2a3f5f"
          },
          "geo": {
           "bgcolor": "white",
           "lakecolor": "white",
           "landcolor": "#E5ECF6",
           "showlakes": true,
           "showland": true,
           "subunitcolor": "white"
          },
          "hoverlabel": {
           "align": "left"
          },
          "hovermode": "closest",
          "mapbox": {
           "style": "light"
          },
          "paper_bgcolor": "white",
          "plot_bgcolor": "#E5ECF6",
          "polar": {
           "angularaxis": {
            "gridcolor": "white",
            "linecolor": "white",
            "ticks": ""
           },
           "bgcolor": "#E5ECF6",
           "radialaxis": {
            "gridcolor": "white",
            "linecolor": "white",
            "ticks": ""
           }
          },
          "scene": {
           "xaxis": {
            "backgroundcolor": "#E5ECF6",
            "gridcolor": "white",
            "gridwidth": 2,
            "linecolor": "white",
            "showbackground": true,
            "ticks": "",
            "zerolinecolor": "white"
           },
           "yaxis": {
            "backgroundcolor": "#E5ECF6",
            "gridcolor": "white",
            "gridwidth": 2,
            "linecolor": "white",
            "showbackground": true,
            "ticks": "",
            "zerolinecolor": "white"
           },
           "zaxis": {
            "backgroundcolor": "#E5ECF6",
            "gridcolor": "white",
            "gridwidth": 2,
            "linecolor": "white",
            "showbackground": true,
            "ticks": "",
            "zerolinecolor": "white"
           }
          },
          "shapedefaults": {
           "line": {
            "color": "#2a3f5f"
           }
          },
          "ternary": {
           "aaxis": {
            "gridcolor": "white",
            "linecolor": "white",
            "ticks": ""
           },
           "baxis": {
            "gridcolor": "white",
            "linecolor": "white",
            "ticks": ""
           },
           "bgcolor": "#E5ECF6",
           "caxis": {
            "gridcolor": "white",
            "linecolor": "white",
            "ticks": ""
           }
          },
          "title": {
           "x": 0.05
          },
          "xaxis": {
           "automargin": true,
           "gridcolor": "white",
           "linecolor": "white",
           "ticks": "",
           "title": {
            "standoff": 15
           },
           "zerolinecolor": "white",
           "zerolinewidth": 2
          },
          "yaxis": {
           "automargin": true,
           "gridcolor": "white",
           "linecolor": "white",
           "ticks": "",
           "title": {
            "standoff": 15
           },
           "zerolinecolor": "white",
           "zerolinewidth": 2
          }
         }
        },
        "title": {
         "text": "Salary Against Unit Cost of Energy and Import Cost of Fuel (2002-2023)",
         "x": 0.5,
         "y": 0.95
        },
        "xaxis": {
         "anchor": "y",
         "domain": [
          0,
          1
         ],
         "title": {
          "text": "Year"
         }
        },
        "yaxis": {
         "anchor": "x",
         "domain": [
          0,
          1
         ],
         "title": {
          "text": ""
         }
        }
       }
      }
     },
     "metadata": {},
     "output_type": "display_data"
    }
   ],
   "source": [
    "Energy_Price_Vs_Salary_Fig = px.line(Energy_Vs_Import_Price_Sal\n",
    "                                     , x='Year'\n",
    "                                     , y=[\"Salary (£'000)\",'Average Unit Cost (Pence per kWh)','Oil (pence per kWh)', 'Natural Gas (pence per kWh)', 'Coal (pence per kWh)' ]\n",
    "                                     ,color_discrete_map= { \n",
    "                                                                \"Salary (£'000)\":'Orange',\n",
    "                                                                'Average Unit Cost (Pence per kWh)': 'green',\n",
    "                                                                'Oil (pence per kWh)': 'purple',\n",
    "                                                                'Coal (pence per kWh)': 'lightgrey',\n",
    "                                                                'Natural Gas (pence per kWh)': 'lightgrey',})\n",
    "Energy_Price_Vs_Salary_Fig.update_layout(\n",
    "        margin={\"r\": 10, \"t\": 170, \"l\": 10, \"b\": 10},\n",
    "    title=\"Salary Against Unit Cost of Energy and Import Cost of Fuel (2002-2023)\",\n",
    "    xaxis_title=\"Year\",\n",
    "    yaxis_title=\"\",\n",
    "    title_x=0.5,\n",
    "    title_y=0.95, \n",
    "    legend=dict(\n",
    "        orientation=\"h\", \n",
    "        yanchor=\"bottom\", \n",
    "        y=1, \n",
    "        xanchor=\"center\",  \n",
    "        x=0.5,\n",
    "        title = None\n",
    "    ,font=dict(\n",
    "        size=26 \n",
    "    )),\n",
    "    height = 700,\n",
    "    font=dict(\n",
    "        size=26 \n",
    "    ))\n",
    "#Energy_Vs_Import_Price_Fig = px.line(Energy_Vs_Import_Price, x='Year', y=['Oil (pence per kWh)','Average Unit Cost (Pence per kWh)'])\n",
    "Energy_Price_Vs_Salary_Fig"
   ]
  },
  {
   "cell_type": "markdown",
   "metadata": {},
   "source": [
    "Up next do corrolation matrixs on raw data\n",
    "do a time series corrolation on the graph values\n"
   ]
  },
  {
   "cell_type": "code",
   "execution_count": 70,
   "metadata": {},
   "outputs": [
    {
     "data": {
      "image/png": "[encoded data removed]",
      "text/plain": [
       "<Figure size 640x480 with 2 Axes>"
      ]
     },
     "metadata": {},
     "output_type": "display_data"
    }
   ],
   "source": [
    "#Energy_Generation_Imports_Subset_Matrix = Energy_Generation_Imports_Subset.corr()\n",
    "#plt.imshow(Energy_Generation_Imports_Subset_Matrix, cmap = 'Blues')\n",
    "Energy_Vs_Import_Price_Matrix = Energy_Vs_Import_Price.corr()\n",
    "\n",
    "sns.heatmap(Energy_Vs_Import_Price_Matrix, cmap=\"Reds\", annot=True)\n",
    "\n",
    "plt.title(\"Correlation Between Import Price of Fuel and Average Unit Cost of Energy (1998-2023)\", pad=20)\n",
    "\n",
    "plt.show()\n"
   ]
  },
  {
   "cell_type": "code",
   "execution_count": 71,
   "metadata": {},
   "outputs": [
    {
     "data": {
      "text/plain": [
       "[2005,\n",
       " 2006,\n",
       " 2007,\n",
       " 2008,\n",
       " 2009,\n",
       " 2010,\n",
       " 2011,\n",
       " 2012,\n",
       " 2013,\n",
       " 2014,\n",
       " 2015,\n",
       " 2016,\n",
       " 2017,\n",
       " 2018,\n",
       " 2019,\n",
       " 2020,\n",
       " 2021,\n",
       " 2022]"
      ]
     },
     "execution_count": 71,
     "metadata": {},
     "output_type": "execute_result"
    }
   ],
   "source": [
    "Years_to_Graph = list(range(2005,2023))\n",
    "Years_to_Graph"
   ]
  },
  {
   "cell_type": "code",
   "execution_count": 72,
   "metadata": {},
   "outputs": [
    {
     "data": {
      "text/html": [
       "<div>\n",
       "<style scoped>\n",
       "    .dataframe tbody tr th:only-of-type {\n",
       "        vertical-align: middle;\n",
       "    }\n",
       "\n",
       "    .dataframe tbody tr th {\n",
       "        vertical-align: top;\n",
       "    }\n",
       "\n",
       "    .dataframe thead th {\n",
       "        text-align: right;\n",
       "    }\n",
       "</style>\n",
       "<table border=\"1\" class=\"dataframe\">\n",
       "  <thead>\n",
       "    <tr style=\"text-align: right;\">\n",
       "      <th></th>\n",
       "      <th>Year</th>\n",
       "      <th>Location_Code</th>\n",
       "      <th>Region</th>\n",
       "      <th>Number of meters\\n(thousands):\\nDomestic\\n</th>\n",
       "      <th>Number of meters\\n(thousands):\\nNon-Domestic</th>\n",
       "      <th>Number of meters\\n(thousands):\\nAll meters</th>\n",
       "      <th>Total consumption\\n(GWh):\\nDomestic\\n</th>\n",
       "      <th>Total consumption\\n(GWh):\\nNon-Domestic</th>\n",
       "      <th>Total consumption\\n(GWh):\\nAll meters</th>\n",
       "      <th>Mean consumption\\n(kWh per meter):\\nDomestic\\n</th>\n",
       "      <th>...</th>\n",
       "      <th>Population</th>\n",
       "      <th>Data_Type</th>\n",
       "      <th>Area km^2</th>\n",
       "      <th>Population_Density(Persons.km^-2)</th>\n",
       "      <th>Domestic_Gas_Consumption(GWh/person)</th>\n",
       "      <th>Commercial_Gas_Consumption(GWh/person)</th>\n",
       "      <th>Total_Gas_Consumption(GWh/person)</th>\n",
       "      <th>Median_Income</th>\n",
       "      <th>Salary</th>\n",
       "      <th>Domestic_Gas_Consumption_to_Median_Salary(GWh/person/£)</th>\n",
       "    </tr>\n",
       "  </thead>\n",
       "  <tbody>\n",
       "    <tr>\n",
       "      <th>0</th>\n",
       "      <td>2005</td>\n",
       "      <td>UKC</td>\n",
       "      <td>North East</td>\n",
       "      <td>1037.403</td>\n",
       "      <td>16.219</td>\n",
       "      <td>1053.622</td>\n",
       "      <td>20710.658157</td>\n",
       "      <td>13952.158200</td>\n",
       "      <td>34662.816357</td>\n",
       "      <td>19963.946660</td>\n",
       "      <td>...</td>\n",
       "      <td>2.564187e+06</td>\n",
       "      <td>Extrapolated</td>\n",
       "      <td>8581.0</td>\n",
       "      <td>298.821453</td>\n",
       "      <td>0.008077</td>\n",
       "      <td>0.005441</td>\n",
       "      <td>0.013518</td>\n",
       "      <td>383.3</td>\n",
       "      <td>19931.6</td>\n",
       "      <td>4.052304e-07</td>\n",
       "    </tr>\n",
       "    <tr>\n",
       "      <th>1</th>\n",
       "      <td>2005</td>\n",
       "      <td>UKD</td>\n",
       "      <td>North West</td>\n",
       "      <td>2747.967</td>\n",
       "      <td>48.871</td>\n",
       "      <td>2796.838</td>\n",
       "      <td>53390.873953</td>\n",
       "      <td>35926.287793</td>\n",
       "      <td>89317.161746</td>\n",
       "      <td>19429.226753</td>\n",
       "      <td>...</td>\n",
       "      <td>6.300295e+06</td>\n",
       "      <td>Extrapolated</td>\n",
       "      <td>14108.0</td>\n",
       "      <td>446.576040</td>\n",
       "      <td>0.008474</td>\n",
       "      <td>0.005702</td>\n",
       "      <td>0.014177</td>\n",
       "      <td>409.5</td>\n",
       "      <td>21294.0</td>\n",
       "      <td>3.979687e-07</td>\n",
       "    </tr>\n",
       "    <tr>\n",
       "      <th>2</th>\n",
       "      <td>2005</td>\n",
       "      <td>UKE</td>\n",
       "      <td>Yorkshire and The Humber</td>\n",
       "      <td>1989.970</td>\n",
       "      <td>36.997</td>\n",
       "      <td>2026.967</td>\n",
       "      <td>39024.143235</td>\n",
       "      <td>30648.965991</td>\n",
       "      <td>69673.109226</td>\n",
       "      <td>19610.417863</td>\n",
       "      <td>...</td>\n",
       "      <td>4.561347e+06</td>\n",
       "      <td>Extrapolated</td>\n",
       "      <td>15404.0</td>\n",
       "      <td>296.114433</td>\n",
       "      <td>0.008555</td>\n",
       "      <td>0.006719</td>\n",
       "      <td>0.015275</td>\n",
       "      <td>400.0</td>\n",
       "      <td>20800.0</td>\n",
       "      <td>4.113173e-07</td>\n",
       "    </tr>\n",
       "    <tr>\n",
       "      <th>3</th>\n",
       "      <td>2005</td>\n",
       "      <td>UKF</td>\n",
       "      <td>East Midlands</td>\n",
       "      <td>1620.786</td>\n",
       "      <td>28.502</td>\n",
       "      <td>1649.288</td>\n",
       "      <td>31469.021304</td>\n",
       "      <td>18936.399391</td>\n",
       "      <td>50405.420695</td>\n",
       "      <td>19415.901485</td>\n",
       "      <td>...</td>\n",
       "      <td>3.663689e+06</td>\n",
       "      <td>Extrapolated</td>\n",
       "      <td>15624.0</td>\n",
       "      <td>234.491086</td>\n",
       "      <td>0.008589</td>\n",
       "      <td>0.005169</td>\n",
       "      <td>0.013758</td>\n",
       "      <td>412.2</td>\n",
       "      <td>21434.4</td>\n",
       "      <td>4.007314e-07</td>\n",
       "    </tr>\n",
       "    <tr>\n",
       "      <th>4</th>\n",
       "      <td>2005</td>\n",
       "      <td>UKG</td>\n",
       "      <td>West Midlands</td>\n",
       "      <td>1984.918</td>\n",
       "      <td>36.397</td>\n",
       "      <td>2021.315</td>\n",
       "      <td>37726.189511</td>\n",
       "      <td>22962.792215</td>\n",
       "      <td>60688.981726</td>\n",
       "      <td>19006.422185</td>\n",
       "      <td>...</td>\n",
       "      <td>5.356108e+06</td>\n",
       "      <td>Extrapolated</td>\n",
       "      <td>12998.0</td>\n",
       "      <td>412.071665</td>\n",
       "      <td>0.007044</td>\n",
       "      <td>0.004287</td>\n",
       "      <td>0.011331</td>\n",
       "      <td>404.7</td>\n",
       "      <td>21044.4</td>\n",
       "      <td>3.347011e-07</td>\n",
       "    </tr>\n",
       "    <tr>\n",
       "      <th>...</th>\n",
       "      <td>...</td>\n",
       "      <td>...</td>\n",
       "      <td>...</td>\n",
       "      <td>...</td>\n",
       "      <td>...</td>\n",
       "      <td>...</td>\n",
       "      <td>...</td>\n",
       "      <td>...</td>\n",
       "      <td>...</td>\n",
       "      <td>...</td>\n",
       "      <td>...</td>\n",
       "      <td>...</td>\n",
       "      <td>...</td>\n",
       "      <td>...</td>\n",
       "      <td>...</td>\n",
       "      <td>...</td>\n",
       "      <td>...</td>\n",
       "      <td>...</td>\n",
       "      <td>...</td>\n",
       "      <td>...</td>\n",
       "      <td>...</td>\n",
       "    </tr>\n",
       "    <tr>\n",
       "      <th>157</th>\n",
       "      <td>2022</td>\n",
       "      <td>UKG</td>\n",
       "      <td>West Midlands</td>\n",
       "      <td>2221.428</td>\n",
       "      <td>21.914</td>\n",
       "      <td>2243.342</td>\n",
       "      <td>25247.105176</td>\n",
       "      <td>15406.577700</td>\n",
       "      <td>40653.682876</td>\n",
       "      <td>11365.259273</td>\n",
       "      <td>...</td>\n",
       "      <td>6.017026e+06</td>\n",
       "      <td>Origional</td>\n",
       "      <td>12998.0</td>\n",
       "      <td>462.919372</td>\n",
       "      <td>0.004196</td>\n",
       "      <td>0.002560</td>\n",
       "      <td>0.006756</td>\n",
       "      <td>615.0</td>\n",
       "      <td>31980.0</td>\n",
       "      <td>1.312053e-07</td>\n",
       "    </tr>\n",
       "    <tr>\n",
       "      <th>158</th>\n",
       "      <td>2022</td>\n",
       "      <td>UKH</td>\n",
       "      <td>East</td>\n",
       "      <td>2217.992</td>\n",
       "      <td>20.366</td>\n",
       "      <td>2238.358</td>\n",
       "      <td>25143.154335</td>\n",
       "      <td>13711.245874</td>\n",
       "      <td>38854.400209</td>\n",
       "      <td>11335.998658</td>\n",
       "      <td>...</td>\n",
       "      <td>6.401418e+06</td>\n",
       "      <td>Origional</td>\n",
       "      <td>19116.0</td>\n",
       "      <td>334.872254</td>\n",
       "      <td>0.003928</td>\n",
       "      <td>0.002142</td>\n",
       "      <td>0.006070</td>\n",
       "      <td>670.0</td>\n",
       "      <td>34840.0</td>\n",
       "      <td>1.127367e-07</td>\n",
       "    </tr>\n",
       "    <tr>\n",
       "      <th>159</th>\n",
       "      <td>2022</td>\n",
       "      <td>UKI</td>\n",
       "      <td>London</td>\n",
       "      <td>3001.866</td>\n",
       "      <td>39.524</td>\n",
       "      <td>3041.390</td>\n",
       "      <td>35792.967053</td>\n",
       "      <td>19576.692142</td>\n",
       "      <td>55369.659195</td>\n",
       "      <td>11923.572555</td>\n",
       "      <td>...</td>\n",
       "      <td>8.869043e+06</td>\n",
       "      <td>Origional</td>\n",
       "      <td>1572.0</td>\n",
       "      <td>5641.884860</td>\n",
       "      <td>0.004036</td>\n",
       "      <td>0.002207</td>\n",
       "      <td>0.006243</td>\n",
       "      <td>766.6</td>\n",
       "      <td>39863.2</td>\n",
       "      <td>1.012392e-07</td>\n",
       "    </tr>\n",
       "    <tr>\n",
       "      <th>160</th>\n",
       "      <td>2022</td>\n",
       "      <td>UKJ</td>\n",
       "      <td>South East</td>\n",
       "      <td>3428.042</td>\n",
       "      <td>35.662</td>\n",
       "      <td>3463.704</td>\n",
       "      <td>39604.299045</td>\n",
       "      <td>16541.969255</td>\n",
       "      <td>56146.268301</td>\n",
       "      <td>11553.037870</td>\n",
       "      <td>...</td>\n",
       "      <td>1.188401e+07</td>\n",
       "      <td>Origional</td>\n",
       "      <td>1972.0</td>\n",
       "      <td>6026.372718</td>\n",
       "      <td>0.003333</td>\n",
       "      <td>0.001392</td>\n",
       "      <td>0.004725</td>\n",
       "      <td>689.0</td>\n",
       "      <td>35828.0</td>\n",
       "      <td>9.301583e-08</td>\n",
       "    </tr>\n",
       "    <tr>\n",
       "      <th>161</th>\n",
       "      <td>2022</td>\n",
       "      <td>UKK</td>\n",
       "      <td>South West</td>\n",
       "      <td>1994.866</td>\n",
       "      <td>18.140</td>\n",
       "      <td>2013.006</td>\n",
       "      <td>19620.178140</td>\n",
       "      <td>10846.932730</td>\n",
       "      <td>30467.110870</td>\n",
       "      <td>9835.336379</td>\n",
       "      <td>...</td>\n",
       "      <td>5.189846e+06</td>\n",
       "      <td>Origional</td>\n",
       "      <td>23836.0</td>\n",
       "      <td>217.731415</td>\n",
       "      <td>0.003780</td>\n",
       "      <td>0.002090</td>\n",
       "      <td>0.005871</td>\n",
       "      <td>622.0</td>\n",
       "      <td>32344.0</td>\n",
       "      <td>1.168839e-07</td>\n",
       "    </tr>\n",
       "  </tbody>\n",
       "</table>\n",
       "<p>162 rows × 22 columns</p>\n",
       "</div>"
      ],
      "text/plain": [
       "     Year Location_Code                    Region  \\\n",
       "0    2005           UKC                North East   \n",
       "1    2005           UKD                North West   \n",
       "2    2005           UKE  Yorkshire and The Humber   \n",
       "3    2005           UKF             East Midlands   \n",
       "4    2005           UKG             West Midlands   \n",
       "..    ...           ...                       ...   \n",
       "157  2022           UKG             West Midlands   \n",
       "158  2022           UKH                      East   \n",
       "159  2022           UKI                    London   \n",
       "160  2022           UKJ                South East   \n",
       "161  2022           UKK                South West   \n",
       "\n",
       "     Number of meters\\n(thousands):\\nDomestic\\n  \\\n",
       "0                                      1037.403   \n",
       "1                                      2747.967   \n",
       "2                                      1989.970   \n",
       "3                                      1620.786   \n",
       "4                                      1984.918   \n",
       "..                                          ...   \n",
       "157                                    2221.428   \n",
       "158                                    2217.992   \n",
       "159                                    3001.866   \n",
       "160                                    3428.042   \n",
       "161                                    1994.866   \n",
       "\n",
       "     Number of meters\\n(thousands):\\nNon-Domestic  \\\n",
       "0                                          16.219   \n",
       "1                                          48.871   \n",
       "2                                          36.997   \n",
       "3                                          28.502   \n",
       "4                                          36.397   \n",
       "..                                            ...   \n",
       "157                                        21.914   \n",
       "158                                        20.366   \n",
       "159                                        39.524   \n",
       "160                                        35.662   \n",
       "161                                        18.140   \n",
       "\n",
       "     Number of meters\\n(thousands):\\nAll meters  \\\n",
       "0                                      1053.622   \n",
       "1                                      2796.838   \n",
       "2                                      2026.967   \n",
       "3                                      1649.288   \n",
       "4                                      2021.315   \n",
       "..                                          ...   \n",
       "157                                    2243.342   \n",
       "158                                    2238.358   \n",
       "159                                    3041.390   \n",
       "160                                    3463.704   \n",
       "161                                    2013.006   \n",
       "\n",
       "     Total consumption\\n(GWh):\\nDomestic\\n  \\\n",
       "0                             20710.658157   \n",
       "1                             53390.873953   \n",
       "2                             39024.143235   \n",
       "3                             31469.021304   \n",
       "4                             37726.189511   \n",
       "..                                     ...   \n",
       "157                           25247.105176   \n",
       "158                           25143.154335   \n",
       "159                           35792.967053   \n",
       "160                           39604.299045   \n",
       "161                           19620.178140   \n",
       "\n",
       "     Total consumption\\n(GWh):\\nNon-Domestic  \\\n",
       "0                               13952.158200   \n",
       "1                               35926.287793   \n",
       "2                               30648.965991   \n",
       "3                               18936.399391   \n",
       "4                               22962.792215   \n",
       "..                                       ...   \n",
       "157                             15406.577700   \n",
       "158                             13711.245874   \n",
       "159                             19576.692142   \n",
       "160                             16541.969255   \n",
       "161                             10846.932730   \n",
       "\n",
       "     Total consumption\\n(GWh):\\nAll meters  \\\n",
       "0                             34662.816357   \n",
       "1                             89317.161746   \n",
       "2                             69673.109226   \n",
       "3                             50405.420695   \n",
       "4                             60688.981726   \n",
       "..                                     ...   \n",
       "157                           40653.682876   \n",
       "158                           38854.400209   \n",
       "159                           55369.659195   \n",
       "160                           56146.268301   \n",
       "161                           30467.110870   \n",
       "\n",
       "     Mean consumption\\n(kWh per meter):\\nDomestic\\n  ...    Population  \\\n",
       "0                                      19963.946660  ...  2.564187e+06   \n",
       "1                                      19429.226753  ...  6.300295e+06   \n",
       "2                                      19610.417863  ...  4.561347e+06   \n",
       "3                                      19415.901485  ...  3.663689e+06   \n",
       "4                                      19006.422185  ...  5.356108e+06   \n",
       "..                                              ...  ...           ...   \n",
       "157                                    11365.259273  ...  6.017026e+06   \n",
       "158                                    11335.998658  ...  6.401418e+06   \n",
       "159                                    11923.572555  ...  8.869043e+06   \n",
       "160                                    11553.037870  ...  1.188401e+07   \n",
       "161                                     9835.336379  ...  5.189846e+06   \n",
       "\n",
       "        Data_Type  Area km^2 Population_Density(Persons.km^-2)  \\\n",
       "0    Extrapolated     8581.0                        298.821453   \n",
       "1    Extrapolated    14108.0                        446.576040   \n",
       "2    Extrapolated    15404.0                        296.114433   \n",
       "3    Extrapolated    15624.0                        234.491086   \n",
       "4    Extrapolated    12998.0                        412.071665   \n",
       "..            ...        ...                               ...   \n",
       "157     Origional    12998.0                        462.919372   \n",
       "158     Origional    19116.0                        334.872254   \n",
       "159     Origional     1572.0                       5641.884860   \n",
       "160     Origional     1972.0                       6026.372718   \n",
       "161     Origional    23836.0                        217.731415   \n",
       "\n",
       "     Domestic_Gas_Consumption(GWh/person)  \\\n",
       "0                                0.008077   \n",
       "1                                0.008474   \n",
       "2                                0.008555   \n",
       "3                                0.008589   \n",
       "4                                0.007044   \n",
       "..                                    ...   \n",
       "157                              0.004196   \n",
       "158                              0.003928   \n",
       "159                              0.004036   \n",
       "160                              0.003333   \n",
       "161                              0.003780   \n",
       "\n",
       "     Commercial_Gas_Consumption(GWh/person)  \\\n",
       "0                                  0.005441   \n",
       "1                                  0.005702   \n",
       "2                                  0.006719   \n",
       "3                                  0.005169   \n",
       "4                                  0.004287   \n",
       "..                                      ...   \n",
       "157                                0.002560   \n",
       "158                                0.002142   \n",
       "159                                0.002207   \n",
       "160                                0.001392   \n",
       "161                                0.002090   \n",
       "\n",
       "     Total_Gas_Consumption(GWh/person)  Median_Income   Salary  \\\n",
       "0                             0.013518          383.3  19931.6   \n",
       "1                             0.014177          409.5  21294.0   \n",
       "2                             0.015275          400.0  20800.0   \n",
       "3                             0.013758          412.2  21434.4   \n",
       "4                             0.011331          404.7  21044.4   \n",
       "..                                 ...            ...      ...   \n",
       "157                           0.006756          615.0  31980.0   \n",
       "158                           0.006070          670.0  34840.0   \n",
       "159                           0.006243          766.6  39863.2   \n",
       "160                           0.004725          689.0  35828.0   \n",
       "161                           0.005871          622.0  32344.0   \n",
       "\n",
       "     Domestic_Gas_Consumption_to_Median_Salary(GWh/person/£)  \n",
       "0                                         4.052304e-07        \n",
       "1                                         3.979687e-07        \n",
       "2                                         4.113173e-07        \n",
       "3                                         4.007314e-07        \n",
       "4                                         3.347011e-07        \n",
       "..                                                 ...        \n",
       "157                                       1.312053e-07        \n",
       "158                                       1.127367e-07        \n",
       "159                                       1.012392e-07        \n",
       "160                                       9.301583e-08        \n",
       "161                                       1.168839e-07        \n",
       "\n",
       "[162 rows x 22 columns]"
      ]
     },
     "execution_count": 72,
     "metadata": {},
     "output_type": "execute_result"
    }
   ],
   "source": [
    "Gas_Consumption_Cleaned_PopD_MedIncome = Gas_Consumption_Cleaned_PopD.merge(Median_Income, on=['Region','Year'], how='left')\n",
    "Gas_Consumption_Cleaned_PopD_MedIncome['Domestic_Gas_Consumption_to_Median_Salary(GWh/person/£)'] = Gas_Consumption_Cleaned_PopD_MedIncome['Domestic_Gas_Consumption(GWh/person)']/Gas_Consumption_Cleaned_PopD_MedIncome['Salary']\n",
    "Gas_Consumption_Cleaned_PopD_MedIncome"
   ]
  },
  {
   "cell_type": "code",
   "execution_count": 73,
   "metadata": {},
   "outputs": [
    {
     "data": {
      "text/html": [
       "<div>\n",
       "<style scoped>\n",
       "    .dataframe tbody tr th:only-of-type {\n",
       "        vertical-align: middle;\n",
       "    }\n",
       "\n",
       "    .dataframe tbody tr th {\n",
       "        vertical-align: top;\n",
       "    }\n",
       "\n",
       "    .dataframe thead th {\n",
       "        text-align: right;\n",
       "    }\n",
       "</style>\n",
       "<table border=\"1\" class=\"dataframe\">\n",
       "  <thead>\n",
       "    <tr style=\"text-align: right;\">\n",
       "      <th></th>\n",
       "      <th>Year</th>\n",
       "      <th>Coal (pence per kWh)</th>\n",
       "      <th>Oil (pence per kWh)</th>\n",
       "      <th>Natural Gas (pence per kWh)</th>\n",
       "      <th>Average Unit Cost (Pence per kWh)</th>\n",
       "      <th>Region</th>\n",
       "      <th>Median_Income</th>\n",
       "      <th>Salary</th>\n",
       "    </tr>\n",
       "  </thead>\n",
       "  <tbody>\n",
       "    <tr>\n",
       "      <th>0</th>\n",
       "      <td>1998</td>\n",
       "      <td>0.544375</td>\n",
       "      <td>0.774538</td>\n",
       "      <td>0.848242</td>\n",
       "      <td>8.259667</td>\n",
       "      <td>NaN</td>\n",
       "      <td>NaN</td>\n",
       "      <td>NaN</td>\n",
       "    </tr>\n",
       "    <tr>\n",
       "      <th>1</th>\n",
       "      <td>1999</td>\n",
       "      <td>0.513870</td>\n",
       "      <td>0.911555</td>\n",
       "      <td>0.782009</td>\n",
       "      <td>8.138333</td>\n",
       "      <td>NaN</td>\n",
       "      <td>NaN</td>\n",
       "      <td>NaN</td>\n",
       "    </tr>\n",
       "    <tr>\n",
       "      <th>2</th>\n",
       "      <td>2000</td>\n",
       "      <td>0.512963</td>\n",
       "      <td>1.273934</td>\n",
       "      <td>0.750103</td>\n",
       "      <td>7.890667</td>\n",
       "      <td>NaN</td>\n",
       "      <td>NaN</td>\n",
       "      <td>NaN</td>\n",
       "    </tr>\n",
       "    <tr>\n",
       "      <th>3</th>\n",
       "      <td>2001</td>\n",
       "      <td>0.551299</td>\n",
       "      <td>1.220321</td>\n",
       "      <td>0.824940</td>\n",
       "      <td>7.719667</td>\n",
       "      <td>NaN</td>\n",
       "      <td>NaN</td>\n",
       "      <td>NaN</td>\n",
       "    </tr>\n",
       "    <tr>\n",
       "      <th>4</th>\n",
       "      <td>2002</td>\n",
       "      <td>0.498163</td>\n",
       "      <td>1.289745</td>\n",
       "      <td>0.740489</td>\n",
       "      <td>7.706667</td>\n",
       "      <td>North East</td>\n",
       "      <td>343.2</td>\n",
       "      <td>17846.4</td>\n",
       "    </tr>\n",
       "    <tr>\n",
       "      <th>...</th>\n",
       "      <td>...</td>\n",
       "      <td>...</td>\n",
       "      <td>...</td>\n",
       "      <td>...</td>\n",
       "      <td>...</td>\n",
       "      <td>...</td>\n",
       "      <td>...</td>\n",
       "      <td>...</td>\n",
       "    </tr>\n",
       "    <tr>\n",
       "      <th>197</th>\n",
       "      <td>2023</td>\n",
       "      <td>1.775227</td>\n",
       "      <td>4.273539</td>\n",
       "      <td>4.904535</td>\n",
       "      <td>36.700335</td>\n",
       "      <td>West Midlands</td>\n",
       "      <td>657.9</td>\n",
       "      <td>34210.8</td>\n",
       "    </tr>\n",
       "    <tr>\n",
       "      <th>198</th>\n",
       "      <td>2023</td>\n",
       "      <td>1.775227</td>\n",
       "      <td>4.273539</td>\n",
       "      <td>4.904535</td>\n",
       "      <td>36.700335</td>\n",
       "      <td>East</td>\n",
       "      <td>709.5</td>\n",
       "      <td>36894.0</td>\n",
       "    </tr>\n",
       "    <tr>\n",
       "      <th>199</th>\n",
       "      <td>2023</td>\n",
       "      <td>1.775227</td>\n",
       "      <td>4.273539</td>\n",
       "      <td>4.904535</td>\n",
       "      <td>36.700335</td>\n",
       "      <td>London</td>\n",
       "      <td>804.9</td>\n",
       "      <td>41854.8</td>\n",
       "    </tr>\n",
       "    <tr>\n",
       "      <th>200</th>\n",
       "      <td>2023</td>\n",
       "      <td>1.775227</td>\n",
       "      <td>4.273539</td>\n",
       "      <td>4.904535</td>\n",
       "      <td>36.700335</td>\n",
       "      <td>South East</td>\n",
       "      <td>728.3</td>\n",
       "      <td>37871.6</td>\n",
       "    </tr>\n",
       "    <tr>\n",
       "      <th>201</th>\n",
       "      <td>2023</td>\n",
       "      <td>1.775227</td>\n",
       "      <td>4.273539</td>\n",
       "      <td>4.904535</td>\n",
       "      <td>36.700335</td>\n",
       "      <td>South West</td>\n",
       "      <td>667.5</td>\n",
       "      <td>34710.0</td>\n",
       "    </tr>\n",
       "  </tbody>\n",
       "</table>\n",
       "<p>202 rows × 8 columns</p>\n",
       "</div>"
      ],
      "text/plain": [
       "     Year  Coal (pence per kWh)  Oil (pence per kWh)  \\\n",
       "0    1998              0.544375             0.774538   \n",
       "1    1999              0.513870             0.911555   \n",
       "2    2000              0.512963             1.273934   \n",
       "3    2001              0.551299             1.220321   \n",
       "4    2002              0.498163             1.289745   \n",
       "..    ...                   ...                  ...   \n",
       "197  2023              1.775227             4.273539   \n",
       "198  2023              1.775227             4.273539   \n",
       "199  2023              1.775227             4.273539   \n",
       "200  2023              1.775227             4.273539   \n",
       "201  2023              1.775227             4.273539   \n",
       "\n",
       "     Natural Gas (pence per kWh)  Average Unit Cost (Pence per kWh)  \\\n",
       "0                       0.848242                           8.259667   \n",
       "1                       0.782009                           8.138333   \n",
       "2                       0.750103                           7.890667   \n",
       "3                       0.824940                           7.719667   \n",
       "4                       0.740489                           7.706667   \n",
       "..                           ...                                ...   \n",
       "197                     4.904535                          36.700335   \n",
       "198                     4.904535                          36.700335   \n",
       "199                     4.904535                          36.700335   \n",
       "200                     4.904535                          36.700335   \n",
       "201                     4.904535                          36.700335   \n",
       "\n",
       "            Region  Median_Income   Salary  \n",
       "0              NaN            NaN      NaN  \n",
       "1              NaN            NaN      NaN  \n",
       "2              NaN            NaN      NaN  \n",
       "3              NaN            NaN      NaN  \n",
       "4       North East          343.2  17846.4  \n",
       "..             ...            ...      ...  \n",
       "197  West Midlands          657.9  34210.8  \n",
       "198           East          709.5  36894.0  \n",
       "199         London          804.9  41854.8  \n",
       "200     South East          728.3  37871.6  \n",
       "201     South West          667.5  34710.0  \n",
       "\n",
       "[202 rows x 8 columns]"
      ]
     },
     "execution_count": 73,
     "metadata": {},
     "output_type": "execute_result"
    }
   ],
   "source": [
    "Energy_Vs_Import_Price_Sal = Energy_Vs_Import_Price.merge(Median_Income, on=['Year'], how='left')\n",
    "Energy_Vs_Import_Price_Sal"
   ]
  },
  {
   "cell_type": "code",
   "execution_count": 74,
   "metadata": {},
   "outputs": [
    {
     "data": {
      "text/plain": [
       "'def create_salaryration_choropleth(year):\\n    fig = px.choropleth(Gas_Consumption_Cleaned_PopD_MedIncome.loc[Gas_Consumption_Cleaned_PopD_MedIncome[\\'Year\\'] == year]\\n                        ,locations=\\'Location_Code\\'\\n                        ,geojson=Regions\\n                        ,color =\\'Domestic_Gas_Consumption_to_Median_Salary(GWh/person/£)\\'\\n                        ,featureidkey=\"properties.NUTS112CD\"\\n                        ,hover_name=\\'Region\\'\\n                        ,color_continuous_scale=px.colors.sequential.Viridis\\n                        )\\n    fig.update_geos(\\n        fitbounds=\"geojson\",\\n       # projection_scale = 100,\\n        visible=False,\\n        projection_type=\"orthographic\" \\n        )\\n    fig.update_layout(\\n    margin={\"r\": 0, \"t\": 50, \"l\": 0, \"b\": 0}, \\n    title={\\n        \\'text\\': f\"{year}\",  \\n        \\'y\\': 0.95, \\n        \\'x\\': 0.5,  \\n        \\'xanchor\\': \\'center\\',\\n        \\'yanchor\\': \\'top\\'},\\n    coloraxis_colorbar_title=None,\\n    coloraxis_colorbar=dict(\\n            len=0.8,\\n            thickness=15 \\n        ),\\n        width=800,\\n        height=650,\\n        font=dict(\\n        size=26 \\n    ))\\n\\n    return fig\\n\\nYears_to_Graph = list(range(2005,2023))\\nYears_to_Graph\\n\\nfigures = [create_salaryration_choropleth(year) for year in Years_to_Graph]\\n\\nfor fig in figures:\\n    fig.show()\\n    '"
      ]
     },
     "execution_count": 74,
     "metadata": {},
     "output_type": "execute_result"
    }
   ],
   "source": [
    "#Choropleth standardised to see if north and south are getting more or less equal\n",
    "#Choropleth hidden here to support GitHub upload\n",
    "'''def create_salaryration_choropleth(year):\n",
    "    fig = px.choropleth(Gas_Consumption_Cleaned_PopD_MedIncome.loc[Gas_Consumption_Cleaned_PopD_MedIncome['Year'] == year]\n",
    "                        ,locations='Location_Code'\n",
    "                        ,geojson=Regions\n",
    "                        ,color ='Domestic_Gas_Consumption_to_Median_Salary(GWh/person/£)'\n",
    "                        ,featureidkey=\"properties.NUTS112CD\"\n",
    "                        ,hover_name='Region'\n",
    "                        ,color_continuous_scale=px.colors.sequential.Viridis\n",
    "                        )\n",
    "    fig.update_geos(\n",
    "        fitbounds=\"geojson\",\n",
    "       # projection_scale = 100,\n",
    "        visible=False,\n",
    "        projection_type=\"orthographic\" \n",
    "        )\n",
    "    fig.update_layout(\n",
    "    margin={\"r\": 0, \"t\": 50, \"l\": 0, \"b\": 0}, \n",
    "    title={\n",
    "        'text': f\"{year}\",  \n",
    "        'y': 0.95, \n",
    "        'x': 0.5,  \n",
    "        'xanchor': 'center',\n",
    "        'yanchor': 'top'},\n",
    "    coloraxis_colorbar_title=None,\n",
    "    coloraxis_colorbar=dict(\n",
    "            len=0.8,\n",
    "            thickness=15 \n",
    "        ),\n",
    "        width=800,\n",
    "        height=650,\n",
    "        font=dict(\n",
    "        size=26 \n",
    "    ))\n",
    "\n",
    "    return fig\n",
    "\n",
    "Years_to_Graph = list(range(2005,2023))\n",
    "Years_to_Graph\n",
    "\n",
    "figures = [create_salaryration_choropleth(year) for year in Years_to_Graph]\n",
    "\n",
    "for fig in figures:\n",
    "    fig.show()\n",
    "    '''\n",
    "    #Showing \"Domestic Gas Consumption as a Portion of Salary {year} (GWh/person/£)\""
   ]
  },
  {
   "cell_type": "code",
   "execution_count": 75,
   "metadata": {},
   "outputs": [
    {
     "data": {
      "text/html": [
       "<div>\n",
       "<style scoped>\n",
       "    .dataframe tbody tr th:only-of-type {\n",
       "        vertical-align: middle;\n",
       "    }\n",
       "\n",
       "    .dataframe tbody tr th {\n",
       "        vertical-align: top;\n",
       "    }\n",
       "\n",
       "    .dataframe thead th {\n",
       "        text-align: right;\n",
       "    }\n",
       "</style>\n",
       "<table border=\"1\" class=\"dataframe\">\n",
       "  <thead>\n",
       "    <tr style=\"text-align: right;\">\n",
       "      <th></th>\n",
       "      <th>Year</th>\n",
       "      <th>Location_Code</th>\n",
       "      <th>Region</th>\n",
       "      <th>Number of meters\\n(thousands):\\nDomestic\\n</th>\n",
       "      <th>Number of meters\\n(thousands):\\nNon-Domestic</th>\n",
       "      <th>Number of meters\\n(thousands):\\nAll meters</th>\n",
       "      <th>Total consumption\\n(GWh):\\nDomestic\\n</th>\n",
       "      <th>Total consumption\\n(GWh):\\nNon-Domestic</th>\n",
       "      <th>Total consumption\\n(GWh):\\nAll meters</th>\n",
       "      <th>Mean consumption\\n(kWh per meter):\\nDomestic\\n</th>\n",
       "      <th>...</th>\n",
       "      <th>Population</th>\n",
       "      <th>Data_Type</th>\n",
       "      <th>Area km^2</th>\n",
       "      <th>Population_Density(Persons.km^-2)</th>\n",
       "      <th>Domestic_Gas_Consumption(GWh/person)</th>\n",
       "      <th>Commercial_Gas_Consumption(GWh/person)</th>\n",
       "      <th>Total_Gas_Consumption(GWh/person)</th>\n",
       "      <th>Median_Income</th>\n",
       "      <th>Salary</th>\n",
       "      <th>Domestic_Gas_Consumption_to_Median_Salary(GWh/person/£)</th>\n",
       "    </tr>\n",
       "  </thead>\n",
       "  <tbody>\n",
       "    <tr>\n",
       "      <th>0</th>\n",
       "      <td>2005</td>\n",
       "      <td>UKC</td>\n",
       "      <td>North East</td>\n",
       "      <td>1037.403</td>\n",
       "      <td>16.219</td>\n",
       "      <td>1053.622</td>\n",
       "      <td>20710.658157</td>\n",
       "      <td>13952.158200</td>\n",
       "      <td>34662.816357</td>\n",
       "      <td>19963.946660</td>\n",
       "      <td>...</td>\n",
       "      <td>2.564187e+06</td>\n",
       "      <td>Extrapolated</td>\n",
       "      <td>8581.0</td>\n",
       "      <td>298.821453</td>\n",
       "      <td>0.008077</td>\n",
       "      <td>0.005441</td>\n",
       "      <td>0.013518</td>\n",
       "      <td>383.3</td>\n",
       "      <td>19931.6</td>\n",
       "      <td>4.052304e-07</td>\n",
       "    </tr>\n",
       "    <tr>\n",
       "      <th>1</th>\n",
       "      <td>2005</td>\n",
       "      <td>UKD</td>\n",
       "      <td>North West</td>\n",
       "      <td>2747.967</td>\n",
       "      <td>48.871</td>\n",
       "      <td>2796.838</td>\n",
       "      <td>53390.873953</td>\n",
       "      <td>35926.287793</td>\n",
       "      <td>89317.161746</td>\n",
       "      <td>19429.226753</td>\n",
       "      <td>...</td>\n",
       "      <td>6.300295e+06</td>\n",
       "      <td>Extrapolated</td>\n",
       "      <td>14108.0</td>\n",
       "      <td>446.576040</td>\n",
       "      <td>0.008474</td>\n",
       "      <td>0.005702</td>\n",
       "      <td>0.014177</td>\n",
       "      <td>409.5</td>\n",
       "      <td>21294.0</td>\n",
       "      <td>3.979687e-07</td>\n",
       "    </tr>\n",
       "    <tr>\n",
       "      <th>2</th>\n",
       "      <td>2005</td>\n",
       "      <td>UKE</td>\n",
       "      <td>Yorkshire and The Humber</td>\n",
       "      <td>1989.970</td>\n",
       "      <td>36.997</td>\n",
       "      <td>2026.967</td>\n",
       "      <td>39024.143235</td>\n",
       "      <td>30648.965991</td>\n",
       "      <td>69673.109226</td>\n",
       "      <td>19610.417863</td>\n",
       "      <td>...</td>\n",
       "      <td>4.561347e+06</td>\n",
       "      <td>Extrapolated</td>\n",
       "      <td>15404.0</td>\n",
       "      <td>296.114433</td>\n",
       "      <td>0.008555</td>\n",
       "      <td>0.006719</td>\n",
       "      <td>0.015275</td>\n",
       "      <td>400.0</td>\n",
       "      <td>20800.0</td>\n",
       "      <td>4.113173e-07</td>\n",
       "    </tr>\n",
       "    <tr>\n",
       "      <th>3</th>\n",
       "      <td>2005</td>\n",
       "      <td>UKF</td>\n",
       "      <td>East Midlands</td>\n",
       "      <td>1620.786</td>\n",
       "      <td>28.502</td>\n",
       "      <td>1649.288</td>\n",
       "      <td>31469.021304</td>\n",
       "      <td>18936.399391</td>\n",
       "      <td>50405.420695</td>\n",
       "      <td>19415.901485</td>\n",
       "      <td>...</td>\n",
       "      <td>3.663689e+06</td>\n",
       "      <td>Extrapolated</td>\n",
       "      <td>15624.0</td>\n",
       "      <td>234.491086</td>\n",
       "      <td>0.008589</td>\n",
       "      <td>0.005169</td>\n",
       "      <td>0.013758</td>\n",
       "      <td>412.2</td>\n",
       "      <td>21434.4</td>\n",
       "      <td>4.007314e-07</td>\n",
       "    </tr>\n",
       "    <tr>\n",
       "      <th>4</th>\n",
       "      <td>2005</td>\n",
       "      <td>UKG</td>\n",
       "      <td>West Midlands</td>\n",
       "      <td>1984.918</td>\n",
       "      <td>36.397</td>\n",
       "      <td>2021.315</td>\n",
       "      <td>37726.189511</td>\n",
       "      <td>22962.792215</td>\n",
       "      <td>60688.981726</td>\n",
       "      <td>19006.422185</td>\n",
       "      <td>...</td>\n",
       "      <td>5.356108e+06</td>\n",
       "      <td>Extrapolated</td>\n",
       "      <td>12998.0</td>\n",
       "      <td>412.071665</td>\n",
       "      <td>0.007044</td>\n",
       "      <td>0.004287</td>\n",
       "      <td>0.011331</td>\n",
       "      <td>404.7</td>\n",
       "      <td>21044.4</td>\n",
       "      <td>3.347011e-07</td>\n",
       "    </tr>\n",
       "    <tr>\n",
       "      <th>...</th>\n",
       "      <td>...</td>\n",
       "      <td>...</td>\n",
       "      <td>...</td>\n",
       "      <td>...</td>\n",
       "      <td>...</td>\n",
       "      <td>...</td>\n",
       "      <td>...</td>\n",
       "      <td>...</td>\n",
       "      <td>...</td>\n",
       "      <td>...</td>\n",
       "      <td>...</td>\n",
       "      <td>...</td>\n",
       "      <td>...</td>\n",
       "      <td>...</td>\n",
       "      <td>...</td>\n",
       "      <td>...</td>\n",
       "      <td>...</td>\n",
       "      <td>...</td>\n",
       "      <td>...</td>\n",
       "      <td>...</td>\n",
       "      <td>...</td>\n",
       "    </tr>\n",
       "    <tr>\n",
       "      <th>157</th>\n",
       "      <td>2022</td>\n",
       "      <td>UKG</td>\n",
       "      <td>West Midlands</td>\n",
       "      <td>2221.428</td>\n",
       "      <td>21.914</td>\n",
       "      <td>2243.342</td>\n",
       "      <td>25247.105176</td>\n",
       "      <td>15406.577700</td>\n",
       "      <td>40653.682876</td>\n",
       "      <td>11365.259273</td>\n",
       "      <td>...</td>\n",
       "      <td>6.017026e+06</td>\n",
       "      <td>Origional</td>\n",
       "      <td>12998.0</td>\n",
       "      <td>462.919372</td>\n",
       "      <td>0.004196</td>\n",
       "      <td>0.002560</td>\n",
       "      <td>0.006756</td>\n",
       "      <td>615.0</td>\n",
       "      <td>31980.0</td>\n",
       "      <td>1.312053e-07</td>\n",
       "    </tr>\n",
       "    <tr>\n",
       "      <th>158</th>\n",
       "      <td>2022</td>\n",
       "      <td>UKH</td>\n",
       "      <td>East</td>\n",
       "      <td>2217.992</td>\n",
       "      <td>20.366</td>\n",
       "      <td>2238.358</td>\n",
       "      <td>25143.154335</td>\n",
       "      <td>13711.245874</td>\n",
       "      <td>38854.400209</td>\n",
       "      <td>11335.998658</td>\n",
       "      <td>...</td>\n",
       "      <td>6.401418e+06</td>\n",
       "      <td>Origional</td>\n",
       "      <td>19116.0</td>\n",
       "      <td>334.872254</td>\n",
       "      <td>0.003928</td>\n",
       "      <td>0.002142</td>\n",
       "      <td>0.006070</td>\n",
       "      <td>670.0</td>\n",
       "      <td>34840.0</td>\n",
       "      <td>1.127367e-07</td>\n",
       "    </tr>\n",
       "    <tr>\n",
       "      <th>159</th>\n",
       "      <td>2022</td>\n",
       "      <td>UKI</td>\n",
       "      <td>London</td>\n",
       "      <td>3001.866</td>\n",
       "      <td>39.524</td>\n",
       "      <td>3041.390</td>\n",
       "      <td>35792.967053</td>\n",
       "      <td>19576.692142</td>\n",
       "      <td>55369.659195</td>\n",
       "      <td>11923.572555</td>\n",
       "      <td>...</td>\n",
       "      <td>8.869043e+06</td>\n",
       "      <td>Origional</td>\n",
       "      <td>1572.0</td>\n",
       "      <td>5641.884860</td>\n",
       "      <td>0.004036</td>\n",
       "      <td>0.002207</td>\n",
       "      <td>0.006243</td>\n",
       "      <td>766.6</td>\n",
       "      <td>39863.2</td>\n",
       "      <td>1.012392e-07</td>\n",
       "    </tr>\n",
       "    <tr>\n",
       "      <th>160</th>\n",
       "      <td>2022</td>\n",
       "      <td>UKJ</td>\n",
       "      <td>South East</td>\n",
       "      <td>3428.042</td>\n",
       "      <td>35.662</td>\n",
       "      <td>3463.704</td>\n",
       "      <td>39604.299045</td>\n",
       "      <td>16541.969255</td>\n",
       "      <td>56146.268301</td>\n",
       "      <td>11553.037870</td>\n",
       "      <td>...</td>\n",
       "      <td>1.188401e+07</td>\n",
       "      <td>Origional</td>\n",
       "      <td>1972.0</td>\n",
       "      <td>6026.372718</td>\n",
       "      <td>0.003333</td>\n",
       "      <td>0.001392</td>\n",
       "      <td>0.004725</td>\n",
       "      <td>689.0</td>\n",
       "      <td>35828.0</td>\n",
       "      <td>9.301583e-08</td>\n",
       "    </tr>\n",
       "    <tr>\n",
       "      <th>161</th>\n",
       "      <td>2022</td>\n",
       "      <td>UKK</td>\n",
       "      <td>South West</td>\n",
       "      <td>1994.866</td>\n",
       "      <td>18.140</td>\n",
       "      <td>2013.006</td>\n",
       "      <td>19620.178140</td>\n",
       "      <td>10846.932730</td>\n",
       "      <td>30467.110870</td>\n",
       "      <td>9835.336379</td>\n",
       "      <td>...</td>\n",
       "      <td>5.189846e+06</td>\n",
       "      <td>Origional</td>\n",
       "      <td>23836.0</td>\n",
       "      <td>217.731415</td>\n",
       "      <td>0.003780</td>\n",
       "      <td>0.002090</td>\n",
       "      <td>0.005871</td>\n",
       "      <td>622.0</td>\n",
       "      <td>32344.0</td>\n",
       "      <td>1.168839e-07</td>\n",
       "    </tr>\n",
       "  </tbody>\n",
       "</table>\n",
       "<p>162 rows × 22 columns</p>\n",
       "</div>"
      ],
      "text/plain": [
       "     Year Location_Code                    Region  \\\n",
       "0    2005           UKC                North East   \n",
       "1    2005           UKD                North West   \n",
       "2    2005           UKE  Yorkshire and The Humber   \n",
       "3    2005           UKF             East Midlands   \n",
       "4    2005           UKG             West Midlands   \n",
       "..    ...           ...                       ...   \n",
       "157  2022           UKG             West Midlands   \n",
       "158  2022           UKH                      East   \n",
       "159  2022           UKI                    London   \n",
       "160  2022           UKJ                South East   \n",
       "161  2022           UKK                South West   \n",
       "\n",
       "     Number of meters\\n(thousands):\\nDomestic\\n  \\\n",
       "0                                      1037.403   \n",
       "1                                      2747.967   \n",
       "2                                      1989.970   \n",
       "3                                      1620.786   \n",
       "4                                      1984.918   \n",
       "..                                          ...   \n",
       "157                                    2221.428   \n",
       "158                                    2217.992   \n",
       "159                                    3001.866   \n",
       "160                                    3428.042   \n",
       "161                                    1994.866   \n",
       "\n",
       "     Number of meters\\n(thousands):\\nNon-Domestic  \\\n",
       "0                                          16.219   \n",
       "1                                          48.871   \n",
       "2                                          36.997   \n",
       "3                                          28.502   \n",
       "4                                          36.397   \n",
       "..                                            ...   \n",
       "157                                        21.914   \n",
       "158                                        20.366   \n",
       "159                                        39.524   \n",
       "160                                        35.662   \n",
       "161                                        18.140   \n",
       "\n",
       "     Number of meters\\n(thousands):\\nAll meters  \\\n",
       "0                                      1053.622   \n",
       "1                                      2796.838   \n",
       "2                                      2026.967   \n",
       "3                                      1649.288   \n",
       "4                                      2021.315   \n",
       "..                                          ...   \n",
       "157                                    2243.342   \n",
       "158                                    2238.358   \n",
       "159                                    3041.390   \n",
       "160                                    3463.704   \n",
       "161                                    2013.006   \n",
       "\n",
       "     Total consumption\\n(GWh):\\nDomestic\\n  \\\n",
       "0                             20710.658157   \n",
       "1                             53390.873953   \n",
       "2                             39024.143235   \n",
       "3                             31469.021304   \n",
       "4                             37726.189511   \n",
       "..                                     ...   \n",
       "157                           25247.105176   \n",
       "158                           25143.154335   \n",
       "159                           35792.967053   \n",
       "160                           39604.299045   \n",
       "161                           19620.178140   \n",
       "\n",
       "     Total consumption\\n(GWh):\\nNon-Domestic  \\\n",
       "0                               13952.158200   \n",
       "1                               35926.287793   \n",
       "2                               30648.965991   \n",
       "3                               18936.399391   \n",
       "4                               22962.792215   \n",
       "..                                       ...   \n",
       "157                             15406.577700   \n",
       "158                             13711.245874   \n",
       "159                             19576.692142   \n",
       "160                             16541.969255   \n",
       "161                             10846.932730   \n",
       "\n",
       "     Total consumption\\n(GWh):\\nAll meters  \\\n",
       "0                             34662.816357   \n",
       "1                             89317.161746   \n",
       "2                             69673.109226   \n",
       "3                             50405.420695   \n",
       "4                             60688.981726   \n",
       "..                                     ...   \n",
       "157                           40653.682876   \n",
       "158                           38854.400209   \n",
       "159                           55369.659195   \n",
       "160                           56146.268301   \n",
       "161                           30467.110870   \n",
       "\n",
       "     Mean consumption\\n(kWh per meter):\\nDomestic\\n  ...    Population  \\\n",
       "0                                      19963.946660  ...  2.564187e+06   \n",
       "1                                      19429.226753  ...  6.300295e+06   \n",
       "2                                      19610.417863  ...  4.561347e+06   \n",
       "3                                      19415.901485  ...  3.663689e+06   \n",
       "4                                      19006.422185  ...  5.356108e+06   \n",
       "..                                              ...  ...           ...   \n",
       "157                                    11365.259273  ...  6.017026e+06   \n",
       "158                                    11335.998658  ...  6.401418e+06   \n",
       "159                                    11923.572555  ...  8.869043e+06   \n",
       "160                                    11553.037870  ...  1.188401e+07   \n",
       "161                                     9835.336379  ...  5.189846e+06   \n",
       "\n",
       "        Data_Type  Area km^2 Population_Density(Persons.km^-2)  \\\n",
       "0    Extrapolated     8581.0                        298.821453   \n",
       "1    Extrapolated    14108.0                        446.576040   \n",
       "2    Extrapolated    15404.0                        296.114433   \n",
       "3    Extrapolated    15624.0                        234.491086   \n",
       "4    Extrapolated    12998.0                        412.071665   \n",
       "..            ...        ...                               ...   \n",
       "157     Origional    12998.0                        462.919372   \n",
       "158     Origional    19116.0                        334.872254   \n",
       "159     Origional     1572.0                       5641.884860   \n",
       "160     Origional     1972.0                       6026.372718   \n",
       "161     Origional    23836.0                        217.731415   \n",
       "\n",
       "     Domestic_Gas_Consumption(GWh/person)  \\\n",
       "0                                0.008077   \n",
       "1                                0.008474   \n",
       "2                                0.008555   \n",
       "3                                0.008589   \n",
       "4                                0.007044   \n",
       "..                                    ...   \n",
       "157                              0.004196   \n",
       "158                              0.003928   \n",
       "159                              0.004036   \n",
       "160                              0.003333   \n",
       "161                              0.003780   \n",
       "\n",
       "     Commercial_Gas_Consumption(GWh/person)  \\\n",
       "0                                  0.005441   \n",
       "1                                  0.005702   \n",
       "2                                  0.006719   \n",
       "3                                  0.005169   \n",
       "4                                  0.004287   \n",
       "..                                      ...   \n",
       "157                                0.002560   \n",
       "158                                0.002142   \n",
       "159                                0.002207   \n",
       "160                                0.001392   \n",
       "161                                0.002090   \n",
       "\n",
       "     Total_Gas_Consumption(GWh/person)  Median_Income   Salary  \\\n",
       "0                             0.013518          383.3  19931.6   \n",
       "1                             0.014177          409.5  21294.0   \n",
       "2                             0.015275          400.0  20800.0   \n",
       "3                             0.013758          412.2  21434.4   \n",
       "4                             0.011331          404.7  21044.4   \n",
       "..                                 ...            ...      ...   \n",
       "157                           0.006756          615.0  31980.0   \n",
       "158                           0.006070          670.0  34840.0   \n",
       "159                           0.006243          766.6  39863.2   \n",
       "160                           0.004725          689.0  35828.0   \n",
       "161                           0.005871          622.0  32344.0   \n",
       "\n",
       "     Domestic_Gas_Consumption_to_Median_Salary(GWh/person/£)  \n",
       "0                                         4.052304e-07        \n",
       "1                                         3.979687e-07        \n",
       "2                                         4.113173e-07        \n",
       "3                                         4.007314e-07        \n",
       "4                                         3.347011e-07        \n",
       "..                                                 ...        \n",
       "157                                       1.312053e-07        \n",
       "158                                       1.127367e-07        \n",
       "159                                       1.012392e-07        \n",
       "160                                       9.301583e-08        \n",
       "161                                       1.168839e-07        \n",
       "\n",
       "[162 rows x 22 columns]"
      ]
     },
     "execution_count": 75,
     "metadata": {},
     "output_type": "execute_result"
    }
   ],
   "source": [
    "Gas_Consumption_Cleaned_PopD_MedIncome"
   ]
  },
  {
   "cell_type": "code",
   "execution_count": 76,
   "metadata": {},
   "outputs": [],
   "source": [
    "#Join to allow generation of choropleths displaying Energy cost againt salary by region and year\n",
    "Gas_Consumption_Cleaned_PopD_MedIncome_EngPrice = pd.merge(Gas_Consumption_Cleaned_PopD_MedIncome, Energy_Price_Region, on=['Region','Year'], how='left')\n",
    "Gas_Consumption_Cleaned_PopD_MedIncome_EngPrice[\"Salary (£'000)\"] = Gas_Consumption_Cleaned_PopD_MedIncome_EngPrice[\"Salary\"]/1000\n",
    "Gas_Consumption_Cleaned_PopD_MedIncome_EngPrice[\"EngPrice / Salary (Pence/kWh/£'000)\"] = Gas_Consumption_Cleaned_PopD_MedIncome_EngPrice['Average Unit Cost (Pence per kWh)']/Gas_Consumption_Cleaned_PopD_MedIncome_EngPrice[\"Salary (£'000)\"]"
   ]
  },
  {
   "cell_type": "code",
   "execution_count": 77,
   "metadata": {},
   "outputs": [],
   "source": [
    "Max_Unit_Cost = Gas_Consumption_Cleaned_PopD_MedIncome_EngPrice[\"Average Unit Cost (Pence per kWh)\"].max()\n",
    "Min_Unit_Cost = Gas_Consumption_Cleaned_PopD_MedIncome_EngPrice[\"Average Unit Cost (Pence per kWh)\"].min()"
   ]
  },
  {
   "cell_type": "code",
   "execution_count": 78,
   "metadata": {},
   "outputs": [
    {
     "data": {
      "text/plain": [
       "'def create_salary_to_engprice_choropleth_time(year):\\n    fig = px.choropleth(Gas_Consumption_Cleaned_PopD_MedIncome_EngPrice.loc[Gas_Consumption_Cleaned_PopD_MedIncome_EngPrice[\\'Year\\'] == year]\\n                        ,locations=\\'Location_Code\\'\\n                        ,geojson=Regions\\n                        ,color =\"Average Unit Cost (Pence per kWh)\"\\n                        ,featureidkey=\"properties.NUTS112CD\"\\n                        ,hover_name=\\'Region\\'\\n                        ,range_color = (Min_Unit_Cost, Max_Unit_Cost)\\n                        ,color_continuous_scale = px.colors.diverging.RdYlBu[::-1]\\n                        )\\n    fig.update_geos(\\n        fitbounds=\"geojson\",\\n       # projection_scale = 100,\\n        visible=False,\\n        projection_type=\"orthographic\" \\n        )\\n    fig.update_layout(\\n    margin={\"r\": 0, \"t\": 50, \"l\": 0, \"b\": 0}, \\n    title={\\n        \\'text\\': f\"{year}\",  \\n        \\'y\\': 0.95, \\n        \\'x\\': 0.5,  \\n        \\'xanchor\\': \\'center\\',\\n        \\'yanchor\\': \\'top\\'},\\n    coloraxis_colorbar_title=None,\\n    coloraxis_colorbar=dict(\\n            len=0.8,\\n            thickness=15 \\n        ),\\n        width=800,\\n        height=650,\\n        font=dict(\\n        size=26 \\n    ))\\n\\n    return fig\\n\\nYears_to_Graph = list(range(2005,2023))\\nYears_to_Graph\\n\\nfigures = [create_salary_to_engprice_choropleth_time(year) for year in Years_to_Graph]\\n\\nfor fig in figures:\\n    fig.show()\\n    \\n    #Showing \"Average Energy Price {year} (Pence/kWh)\"\\n    '"
      ]
     },
     "execution_count": 78,
     "metadata": {},
     "output_type": "execute_result"
    }
   ],
   "source": [
    "#Choropleth showing avg energy price agianst alary by region and year (This one for comparing change over time)\n",
    "#Choropleth hidden here to support GitHub upload\n",
    "'''def create_salary_to_engprice_choropleth_time(year):\n",
    "    fig = px.choropleth(Gas_Consumption_Cleaned_PopD_MedIncome_EngPrice.loc[Gas_Consumption_Cleaned_PopD_MedIncome_EngPrice['Year'] == year]\n",
    "                        ,locations='Location_Code'\n",
    "                        ,geojson=Regions\n",
    "                        ,color =\"Average Unit Cost (Pence per kWh)\"\n",
    "                        ,featureidkey=\"properties.NUTS112CD\"\n",
    "                        ,hover_name='Region'\n",
    "                        ,range_color = (Min_Unit_Cost, Max_Unit_Cost)\n",
    "                        ,color_continuous_scale = px.colors.diverging.RdYlBu[::-1]\n",
    "                        )\n",
    "    fig.update_geos(\n",
    "        fitbounds=\"geojson\",\n",
    "       # projection_scale = 100,\n",
    "        visible=False,\n",
    "        projection_type=\"orthographic\" \n",
    "        )\n",
    "    fig.update_layout(\n",
    "    margin={\"r\": 0, \"t\": 50, \"l\": 0, \"b\": 0}, \n",
    "    title={\n",
    "        'text': f\"{year}\",  \n",
    "        'y': 0.95, \n",
    "        'x': 0.5,  \n",
    "        'xanchor': 'center',\n",
    "        'yanchor': 'top'},\n",
    "    coloraxis_colorbar_title=None,\n",
    "    coloraxis_colorbar=dict(\n",
    "            len=0.8,\n",
    "            thickness=15 \n",
    "        ),\n",
    "        width=800,\n",
    "        height=650,\n",
    "        font=dict(\n",
    "        size=26 \n",
    "    ))\n",
    "\n",
    "    return fig\n",
    "\n",
    "Years_to_Graph = list(range(2005,2023))\n",
    "Years_to_Graph\n",
    "\n",
    "figures = [create_salary_to_engprice_choropleth_time(year) for year in Years_to_Graph]\n",
    "\n",
    "for fig in figures:\n",
    "    fig.show()\n",
    "    \n",
    "    #Showing \"Average Energy Price {year} (Pence/kWh)\"\n",
    "    '''\n",
    "    ##Do not include"
   ]
  },
  {
   "cell_type": "code",
   "execution_count": 79,
   "metadata": {},
   "outputs": [],
   "source": [
    "Max_Price_Sal_Ratio = Gas_Consumption_Cleaned_PopD_MedIncome_EngPrice[\"EngPrice / Salary (Pence/kWh/£'000)\"].max()\n",
    "Min_Price_Sal_Ratio = Gas_Consumption_Cleaned_PopD_MedIncome_EngPrice[\"EngPrice / Salary (Pence/kWh/£'000)\"].min()"
   ]
  },
  {
   "cell_type": "code",
   "execution_count": 80,
   "metadata": {},
   "outputs": [
    {
     "data": {
      "text/plain": [
       "'def create_salary_to_engprice_choropleth(year):\\n    fig = px.choropleth(Gas_Consumption_Cleaned_PopD_MedIncome_EngPrice.loc[Gas_Consumption_Cleaned_PopD_MedIncome_EngPrice[\\'Year\\'] == year]\\n                        ,locations=\\'Location_Code\\'\\n                        ,geojson=Regions\\n                        ,color =\"EngPrice / Salary (Pence/kWh/£\\'000)\"\\n                        ,featureidkey=\"properties.NUTS112CD\"\\n                        ,hover_name=\\'Region\\'\\n                        ,color_continuous_scale=px.colors.diverging.RdYlBu[::-1]\\n                        )\\n    fig.update_geos(\\n        fitbounds=\"geojson\",\\n       # projection_scale = 100,\\n        visible=False,\\n        projection_type=\"orthographic\" \\n        )\\n    fig.update_layout(\\n    margin={\"r\": 0, \"t\": 50, \"l\": 0, \"b\": 0}, \\n    title={\\n        \\'text\\': f\"{year}\",  \\n        \\'y\\': 0.95, \\n        \\'x\\': 0.5,  \\n        \\'xanchor\\': \\'center\\',\\n        \\'yanchor\\': \\'top\\'},\\n    coloraxis_colorbar_title=None,\\n    coloraxis_colorbar=dict(\\n            len=0.8,\\n            thickness=15 \\n        ),\\n        width=800,\\n        height=650,\\n        font=dict(\\n        size=26 \\n    ))\\n    \\n    return fig\\n\\nYears_to_Graph = list(range(2005,2023))\\nYears_to_Graph\\n\\nfigures = [create_salary_to_engprice_choropleth(year) for year in Years_to_Graph]\\n\\nfor fig in figures:\\n    fig.show()\\n    '"
      ]
     },
     "execution_count": 80,
     "metadata": {},
     "output_type": "execute_result"
    }
   ],
   "source": [
    "#Choropleth showing avg energy price against salary by region and year (This one for comparing equality of north vs south)\n",
    "#Choropleth hidden here to support GitHub upload\n",
    "'''def create_salary_to_engprice_choropleth(year):\n",
    "    fig = px.choropleth(Gas_Consumption_Cleaned_PopD_MedIncome_EngPrice.loc[Gas_Consumption_Cleaned_PopD_MedIncome_EngPrice['Year'] == year]\n",
    "                        ,locations='Location_Code'\n",
    "                        ,geojson=Regions\n",
    "                        ,color =\"EngPrice / Salary (Pence/kWh/£'000)\"\n",
    "                        ,featureidkey=\"properties.NUTS112CD\"\n",
    "                        ,hover_name='Region'\n",
    "                        ,color_continuous_scale=px.colors.diverging.RdYlBu[::-1]\n",
    "                        )\n",
    "    fig.update_geos(\n",
    "        fitbounds=\"geojson\",\n",
    "       # projection_scale = 100,\n",
    "        visible=False,\n",
    "        projection_type=\"orthographic\" \n",
    "        )\n",
    "    fig.update_layout(\n",
    "    margin={\"r\": 0, \"t\": 50, \"l\": 0, \"b\": 0}, \n",
    "    title={\n",
    "        'text': f\"{year}\",  \n",
    "        'y': 0.95, \n",
    "        'x': 0.5,  \n",
    "        'xanchor': 'center',\n",
    "        'yanchor': 'top'},\n",
    "    coloraxis_colorbar_title=None,\n",
    "    coloraxis_colorbar=dict(\n",
    "            len=0.8,\n",
    "            thickness=15 \n",
    "        ),\n",
    "        width=800,\n",
    "        height=650,\n",
    "        font=dict(\n",
    "        size=26 \n",
    "    ))\n",
    "    \n",
    "    return fig\n",
    "\n",
    "Years_to_Graph = list(range(2005,2023))\n",
    "Years_to_Graph\n",
    "\n",
    "figures = [create_salary_to_engprice_choropleth(year) for year in Years_to_Graph]\n",
    "\n",
    "for fig in figures:\n",
    "    fig.show()\n",
    "    '''\n",
    "    #Showsing \"Average Energy Price as a Portion of Salary {year} (Pence/kWh/£'000)\" (Standardised)"
   ]
  },
  {
   "cell_type": "code",
   "execution_count": 81,
   "metadata": {},
   "outputs": [
    {
     "data": {
      "text/plain": [
       "'def create_salary_to_engprice_choropleth_time(year):\\n    fig = px.choropleth(Gas_Consumption_Cleaned_PopD_MedIncome_EngPrice.loc[Gas_Consumption_Cleaned_PopD_MedIncome_EngPrice[\\'Year\\'] == year]\\n                        ,locations=\\'Location_Code\\'\\n                        ,geojson=Regions\\n                        ,color =\"EngPrice / Salary (Pence/kWh/£\\'000)\"\\n                        ,featureidkey=\"properties.NUTS112CD\"\\n                        ,hover_name=\\'Region\\'\\n                        ,range_color = (Min_Price_Sal_Ratio, Max_Price_Sal_Ratio)\\n                        ,color_continuous_scale = px.colors.diverging.RdYlBu[::-1]\\n                        )\\n    fig.update_geos(\\n        fitbounds=\"geojson\",\\n       # projection_scale = 100,\\n        visible=False,\\n        projection_type=\"orthographic\" \\n        )\\n    fig.update_layout(\\n    margin={\"r\": 0, \"t\": 50, \"l\": 0, \"b\": 0}, \\n    title={\\n        \\'text\\': f\"{year}\",  \\n        \\'y\\': 0.95, \\n        \\'x\\': 0.5,  \\n        \\'xanchor\\': \\'center\\',\\n        \\'yanchor\\': \\'top\\'},\\n    coloraxis_colorbar_title=None,\\n    coloraxis_colorbar=dict(\\n            len=0.8,\\n            thickness=15 \\n        ),\\n        width=800,\\n        height=650,\\n        font=dict(\\n        size=26 \\n    ))\\n\\n    return fig\\n\\nYears_to_Graph = list(range(2005,2023))\\nYears_to_Graph\\n\\nfigures = [create_salary_to_engprice_choropleth_time(year) for year in Years_to_Graph]\\n\\nfor fig in figures:\\n    fig.show()\\n    '"
      ]
     },
     "execution_count": 81,
     "metadata": {},
     "output_type": "execute_result"
    }
   ],
   "source": [
    "#Choropleth showing avg energy price agianst alary by region and year (This one for comparing change over time)\n",
    "#Choropleth hidden here to support GitHub upload\n",
    "'''def create_salary_to_engprice_choropleth_time(year):\n",
    "    fig = px.choropleth(Gas_Consumption_Cleaned_PopD_MedIncome_EngPrice.loc[Gas_Consumption_Cleaned_PopD_MedIncome_EngPrice['Year'] == year]\n",
    "                        ,locations='Location_Code'\n",
    "                        ,geojson=Regions\n",
    "                        ,color =\"EngPrice / Salary (Pence/kWh/£'000)\"\n",
    "                        ,featureidkey=\"properties.NUTS112CD\"\n",
    "                        ,hover_name='Region'\n",
    "                        ,range_color = (Min_Price_Sal_Ratio, Max_Price_Sal_Ratio)\n",
    "                        ,color_continuous_scale = px.colors.diverging.RdYlBu[::-1]\n",
    "                        )\n",
    "    fig.update_geos(\n",
    "        fitbounds=\"geojson\",\n",
    "       # projection_scale = 100,\n",
    "        visible=False,\n",
    "        projection_type=\"orthographic\" \n",
    "        )\n",
    "    fig.update_layout(\n",
    "    margin={\"r\": 0, \"t\": 50, \"l\": 0, \"b\": 0}, \n",
    "    title={\n",
    "        'text': f\"{year}\",  \n",
    "        'y': 0.95, \n",
    "        'x': 0.5,  \n",
    "        'xanchor': 'center',\n",
    "        'yanchor': 'top'},\n",
    "    coloraxis_colorbar_title=None,\n",
    "    coloraxis_colorbar=dict(\n",
    "            len=0.8,\n",
    "            thickness=15 \n",
    "        ),\n",
    "        width=800,\n",
    "        height=650,\n",
    "        font=dict(\n",
    "        size=26 \n",
    "    ))\n",
    "\n",
    "    return fig\n",
    "\n",
    "Years_to_Graph = list(range(2005,2023))\n",
    "Years_to_Graph\n",
    "\n",
    "figures = [create_salary_to_engprice_choropleth_time(year) for year in Years_to_Graph]\n",
    "\n",
    "for fig in figures:\n",
    "    fig.show()\n",
    "    '''\n",
    "    #showing \"Average Energy Price as a Portion of Salary {year} (Pence/kWh/£'000)\" (on a fixed scale)"
   ]
  }
 ],
 "metadata": {
  "kernelspec": {
   "display_name": "Python 3",
   "language": "python",
   "name": "python3"
  },
  "language_info": {
   "codemirror_mode": {
    "name": "ipython",
    "version": 3
   },
   "file_extension": ".py",
   "mimetype": "text/x-python",
   "name": "python",
   "nbconvert_exporter": "python",
   "pygments_lexer": "ipython3",
   "version": "3.12.6"
  }
 },
 "nbformat": 4,
 "nbformat_minor": 2
}
