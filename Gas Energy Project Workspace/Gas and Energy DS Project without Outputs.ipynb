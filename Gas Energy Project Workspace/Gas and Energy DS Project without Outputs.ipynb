{
 "cells": [
  {
   "cell_type": "code",
   "execution_count": 1,
   "metadata": {},
   "outputs": [],
   "source": [
    "import os\n",
    "import pandas as pd\n",
    "import matplotlib.pyplot as plt\n",
    "import plotly.express as px\n",
    "import numpy as np\n",
    "import json\n",
    "import seaborn as sns\n",
    "import warnings\n",
    "from urllib.request import urlopen\n",
    "from plotly import graph_objects as go\n",
    "from sklearn import datasets\n",
    "from sklearn.linear_model import LinearRegression\n",
    "from dotenv import load_dotenv\n",
    "\n",
    "\n"
   ]
  },
  {
   "cell_type": "code",
   "execution_count": null,
   "metadata": {},
   "outputs": [],
   "source": [
    "load_dotenv()"
   ]
  },
  {
   "cell_type": "code",
   "execution_count": 3,
   "metadata": {},
   "outputs": [],
   "source": [
    "Sub_National_Energy_Consumption_1 = os.getenv('Sub_National_Energy_Consumption_1')\n",
    "Sub_National_Gas_Consumption_2 = os.getenv('Sub_National_Gas_Consumption_2')\n",
    "UK_Population_3 = os.getenv('UK_Population_3') \n",
    "Local_Authority_District_to_Region_4 = os.getenv('Local_Authority_District_to_Region_4') \n",
    "Domestic_Energy_Bills_5 = os.getenv('Domestic_Energy_Bills_5') \n",
    "Energy_Import_Costs_6 = os.getenv('Energy_Import_Costs_6') \n",
    "Average_Earning_7 = os.getenv('Average_Earning_7')"
   ]
  },
  {
   "cell_type": "code",
   "execution_count": 4,
   "metadata": {},
   "outputs": [],
   "source": [
    "warnings.filterwarnings(\"ignore\", category=FutureWarning)"
   ]
  },
  {
   "cell_type": "code",
   "execution_count": null,
   "metadata": {},
   "outputs": [],
   "source": [
    "#Defining the sheet names to read from the excel\n",
    "Years = [str(n) for n in list(range(2005,2023))]\n",
    "\n",
    "#Defining the dataframe which will hold the Energy consumption data as the concatination of sheets in the excel with the Year appended\n",
    "Energy_Consumption = pd.concat(((pd.read_excel(io=Sub_National_Energy_Consumption_1, sheet_name=Year, header=5, nrows=11, skiprows=[6,7,8,9,10,18,19]).assign(Year = Year))for Year in Years), ignore_index=True)\n",
    "Energy_Consumption['Country or region'].unique()"
   ]
  },
  {
   "cell_type": "code",
   "execution_count": null,
   "metadata": {},
   "outputs": [],
   "source": [
    "#Getting the sum of energy used in England for each year\n",
    "Total_Energy_Consumption = Energy_Consumption.groupby('Year').sum()\n",
    "\n",
    "#Rename the column for improved readability\n",
    "Total_Energy_Consumption.rename(columns= {'All fuels:\\nTotal': 'Total Energy Consumption (ktoe)'},inplace=True)\n",
    "Total_Energy_Consumption['Total Energy Consumption (GWh)'] = Total_Energy_Consumption['Total Energy Consumption (ktoe)'] * 11.63\n",
    "Total_Energy_Consumption[['Total Energy Consumption (GWh)','Total Energy Consumption (ktoe)']]"
   ]
  },
  {
   "cell_type": "code",
   "execution_count": 7,
   "metadata": {},
   "outputs": [],
   "source": [
    "#For this datasource not all the sheets have the same format, so the read_excel function must be adjusted for each.\n",
    "\n",
    "#Defining the sheet names to read from the excel\n",
    "Years1 = [str(n) for n in list(range(2005,2014))]\n",
    "Gas_Consumption1 = pd.concat(((pd.read_excel(io=Sub_National_Gas_Consumption_2, sheet_name=Year, header=5, nrows=9, skiprows=[6,7]).assign(Year = Year))for Year in Years1), ignore_index=True)\n",
    "\n",
    "#In this one Inner and outerlondon are differinciated\n",
    "Years2 = [str(n) for n in list(range(2014,2015))]\n",
    "Gas_Consumption2 = pd.concat(((pd.read_excel(io=Sub_National_Gas_Consumption_2, sheet_name=Year, header=5, nrows=10, skiprows=[6,7]).assign(Year = Year))for Year in Years2), ignore_index=True)\n",
    "\n",
    "#Removing the sub regions of Inner and outer London as as sum of these 'London is already included' this is to avoid double counting\n",
    "Years3 = [str(n) for n in list(range(2015,2023))]\n",
    "Gas_Consumption3 = pd.concat(((pd.read_excel(io=Sub_National_Gas_Consumption_2, sheet_name=Year, header=5, nrows=11, skiprows=[6,7,8,16,17]).assign(Year = Year))for Year in Years3), ignore_index=True)\n",
    "\n",
    "\n",
    "#Combined data from all sheets into one dataframe\n",
    "Gas_Consumption = pd.concat([Gas_Consumption1, Gas_Consumption2, Gas_Consumption3])\n"
   ]
  },
  {
   "cell_type": "code",
   "execution_count": null,
   "metadata": {},
   "outputs": [],
   "source": [
    "#Getting the sum of gas used in England for each year\n",
    "Total_Gas_Consumption = Gas_Consumption.groupby('Year').sum()\n",
    "\n",
    "#Rename the column for improved readability\n",
    "Total_Gas_Consumption.rename(columns= {'Total consumption\\n(GWh):\\nAll meters': 'Total Gas Consumption (GWh)'},inplace=True)\n",
    "Total_Gas_Consumption['Total Gas Consumption (GWh)'] "
   ]
  },
  {
   "cell_type": "code",
   "execution_count": null,
   "metadata": {},
   "outputs": [],
   "source": [
    "#Joining the Energy and Gas consumption by Year dataframes together\n",
    "Energy_Gas_Consumption_Combined = pd.merge(Total_Energy_Consumption,Total_Gas_Consumption, how ='left', on=['Year','Year'])\n",
    "\n",
    "#Calculating the percentage of total energy consumption gas consumption makes up\n",
    "Energy_Gas_Consumption_Combined['Gas_Consumption_as_Percent'] = Energy_Gas_Consumption_Combined['Total Gas Consumption (GWh)']/Energy_Gas_Consumption_Combined['Total Energy Consumption (GWh)']*100\n",
    "Energy_Gas_Consumption_Combined['Other_Consumption_as_Percent'] = 100 - Energy_Gas_Consumption_Combined['Gas_Consumption_as_Percent']\n",
    "#fixing the year index\n",
    "Energy_Gas_Consumption_Combined = Energy_Gas_Consumption_Combined.reset_index(names=['Year_x','Year'])\n",
    "Energy_Gas_Consumption_Combined = Energy_Gas_Consumption_Combined.drop(columns='Year_x', axis=0)\n",
    "\n",
    "#Printing the dataframe columns which will be plotted\n",
    "Energy_Gas_Consumption_Combined[['Year', 'Total Energy Consumption (GWh)','Total Gas Consumption (GWh)','Gas_Consumption_as_Percent','Other_Consumption_as_Percent']]\n"
   ]
  },
  {
   "cell_type": "code",
   "execution_count": null,
   "metadata": {},
   "outputs": [],
   "source": [
    "Energy_Consumption_Fig = px.line(Energy_Gas_Consumption_Combined, x='Year', y=['Total Energy Consumption (GWh)','Total Gas Consumption (GWh)'])\n",
    "\n",
    "Energy_Consumption_Fig.update_layout(\n",
    "    title=\"Energy Consumption in the UK by year (GWh)\",\n",
    "    xaxis_title=\"Year\",\n",
    "    yaxis_title=\"Energy Consumption (GWh)\",\n",
    "    title_x=0.5, \n",
    "    legend=dict(\n",
    "        orientation=\"h\", \n",
    "        yanchor=\"bottom\", \n",
    "        y=0.88, \n",
    "        xanchor=\"center\",  \n",
    "        x=0.5,\n",
    "        title = None\n",
    "    ),\n",
    "    height = 700,\n",
    "    font=dict(\n",
    "        size=26 \n",
    "    )\n",
    ")\n",
    "\n",
    "Energy_Consumption_Fig"
   ]
  },
  {
   "cell_type": "code",
   "execution_count": null,
   "metadata": {},
   "outputs": [],
   "source": [
    "Gas_Consumption_as_Percentage_for_Chart = Energy_Gas_Consumption_Combined[['Year','Gas_Consumption_as_Percent','Other_Consumption_as_Percent']]\n",
    "Gas_Consumption_as_Percentage_for_Chart = Gas_Consumption_as_Percentage_for_Chart.set_index('Year')\n",
    "#Gas_Consumption_as_Percentage_for_Chart\n",
    "#Gas_Proportion_Fig = Gas_Consumption_as_Percentage_for_Chart.plot(kind = 'bar', stacked = True )\n",
    "Gas_Consumption_as_Percentage_for_Chart_Bar = px.bar(Gas_Consumption_as_Percentage_for_Chart)\n",
    "Gas_Consumption_as_Percentage_for_Chart_Bar.update_layout(\n",
    "    margin={\"r\": 10, \"t\": 140, \"l\": 10, \"b\": 10},\n",
    "    title='Gas as a Portion of Total Energy Consumption',\n",
    "    xaxis_title=\"Year\",\n",
    "    yaxis_title=\"Percentage Consumption (%)\",\n",
    "    title_x=0.5,\n",
    "    legend=dict(\n",
    "        orientation=\"h\", \n",
    "        yanchor=\"bottom\", \n",
    "        y=1, \n",
    "        xanchor=\"center\",  \n",
    "        x=0.5,\n",
    "        title = None\n",
    "    ),\n",
    "    height = 700,\n",
    "    font=dict(\n",
    "        size=26 \n",
    "    ))\n",
    "\n"
   ]
  },
  {
   "cell_type": "markdown",
   "metadata": {},
   "source": [
    "The Importation of Population Data"
   ]
  },
  {
   "cell_type": "code",
   "execution_count": null,
   "metadata": {},
   "outputs": [],
   "source": [
    "#The Importation of Population Data\n",
    "\n",
    "#Source for this data it's the 'Mid-2011 to mid-2022 edition of this dataset'\n",
    "#https://www.ons.gov.uk/peoplepopulationandcommunity/populationandmigration/populationestimates/datasets/populationestimatesforukenglandandwalesscotlandandnorthernireland\n",
    "\n",
    "UK_Population_Raw_Data = pd.read_excel(io=UK_Population_3,sheet_name='MYEB1', header=1)\n",
    "UK_Population_Raw_Data"
   ]
  },
  {
   "cell_type": "code",
   "execution_count": null,
   "metadata": {},
   "outputs": [],
   "source": [
    "UK_Population_Raw_Data[UK_Population_Raw_Data['laname23']== '']"
   ]
  },
  {
   "cell_type": "code",
   "execution_count": null,
   "metadata": {},
   "outputs": [],
   "source": [
    "#Source for Lookup table:\n",
    "#https://geoportal.statistics.gov.uk/datasets/ons::local-authority-district-to-region-april-2020-lookup-in-en/explore\n",
    "#In excel Find and replace was used to change all instances of 'East of England' to 'East'\n",
    "LAD20_to_RGN20_Conversion_Table = pd.read_excel(io=Local_Authority_District_to_Region_4)\n",
    "LAD20_to_RGN20_Conversion_Table"
   ]
  },
  {
   "cell_type": "code",
   "execution_count": null,
   "metadata": {},
   "outputs": [],
   "source": [
    "LAD20_to_RGN20_Conversion_Table['RGN20NM'].unique()\n"
   ]
  },
  {
   "cell_type": "code",
   "execution_count": null,
   "metadata": {},
   "outputs": [],
   "source": [
    "#Join the RGN20NM onto the UK_Population_Density_Raw_Data table\n",
    "UK_Population_Raw_Data_With_Region = pd.merge(UK_Population_Raw_Data, LAD20_to_RGN20_Conversion_Table, left_on='ladcode23', right_on='LAD20CD', how='left')\n",
    "\n",
    "#This checks if all rows relating to england have had a RGN20NM successfully allocated\n",
    "len(UK_Population_Raw_Data_With_Region[UK_Population_Raw_Data_With_Region['RGN20NM'].notna()]) - len(UK_Population_Raw_Data_With_Region[UK_Population_Raw_Data_With_Region['country'] == 'E'])\n",
    "\n",
    "#This initially returned a difference of 1092\n",
    "#After manual adjustments this turned to 0"
   ]
  },
  {
   "cell_type": "code",
   "execution_count": null,
   "metadata": {},
   "outputs": [],
   "source": [
    "Region_Allocation_Erros = UK_Population_Raw_Data_With_Region[\n",
    "    (UK_Population_Raw_Data_With_Region['RGN20NM'].isna()) &\n",
    "    (UK_Population_Raw_Data_With_Region['country'] == 'E')]\n",
    "\n",
    "Region_Allocation_Erros['ladcode23'].unique()\n",
    "\n",
    "#The output here initially was: 'array(['E06000061', 'E06000062', 'E06000063', 'E06000064', 'E06000065', 'E06000066'], dtype=object)'\n",
    "#These values where allocated manually in the LAD20_to_RGN20_Conversion_Table excel. The the join was performed again.\n"
   ]
  },
  {
   "cell_type": "code",
   "execution_count": null,
   "metadata": {},
   "outputs": [],
   "source": [
    "#Group by Region\n",
    "Population_by_Region_Pivoted = UK_Population_Raw_Data_With_Region.groupby('RGN20NM',as_index=False).agg({\n",
    "    'population_2011' : 'sum',\n",
    "    'population_2012' : 'sum',\n",
    "    'population_2013' : 'sum',\n",
    "    'population_2014' : 'sum',\n",
    "    'population_2015' : 'sum',\n",
    "    'population_2016' : 'sum',\n",
    "    'population_2017' : 'sum',\n",
    "    'population_2018' : 'sum',\n",
    "    'population_2019' : 'sum',\n",
    "    'population_2020' : 'sum',\n",
    "    'population_2021' : 'sum',\n",
    "    'population_2022' : 'sum',\n",
    "})\n",
    "\n",
    "Population_by_Region_Pivoted\n"
   ]
  },
  {
   "cell_type": "code",
   "execution_count": null,
   "metadata": {},
   "outputs": [],
   "source": [
    "#Unpivot the year columns\n",
    "\n",
    "Population_by_Region_and_Year = pd.melt(Population_by_Region_Pivoted, id_vars='RGN20NM')\n",
    "Population_by_Region_and_Year = Population_by_Region_and_Year.rename(columns={'RGN20NM':'Region','variable':'Year','value':'Population'})\n",
    "Population_by_Region_and_Year['Year'] = Population_by_Region_and_Year['Year'].apply(lambda x: x.split('_')[1])\n",
    "\n",
    "Population_by_Region_and_Year"
   ]
  },
  {
   "cell_type": "code",
   "execution_count": null,
   "metadata": {},
   "outputs": [],
   "source": [
    "Population_by_Region_and_Year_Line = px.line(Population_by_Region_and_Year, x= 'Year', y='Population', color='Region')\n",
    "\n",
    "Population_by_Region_and_Year_Line\n",
    "Population_by_Region_and_Year_Line.update_layout(\n",
    "        margin={\"r\": 10, \"t\": 170, \"l\": 10, \"b\": 10},\n",
    "    title=\"Population by Region and Year\",\n",
    "    xaxis_title=\"Year\",\n",
    "    yaxis_title=\"Population\",\n",
    "    title_x=0.5,\n",
    "    title_y=0.95, \n",
    "    legend=dict(\n",
    "        orientation=\"h\", \n",
    "        yanchor=\"bottom\", \n",
    "        y=1, \n",
    "        xanchor=\"center\",  \n",
    "        x=0.5,\n",
    "        title = None\n",
    "    ,font=dict(\n",
    "        size=26 \n",
    "    )),\n",
    "    height = 1000,\n",
    "    font=dict(\n",
    "        size=26 \n",
    "    ))\n",
    "    \n",
    "Population_by_Region_and_Year_Line\n"
   ]
  },
  {
   "cell_type": "code",
   "execution_count": null,
   "metadata": {},
   "outputs": [],
   "source": [
    "Population_by_Region_and_Year_Pivot = Population_by_Region_and_Year.pivot(index = 'Year', columns= 'Region')\n",
    "Population_by_Region_and_Year_Pivot['Year'] = Population_by_Region_and_Year_Pivot.index\n",
    "Population_by_Region_and_Year_Pivot.corr()\n",
    "\n",
    "#High corrolation with Year so exterapolation is viable"
   ]
  },
  {
   "cell_type": "code",
   "execution_count": 22,
   "metadata": {},
   "outputs": [],
   "source": [
    "def extrapolate_population_for_region_v1(region):\n",
    "    #Filtering to handle each region seperately\n",
    "    Population_by_Region_and_Year_for_Extrapoloation = Population_by_Region_and_Year[Population_by_Region_and_Year['Region']==region]\n",
    "\n",
    "    X = Population_by_Region_and_Year_for_Extrapoloation['Year'].values.reshape(-1,1)\n",
    "    y = Population_by_Region_and_Year_for_Extrapoloation['Population']\n",
    "\n",
    "    #Fitting the linear regession model\n",
    "    Population_by_Region_and_Year_Model = LinearRegression()\n",
    "    Population_by_Region_and_Year_Model.fit(X,y)\n",
    "    \n",
    "    #Extrapolating for the years where data is missing\n",
    "    years_to_extrapolate = np.array([2005, 2006, 2007, 2008, 2009, 2010]).reshape(-1, 1)\n",
    "\n",
    "    population_predictions = Population_by_Region_and_Year_Model.predict(years_to_extrapolate)\n",
    "    population_predictions = population_predictions.astype(int)\n",
    "    \n",
    "    #Bring the predictions into a dataframe\n",
    "    Predictions_df = pd.DataFrame({'Year':years_to_extrapolate.flatten(),'Population':Population_by_Region_and_Year_Model.predict(years_to_extrapolate),'Region':region,'Data_Type': 'Extrapolated'})\n",
    "    \n",
    "    return Predictions_df"
   ]
  },
  {
   "cell_type": "code",
   "execution_count": 23,
   "metadata": {},
   "outputs": [],
   "source": [
    "Population_by_Region_and_Year['Data_Type'] = \"Original\""
   ]
  },
  {
   "cell_type": "code",
   "execution_count": 24,
   "metadata": {},
   "outputs": [],
   "source": [
    "#Create a list of regions for which to loop the extrapolate function\n",
    "Regions = list(Population_by_Region_and_Year['Region'].unique())\n",
    "\n",
    "#Concatating all the extrapolated values into one dataframe\n",
    "Population_by_Region_and_Year_Extrapolated = pd.concat((extrapolate_population_for_region_v1(region) for region in Regions), ignore_index=True)\n",
    "\n",
    "#Combining the Original data with the extrapolated data\n",
    "Population_by_Region_and_Year_Combined = pd.concat([Population_by_Region_and_Year,Population_by_Region_and_Year_Extrapolated], ignore_index=True)\n"
   ]
  },
  {
   "cell_type": "code",
   "execution_count": 25,
   "metadata": {},
   "outputs": [],
   "source": [
    "# Change the datatype of the Year column to be integer (required step to fix later graph)\n",
    "Population_by_Region_and_Year_Combined['Year'] = Population_by_Region_and_Year_Combined['Year'].astype(int)\n",
    "\n",
    "Population_by_Region_and_Year_Combined = Population_by_Region_and_Year_Combined.sort_values(by='Year')"
   ]
  },
  {
   "cell_type": "code",
   "execution_count": null,
   "metadata": {},
   "outputs": [],
   "source": [
    "Population_by_Region_and_Year_Combined[Population_by_Region_and_Year_Combined['Region'] ==\"Yorkshire and The Humber\"]"
   ]
  },
  {
   "cell_type": "code",
   "execution_count": null,
   "metadata": {},
   "outputs": [],
   "source": [
    "Population_by_Region_and_Year_Combined_Line = px.line(Population_by_Region_and_Year_Combined, x= 'Year', y='Population', color='Region')\n",
    "\n",
    "Population_by_Region_and_Year_Combined_Line\n",
    "Population_by_Region_and_Year_Combined_Line.update_layout(\n",
    "        margin={\"r\": 10, \"t\": 170, \"l\": 10, \"b\": 10},\n",
    "    title=\"Population by Region and Year (Extrapolation Model 1)\",\n",
    "    xaxis_title=\"Year\",\n",
    "    yaxis_title=\"Population\",\n",
    "    title_x=0.5,\n",
    "    title_y=0.95, \n",
    "    legend=dict(\n",
    "        orientation=\"h\", \n",
    "        yanchor=\"bottom\", \n",
    "        y=1, \n",
    "        xanchor=\"center\",  \n",
    "        x=0.5,\n",
    "        title = None\n",
    "    ,font=dict(\n",
    "        size=26 \n",
    "    )),\n",
    "    height = 1000,\n",
    "    font=dict(\n",
    "        size=26 \n",
    "    ))\n",
    "\n",
    "#Include commentry about the 2010 prediction for London this seems unlikely"
   ]
  },
  {
   "cell_type": "code",
   "execution_count": 28,
   "metadata": {},
   "outputs": [],
   "source": [
    "#Lets check the R^2 value for this way of modeling"
   ]
  },
  {
   "cell_type": "code",
   "execution_count": 29,
   "metadata": {},
   "outputs": [],
   "source": [
    "def extrapolate_population_for_region_r2_model1(region):\n",
    "    #Filtering to handle each region seperately\n",
    "    Population_by_Region_and_Year_Region = Population_by_Region_and_Year[Population_by_Region_and_Year['Region']==region]\n",
    "\n",
    "    X = Population_by_Region_and_Year_Region['Year'].values.reshape(-1,1)\n",
    "    y = Population_by_Region_and_Year_Region['Population']\n",
    "\n",
    "    #Fitting the linear regession model\n",
    "    Population_by_Region_and_Year_Model = LinearRegression()\n",
    "    Population_by_Region_and_Year_Model.fit(X,y)\n",
    "    \n",
    "    R2 = Population_by_Region_and_Year_Model.score(X, y)\n",
    "    \n",
    "    return R2"
   ]
  },
  {
   "cell_type": "code",
   "execution_count": 30,
   "metadata": {},
   "outputs": [],
   "source": [
    "def extrapolate_population_for_region_r2_model2(region):\n",
    "    #Filtering to handle each region seperately\n",
    "    Population_by_Region_and_Year_Region = Population_by_Region_and_Year[(Population_by_Region_and_Year['Region']==region) &\n",
    "                                                                            (Population_by_Region_and_Year['Year']!='2020') & \n",
    "                                                                            (Population_by_Region_and_Year['Year']!='2021') &\n",
    "                                                                            (Population_by_Region_and_Year['Year']!='2022')]\n",
    "    \n",
    "    X = Population_by_Region_and_Year_Region['Year'].values.reshape(-1,1)\n",
    "    y = Population_by_Region_and_Year_Region['Population']\n",
    "\n",
    "    #Fitting the linear regession model\n",
    "    Population_by_Region_and_Year_Model = LinearRegression()\n",
    "    Population_by_Region_and_Year_Model.fit(X,y)\n",
    "    \n",
    "    R2 = Population_by_Region_and_Year_Model.score(X, y)\n",
    "    \n",
    "    return R2"
   ]
  },
  {
   "cell_type": "code",
   "execution_count": 31,
   "metadata": {},
   "outputs": [],
   "source": [
    "R2_outcomes = pd.DataFrame(columns=['Region','Model1_R2','Model2_R2'])"
   ]
  },
  {
   "cell_type": "code",
   "execution_count": null,
   "metadata": {},
   "outputs": [],
   "source": [
    "for region in Regions:\n",
    "    new_row_for_r2 = pd.DataFrame({'Region': [region],'Model1_R2':[extrapolate_population_for_region_r2_model1(region)],'Model2_R2':[extrapolate_population_for_region_r2_model2(region)]})\n",
    "    R2_outcomes = pd.concat([R2_outcomes, new_row_for_r2], ignore_index=True)\n",
    "    \n",
    "R2_outcomes"
   ]
  },
  {
   "cell_type": "code",
   "execution_count": null,
   "metadata": {},
   "outputs": [],
   "source": [
    "R2_outcomes['Percentage_Improved'] = (R2_outcomes['Model2_R2'] / R2_outcomes['Model1_R2'] - 1)*100\n",
    "R2_outcomes"
   ]
  },
  {
   "cell_type": "code",
   "execution_count": 34,
   "metadata": {},
   "outputs": [],
   "source": [
    "def extrapolate_population_for_region_v2(region):\n",
    "    #Filtering to handle each region seperately\n",
    "    Population_by_Region_and_Year_for_Extrapoloation2 = Population_by_Region_and_Year[(Population_by_Region_and_Year['Region']==region) &\n",
    "                                                                            (Population_by_Region_and_Year['Year']!='2020') & \n",
    "                                                                            (Population_by_Region_and_Year['Year']!='2021') &\n",
    "                                                                            (Population_by_Region_and_Year['Year']!='2022')]\n",
    "\n",
    "\n",
    "    X = Population_by_Region_and_Year_for_Extrapoloation2['Year'].values.reshape(-1,1)\n",
    "    y = Population_by_Region_and_Year_for_Extrapoloation2['Population']\n",
    "\n",
    "    #Fitting the linear regession model\n",
    "    Population_by_Region_and_Year_Model_v2 = LinearRegression()\n",
    "    Population_by_Region_and_Year_Model_v2.fit(X,y)\n",
    "    \n",
    "    #Extrapolating for the years where data is missing\n",
    "    years_to_extrapolate = np.array([2005, 2006, 2007, 2008, 2009, 2010]).reshape(-1, 1)\n",
    "\n",
    "    population_predictions = Population_by_Region_and_Year_Model_v2.predict(years_to_extrapolate)\n",
    "    population_predictions = population_predictions.astype(int)\n",
    "    \n",
    "    #Bring the predictions into a dataframe\n",
    "    Predictions_df = pd.DataFrame({'Year':years_to_extrapolate.flatten(),'Population':Population_by_Region_and_Year_Model_v2.predict(years_to_extrapolate),'Region':region,'Data_Type': 'Extrapolated'})\n",
    "    \n",
    "    return Predictions_df"
   ]
  },
  {
   "cell_type": "code",
   "execution_count": 35,
   "metadata": {},
   "outputs": [],
   "source": [
    "#Create a list of regions for which to loop the extrapolate function\n",
    "Regions = list(Population_by_Region_and_Year['Region'].unique())\n",
    "\n",
    "#Concatating all the extrapolated values into one dataframe\n",
    "Population_by_Region_and_Year_Extrapolated_v2 = pd.concat((extrapolate_population_for_region_v2(region) for region in Regions), ignore_index=True)\n",
    "\n",
    "#Combining the Original data with the extrapolated data\n",
    "Population_by_Region_and_Year_Combined_v2 = pd.concat([Population_by_Region_and_Year,Population_by_Region_and_Year_Extrapolated_v2], ignore_index=True)\n"
   ]
  },
  {
   "cell_type": "code",
   "execution_count": 36,
   "metadata": {},
   "outputs": [],
   "source": [
    "# Change the datatype of the Year column to be integer (required step to fix later graph)\n",
    "Population_by_Region_and_Year_Combined_v2['Year'] = Population_by_Region_and_Year_Combined_v2['Year'].astype(int)\n",
    "\n",
    "Population_by_Region_and_Year_Combined_v2 = Population_by_Region_and_Year_Combined_v2.sort_values(by='Year')"
   ]
  },
  {
   "cell_type": "code",
   "execution_count": null,
   "metadata": {},
   "outputs": [],
   "source": [
    "Population_by_Region_and_Year_Combined_v2_Line = px.line(Population_by_Region_and_Year_Combined_v2, x= 'Year', y='Population', color='Region')\n",
    "\n",
    "Population_by_Region_and_Year_Combined_v2_Line\n",
    "Population_by_Region_and_Year_Combined_v2_Line.update_layout(\n",
    "        margin={\"r\": 10, \"t\": 170, \"l\": 10, \"b\": 10},\n",
    "    title=\"Population by Region and Year (Extrapolation Model 2)\",\n",
    "    xaxis_title=\"Year\",\n",
    "    yaxis_title=\"Population\",\n",
    "    title_x=0.5,\n",
    "    title_y=0.95, \n",
    "    legend=dict(\n",
    "        orientation=\"h\", \n",
    "        yanchor=\"bottom\", \n",
    "        y=1, \n",
    "        xanchor=\"center\",  \n",
    "        x=0.5,\n",
    "        title = None\n",
    "    ,font=dict(\n",
    "        size=26 \n",
    "    )),\n",
    "    height = 1000,\n",
    "    font=dict(\n",
    "        size=26 \n",
    "    ))\n",
    "#Include commentry about the 2010 prediction for London this seems unlikely"
   ]
  },
  {
   "cell_type": "code",
   "execution_count": null,
   "metadata": {},
   "outputs": [],
   "source": [
    "Population_by_Region_and_Year_Combined_v2[Population_by_Region_and_Year_Combined_v2['Region']=='London']"
   ]
  },
  {
   "cell_type": "code",
   "execution_count": 39,
   "metadata": {},
   "outputs": [],
   "source": [
    "#Data taken from here:\n",
    "#https://en.wikipedia.org/wiki/Regions_of_England See citation [28]\n",
    "\n",
    "Regional_Areas = pd.DataFrame({'Region':['North East','North West','Yorkshire and The Humber', 'East Midlands', 'West Midlands', 'East', 'London', 'South East', 'South West'],'Area km^2':['8581','14108','15404','15624','12998','19116','1572','1972','23836']})\n",
    "\n",
    "Regional_Areas['Area km^2'] = Regional_Areas['Area km^2'].astype(float)"
   ]
  },
  {
   "cell_type": "code",
   "execution_count": null,
   "metadata": {},
   "outputs": [],
   "source": [
    "Population_Density_by_Region = Population_by_Region_and_Year_Combined_v2.merge(Regional_Areas, on='Region', how='left')\n",
    "Population_Density_by_Region['Population_Density(Persons.km^-2)'] = Population_Density_by_Region['Population'] / Population_Density_by_Region['Area km^2']\n",
    "Population_Density_by_Region"
   ]
  },
  {
   "cell_type": "markdown",
   "metadata": {},
   "source": [
    "Making Chloropleths\n",
    "\n",
    "Cite this user:\n",
    "https://github.com/martinjc/UK-GeoJSON/tree/master\n",
    "Cite this GeoJSON Specifically:\n",
    "https://raw.githubusercontent.com/martinjc/UK-GeoJSON/refs/heads/master/json/eurostat/ew/nuts1.json"
   ]
  },
  {
   "cell_type": "code",
   "execution_count": 41,
   "metadata": {},
   "outputs": [],
   "source": [
    "#Importing the GeoJSON\n",
    "with urlopen('https://raw.githubusercontent.com/martinjc/UK-GeoJSON/refs/heads/master/json/eurostat/ew/nuts1.json') as response:\n",
    "    Regions = json.load(response)\n",
    "    "
   ]
  },
  {
   "cell_type": "code",
   "execution_count": null,
   "metadata": {},
   "outputs": [],
   "source": [
    "#Printing a list of all Regions in the GeoJSON along with their Location Code\n",
    "for ref in range(len(Regions['features'])):\n",
    "    print(f\"{Regions['features'][ref]['properties']['NUTS112CD']} / {Regions['features'][ref]['properties']['NUTS112NM']}\")"
   ]
  },
  {
   "cell_type": "code",
   "execution_count": null,
   "metadata": {},
   "outputs": [],
   "source": [
    "#Printing a list of all the Location Codes in the Gas_Consumption dataframe\n",
    "Gas_Consumption['Country or region'].unique()"
   ]
  },
  {
   "cell_type": "code",
   "execution_count": null,
   "metadata": {},
   "outputs": [],
   "source": [
    "#Defining the Location_Code mapping table\n",
    "Location_Code_List = [\n",
    "    ('UKC', 'North East', 'North East'),\n",
    "    ('UKD', 'North West', 'North West'),\n",
    "    ('UKE', 'Yorkshire and The Humber', 'Yorkshire and The Humber'),\n",
    "    ('UKE', 'Yorkshire and the Humber', 'Yorkshire and The Humber'),\n",
    "    ('UKF', 'East Midlands', 'East Midlands'),\n",
    "    ('UKG', 'West Midlands', 'West Midlands'),\n",
    "    ('UKH', 'East', 'East'),\n",
    "    ('UKI', 'Inner London', 'London'),\n",
    "    ('UKI', 'Outer London', 'London'),\n",
    "    ('UKI', 'London', 'London'),\n",
    "    ('UKJ', 'South East', 'South East'),\n",
    "    ('UKK', 'South West', 'South West')\n",
    "]\n",
    "\n",
    "Location_Code = pd.DataFrame(Location_Code_List, columns=['Location_Code', 'In_Region', 'Region'])\n",
    "Location_Code"
   ]
  },
  {
   "cell_type": "code",
   "execution_count": null,
   "metadata": {},
   "outputs": [],
   "source": [
    "#This step reclassifies regions into the desired regions found in the Geo-JSON\n",
    "Gas_Consumption_Cleaned = Gas_Consumption.merge(Location_Code, right_on='In_Region', left_on='Country or region', how='left')\n",
    "\n",
    "#This step combines values for Outer and inner london, which have both been classified as London\n",
    "Gas_Consumption_Cleaned = Gas_Consumption_Cleaned.groupby(['Year','Location_Code'],as_index=False).agg({\n",
    "    'Region': 'max',\n",
    "    'Number of meters\\n(thousands):\\nDomestic\\n' : 'sum',\n",
    "     'Number of meters\\n(thousands):\\nNon-Domestic': 'sum',\n",
    "     'Number of meters\\n(thousands):\\nAll meters': 'sum',\n",
    "     'Total consumption\\n(GWh):\\nDomestic\\n': 'sum',\n",
    "     'Total consumption\\n(GWh):\\nNon-Domestic': 'sum',\n",
    "     'Total consumption\\n(GWh):\\nAll meters': 'sum',\n",
    "     'Mean consumption\\n(kWh per meter):\\nDomestic\\n': 'sum',\n",
    "     'Mean consumption\\n(kWh per meter):\\nNon-Domestic': 'sum',\n",
    "     'Mean consumption\\n(kWh per meter):\\nAll meters' : 'sum'\n",
    "})\n",
    "Gas_Consumption_Cleaned"
   ]
  },
  {
   "cell_type": "code",
   "execution_count": null,
   "metadata": {},
   "outputs": [],
   "source": [
    "#Checking that all regions have been successfully allocated a Location_Code\n",
    "Gas_Consumption_Cleaned[Gas_Consumption_Cleaned['Location_Code'].isnull()]"
   ]
  },
  {
   "cell_type": "code",
   "execution_count": 47,
   "metadata": {},
   "outputs": [],
   "source": [
    "#Converts the field 'Year' to an integer to allow following join\n",
    "Gas_Consumption_Cleaned['Year'] = Gas_Consumption_Cleaned['Year'].astype(int)"
   ]
  },
  {
   "cell_type": "code",
   "execution_count": null,
   "metadata": {},
   "outputs": [],
   "source": [
    "#Here I am merging the Population density data onto the Gas energy consumption data\n",
    "Gas_Consumption_Cleaned_PopD = Gas_Consumption_Cleaned.merge(Population_Density_by_Region, on=['Region','Year'], how='left')\n",
    "\n",
    "Gas_Consumption_Cleaned_PopD[Gas_Consumption_Cleaned_PopD['Year'] == 2010]"
   ]
  },
  {
   "cell_type": "code",
   "execution_count": null,
   "metadata": {},
   "outputs": [],
   "source": [
    "#Calculated Gas consumption per person for each region and year\n",
    "Gas_Consumption_Cleaned_PopD['Domestic_Gas_Consumption(GWh/person)'] = Gas_Consumption_Cleaned_PopD['Total consumption\\n(GWh):\\nDomestic\\n']/Gas_Consumption_Cleaned_PopD['Population']\n",
    "Gas_Consumption_Cleaned_PopD['Commercial_Gas_Consumption(GWh/person)'] = Gas_Consumption_Cleaned_PopD['Total consumption\\n(GWh):\\nNon-Domestic']/Gas_Consumption_Cleaned_PopD['Population']\n",
    "Gas_Consumption_Cleaned_PopD['Total_Gas_Consumption(GWh/person)'] = Gas_Consumption_Cleaned_PopD['Total consumption\\n(GWh):\\nAll meters']/Gas_Consumption_Cleaned_PopD['Population']\n",
    "\n",
    "#Please note only domestic values where used in visualisation as the scope of this project centres around the domestic cost of energy\n",
    "Gas_Consumption_Cleaned_PopD"
   ]
  },
  {
   "cell_type": "code",
   "execution_count": 50,
   "metadata": {},
   "outputs": [],
   "source": [
    "#Setting the maximum and minimum values as variables\n",
    "Max_Domestic_Gas_Consumption = Gas_Consumption_Cleaned_PopD['Domestic_Gas_Consumption(GWh/person)'].max()\n",
    "Min_Domestic_Gas_Consumption = Gas_Consumption_Cleaned_PopD['Domestic_Gas_Consumption(GWh/person)'].min()"
   ]
  },
  {
   "cell_type": "code",
   "execution_count": 51,
   "metadata": {},
   "outputs": [],
   "source": [
    "#defining the graphing function\n",
    "def create_domestic_choropleth(year):\n",
    "    fig = px.choropleth(Gas_Consumption_Cleaned_PopD.loc[Gas_Consumption_Cleaned_PopD['Year'] == year]\n",
    "                        ,locations='Location_Code'\n",
    "                        ,geojson=Regions\n",
    "                        ,color ='Domestic_Gas_Consumption(GWh/person)'\n",
    "                        ,featureidkey=\"properties.NUTS112CD\"\n",
    "                        ,hover_name='Region'\n",
    "                        ,range_color = (Min_Domestic_Gas_Consumption, Max_Domestic_Gas_Consumption))\n",
    "    fig.update_geos(\n",
    "        fitbounds=\"geojson\",\n",
    "       # projection_scale = 100,\n",
    "        visible=False,\n",
    "        projection_type=\"orthographic\" \n",
    "        )\n",
    "    fig.update_layout(\n",
    "    margin={\"r\": 0, \"t\": 50, \"l\": 0, \"b\": 0}, \n",
    "    title={\n",
    "        'text': f\"{year}\",  \n",
    "        'y': 0.95, \n",
    "        'x': 0.5,  \n",
    "        'xanchor': 'center',\n",
    "        'yanchor': 'top'},\n",
    "    coloraxis_colorbar_title=None,\n",
    "    coloraxis_colorbar=dict(\n",
    "            len=0.8,\n",
    "            thickness=15 \n",
    "        ),\n",
    "        width=800,\n",
    "        height=650,\n",
    "        font=dict(\n",
    "        size=26 \n",
    "    ))\n",
    "\n",
    "    return fig\n",
    "\n",
    "#Showing \"Domestic Gas Consumption in {year} (GWh/person)\"\n"
   ]
  },
  {
   "cell_type": "code",
   "execution_count": null,
   "metadata": {},
   "outputs": [],
   "source": [
    "#Defining the years to graph as a variable\n",
    "Years_to_Graph = list(range(2005,2023))\n",
    "Years_to_Graph"
   ]
  },
  {
   "cell_type": "code",
   "execution_count": null,
   "metadata": {},
   "outputs": [],
   "source": [
    "#Looping the create a gragh function for each year\n",
    "#Choropleth hidden here to support GitHub upload\n",
    "figures = [create_domestic_choropleth(year) for year in Years_to_Graph]\n",
    "\n",
    "for fig in figures:\n",
    "    fig.show()"
   ]
  },
  {
   "cell_type": "markdown",
   "metadata": {},
   "source": [
    "This is the Importation of Energy Bills data"
   ]
  },
  {
   "cell_type": "code",
   "execution_count": 54,
   "metadata": {},
   "outputs": [],
   "source": [
    "#The importation of Energy price data\n",
    "\n",
    "#Importing the Historical data sheet (Pre-2020 data)\n",
    "Energy_Price_Raw_S1 = pd.read_excel(io=Domestic_Energy_Bills_5, sheet_name=r'2.2.3 (Historic Consumption)', header=16, usecols='A:F')\n",
    "#Filtering to only include the average value for each region for each year\n",
    "Energy_Price_Raw_S1 = Energy_Price_Raw_S1[Energy_Price_Raw_S1['Bill range\\n[Note 1]'] == 'Average']\n",
    "#Selecting only the needed columns\n",
    "Energy_Price_Raw_S1 = Energy_Price_Raw_S1[['Year', 'PES area', 'Credit: Unit cost (Pence per kWh)']]\n",
    "#Renaming columns to fit with the same naming convention as the recent dataset\n",
    "Energy_Price_Raw_S1.rename(columns={'PES area':'Region','Credit: Unit cost (Pence per kWh)':'Average Unit Cost (Pence per kWh)'}, inplace = True)\n",
    "#Removing Yearly totals. These will be calculated later using an aggregate function\n",
    "Energy_Price_Raw_S1 = Energy_Price_Raw_S1[Energy_Price_Raw_S1['Region'] != 'United Kingdom']\n",
    "#(!!)Removing years later than 2017 as these are included in both datasets. Include dialog around the difference in these years. The latest dataset was chosen under the assumption that the more recent data would be better. justify this\n",
    "Energy_Price_Raw_S1 = Energy_Price_Raw_S1[Energy_Price_Raw_S1['Year'] < 2017]\n",
    "\n",
    "#Importing the Historical data sheet (Post-2018 data)\n",
    "Energy_Price_Raw_S2 = pd.read_excel(io=Domestic_Energy_Bills_5, sheet_name=r'2.2.3', header=11,usecols='A:C')\n",
    "#Removing Yearly totals. These will be calculated later using an aggregate function\n",
    "Energy_Price_Raw_S2 = Energy_Price_Raw_S2[Energy_Price_Raw_S2['Region'] != 'United Kingdom']\n",
    "Energy_Price_Raw_S2.rename(columns={'Credit: Unit cost (Pence per kWh)':'Average Unit Cost (Pence per kWh)'}, inplace = True)\n",
    "\n",
    "Energy_Price = pd.concat([Energy_Price_Raw_S1,Energy_Price_Raw_S2])\n"
   ]
  },
  {
   "cell_type": "code",
   "execution_count": null,
   "metadata": {},
   "outputs": [],
   "source": [
    "Energy_Price[Energy_Price['Year'] == 2000]"
   ]
  },
  {
   "cell_type": "code",
   "execution_count": 56,
   "metadata": {},
   "outputs": [],
   "source": [
    "#ChatGPT Generated code to replace 'South West' with the average of 'Southern' and 'South West'\n",
    "# Group by Year to calculate averages\n",
    "for year in Energy_Price['Year'].unique():\n",
    "    # Filter the current year's data for 'Southern' and 'South West'\n",
    "    southern_value = Energy_Price.loc[(Energy_Price['Year'] == year) & (Energy_Price['Region'] == 'Southern'), 'Average Unit Cost (Pence per kWh)'].values\n",
    "    south_west_value = Energy_Price.loc[(Energy_Price['Year'] == year) & (Energy_Price['Region'] == 'South West'), 'Average Unit Cost (Pence per kWh)'].values\n",
    "\n",
    "    if southern_value.size > 0 and south_west_value.size > 0:\n",
    "        # Calculate the average\n",
    "        avg_value = (southern_value[0] + south_west_value[0]) / 2\n",
    "\n",
    "        # Update 'South West' value\n",
    "        Energy_Price.loc[(Energy_Price['Year'] == year) & (Energy_Price['Region'] == 'South West'), 'Average Unit Cost (Pence per kWh)'] = avg_value"
   ]
  },
  {
   "cell_type": "code",
   "execution_count": null,
   "metadata": {},
   "outputs": [],
   "source": [
    "#ChatGPT Generated code to replace 'South East' with the average of 'Southern' and 'South East'\n",
    "# Group by Year to calculate averages\n",
    "for year in Energy_Price['Year'].unique():\n",
    "    # Filter the current year's data for 'Southern' and 'South East'\n",
    "    southern_value = Energy_Price.loc[(Energy_Price['Year'] == year) & (Energy_Price['Region'] == 'Southern'), 'Average Unit Cost (Pence per kWh)'].values\n",
    "    south_east_value = Energy_Price.loc[(Energy_Price['Year'] == year) & (Energy_Price['Region'] == 'South East'), 'Average Unit Cost (Pence per kWh)'].values\n",
    "\n",
    "    if southern_value.size > 0 and south_east_value.size > 0:\n",
    "        # Calculate the average\n",
    "        avg_value = (southern_value[0] + south_east_value[0]) / 2\n",
    "\n",
    "        # Update 'South East' value\n",
    "        Energy_Price.loc[(Energy_Price['Year'] == year) & (Energy_Price['Region'] == 'South East'), 'Average Unit Cost (Pence per kWh)'] = avg_value"
   ]
  },
  {
   "cell_type": "code",
   "execution_count": 57,
   "metadata": {},
   "outputs": [],
   "source": [
    "#This process above assumes that each region is of roughly the same magnitude. Interpolation was used"
   ]
  },
  {
   "cell_type": "code",
   "execution_count": 58,
   "metadata": {},
   "outputs": [],
   "source": [
    "Energy_Price.rename(columns={'Region':'In_Region'}, inplace = True)"
   ]
  },
  {
   "cell_type": "code",
   "execution_count": null,
   "metadata": {},
   "outputs": [],
   "source": [
    "#Standardisation of naming convention for Region\n",
    "Energy_Price['In_Region'].unique()\n",
    "Energy_Price_Region_Correction = pd.DataFrame({'In_Region':['West Midlands',\n",
    "       'South East', 'Eastern',\n",
    "       'Yorkshire', 'London', 'North West',\n",
    "       'North East', 'East Midlands', 'South West'], 'Region':['West Midlands','South East','East','Yorkshire and The Humber','London', 'North West',\n",
    "       'North East', 'East Midlands', 'South West']})\n",
    "Energy_Price_Region_Correction"
   ]
  },
  {
   "cell_type": "code",
   "execution_count": 60,
   "metadata": {},
   "outputs": [],
   "source": [
    "Energy_Price_Region = pd.merge(Energy_Price, Energy_Price_Region_Correction, on='In_Region', how='left')\n",
    "Energy_Price_Region = Energy_Price_Region[Energy_Price_Region['Region'].notnull()]"
   ]
  },
  {
   "cell_type": "code",
   "execution_count": null,
   "metadata": {},
   "outputs": [],
   "source": [
    "#Data processing to allow for the line graph of energy price by year\n",
    "Energy_Price_Aggregate = Energy_Price.groupby('Year',as_index=False).agg({'Average Unit Cost (Pence per kWh)' : 'mean'})\n",
    "Energy_Price_Aggregate"
   ]
  },
  {
   "cell_type": "markdown",
   "metadata": {},
   "source": [
    "Now to bring in the Gas inmport cost data"
   ]
  },
  {
   "cell_type": "code",
   "execution_count": null,
   "metadata": {},
   "outputs": [],
   "source": [
    "#Importation of the Price of Fuel Imports data\n",
    "Energy_Generation_Imports_Raw = pd.read_excel(io=Energy_Import_Costs_6, sheet_name=r'3.2.1 (Annual real)', header=12, usecols='A:J')\n",
    "Energy_Generation_Imports_Raw.rename(columns={'Major power producers: Coal (pence per kWh)\\n[Note 1]':'Coal (pence per kWh)','Major power producers: Oil (pence per kWh)\\n[Note 2, 3]':'Oil (pence per kWh)','Major power producers: Natural gas (pence per kWh)\\n[Note 4]':'Natural Gas (pence per kWh)'}, inplace = True)\n",
    "Energy_Generation_Imports_Subset = Energy_Generation_Imports_Raw[['Year','Coal (pence per kWh)', 'Oil (pence per kWh)','Natural Gas (pence per kWh)']]\n",
    "Energy_Generation_Imports_Subset = Energy_Generation_Imports_Subset[Energy_Generation_Imports_Raw['Year'] >= 1998]\n",
    "\n",
    "Energy_Generation_Imports_Subset"
   ]
  },
  {
   "cell_type": "code",
   "execution_count": null,
   "metadata": {},
   "outputs": [],
   "source": [
    "Energy_Vs_Import_Price = Energy_Generation_Imports_Subset.merge(Energy_Price_Aggregate, on='Year')\n",
    "#Energy_Vs_Import_Price['Log Unit Cost'] = np.log(Energy_Vs_Import_Price['Credit: Unit cost (Pence per kWh)'])\n",
    "#Energy_Vs_Import_Price['Log Import Cost'] = np.log(Energy_Vs_Import_Price['Major power producers: Oil (pence per kWh)\\n[Note 2, 3]'])\n",
    "Energy_Vs_Import_Price"
   ]
  },
  {
   "cell_type": "code",
   "execution_count": null,
   "metadata": {},
   "outputs": [],
   "source": [
    "#Median Income by region and region Adjusted for inflation\n",
    "Median_Income_Raw = pd.read_excel(io=Average_Earning_7, sheet_name='FT weekly pay by home region', header=4, nrows=9, skiprows=[5,6,7], usecols='B:E,G:H, J:N, P:Y, AA:AC')\n",
    "Median_Income_Raw.rename(columns={'Unnamed: 1': 'Region'}, inplace=True)\n",
    "Median_Income_Raw"
   ]
  },
  {
   "cell_type": "code",
   "execution_count": 65,
   "metadata": {},
   "outputs": [],
   "source": [
    "# Unpivot the Median_Income_Raw df\n",
    "Median_Income = pd.melt(\n",
    "    Median_Income_Raw, \n",
    "    id_vars=['Region'], \n",
    "    var_name='Year',   \n",
    "    value_name='Median_Income' )\n",
    "\n",
    "#Convert the weekly income into salary\n",
    "Median_Income['Salary'] = Median_Income['Median_Income']*52"
   ]
  },
  {
   "cell_type": "code",
   "execution_count": null,
   "metadata": {},
   "outputs": [],
   "source": [
    "Median_Income_by_Year = Median_Income.groupby('Year', as_index=False)['Salary'].mean()\n",
    "Median_Income_by_Year"
   ]
  },
  {
   "cell_type": "code",
   "execution_count": null,
   "metadata": {},
   "outputs": [],
   "source": [
    "Energy_Vs_Import_Price_Sal = Energy_Vs_Import_Price.merge(Median_Income_by_Year, on=['Year'], how='left')\n",
    "Energy_Vs_Import_Price_Sal = Energy_Vs_Import_Price_Sal[Energy_Vs_Import_Price_Sal['Salary'].notnull()]\n",
    "Energy_Vs_Import_Price_Sal = Energy_Vs_Import_Price_Sal.reset_index()\n",
    "Energy_Vs_Import_Price_Sal = Energy_Vs_Import_Price_Sal.drop(columns=['index'])\n",
    "Energy_Vs_Import_Price_Sal[\"Salary (£'000)\"] = Energy_Vs_Import_Price_Sal['Salary']/1000\n",
    "Energy_Vs_Import_Price_Sal"
   ]
  },
  {
   "cell_type": "code",
   "execution_count": null,
   "metadata": {},
   "outputs": [],
   "source": [
    "Energy_Price_Vs_Salary_Fig = px.line(Energy_Vs_Import_Price_Sal\n",
    "                                     , x='Year'\n",
    "                                     , y=['Average Unit Cost (Pence per kWh)','Oil (pence per kWh)', 'Natural Gas (pence per kWh)', 'Coal (pence per kWh)' ]\n",
    "                                     ,color_discrete_map= { \n",
    "                                                             \n",
    "                                                                \n",
    "                                                                'Average Unit Cost (Pence per kWh)': 'green',\n",
    "                                                                'Oil (pence per kWh)': 'grey',\n",
    "                                                                'Coal (pence per kWh)': 'lightgrey',\n",
    "                                                                'Natural Gas (pence per kWh)': 'purple'})\n",
    "Energy_Price_Vs_Salary_Fig.update_layout(\n",
    "        margin={\"r\": 10, \"t\": 130, \"l\": 10, \"b\": 10},\n",
    "    title=\"Unit Cost of Energy and Import Cost of Fuel (2002-2023)\",\n",
    "    xaxis_title=\"Year\",\n",
    "    yaxis_title=\"\",\n",
    "    title_x=0.5,\n",
    "    title_y=0.95, \n",
    "    legend=dict(\n",
    "        orientation=\"h\", \n",
    "        yanchor=\"bottom\", \n",
    "        y=1, \n",
    "        xanchor=\"center\",  \n",
    "        x=0.5,\n",
    "        title = None\n",
    "    ,font=dict(\n",
    "        size=26 \n",
    "    )),\n",
    "    height = 1000,\n",
    "    font=dict(\n",
    "        size=26 \n",
    "    ))\n",
    "#Energy_Vs_Import_Price_Fig = px.line(Energy_Vs_Import_Price, x='Year', y=['Oil (pence per kWh)','Average Unit Cost (Pence per kWh)'])\n",
    "Energy_Price_Vs_Salary_Fig"
   ]
  },
  {
   "cell_type": "code",
   "execution_count": null,
   "metadata": {},
   "outputs": [],
   "source": [
    "Energy_Price_Vs_Salary_Fig = px.line(Energy_Vs_Import_Price_Sal\n",
    "                                     , x='Year'\n",
    "                                     , y=[\"Salary (£'000)\",'Average Unit Cost (Pence per kWh)','Oil (pence per kWh)', 'Natural Gas (pence per kWh)', 'Coal (pence per kWh)' ]\n",
    "                                     ,color_discrete_map= { \n",
    "                                                                \"Salary (£'000)\":'Orange',\n",
    "                                                                'Average Unit Cost (Pence per kWh)': 'green',\n",
    "                                                                'Oil (pence per kWh)': 'grey',\n",
    "                                                                'Coal (pence per kWh)': 'lightgrey',\n",
    "                                                                'Natural Gas (pence per kWh)': 'purple'})\n",
    "Energy_Price_Vs_Salary_Fig.update_layout(\n",
    "        margin={\"r\": 10, \"t\": 170, \"l\": 10, \"b\": 10},\n",
    "    title=\"Salary Against Unit Cost of Energy and Import Cost of Fuel (2002-2023)\",\n",
    "    xaxis_title=\"Year\",\n",
    "    yaxis_title=\"\",\n",
    "    title_x=0.5,\n",
    "    title_y=0.95, \n",
    "    legend=dict(\n",
    "        orientation=\"h\", \n",
    "        yanchor=\"bottom\", \n",
    "        y=1, \n",
    "        xanchor=\"center\",  \n",
    "        x=0.5,\n",
    "        title = None\n",
    "    ,font=dict(\n",
    "        size=26 \n",
    "    )),\n",
    "    height = 1000,\n",
    "    font=dict(\n",
    "        size=26 \n",
    "    ))\n",
    "#Energy_Vs_Import_Price_Fig = px.line(Energy_Vs_Import_Price, x='Year', y=['Oil (pence per kWh)','Average Unit Cost (Pence per kWh)'])\n",
    "Energy_Price_Vs_Salary_Fig"
   ]
  },
  {
   "cell_type": "markdown",
   "metadata": {},
   "source": [
    "Up next do corrolation matrixs on raw data\n",
    "do a time series corrolation on the graph values\n"
   ]
  },
  {
   "cell_type": "code",
   "execution_count": null,
   "metadata": {},
   "outputs": [],
   "source": [
    "#Energy_Generation_Imports_Subset_Matrix = Energy_Generation_Imports_Subset.corr()\n",
    "#plt.imshow(Energy_Generation_Imports_Subset_Matrix, cmap = 'Blues')\n",
    "Energy_Vs_Import_Price_Matrix = Energy_Vs_Import_Price.corr()\n",
    "\n",
    "sns.heatmap(Energy_Vs_Import_Price_Matrix, cmap=\"Reds\", annot=True)\n",
    "\n",
    "plt.title(\"Correlation Between Import Price of Fuel and Average Unit Cost of Energy (1998-2023)\", pad=20)\n",
    "\n",
    "plt.show()\n"
   ]
  },
  {
   "cell_type": "code",
   "execution_count": null,
   "metadata": {},
   "outputs": [],
   "source": [
    "Years_to_Graph = list(range(2005,2023))\n",
    "Years_to_Graph"
   ]
  },
  {
   "cell_type": "code",
   "execution_count": null,
   "metadata": {},
   "outputs": [],
   "source": [
    "Gas_Consumption_Cleaned_PopD_MedIncome = Gas_Consumption_Cleaned_PopD.merge(Median_Income, on=['Region','Year'], how='left')\n",
    "Gas_Consumption_Cleaned_PopD_MedIncome['Domestic_Gas_Consumption_to_Median_Salary(GWh/person/£)'] = Gas_Consumption_Cleaned_PopD_MedIncome['Domestic_Gas_Consumption(GWh/person)']/Gas_Consumption_Cleaned_PopD_MedIncome['Salary']\n",
    "Gas_Consumption_Cleaned_PopD_MedIncome"
   ]
  },
  {
   "cell_type": "code",
   "execution_count": null,
   "metadata": {},
   "outputs": [],
   "source": [
    "Energy_Vs_Import_Price_Sal = Energy_Vs_Import_Price.merge(Median_Income, on=['Year'], how='left')\n",
    "Energy_Vs_Import_Price_Sal"
   ]
  },
  {
   "cell_type": "markdown",
   "metadata": {},
   "source": [
    "EDITS MADE HERE"
   ]
  },
  {
   "cell_type": "code",
   "execution_count": null,
   "metadata": {},
   "outputs": [],
   "source": [
    "#retrieving the yearly minimum of 'Domestic_Gas_Consumption_to_Median_Salary(GWh/person/£)'\n",
    "Gas_Consumption_Cleaned_PopD_MedIncome_Min_Values = Gas_Consumption_Cleaned_PopD_MedIncome.groupby('Year',as_index=False).agg({\n",
    "    'Domestic_Gas_Consumption_to_Median_Salary(GWh/person/£)' : 'min'\n",
    "})\n",
    "Gas_Consumption_Cleaned_PopD_MedIncome_Min_Values.rename(columns= {'Domestic_Gas_Consumption_to_Median_Salary(GWh/person/£)': 'Domestic_Gas_Consumption_to_Median_Salary_Annual_min(GWh/person/£)'},inplace=True)\n",
    "Gas_Consumption_Cleaned_PopD_MedIncome_Min_Values"
   ]
  },
  {
   "cell_type": "code",
   "execution_count": null,
   "metadata": {},
   "outputs": [],
   "source": [
    "#Joining the Yearly minimum onto the main table and expressing Domestic_Gas_Consumption_to_Median_Salary(GWh/person/£) as a percentage of the annual minimum\n",
    "Gas_Consumption_Cleaned_PopD_MedIncome_Percent = Gas_Consumption_Cleaned_PopD_MedIncome.merge(Gas_Consumption_Cleaned_PopD_MedIncome_Min_Values, on=['Year'], how='left')\n",
    "Gas_Consumption_Cleaned_PopD_MedIncome_Percent['Domestic_Gas_Consumption_to_Median_Salary_as_a_Percentage_of_Annual_min'] = Gas_Consumption_Cleaned_PopD_MedIncome_Percent['Domestic_Gas_Consumption_to_Median_Salary(GWh/person/£)']/Gas_Consumption_Cleaned_PopD_MedIncome_Percent['Domestic_Gas_Consumption_to_Median_Salary_Annual_min(GWh/person/£)']\n",
    "Gas_Consumption_Cleaned_PopD_MedIncome_Percent"
   ]
  },
  {
   "cell_type": "code",
   "execution_count": null,
   "metadata": {},
   "outputs": [],
   "source": [
    "#Choropleth standardised to see if north and south are getting more or less equal\n",
    "#Choropleth hidden here to support GitHub upload\n",
    "def create_salaryration_choropleth(year):\n",
    "    fig = px.choropleth(Gas_Consumption_Cleaned_PopD_MedIncome.loc[Gas_Consumption_Cleaned_PopD_MedIncome['Year'] == year]\n",
    "                        ,locations='Location_Code'\n",
    "                        ,geojson=Regions\n",
    "                        ,color ='Domestic_Gas_Consumption_to_Median_Salary(GWh/person/£)'\n",
    "                        ,featureidkey=\"properties.NUTS112CD\"\n",
    "                        ,hover_name='Region'\n",
    "                        ,color_continuous_scale=px.colors.sequential.Viridis\n",
    "                        )\n",
    "    fig.update_geos(\n",
    "        fitbounds=\"geojson\",\n",
    "       # projection_scale = 100,\n",
    "        visible=False,\n",
    "        projection_type=\"orthographic\" \n",
    "        )\n",
    "    fig.update_layout(\n",
    "    margin={\"r\": 0, \"t\": 50, \"l\": 0, \"b\": 0}, \n",
    "    title={\n",
    "        'text': f\"{year}\",  \n",
    "        'y': 0.95, \n",
    "        'x': 0.5,  \n",
    "        'xanchor': 'center',\n",
    "        'yanchor': 'top'},\n",
    "    coloraxis_colorbar_title=None,\n",
    "    coloraxis_colorbar=dict(\n",
    "            len=0.8,\n",
    "            thickness=15 \n",
    "        ),\n",
    "        width=800,\n",
    "        height=650,\n",
    "        font=dict(\n",
    "        size=26 \n",
    "    ))\n",
    "\n",
    "    return fig\n",
    "\n",
    "Years_to_Graph = list(range(2005,2023))\n",
    "Years_to_Graph\n",
    "\n",
    "figures = [create_salaryration_choropleth(year) for year in Years_to_Graph]\n",
    "\n",
    "for fig in figures:\n",
    "    fig.show()\n",
    "    \n",
    "    #Showing \"Domestic Gas Consumption as a Portion of Salary {year} (GWh/person/£)\""
   ]
  },
  {
   "cell_type": "code",
   "execution_count": 104,
   "metadata": {},
   "outputs": [],
   "source": [
    "#defining the max and min values for all years\n",
    "Max_Percent = Gas_Consumption_Cleaned_PopD_MedIncome_Percent['Domestic_Gas_Consumption_to_Median_Salary_as_a_Percentage_of_Annual_min'].max()\n",
    "Min_Percent = Gas_Consumption_Cleaned_PopD_MedIncome_Percent['Domestic_Gas_Consumption_to_Median_Salary_as_a_Percentage_of_Annual_min'].min()"
   ]
  },
  {
   "cell_type": "code",
   "execution_count": null,
   "metadata": {},
   "outputs": [],
   "source": [
    "#Choropleth standardised to see if north and south are getting more or less equal\n",
    "#Choropleth hidden here to support GitHub upload\n",
    "def create_salaryration_choropleth(year):\n",
    "    fig = px.choropleth(Gas_Consumption_Cleaned_PopD_MedIncome_Percent.loc[Gas_Consumption_Cleaned_PopD_MedIncome_Percent['Year'] == year]\n",
    "                        ,locations='Location_Code'\n",
    "                        ,geojson=Regions\n",
    "                        ,color ='Domestic_Gas_Consumption_to_Median_Salary_as_a_Percentage_of_Annual_min'\n",
    "                        ,featureidkey=\"properties.NUTS112CD\"\n",
    "                        ,hover_name='Region'\n",
    "                        ,color_continuous_scale=px.colors.sequential.Viridis\n",
    "                        ,range_color = (Min_Percent, Max_Percent)\n",
    "                        )\n",
    "    fig.update_geos(\n",
    "        fitbounds=\"geojson\",\n",
    "       # projection_scale = 100,\n",
    "        visible=False,\n",
    "        projection_type=\"orthographic\" \n",
    "        )\n",
    "    fig.update_layout(\n",
    "    margin={\"r\": 0, \"t\": 50, \"l\": 0, \"b\": 0}, \n",
    "    title={\n",
    "        'text': f\"{year}\",  \n",
    "        'y': 0.95, \n",
    "        'x': 0.5,  \n",
    "        'xanchor': 'center',\n",
    "        'yanchor': 'top'},\n",
    "    coloraxis_colorbar_title=None,\n",
    "    coloraxis_colorbar=dict(\n",
    "            len=0.8,\n",
    "            thickness=15 \n",
    "        ),\n",
    "        width=800,\n",
    "        height=650,\n",
    "        font=dict(\n",
    "        size=26 \n",
    "    ))\n",
    "\n",
    "    return fig\n",
    "\n",
    "Years_to_Graph = list(range(2005,2023))\n",
    "Years_to_Graph\n",
    "\n",
    "figures = [create_salaryration_choropleth(year) for year in Years_to_Graph]\n",
    "\n",
    "for fig in figures:\n",
    "    fig.show()\n",
    "    \n",
    "    #Showing \"Domestic Gas Consumption as a Portion of Salary {year} % difference From Annual Minimum (%)\""
   ]
  },
  {
   "cell_type": "code",
   "execution_count": null,
   "metadata": {},
   "outputs": [],
   "source": [
    "Gas_Consumption_Cleaned_PopD_MedIncome"
   ]
  },
  {
   "cell_type": "code",
   "execution_count": 107,
   "metadata": {},
   "outputs": [],
   "source": [
    "#Join to allow generation of choropleths displaying Energy cost againt salary by region and year\n",
    "Gas_Consumption_Cleaned_PopD_MedIncome_EngPrice = pd.merge(Gas_Consumption_Cleaned_PopD_MedIncome, Energy_Price_Region, on=['Region','Year'], how='left')\n",
    "Gas_Consumption_Cleaned_PopD_MedIncome_EngPrice[\"Salary (£'000)\"] = Gas_Consumption_Cleaned_PopD_MedIncome_EngPrice[\"Salary\"]/1000\n",
    "Gas_Consumption_Cleaned_PopD_MedIncome_EngPrice[\"EngPrice / Salary (Pence/kWh/£'000)\"] = Gas_Consumption_Cleaned_PopD_MedIncome_EngPrice['Average Unit Cost (Pence per kWh)']/Gas_Consumption_Cleaned_PopD_MedIncome_EngPrice[\"Salary (£'000)\"]"
   ]
  },
  {
   "cell_type": "code",
   "execution_count": 108,
   "metadata": {},
   "outputs": [],
   "source": [
    "Max_Unit_Cost = Gas_Consumption_Cleaned_PopD_MedIncome_EngPrice[\"Average Unit Cost (Pence per kWh)\"].max()\n",
    "Min_Unit_Cost = Gas_Consumption_Cleaned_PopD_MedIncome_EngPrice[\"Average Unit Cost (Pence per kWh)\"].min()"
   ]
  },
  {
   "cell_type": "code",
   "execution_count": null,
   "metadata": {},
   "outputs": [],
   "source": [
    "#Choropleth showing avg energy price agianst alary by region and year (This one for comparing change over time)\n",
    "#Choropleth hidden here to support GitHub upload\n",
    "def create_salary_to_engprice_choropleth_time(year):\n",
    "    fig = px.choropleth(Gas_Consumption_Cleaned_PopD_MedIncome_EngPrice.loc[Gas_Consumption_Cleaned_PopD_MedIncome_EngPrice['Year'] == year]\n",
    "                        ,locations='Location_Code'\n",
    "                        ,geojson=Regions\n",
    "                        ,color =\"Average Unit Cost (Pence per kWh)\"\n",
    "                        ,featureidkey=\"properties.NUTS112CD\"\n",
    "                        ,hover_name='Region'\n",
    "                        ,range_color = (Min_Unit_Cost, Max_Unit_Cost)\n",
    "                        ,color_continuous_scale = px.colors.diverging.RdYlBu[::-1]\n",
    "                        )\n",
    "    fig.update_geos(\n",
    "        fitbounds=\"geojson\",\n",
    "       # projection_scale = 100,\n",
    "        visible=False,\n",
    "        projection_type=\"orthographic\" \n",
    "        )\n",
    "    fig.update_layout(\n",
    "    margin={\"r\": 0, \"t\": 50, \"l\": 0, \"b\": 0}, \n",
    "    title={\n",
    "        'text': f\"{year}\",  \n",
    "        'y': 0.95, \n",
    "        'x': 0.5,  \n",
    "        'xanchor': 'center',\n",
    "        'yanchor': 'top'},\n",
    "    coloraxis_colorbar_title=None,\n",
    "    coloraxis_colorbar=dict(\n",
    "            len=0.8,\n",
    "            thickness=15 \n",
    "        ),\n",
    "        width=800,\n",
    "        height=650,\n",
    "        font=dict(\n",
    "        size=26 \n",
    "    ))\n",
    "\n",
    "    return fig\n",
    "\n",
    "Years_to_Graph = list(range(2005,2023))\n",
    "Years_to_Graph\n",
    "\n",
    "figures = [create_salary_to_engprice_choropleth_time(year) for year in Years_to_Graph]\n",
    "\n",
    "for fig in figures:\n",
    "    fig.show()\n",
    "    \n",
    "    #Showing \"Average Energy Price {year} (Pence/kWh)\"\n",
    "    \n",
    "    ##Do not include"
   ]
  },
  {
   "cell_type": "code",
   "execution_count": 110,
   "metadata": {},
   "outputs": [],
   "source": [
    "Max_Price_Sal_Ratio = Gas_Consumption_Cleaned_PopD_MedIncome_EngPrice[\"EngPrice / Salary (Pence/kWh/£'000)\"].max()\n",
    "Min_Price_Sal_Ratio = Gas_Consumption_Cleaned_PopD_MedIncome_EngPrice[\"EngPrice / Salary (Pence/kWh/£'000)\"].min()"
   ]
  },
  {
   "cell_type": "code",
   "execution_count": null,
   "metadata": {},
   "outputs": [],
   "source": [
    "Gas_Consumption_Cleaned_PopD_MedIncome_EngPrice[Gas_Consumption_Cleaned_PopD_MedIncome_EngPrice['Year']==2022]"
   ]
  },
  {
   "cell_type": "code",
   "execution_count": null,
   "metadata": {},
   "outputs": [],
   "source": [
    "#retrieving the yearly minimum of \"EngPrice / Salary (Pence/kWh/£'000)\"\n",
    "Gas_Consumption_Cleaned_PopD_MedIncome_EngPrice_Min_Values = Gas_Consumption_Cleaned_PopD_MedIncome_EngPrice.groupby('Year',as_index=False).agg({\n",
    "    \"EngPrice / Salary (Pence/kWh/£'000)\" : 'min'\n",
    "})\n",
    "Gas_Consumption_Cleaned_PopD_MedIncome_EngPrice_Min_Values.rename(columns= {\"EngPrice / Salary (Pence/kWh/£'000)\": \"EngPrice / Salary of Annual Minimum(Pence/kWh/£'000)\"},inplace=True)\n",
    "Gas_Consumption_Cleaned_PopD_MedIncome_EngPrice_Min_Values"
   ]
  },
  {
   "cell_type": "code",
   "execution_count": null,
   "metadata": {},
   "outputs": [],
   "source": [
    "#Joining the Yearly minimum onto the main table and expressing \"EngPrice / Salary (Pence/kWh/£'000)\" as a percentage of the annual minimum\n",
    "Gas_Consumption_Cleaned_PopD_MedIncome_EngPrice_Percent = Gas_Consumption_Cleaned_PopD_MedIncome_EngPrice.merge(Gas_Consumption_Cleaned_PopD_MedIncome_EngPrice_Min_Values, on=['Year'], how='left')\n",
    "Gas_Consumption_Cleaned_PopD_MedIncome_EngPrice_Percent[\"EngPrice / Salary as a Percent of Annual Minimum(%)\"] = Gas_Consumption_Cleaned_PopD_MedIncome_EngPrice_Percent[\"EngPrice / Salary (Pence/kWh/£'000)\"]/Gas_Consumption_Cleaned_PopD_MedIncome_EngPrice_Percent[\"EngPrice / Salary of Annual Minimum(Pence/kWh/£'000)\"]\n",
    "Gas_Consumption_Cleaned_PopD_MedIncome_EngPrice_Percent"
   ]
  },
  {
   "cell_type": "code",
   "execution_count": 114,
   "metadata": {},
   "outputs": [],
   "source": [
    "Max_EngPrice_Sal_Perc = Gas_Consumption_Cleaned_PopD_MedIncome_EngPrice_Percent[\"EngPrice / Salary as a Percent of Annual Minimum(%)\"].max()\n",
    "Min_EngPrice_Sal_Perc = Gas_Consumption_Cleaned_PopD_MedIncome_EngPrice_Percent[\"EngPrice / Salary as a Percent of Annual Minimum(%)\"].min()"
   ]
  },
  {
   "cell_type": "code",
   "execution_count": null,
   "metadata": {},
   "outputs": [],
   "source": [
    "\n",
    "#Choropleth hidden here to support GitHub upload\n",
    "def create_salary_to_engprice_choropleth_time(year):\n",
    "    fig = px.choropleth(Gas_Consumption_Cleaned_PopD_MedIncome_EngPrice_Percent.loc[Gas_Consumption_Cleaned_PopD_MedIncome_EngPrice_Percent['Year'] == year]\n",
    "                        ,locations='Location_Code'\n",
    "                        ,geojson=Regions\n",
    "                        ,color =\"EngPrice / Salary as a Percent of Annual Minimum(%)\"\n",
    "                        ,featureidkey=\"properties.NUTS112CD\"\n",
    "                        ,hover_name='Region'\n",
    "                        ,range_color = (Min_EngPrice_Sal_Perc, Max_EngPrice_Sal_Perc)\n",
    "                        ,color_continuous_scale = px.colors.diverging.RdYlBu[::-1]\n",
    "                        )\n",
    "    fig.update_geos(\n",
    "        fitbounds=\"geojson\",\n",
    "       # projection_scale = 100,\n",
    "        visible=False,\n",
    "        projection_type=\"orthographic\" \n",
    "        )\n",
    "    fig.update_layout(\n",
    "    margin={\"r\": 0, \"t\": 50, \"l\": 0, \"b\": 0}, \n",
    "    title={\n",
    "        'text': f\"{year}\",  \n",
    "        'y': 0.95, \n",
    "        'x': 0.5,  \n",
    "        'xanchor': 'center',\n",
    "        'yanchor': 'top'},\n",
    "    coloraxis_colorbar_title=None,\n",
    "    coloraxis_colorbar=dict(\n",
    "            len=0.8,\n",
    "            thickness=15 \n",
    "        ),\n",
    "        width=800,\n",
    "        height=650,\n",
    "        font=dict(\n",
    "        size=26 \n",
    "    ))\n",
    "\n",
    "    return fig\n",
    "\n",
    "Years_to_Graph = list(range(2005,2023))\n",
    "Years_to_Graph\n",
    "\n",
    "figures = [create_salary_to_engprice_choropleth_time(year) for year in Years_to_Graph]\n",
    "\n",
    "for fig in figures:\n",
    "    fig.show()\n",
    "    \n",
    "    #showing \"Average Energy Price as a Portion of Salary as a Percentage of the annual minimum (%)\""
   ]
  },
  {
   "cell_type": "code",
   "execution_count": null,
   "metadata": {},
   "outputs": [],
   "source": [
    "#Choropleth showing avg energy price against salary by region and year (This one for comparing equality of north vs south)\n",
    "#Choropleth hidden here to support GitHub upload\n",
    "def create_salary_to_engprice_choropleth(year):\n",
    "    fig = px.choropleth(Gas_Consumption_Cleaned_PopD_MedIncome_EngPrice.loc[Gas_Consumption_Cleaned_PopD_MedIncome_EngPrice['Year'] == year]\n",
    "                        ,locations='Location_Code'\n",
    "                        ,geojson=Regions\n",
    "                        ,color =\"EngPrice / Salary (Pence/kWh/£'000)\"\n",
    "                        ,featureidkey=\"properties.NUTS112CD\"\n",
    "                        ,hover_name='Region'\n",
    "                        ,color_continuous_scale=px.colors.diverging.RdYlBu[::-1]\n",
    "                        )\n",
    "    fig.update_geos(\n",
    "        fitbounds=\"geojson\",\n",
    "       # projection_scale = 100,\n",
    "        visible=False,\n",
    "        projection_type=\"orthographic\" \n",
    "        )\n",
    "    fig.update_layout(\n",
    "    margin={\"r\": 0, \"t\": 50, \"l\": 0, \"b\": 0}, \n",
    "    title={\n",
    "        'text': f\"{year}\",  \n",
    "        'y': 0.95, \n",
    "        'x': 0.5,  \n",
    "        'xanchor': 'center',\n",
    "        'yanchor': 'top'},\n",
    "    coloraxis_colorbar_title=None,\n",
    "    coloraxis_colorbar=dict(\n",
    "            len=0.8,\n",
    "            thickness=15 \n",
    "        ),\n",
    "        width=800,\n",
    "        height=650,\n",
    "        font=dict(\n",
    "        size=26 \n",
    "    ))\n",
    "    \n",
    "    return fig\n",
    "\n",
    "Years_to_Graph = list(range(2005,2023))\n",
    "Years_to_Graph\n",
    "\n",
    "figures = [create_salary_to_engprice_choropleth(year) for year in Years_to_Graph]\n",
    "\n",
    "for fig in figures:\n",
    "    fig.show()\n",
    "    \n",
    "    #Showsing \"Average Energy Price as a Portion of Salary {year} (Pence/kWh/£'000)\" (Standardised)"
   ]
  },
  {
   "cell_type": "code",
   "execution_count": null,
   "metadata": {},
   "outputs": [],
   "source": [
    "#Choropleth showing avg energy price agianst alary by region and year (This one for comparing change over time)\n",
    "#Choropleth hidden here to support GitHub upload\n",
    "def create_salary_to_engprice_choropleth_time(year):\n",
    "    fig = px.choropleth(Gas_Consumption_Cleaned_PopD_MedIncome_EngPrice.loc[Gas_Consumption_Cleaned_PopD_MedIncome_EngPrice['Year'] == year]\n",
    "                        ,locations='Location_Code'\n",
    "                        ,geojson=Regions\n",
    "                        ,color =\"EngPrice / Salary (Pence/kWh/£'000)\"\n",
    "                        ,featureidkey=\"properties.NUTS112CD\"\n",
    "                        ,hover_name='Region'\n",
    "                        ,range_color = (Min_Price_Sal_Ratio, Max_Price_Sal_Ratio)\n",
    "                        ,color_continuous_scale = px.colors.diverging.RdYlBu[::-1]\n",
    "                        )\n",
    "    fig.update_geos(\n",
    "        fitbounds=\"geojson\",\n",
    "       # projection_scale = 100,\n",
    "        visible=False,\n",
    "        projection_type=\"orthographic\" \n",
    "        )\n",
    "    fig.update_layout(\n",
    "    margin={\"r\": 0, \"t\": 50, \"l\": 0, \"b\": 0}, \n",
    "    title={\n",
    "        'text': f\"{year}\",  \n",
    "        'y': 0.95, \n",
    "        'x': 0.5,  \n",
    "        'xanchor': 'center',\n",
    "        'yanchor': 'top'},\n",
    "    coloraxis_colorbar_title=None,\n",
    "    coloraxis_colorbar=dict(\n",
    "            len=0.8,\n",
    "            thickness=15 \n",
    "        ),\n",
    "        width=800,\n",
    "        height=650,\n",
    "        font=dict(\n",
    "        size=26 \n",
    "    ))\n",
    "\n",
    "    return fig\n",
    "\n",
    "Years_to_Graph = list(range(2005,2023))\n",
    "Years_to_Graph\n",
    "\n",
    "figures = [create_salary_to_engprice_choropleth_time(year) for year in Years_to_Graph]\n",
    "\n",
    "for fig in figures:\n",
    "    fig.show()\n",
    "    \n",
    "    #showing \"Average Energy Price as a Portion of Salary {year} (Pence/kWh/£'000)\" (on a fixed scale)"
   ]
  }
 ],
 "metadata": {
  "kernelspec": {
   "display_name": "Python 3",
   "language": "python",
   "name": "python3"
  },
  "language_info": {
   "codemirror_mode": {
    "name": "ipython",
    "version": 3
   },
   "file_extension": ".py",
   "mimetype": "text/x-python",
   "name": "python",
   "nbconvert_exporter": "python",
   "pygments_lexer": "ipython3",
   "version": "3.12.6"
  }
 },
 "nbformat": 4,
 "nbformat_minor": 2
}
